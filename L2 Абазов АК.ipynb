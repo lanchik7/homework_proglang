{
  "cells": [
    {
      "cell_type": "markdown",
      "id": "introductory-investigator",
      "metadata": {
        "id": "introductory-investigator"
      },
      "source": [
        "# Урок 2"
      ]
    },
    {
      "cell_type": "markdown",
      "id": "descending-wheel",
      "metadata": {
        "id": "descending-wheel"
      },
      "source": [
        "### 1.Git\n",
        "### 2 Операторы, выражения.\n",
        "### 3 Переменные. Стандартный ввод/вывод\n",
        "### 4 Логические операции, операции сравнения\n",
        "### 5 Условия: if, else, elif. Блоки, отступы\n",
        "### 6 Строки"
      ]
    },
    {
      "cell_type": "markdown",
      "id": "turkish-tanzania",
      "metadata": {
        "id": "turkish-tanzania"
      },
      "source": [
        "---"
      ]
    },
    {
      "cell_type": "code",
      "execution_count": null,
      "id": "tough-charger",
      "metadata": {
        "id": "tough-charger",
        "outputId": "67ec3128-a959-42a4-b8da-e748e07b35fe"
      },
      "outputs": [
        {
          "name": "stdout",
          "output_type": "stream",
          "text": [
            "18\n"
          ]
        }
      ],
      "source": [
        "print(9+9)"
      ]
    },
    {
      "cell_type": "code",
      "execution_count": null,
      "id": "a567dd58-cf86-4d47-80b8-7402e4bf8450",
      "metadata": {
        "id": "a567dd58-cf86-4d47-80b8-7402e4bf8450",
        "outputId": "9fb0fd38-6a09-4317-a8f0-0037e2a3b653"
      },
      "outputs": [
        {
          "name": "stdout",
          "output_type": "stream",
          "text": [
            "114\n",
            "151\n"
          ]
        }
      ],
      "source": [
        "print(9+97+8)\n",
        "print(9+97+45)"
      ]
    },
    {
      "cell_type": "code",
      "execution_count": null,
      "id": "f00ef5cd-8ebd-4236-9a0a-1ff0497beacb",
      "metadata": {
        "id": "f00ef5cd-8ebd-4236-9a0a-1ff0497beacb",
        "outputId": "d75f25a2-2ca3-47ce-e40c-0f3ac971e957"
      },
      "outputs": [
        {
          "data": {
            "text/plain": [
              "10"
            ]
          },
          "execution_count": 3,
          "metadata": {},
          "output_type": "execute_result"
        }
      ],
      "source": [
        "9+9\n",
        "5+5"
      ]
    },
    {
      "cell_type": "code",
      "execution_count": null,
      "id": "76dbcbc0-b14b-450f-a876-8321a84d3301",
      "metadata": {
        "id": "76dbcbc0-b14b-450f-a876-8321a84d3301",
        "outputId": "6f137ca1-e9b1-4eec-f88f-460365cf18b8"
      },
      "outputs": [
        {
          "name": "stdout",
          "output_type": "stream",
          "text": [
            "18\n",
            "10\n"
          ]
        }
      ],
      "source": [
        "print(9+9)\n",
        "print(5+5)"
      ]
    },
    {
      "cell_type": "code",
      "execution_count": null,
      "id": "lonely-workstation",
      "metadata": {
        "id": "lonely-workstation",
        "outputId": "19cec7f4-7e72-42e7-f047-feed640e46c1"
      },
      "outputs": [
        {
          "ename": "TypeError",
          "evalue": "type() takes 1 or 3 arguments",
          "output_type": "error",
          "traceback": [
            "\u001b[0;31m---------------------------------------------------------------------------\u001b[0m",
            "\u001b[0;31mTypeError\u001b[0m                                 Traceback (most recent call last)",
            "Cell \u001b[0;32mIn[5], line 1\u001b[0m\n\u001b[0;32m----> 1\u001b[0m \u001b[38;5;28;43mtype\u001b[39;49m\u001b[43m(\u001b[49m\u001b[43m)\u001b[49m\n",
            "\u001b[0;31mTypeError\u001b[0m: type() takes 1 or 3 arguments"
          ]
        }
      ],
      "source": [
        "type()"
      ]
    },
    {
      "cell_type": "code",
      "execution_count": null,
      "id": "certified-genre",
      "metadata": {
        "id": "certified-genre",
        "outputId": "b81a847f-460e-4185-d801-c5cb306e199b"
      },
      "outputs": [
        {
          "data": {
            "text/plain": [
              "6"
            ]
          },
          "execution_count": 6,
          "metadata": {},
          "output_type": "execute_result"
        }
      ],
      "source": [
        "int(6.4)"
      ]
    },
    {
      "cell_type": "code",
      "execution_count": null,
      "id": "corrected-contamination",
      "metadata": {
        "id": "corrected-contamination"
      },
      "outputs": [],
      "source": [
        "float()"
      ]
    },
    {
      "cell_type": "markdown",
      "id": "through-heavy",
      "metadata": {
        "id": "through-heavy"
      },
      "source": [
        "![image.png](attachment:image.png)"
      ]
    },
    {
      "cell_type": "code",
      "execution_count": null,
      "id": "junior-spoke",
      "metadata": {
        "id": "junior-spoke",
        "outputId": "ab8ade7e-47ca-439f-e124-0877a74832cb"
      },
      "outputs": [
        {
          "data": {
            "text/plain": [
              "2"
            ]
          },
          "execution_count": 7,
          "metadata": {},
          "output_type": "execute_result"
        }
      ],
      "source": [
        "round(1.5)\n"
      ]
    },
    {
      "cell_type": "code",
      "execution_count": null,
      "id": "756467c4",
      "metadata": {
        "id": "756467c4",
        "outputId": "33632b5f-cff4-4e5d-c540-25fa08c611ae"
      },
      "outputs": [
        {
          "data": {
            "text/plain": [
              "3"
            ]
          },
          "execution_count": 9,
          "metadata": {},
          "output_type": "execute_result"
        }
      ],
      "source": [
        "round(3.4)\n"
      ]
    },
    {
      "cell_type": "code",
      "execution_count": null,
      "id": "violent-melbourne",
      "metadata": {
        "id": "violent-melbourne",
        "outputId": "14ee3ac8-ee0b-4214-bfbf-f8b3039701b0"
      },
      "outputs": [
        {
          "name": "stdout",
          "output_type": "stream",
          "text": [
            "2.6\n",
            "2.8\n"
          ]
        }
      ],
      "source": [
        "\n",
        "print(round(2.65, 1))\n",
        "print(round(2.75, 1))"
      ]
    },
    {
      "cell_type": "code",
      "execution_count": null,
      "id": "foreign-orange",
      "metadata": {
        "collapsed": true,
        "jupyter": {
          "outputs_hidden": true
        },
        "id": "foreign-orange",
        "outputId": "378bbee4-7383-421d-8e9a-0f26e933af4e"
      },
      "outputs": [
        {
          "name": "stdout",
          "output_type": "stream",
          "text": [
            "-2\n",
            "-2\n",
            "-2.6\n",
            "-3.0\n",
            "-2.8\n"
          ]
        }
      ],
      "source": [
        "print(round(-1.5))\n",
        "print(round(-2.5))\n",
        "print(round(-2.65, 1))\n",
        "print(round(-2.65, 0))\n",
        "print(round(-2.75, 1))"
      ]
    },
    {
      "cell_type": "markdown",
      "id": "gentle-editing",
      "metadata": {
        "id": "gentle-editing"
      },
      "source": [
        "Round округляет по \"банковским\" правилам, т.е. к ближайшему чётному, а не по правилам математического округления.\n"
      ]
    },
    {
      "cell_type": "code",
      "execution_count": null,
      "id": "veterinary-madness",
      "metadata": {
        "id": "veterinary-madness",
        "outputId": "19b71189-57b7-40d4-9932-f9d1669dda42"
      },
      "outputs": [
        {
          "name": "stdout",
          "output_type": "stream",
          "text": [
            "1\n",
            "2\n",
            "2\n",
            "2\n"
          ]
        }
      ],
      "source": [
        "print(int(1.5))\n",
        "print(int(2.5))\n",
        "print(int(2.65))\n",
        "print(int(2.75))"
      ]
    },
    {
      "cell_type": "code",
      "execution_count": null,
      "id": "frank-belize",
      "metadata": {
        "id": "frank-belize",
        "outputId": "263d4e89-3ea0-4af3-973b-57a21485852c"
      },
      "outputs": [
        {
          "name": "stdout",
          "output_type": "stream",
          "text": [
            "2\n"
          ]
        }
      ],
      "source": [
        "\n",
        "print(int(abs(-2.75)))"
      ]
    },
    {
      "cell_type": "markdown",
      "id": "driven-claim",
      "metadata": {
        "id": "driven-claim"
      },
      "source": [
        "    int(x) - Округляет число в сторону нуля. Это стандартная функция, для ее использования не нужно подключать модуль math.\n",
        "    round(x) - Округляет число до ближайшего целого. Если дробная часть числа равна 0.5, то число округляется до ближайшего четного числа.\n",
        "    round(x, n) - Округляет число x до n знаков после точки. Это стандартная функция, для ее использования не нужно подключать модуль math\n",
        "    abs(x) - Модуль (абсолютная величина). Это — стандартная функция."
      ]
    },
    {
      "cell_type": "code",
      "execution_count": null,
      "id": "guilty-albuquerque",
      "metadata": {
        "id": "guilty-albuquerque",
        "outputId": "d306f9a6-129a-40fe-aa8b-22fe5a55e638"
      },
      "outputs": [
        {
          "name": "stdout",
          "output_type": "stream",
          "text": [
            "1.5\n",
            "2.5\n",
            "2.65\n",
            "2.75\n"
          ]
        }
      ],
      "source": [
        "print(abs(-1.5))\n",
        "print(abs(2.5))\n",
        "print(abs(-2.65))\n",
        "print(abs(2.75))"
      ]
    },
    {
      "cell_type": "markdown",
      "id": "valid-aurora",
      "metadata": {
        "id": "valid-aurora"
      },
      "source": [
        "https://realpython.com/python-rounding/"
      ]
    },
    {
      "cell_type": "markdown",
      "id": "expressed-victory",
      "metadata": {
        "id": "expressed-victory"
      },
      "source": [
        "# Git"
      ]
    },
    {
      "cell_type": "markdown",
      "id": "gothic-integrity",
      "metadata": {
        "id": "gothic-integrity"
      },
      "source": [
        "![image.png](attachment:image.png)"
      ]
    },
    {
      "cell_type": "markdown",
      "id": "included-scenario",
      "metadata": {
        "id": "included-scenario"
      },
      "source": [
        "GitHub это система управления проектами и версиями кода, а также платформа социальных сетей, созданная для разработчиков. Но для чего используется GitHub? Ну, среди прочего, это позволяет вам работать совместно с другими людьми по всему миру, планировать свои проекты и отслеживать свою работу.\n",
        "\n"
      ]
    },
    {
      "cell_type": "markdown",
      "id": "sorted-prior",
      "metadata": {
        "id": "sorted-prior"
      },
      "source": [
        "GitHub также является одним из крупнейших онлайн-хранилищ (англ) совместной работы по всему миру.\n",
        "\n"
      ]
    },
    {
      "cell_type": "markdown",
      "id": "vertical-overhead",
      "metadata": {
        "id": "vertical-overhead"
      },
      "source": [
        "Прежде чем мы перейдём дальше, мы должны понять, что такое Git. Это как сердце GitHub. Git — это система контроля версий, разработанная Линусом Торвальдсом (человеком, создавшим Linux).\n",
        "\n"
      ]
    },
    {
      "cell_type": "markdown",
      "id": "persistent-conditioning",
      "metadata": {
        "id": "persistent-conditioning"
      },
      "source": [
        "Git — это система контроля версий, разработанная Линусом Торвальдсом (человеком, создавшим Linux)."
      ]
    },
    {
      "cell_type": "markdown",
      "id": "latest-humanitarian",
      "metadata": {
        "id": "latest-humanitarian"
      },
      "source": [
        "Если Git — это сердце GitHub, то Hub — это его душа. Концентратор в GitHub — это то, что превращает командную строку, такую ​​как Git, в крупнейшую социальную сеть для разработчиков.\n",
        "\n",
        "Помимо участия в определённом проекте, GitHub позволяет пользователям общаться с единомышленниками. Вы можете следить за людьми и смотреть, что они делают или с кем они общаются."
      ]
    },
    {
      "cell_type": "markdown",
      "id": "broadband-realtor",
      "metadata": {
        "id": "broadband-realtor"
      },
      "source": [
        "Репозиторий или хранилище — это каталог, в котором хранятся файлы вашего проекта. Он может быть расположен в хранилище GitHub или в локальном хранилище на вашем компьютере. Вы можете хранить файлы кодов, изображения, аудио или всё, что связано с проектом, в хранилище."
      ]
    },
    {
      "cell_type": "markdown",
      "id": "dimensional-damages",
      "metadata": {
        "id": "dimensional-damages"
      },
      "source": [
        "Ветка это копия вашего репозитория. Вы можете использовать ветку, когда хотите сделать разработку изолированно.\n",
        "\n",
        "Работа с веткой не повлияет на центральное хранилище или другие ветки. Если вы сделали эту работу, вы можете объединить свою ветку с другими ветками и центральным репозиторием, используя запрос на извлечение."
      ]
    },
    {
      "cell_type": "markdown",
      "id": "iraqi-conspiracy",
      "metadata": {
        "id": "iraqi-conspiracy"
      },
      "source": [
        "Как мы разобрались выше, Git — это инструмент, позволяющий реализовать распределённую систему контроля версий.\n",
        "\n",
        "GitHub — сервис онлайн-хостинга репозиториев, обладающий всеми функциями распределённого контроля версий и функциональностью управления исходным кодом — всё, что поддерживает Git и даже больше. Также GitHub может похвастаться контролем доступа, багтрекингом, управлением задачами и вики для каждого проекта."
      ]
    },
    {
      "cell_type": "markdown",
      "id": "directed-florida",
      "metadata": {
        "id": "directed-florida"
      },
      "source": [
        "Кроме GitHub есть другие сервисы, которые используют Git, — например, Bitbucket и GitLab. Вы можете разместить Git-репозиторий на любом из них.\n",
        "\n",
        "\n"
      ]
    },
    {
      "cell_type": "markdown",
      "id": "single-electronics",
      "metadata": {
        "id": "single-electronics"
      },
      "source": [
        "https://tproger.ru/articles/5-shpargalok-po-git-ot-osnov-do-raboty-s-github/"
      ]
    },
    {
      "cell_type": "markdown",
      "id": "dedicated-journalist",
      "metadata": {
        "id": "dedicated-journalist"
      },
      "source": [
        "Каждая точка сохранения вашего проекта носит название коммит (commit). У каждого commit-a есть hash (уникальный id) и комментарий. Из таких commit-ов собирается ветка. Ветка - это история изменений. У каждой ветки есть свое название. Репозиторий может содержать в себе несколько веток, которые создаются из других веток или вливаются в них.\n",
        "\n"
      ]
    },
    {
      "cell_type": "markdown",
      "id": "authorized-gross",
      "metadata": {
        "id": "authorized-gross"
      },
      "source": [
        "Если посмотреть на картинку, то становиться чуть проще с пониманием. Каждый кружок, это commit. Стрелочки показывают направление, из какого commit сделан следующий. Например C3 сделан из С2 и т. д. Все эти commit находятся в ветке под названием main. Это основная ветка, чаще всего ее называют master . Прямоугольник main* показывает в каком commit мы сейчас находимся, проще говоря указатель.\n",
        "\n"
      ]
    },
    {
      "cell_type": "markdown",
      "id": "angry-calibration",
      "metadata": {
        "id": "angry-calibration"
      },
      "source": [
        "![image.png](attachment:image.png)"
      ]
    },
    {
      "cell_type": "markdown",
      "id": "junior-devices",
      "metadata": {
        "id": "junior-devices"
      },
      "source": [
        "В итоге получается очень простой граф, состоящий из одной ветки (main) и четырех commit. Все это может превратиться в более сложный граф, состоящий из нескольких веток, которые сливаются в одну.\n",
        "\n"
      ]
    },
    {
      "cell_type": "markdown",
      "id": "valuable-folder",
      "metadata": {
        "id": "valuable-folder"
      },
      "source": [
        "Основой интерфейс для работы с Git-ом является консоль/терминал. Это не совсем удобно, тем более для новичков, поэтому предлагаю поставить дополнительную программу с графическим интерфейсом (кнопками, графиками и т.д.). О них я расскажу чуть позже.\n",
        "\n"
      ]
    },
    {
      "cell_type": "markdown",
      "id": "relevant-whale",
      "metadata": {
        "id": "relevant-whale"
      },
      "source": [
        "Но для начала, все же установим сам Git.\n",
        "\n"
      ]
    },
    {
      "cell_type": "markdown",
      "id": "wicked-engineering",
      "metadata": {
        "id": "wicked-engineering"
      },
      "source": [
        "Windows. Проходим по этой ссылке, выбираем под вашу ОС (32 или 64 битную), скачиваем и устанавливаем.\n",
        "\n",
        "Для Mac OS. Открываем терминал и пишем:"
      ]
    },
    {
      "cell_type": "markdown",
      "id": "posted-latter",
      "metadata": {
        "id": "posted-latter"
      },
      "source": [
        "#Если установлен Homebrew\n",
        "brew install git\n",
        "\n",
        "#Если нет, то вводим эту команду.\n",
        "git --version\n",
        "#После этого появится окно, где предложит установить Command Line Tools (CLT).\n",
        "#Соглашаемся и ждем установки. Вместе с CLT установиться и git"
      ]
    },
    {
      "cell_type": "markdown",
      "id": "sufficient-senegal",
      "metadata": {
        "id": "sufficient-senegal"
      },
      "source": [
        "Linux. Открываем терминал и вводим следующую команду.\n",
        "\n",
        "sudo apt install git\n"
      ]
    },
    {
      "cell_type": "markdown",
      "id": "viral-sequence",
      "metadata": {
        "id": "viral-sequence"
      },
      "source": [
        "#Для Linux и MacOS путь может выглядеть так /Users/UserName/Desktop/MyProject\n",
        "#Для Windows например С://MyProject\n",
        "\n",
        "cd <путь_к_вашему_проекту>"
      ]
    },
    {
      "cell_type": "markdown",
      "id": "forced-india",
      "metadata": {
        "id": "forced-india"
      },
      "source": [
        "#Инициализация/создание репозитория\n",
        "git init"
      ]
    },
    {
      "cell_type": "markdown",
      "id": "crude-camcorder",
      "metadata": {
        "id": "crude-camcorder"
      },
      "source": [
        "Теперь Git отслеживает изменения файлов вашего проекта. Но, так как вы только создали репозиторий в нем нет вашего кода. Для этого необходимо создать commit.\n",
        "\n"
      ]
    },
    {
      "cell_type": "markdown",
      "id": "initial-baltimore",
      "metadata": {
        "id": "initial-baltimore"
      },
      "source": [
        "#Добавим все файлы проекта в нам будующий commit\n",
        "git add .\n",
        "#Или так\n",
        "git add --all\n",
        "\n",
        "#Если хотим добавить конкретный файл то можно так\n",
        "git add <имя_файла>\n",
        "\n",
        "#Теперь создаем commit. Обязательно указываем комментарий.\n",
        "#И не забываем про кавычки\n",
        "git commit -m \"<комментарий>\""
      ]
    },
    {
      "cell_type": "markdown",
      "id": "noble-distinction",
      "metadata": {
        "id": "noble-distinction"
      },
      "source": [
        "Отлично. Вы создали свой первый репозиторий и заполнили его первым commit.\n",
        "\n"
      ]
    },
    {
      "cell_type": "markdown",
      "id": "ordinary-outdoors",
      "metadata": {
        "id": "ordinary-outdoors"
      },
      "source": [
        "Процесс работы с Git\n",
        "Не стоит после каждого изменения файла делать commit. Чаще всего их создают, когда:\n",
        "\n",
        "Создан новый функционал\n",
        "\n",
        "Добавлен новый блок на верстке\n",
        "\n",
        "Исправлены ошибки по коду\n",
        "\n",
        "Вы завершили рабочий день и хотите сохранить код\n",
        "\n",
        "Это поможет держать вашу ветки в чистоте и порядке. Тем самым, вы будете видеть историю изменений по каждому нововведению в вашем проекте, а не по каждому файлу."
      ]
    },
    {
      "cell_type": "markdown",
      "id": "banner-recognition",
      "metadata": {
        "id": "banner-recognition"
      },
      "source": [
        "git remote add origin адрес вашего Гита\n"
      ]
    },
    {
      "cell_type": "markdown",
      "id": "organic-champion",
      "metadata": {
        "id": "organic-champion"
      },
      "source": [
        "Это добавляет новый удаленный сервер гитхаба в список серверов куда мы можем пушить. Origin это название сервера. Обычно оно стандартное хотя вы можете выбрать любое имя.\n",
        "\n"
      ]
    },
    {
      "cell_type": "markdown",
      "id": "prepared-promotion",
      "metadata": {
        "id": "prepared-promotion"
      },
      "source": [
        "То что он у нас добавился мы можем посмотреть командой\n",
        "\n"
      ]
    },
    {
      "cell_type": "markdown",
      "id": "copyrighted-nicholas",
      "metadata": {
        "id": "copyrighted-nicholas"
      },
      "source": [
        "git remote -v\n"
      ]
    },
    {
      "cell_type": "markdown",
      "id": "unauthorized-stanley",
      "metadata": {
        "id": "unauthorized-stanley"
      },
      "source": [
        "И оно нам выводит репозиторий, который мы добавили.\n",
        "\n",
        "Теперь давайте вставим вторую строчку."
      ]
    },
    {
      "cell_type": "markdown",
      "id": "burning-inside",
      "metadata": {
        "id": "burning-inside"
      },
      "source": [
        "git push -u origin master\n"
      ]
    },
    {
      "cell_type": "markdown",
      "id": "royal-monroe",
      "metadata": {
        "id": "royal-monroe"
      },
      "source": [
        "В консоли оно запрашивает логин и пароль. Вводим оба. Видим сообщение что данные были записаны в нашу репу на гитхабе.\n",
        "\n",
        "Теперь если мы обновим окно репозитория в браузере, то мы увидим наш репозиторий на гитхабе.\n",
        "\n",
        "Мы видим список файлов и название последнего коммита который менял этот файл. Мы можем кликнуть на файл и посмотреть его содержимое. Мы можем нажать history и увидеть коммиты, которые меняли этот файл. Нажав на любой из коммитов мы видим изменения, которые были сделаны, так же как мы смотрели изменения локально с помощью команды git show.\n",
        "\n",
        "И напоследок в этом уроке еще 2 команды. Первая команда это"
      ]
    },
    {
      "cell_type": "markdown",
      "id": "leading-footage",
      "metadata": {
        "id": "leading-footage"
      },
      "source": [
        "git pull\n"
      ]
    },
    {
      "cell_type": "markdown",
      "id": "positive-rochester",
      "metadata": {
        "id": "positive-rochester"
      },
      "source": [
        "Все что она делает, это сливает в проект новые изменения если они есть из удаленного репозитария. В нашем случае с гитхаба. В нашем случае оно написало что проект up to date так как у нас последние изменения. Но если мы вы дома сделали какие-то изменения, запушили, пришли на работу и написали бы git pull, то оно бы стянуло изменения, которые вы сделали в проекте дома, если вы конечно не забыли их запушить.\n",
        "\n",
        "Вторую команду вы впринципе уже видели когда мы пушили наши изменения на гитхаб. Это команда"
      ]
    },
    {
      "cell_type": "markdown",
      "id": "sharing-chile",
      "metadata": {
        "id": "sharing-chile"
      },
      "source": [
        "git push\n"
      ]
    },
    {
      "cell_type": "markdown",
      "id": "dying-batch",
      "metadata": {
        "id": "dying-batch"
      },
      "source": [
        "Это очень популярная команда. Если вы хотите запушить ваши изменения на сервер, то вы всегда ее изпользуете. Давайте создадим файл 2.js и запушим его на гитхаб.\n",
        "\n"
      ]
    },
    {
      "cell_type": "markdown",
      "id": "crude-award",
      "metadata": {
        "id": "crude-award"
      },
      "source": [
        "touch 2.js\n",
        "git add .\n",
        "git commit -m \"Added 2.js\"\n",
        "git push"
      ]
    },
    {
      "cell_type": "markdown",
      "id": "fossil-meeting",
      "metadata": {
        "id": "fossil-meeting"
      },
      "source": [
        "## Переменные"
      ]
    },
    {
      "cell_type": "markdown",
      "id": "cordless-playing",
      "metadata": {
        "id": "cordless-playing"
      },
      "source": [
        "Переменная это такая штука (число/строка/объект), которую мы обозначаем особой меткой.\n",
        "\n",
        "Можно называть переменные русскими буквами. Если вы так будете делать, у вас не будет друзей"
      ]
    },
    {
      "cell_type": "code",
      "execution_count": null,
      "id": "injured-intermediate",
      "metadata": {
        "id": "injured-intermediate",
        "outputId": "a4fbb3a7-9134-413c-8332-02bfb5836a26"
      },
      "outputs": [
        {
          "name": "stdout",
          "output_type": "stream",
          "text": [
            "10\n"
          ]
        }
      ],
      "source": [
        "welcome_message = 10\n",
        "print(welcome_message)"
      ]
    },
    {
      "cell_type": "code",
      "execution_count": null,
      "id": "e7db4d28",
      "metadata": {
        "id": "e7db4d28",
        "outputId": "4da86436-363a-485e-e1db-52dab37b3982"
      },
      "outputs": [
        {
          "data": {
            "text/plain": [
              "10"
            ]
          },
          "execution_count": 19,
          "metadata": {},
          "output_type": "execute_result"
        }
      ],
      "source": [
        "welcome_message"
      ]
    },
    {
      "cell_type": "markdown",
      "id": "urban-automation",
      "metadata": {
        "id": "urban-automation"
      },
      "source": [
        "Вообще, названия переменных могут (должны) содержать только a-zA-Z, символ _ и цифры, если цифра это не первое\n"
      ]
    },
    {
      "cell_type": "markdown",
      "id": "unnecessary-mason",
      "metadata": {
        "id": "unnecessary-mason"
      },
      "source": [
        "Kогда вы используете переменные в Python, вам нужно придерживаться нескольких правил и рекомендаций. Нарушение некоторых из этих правил приведет к ошибкам; другие рекомендации просто помогают писать код, который легче читать и понимать. Обязательно помните о следующих правилах переменных:\n",
        "\n",
        "Имена переменных могут содержать только буквы, цифры и символы подчеркивания. Они могут начинаться с буквы или подчеркивания, но не с числа. Например, вы можете вызвать переменную message_1, но не 1_message. В именах переменных нельзя использовать пробелы, но для разделения слов в именах переменных можно использовать подчеркивание. Например, welcome_message работает, но приветственное сообщение вызовет ошибки. Избегайте использования ключевых слов Python и имен функций в качестве имен переменных; то есть не используйте слова, зарезервированные Python для определенных программных целей, например слово print. Имена переменных должны быть короткими, но информативными. Например, name лучше, чем n, student_name лучше, чем s_n, а name_length лучше, чем length_of_persons_name. Будьте осторожны при использовании строчной буквы l и прописной буквы O, потому что их можно спутать с числами 1 и 0."
      ]
    },
    {
      "cell_type": "code",
      "execution_count": null,
      "id": "4c8da1d8-766b-475a-a7e5-f255f955b0e1",
      "metadata": {
        "id": "4c8da1d8-766b-475a-a7e5-f255f955b0e1"
      },
      "outputs": [],
      "source": [
        "a = 3\n"
      ]
    },
    {
      "cell_type": "code",
      "execution_count": null,
      "id": "67a5b3c0-bcb7-4cdf-9ddb-07bd103b4dd1",
      "metadata": {
        "id": "67a5b3c0-bcb7-4cdf-9ddb-07bd103b4dd1"
      },
      "outputs": [],
      "source": []
    },
    {
      "cell_type": "code",
      "execution_count": null,
      "id": "naval-desire",
      "metadata": {
        "id": "naval-desire"
      },
      "outputs": [],
      "source": [
        "x=1"
      ]
    },
    {
      "cell_type": "code",
      "execution_count": null,
      "id": "2266ce58-5a2f-4b4c-bd88-cf5e771b7b44",
      "metadata": {
        "id": "2266ce58-5a2f-4b4c-bd88-cf5e771b7b44",
        "outputId": "5a8d2282-2262-44ef-fe73-faf2bbba106c"
      },
      "outputs": [
        {
          "data": {
            "text/plain": [
              "1"
            ]
          },
          "execution_count": 21,
          "metadata": {},
          "output_type": "execute_result"
        }
      ],
      "source": [
        "x"
      ]
    },
    {
      "cell_type": "code",
      "execution_count": null,
      "id": "78f4080a",
      "metadata": {
        "id": "78f4080a"
      },
      "outputs": [],
      "source": [
        "x=x+1"
      ]
    },
    {
      "cell_type": "code",
      "execution_count": null,
      "id": "25e40223",
      "metadata": {
        "id": "25e40223",
        "outputId": "060c315f-69cd-471d-ac4e-2ed325ca0cdc"
      },
      "outputs": [
        {
          "data": {
            "text/plain": [
              "4"
            ]
          },
          "execution_count": 27,
          "metadata": {},
          "output_type": "execute_result"
        }
      ],
      "source": [
        "x"
      ]
    },
    {
      "cell_type": "code",
      "execution_count": null,
      "id": "impressed-universal",
      "metadata": {
        "id": "impressed-universal"
      },
      "outputs": [],
      "source": [
        "x += 1"
      ]
    },
    {
      "cell_type": "code",
      "execution_count": null,
      "id": "985f3960",
      "metadata": {
        "id": "985f3960",
        "outputId": "f699b3b6-c3a8-4058-c696-8a4ac6881ea0"
      },
      "outputs": [
        {
          "data": {
            "text/plain": [
              "6"
            ]
          },
          "execution_count": 17,
          "metadata": {},
          "output_type": "execute_result"
        }
      ],
      "source": [
        "x"
      ]
    },
    {
      "cell_type": "code",
      "execution_count": null,
      "id": "rapid-spirit",
      "metadata": {
        "id": "rapid-spirit"
      },
      "outputs": [],
      "source": [
        "x += 4"
      ]
    },
    {
      "cell_type": "code",
      "execution_count": null,
      "id": "helpful-thesis",
      "metadata": {
        "id": "helpful-thesis"
      },
      "outputs": [],
      "source": [
        "x += 4"
      ]
    },
    {
      "cell_type": "code",
      "execution_count": null,
      "id": "proud-emperor",
      "metadata": {
        "id": "proud-emperor"
      },
      "outputs": [],
      "source": [
        "x += 4"
      ]
    },
    {
      "cell_type": "code",
      "execution_count": null,
      "id": "selected-session",
      "metadata": {
        "id": "selected-session",
        "outputId": "3b7c0c29-ab32-444c-9912-315cec09ef19"
      },
      "outputs": [
        {
          "data": {
            "text/plain": [
              "15"
            ]
          },
          "execution_count": 44,
          "metadata": {},
          "output_type": "execute_result"
        }
      ],
      "source": [
        "x\n"
      ]
    },
    {
      "cell_type": "code",
      "execution_count": null,
      "id": "vulnerable-event",
      "metadata": {
        "id": "vulnerable-event"
      },
      "outputs": [],
      "source": [
        "a += 4\n"
      ]
    },
    {
      "cell_type": "code",
      "execution_count": null,
      "id": "upper-toddler",
      "metadata": {
        "id": "upper-toddler",
        "outputId": "2795c621-bb28-440a-a0f0-7373e01e75a1"
      },
      "outputs": [
        {
          "data": {
            "text/plain": [
              "3"
            ]
          },
          "execution_count": 29,
          "metadata": {},
          "output_type": "execute_result"
        }
      ],
      "source": [
        "a"
      ]
    },
    {
      "cell_type": "code",
      "execution_count": null,
      "id": "flush-agenda",
      "metadata": {
        "id": "flush-agenda",
        "outputId": "a579636c-ddf4-4aca-e069-77bb58dbfbd5"
      },
      "outputs": [
        {
          "data": {
            "text/plain": [
              "6"
            ]
          },
          "execution_count": 32,
          "metadata": {},
          "output_type": "execute_result"
        }
      ],
      "source": [
        "2 * a"
      ]
    },
    {
      "cell_type": "code",
      "execution_count": null,
      "id": "connected-afghanistan",
      "metadata": {
        "id": "connected-afghanistan",
        "outputId": "4c411bad-51d1-463d-8315-04d8f7fe8e33"
      },
      "outputs": [
        {
          "name": "stdout",
          "output_type": "stream",
          "text": [
            "3\n",
            "6\n"
          ]
        }
      ],
      "source": [
        "print(a)\n",
        "print(2 * a)"
      ]
    },
    {
      "cell_type": "markdown",
      "id": "mental-terminology",
      "metadata": {
        "id": "mental-terminology"
      },
      "source": [
        "print() - выводит строку на печать"
      ]
    },
    {
      "cell_type": "markdown",
      "id": "sized-testament",
      "metadata": {
        "id": "sized-testament"
      },
      "source": [
        "Задача - поменять переменные местами"
      ]
    },
    {
      "cell_type": "code",
      "execution_count": null,
      "id": "blond-decade",
      "metadata": {
        "id": "blond-decade"
      },
      "outputs": [],
      "source": [
        "x = 5.5\n",
        "y = 10\n"
      ]
    },
    {
      "cell_type": "code",
      "execution_count": null,
      "id": "7a23a364",
      "metadata": {
        "id": "7a23a364",
        "outputId": "e3d86eca-293a-4196-b489-c9280eda155d"
      },
      "outputs": [
        {
          "data": {
            "text/plain": [
              "10"
            ]
          },
          "execution_count": 55,
          "metadata": {},
          "output_type": "execute_result"
        }
      ],
      "source": [
        "y"
      ]
    },
    {
      "cell_type": "code",
      "execution_count": null,
      "id": "future-audience",
      "metadata": {
        "id": "future-audience"
      },
      "outputs": [],
      "source": [
        "temp = x\n"
      ]
    },
    {
      "cell_type": "code",
      "execution_count": null,
      "id": "useful-absence",
      "metadata": {
        "id": "useful-absence",
        "outputId": "88997f99-1ddf-47e1-bfc6-d40cc25d4f19"
      },
      "outputs": [
        {
          "data": {
            "text/plain": [
              "5.5"
            ]
          },
          "execution_count": 39,
          "metadata": {},
          "output_type": "execute_result"
        }
      ],
      "source": [
        "temp"
      ]
    },
    {
      "cell_type": "code",
      "execution_count": null,
      "id": "rotary-metallic",
      "metadata": {
        "id": "rotary-metallic"
      },
      "outputs": [],
      "source": [
        "temp = x\n",
        "\n",
        "x = y\n",
        "y = temp"
      ]
    },
    {
      "cell_type": "code",
      "execution_count": null,
      "id": "entitled-killing",
      "metadata": {
        "id": "entitled-killing"
      },
      "outputs": [],
      "source": [
        "x = y"
      ]
    },
    {
      "cell_type": "code",
      "execution_count": null,
      "id": "electrical-genius",
      "metadata": {
        "id": "electrical-genius",
        "outputId": "4f043570-c00f-47ba-f9f7-e2a7cbc6295a"
      },
      "outputs": [
        {
          "data": {
            "text/plain": [
              "5.5"
            ]
          },
          "execution_count": 61,
          "metadata": {},
          "output_type": "execute_result"
        }
      ],
      "source": [
        "x"
      ]
    },
    {
      "cell_type": "code",
      "execution_count": null,
      "id": "false-intelligence",
      "metadata": {
        "id": "false-intelligence"
      },
      "outputs": [],
      "source": [
        "x, y = y, x"
      ]
    },
    {
      "cell_type": "code",
      "execution_count": null,
      "id": "liberal-catch",
      "metadata": {
        "id": "liberal-catch",
        "outputId": "fb38fbdb-c1af-4e46-ef44-c28ce82385a6"
      },
      "outputs": [
        {
          "name": "stdout",
          "output_type": "stream",
          "text": [
            "10 точка 5.5 точка 5.5 конец сообщения"
          ]
        }
      ],
      "source": [
        "print (x,y,temp, sep=' точка ', end=' конец сообщения' )"
      ]
    },
    {
      "cell_type": "code",
      "execution_count": null,
      "id": "supported-bolivia",
      "metadata": {
        "id": "supported-bolivia",
        "outputId": "945cdc89-a42b-4eeb-b93d-05a3299e9f3f"
      },
      "outputs": [
        {
          "name": "stdout",
          "output_type": "stream",
          "text": [
            "10 5.5\n"
          ]
        }
      ],
      "source": [
        "print (x,y, sep=' ', end='\\n')"
      ]
    },
    {
      "cell_type": "code",
      "execution_count": null,
      "id": "bizarre-accessory",
      "metadata": {
        "id": "bizarre-accessory",
        "outputId": "9c902e19-e188-49b2-dd86-e22b70d8f510"
      },
      "outputs": [
        {
          "name": "stdout",
          "output_type": "stream",
          "text": [
            "10 5.5\n"
          ]
        }
      ],
      "source": [
        "print (x,y)"
      ]
    },
    {
      "cell_type": "markdown",
      "id": "capable-flower",
      "metadata": {
        "id": "capable-flower"
      },
      "source": [
        "По-умолчанию разделителями между строками при выводе внутри  print будут пробелы, а послеокончания вывода с помощью print будет поставлен перенос строки.\n",
        "Изменить эти значения можно с помощью параметров sep и end, соответственно:"
      ]
    },
    {
      "cell_type": "code",
      "execution_count": null,
      "id": "d9fedcfb-e05a-431b-9b4b-ec3867af1e1c",
      "metadata": {
        "id": "d9fedcfb-e05a-431b-9b4b-ec3867af1e1c"
      },
      "outputs": [],
      "source": []
    },
    {
      "cell_type": "markdown",
      "id": "09b2f79a-32ea-4056-8e9a-dac576178344",
      "metadata": {
        "id": "09b2f79a-32ea-4056-8e9a-dac576178344"
      },
      "source": [
        "#### a = int(input())"
      ]
    },
    {
      "cell_type": "code",
      "execution_count": null,
      "id": "394702cf-5e73-472a-9745-a1da19ed669c",
      "metadata": {
        "id": "394702cf-5e73-472a-9745-a1da19ed669c",
        "outputId": "af20e0b5-39e8-43ea-bde9-f983e6bd890f"
      },
      "outputs": [
        {
          "name": "stdin",
          "output_type": "stream",
          "text": [
            " аппапап\n"
          ]
        }
      ],
      "source": [
        "a = input()"
      ]
    },
    {
      "cell_type": "code",
      "execution_count": null,
      "id": "db752948",
      "metadata": {
        "id": "db752948",
        "outputId": "b9aef43c-607c-42d3-e214-0b1a45d3f703"
      },
      "outputs": [
        {
          "data": {
            "text/plain": [
              "'аппапап'"
            ]
          },
          "execution_count": 50,
          "metadata": {},
          "output_type": "execute_result"
        }
      ],
      "source": [
        "a"
      ]
    },
    {
      "cell_type": "code",
      "execution_count": null,
      "id": "finnish-investigator",
      "metadata": {
        "id": "finnish-investigator"
      },
      "outputs": [],
      "source": [
        "a='6.4'"
      ]
    },
    {
      "cell_type": "code",
      "execution_count": null,
      "id": "collective-convention",
      "metadata": {
        "id": "collective-convention"
      },
      "outputs": [],
      "source": [
        "a=float(a)"
      ]
    },
    {
      "cell_type": "code",
      "execution_count": null,
      "id": "prostate-lawsuit",
      "metadata": {
        "id": "prostate-lawsuit",
        "outputId": "95589bb9-54e4-41f0-99ae-9260dc116266"
      },
      "outputs": [
        {
          "data": {
            "text/plain": [
              "6.4"
            ]
          },
          "execution_count": 61,
          "metadata": {},
          "output_type": "execute_result"
        }
      ],
      "source": [
        "a"
      ]
    },
    {
      "cell_type": "code",
      "execution_count": null,
      "id": "speaking-supplement",
      "metadata": {
        "id": "speaking-supplement",
        "outputId": "e389638b-8184-41d8-ead4-897df9d8308b"
      },
      "outputs": [
        {
          "ename": "ValueError",
          "evalue": "invalid literal for int() with base 10: '6.4'",
          "output_type": "error",
          "traceback": [
            "\u001b[0;31m---------------------------------------------------------------------------\u001b[0m",
            "\u001b[0;31mValueError\u001b[0m                                Traceback (most recent call last)",
            "Cell \u001b[0;32mIn[64], line 1\u001b[0m\n\u001b[0;32m----> 1\u001b[0m \u001b[38;5;28;43mint\u001b[39;49m\u001b[43m(\u001b[49m\u001b[43ma\u001b[49m\u001b[43m)\u001b[49m\n",
            "\u001b[0;31mValueError\u001b[0m: invalid literal for int() with base 10: '6.4'"
          ]
        }
      ],
      "source": [
        "int(a)"
      ]
    },
    {
      "cell_type": "code",
      "execution_count": null,
      "id": "outdoor-video",
      "metadata": {
        "id": "outdoor-video",
        "outputId": "684d32fd-fa97-4e5d-c59d-4c32518ad696"
      },
      "outputs": [
        {
          "name": "stdout",
          "output_type": "stream",
          "text": [
            "12312\n"
          ]
        }
      ],
      "source": [
        "a=input()"
      ]
    },
    {
      "cell_type": "code",
      "execution_count": null,
      "id": "satisfied-engineering",
      "metadata": {
        "id": "satisfied-engineering"
      },
      "outputs": [],
      "source": []
    },
    {
      "cell_type": "code",
      "execution_count": null,
      "id": "taken-garlic",
      "metadata": {
        "id": "taken-garlic",
        "outputId": "28d0f412-4879-4924-f173-f47389edc063"
      },
      "outputs": [
        {
          "name": "stdout",
          "output_type": "stream",
          "text": [
            "2\n",
            "5\n",
            "10\n"
          ]
        }
      ],
      "source": [
        "a = int(input())\n",
        "b = int(input())\n",
        "print(a * b)"
      ]
    },
    {
      "cell_type": "code",
      "execution_count": null,
      "id": "forty-registration",
      "metadata": {
        "id": "forty-registration",
        "outputId": "8e7e884a-38ae-42de-baf7-1827fd8d94cb"
      },
      "outputs": [
        {
          "name": "stdin",
          "output_type": "stream",
          "text": [
            " В\n"
          ]
        },
        {
          "name": "stdout",
          "output_type": "stream",
          "text": [
            "В\n"
          ]
        }
      ],
      "source": [
        "name = input()\n",
        "print(name)"
      ]
    },
    {
      "cell_type": "markdown",
      "id": "assured-fetish",
      "metadata": {
        "id": "assured-fetish"
      },
      "source": [
        "input() - возвращает строку из стандартного потока ввода (например, с клавиатуры до нажатия на клавишу Enter)"
      ]
    },
    {
      "cell_type": "markdown",
      "id": "academic-metallic",
      "metadata": {
        "id": "academic-metallic"
      },
      "source": [
        "Как параметр можно указать сообщение, которое будет выводиться перед вводом (\"приглашение к вводу\").\n"
      ]
    },
    {
      "cell_type": "code",
      "execution_count": null,
      "id": "essential-prevention",
      "metadata": {
        "id": "essential-prevention",
        "outputId": "df4157eb-ba70-4ed9-eb88-cd29f14293a4"
      },
      "outputs": [
        {
          "name": "stdin",
          "output_type": "stream",
          "text": [
            "Enter your name:  ТТТТТ\n"
          ]
        },
        {
          "name": "stdout",
          "output_type": "stream",
          "text": [
            "Hello, , ТТТТТ\n"
          ]
        }
      ],
      "source": [
        "name = input('Enter your name: ')\n",
        "print('Hello,',',', name)\n"
      ]
    },
    {
      "cell_type": "markdown",
      "id": "arranged-canyon",
      "metadata": {
        "id": "arranged-canyon"
      },
      "source": [
        "## Строки"
      ]
    },
    {
      "cell_type": "markdown",
      "id": "alive-reading",
      "metadata": {
        "id": "alive-reading"
      },
      "source": [
        "Строки в Python - упорядоченные последовательности символов, используемые для хранения и представления текстовой информации.\n"
      ]
    },
    {
      "cell_type": "markdown",
      "id": "million-appeal",
      "metadata": {
        "id": "million-appeal"
      },
      "source": [
        "Всё что мы вводим с клавиатуры (input) или читаем из файлов (open, read, readline) будет строками.\n"
      ]
    },
    {
      "cell_type": "code",
      "execution_count": null,
      "id": "ethical-agreement",
      "metadata": {
        "id": "ethical-agreement",
        "outputId": "a3ac39a3-cd77-422a-e28d-0bead95c12d4"
      },
      "outputs": [
        {
          "name": "stdout",
          "output_type": "stream",
          "text": [
            "string another string \n"
          ]
        }
      ],
      "source": [
        "a = 'string'\n",
        "b = \"another string  \"\n",
        "print(a, b)"
      ]
    },
    {
      "cell_type": "markdown",
      "id": "preliminary-candle",
      "metadata": {
        "id": "preliminary-candle"
      },
      "source": [
        "В переменную a записали строку \"string\" (апострофы используются для обозначения начала и конца строки).\n",
        "Кавычки так же могут быть использованы для записи строк."
      ]
    },
    {
      "cell_type": "markdown",
      "id": "mature-crisis",
      "metadata": {
        "id": "mature-crisis"
      },
      "source": [
        "Всё содержимое строковой переменной считается строкой до тех пор, пока вновь не встретится литерал, идентичный началу строку (апостроф, кавычки, тройные апострофы или кавычки):"
      ]
    },
    {
      "cell_type": "code",
      "execution_count": null,
      "id": "exclusive-hardwood",
      "metadata": {
        "id": "exclusive-hardwood",
        "outputId": "d8794cb4-096c-4f1d-d206-5b5fe24c98d3"
      },
      "outputs": [
        {
          "name": "stdout",
          "output_type": "stream",
          "text": [
            "Привет, МИСИС\n"
          ]
        }
      ],
      "source": [
        "print(\"Привет, МИСИС\")\n"
      ]
    },
    {
      "cell_type": "code",
      "execution_count": null,
      "id": "oriental-sentence",
      "metadata": {
        "id": "oriental-sentence",
        "outputId": "61e7e874-b3b7-4cd6-c371-1602bbc58f05"
      },
      "outputs": [
        {
          "name": "stdout",
          "output_type": "stream",
          "text": [
            "Привет, МИСИС\n"
          ]
        }
      ],
      "source": [
        "print(\"Привет\" + \", \" + \"МИСИС\")\n"
      ]
    },
    {
      "cell_type": "code",
      "execution_count": null,
      "id": "talented-stuart",
      "metadata": {
        "id": "talented-stuart",
        "outputId": "46171d15-f87c-4873-a4a8-9c6ad1c6cab2"
      },
      "outputs": [
        {
          "name": "stdout",
          "output_type": "stream",
          "text": [
            "Привет, МИСИС!\n"
          ]
        }
      ],
      "source": [
        "\n",
        "привет_мисис = \"Привет, МИСИС!\"\n",
        "print(привет_мисис)"
      ]
    },
    {
      "cell_type": "code",
      "execution_count": null,
      "id": "innocent-effort",
      "metadata": {
        "id": "innocent-effort",
        "outputId": "b44baf5f-b698-4e16-f054-1151d59594ed"
      },
      "outputs": [
        {
          "name": "stdout",
          "output_type": "stream",
          "text": [
            "Привет, МИСИС\n"
          ]
        }
      ],
      "source": [
        "hello = \"Привет\"\n",
        "misis = \"МИСИС\"\n",
        "print(hello + \", \" + misis)"
      ]
    },
    {
      "cell_type": "code",
      "execution_count": null,
      "id": "equipped-nomination",
      "metadata": {
        "id": "equipped-nomination"
      },
      "outputs": [],
      "source": [
        "text='Результат вычисления'\n",
        "resa='10'"
      ]
    },
    {
      "cell_type": "code",
      "execution_count": null,
      "id": "distributed-rebecca",
      "metadata": {
        "id": "distributed-rebecca",
        "outputId": "fa2cc5fb-adde-43c9-ab36-7ef6d6501562"
      },
      "outputs": [
        {
          "name": "stdout",
          "output_type": "stream",
          "text": [
            "Результат вычисления: 10\n"
          ]
        }
      ],
      "source": [
        "print(text + \": \" + str(resa))"
      ]
    },
    {
      "cell_type": "code",
      "execution_count": null,
      "id": "c850cd5f",
      "metadata": {
        "id": "c850cd5f",
        "outputId": "a98f0469-9ad1-4f35-c678-07189d01ee94"
      },
      "outputs": [
        {
          "name": "stdout",
          "output_type": "stream",
          "text": [
            "Результат вычисления: 10\n"
          ]
        }
      ],
      "source": [
        "print(text + \": \" + resa)"
      ]
    },
    {
      "cell_type": "code",
      "execution_count": null,
      "id": "metropolitan-strain",
      "metadata": {
        "id": "metropolitan-strain"
      },
      "outputs": [],
      "source": []
    },
    {
      "cell_type": "code",
      "execution_count": null,
      "id": "realistic-accessory",
      "metadata": {
        "id": "realistic-accessory"
      },
      "outputs": [],
      "source": []
    },
    {
      "cell_type": "code",
      "execution_count": null,
      "id": "scheduled-douglas",
      "metadata": {
        "id": "scheduled-douglas",
        "outputId": "9a477133-85f7-4437-b7ce-c876b1d407c4"
      },
      "outputs": [
        {
          "name": "stdout",
          "output_type": "stream",
          "text": [
            "one two\n"
          ]
        }
      ],
      "source": [
        "print('one', 'two')"
      ]
    },
    {
      "cell_type": "code",
      "execution_count": null,
      "id": "racial-attack",
      "metadata": {
        "id": "racial-attack",
        "outputId": "9c21002a-41f3-4bbe-887f-9714e3a446d3"
      },
      "outputs": [
        {
          "name": "stdout",
          "output_type": "stream",
          "text": [
            "Привет, МИСИС\n",
            "Привет, МИСИС\n",
            "Привет, МИСИС\n",
            "Привет, МИСИС\n"
          ]
        }
      ],
      "source": [
        "hello = \"Привет\" # главное чтобы парные\n",
        "# всё что после символа '#' до конца строки это комментарий\n",
        "person_or_entity=\"МИСИС\"\n",
        "\n",
        "print(\"Привет, %s\" % person_or_entity)\n",
        "print(hello + \", \" + person_or_entity)\n",
        "print(f\"{hello}, {person_or_entity}\")\n",
        "print(\", \".join([hello, person_or_entity]))\n",
        "\n"
      ]
    },
    {
      "cell_type": "code",
      "execution_count": null,
      "id": "mechanical-indonesian",
      "metadata": {
        "id": "mechanical-indonesian"
      },
      "outputs": [],
      "source": [
        "name=42.7250\n",
        "surname=753000004"
      ]
    },
    {
      "cell_type": "code",
      "execution_count": null,
      "id": "automatic-microphone",
      "metadata": {
        "id": "automatic-microphone"
      },
      "outputs": [],
      "source": [
        "surname=2.718281828\n",
        "name=3.1415926"
      ]
    },
    {
      "cell_type": "code",
      "execution_count": null,
      "id": "collective-press",
      "metadata": {
        "id": "collective-press",
        "outputId": "286bd0d7-147d-439a-c157-426385f8e706"
      },
      "outputs": [
        {
          "name": "stdout",
          "output_type": "stream",
          "text": [
            "Привет 42.73 753000004\n",
            "Привет 42.73 7.53e+08\n",
            "Привет -,2 42.725 -,2 753000004\n"
          ]
        }
      ],
      "source": [
        "name=42.7250\n",
        "surname=753000004\n",
        "print(f'{hello} {name:.2f} {surname}')\n",
        "print(\"%s %.2f %g\" % (hello, name, surname))\n",
        "print(\" -,2 \".join([hello, str(name), str(surname)]))\n",
        ""
      ]
    },
    {
      "cell_type": "markdown",
      "id": "electric-johnson",
      "metadata": {
        "id": "electric-johnson"
      },
      "source": [
        "мы  использовали разные модификации вывода, про них можно почитать подробно в документации. Вообще же, рекомендую использовать первый вариант с f-строками, он наиболее компактный на мой взгляд."
      ]
    },
    {
      "cell_type": "markdown",
      "id": "weird-links",
      "metadata": {
        "id": "weird-links"
      },
      "source": [
        "https://pythonworld.ru/osnovy/formatirovanie-strok-metod-format.html"
      ]
    },
    {
      "cell_type": "markdown",
      "id": "simplified-senegal",
      "metadata": {
        "id": "simplified-senegal"
      },
      "source": [
        "https://pythonworld.ru/osnovy/formatirovanie-strok-operator.html"
      ]
    },
    {
      "cell_type": "markdown",
      "id": "crucial-river",
      "metadata": {
        "id": "crucial-river"
      },
      "source": [
        "template.format(p0, p1, ..., k0=v0, k1=v1, ...)\n"
      ]
    },
    {
      "cell_type": "markdown",
      "id": "separated-brooks",
      "metadata": {
        "id": "separated-brooks"
      },
      "source": [
        "Здесь p0, p1,... — это позиционные аргументы, а k0, k1,... — аргументы-ключевые слова со значениями v0, v1,... соответственно.\n",
        "\n"
      ]
    },
    {
      "cell_type": "markdown",
      "id": "rational-toilet",
      "metadata": {
        "id": "rational-toilet"
      },
      "source": [
        "А template — это набор строк с заполнителями для аргументов."
      ]
    },
    {
      "cell_type": "markdown",
      "id": "intermediate-hebrew",
      "metadata": {
        "id": "intermediate-hebrew"
      },
      "source": [
        "    Параметры format()\n",
        "    Метод format() принимает любое количество параметров. Но они делятся на два вида:\n",
        "    Позиционные аргументы — список параметров, доступ к которым можно получить по индексу параметра в фигурных скобках {индекс}.\n",
        "    Параметры — ключевые слова — список параметров типа ключ=значение, доступ к которым можно получить с помощью ключа параметра в фигурных скобках {ключ}.\n"
      ]
    },
    {
      "cell_type": "markdown",
      "id": "resistant-domain",
      "metadata": {
        "id": "resistant-domain"
      },
      "source": [
        "Формат читает тип переданных аргументов и форматирует строку в соответствии с кодами форматирования в строке.\n",
        "\n"
      ]
    },
    {
      "cell_type": "markdown",
      "id": "massive-greenhouse",
      "metadata": {
        "id": "massive-greenhouse"
      },
      "source": [
        "https://pythonru.com/osnovy/formatirovanie-v-python-s-pomoshhju-format"
      ]
    },
    {
      "cell_type": "code",
      "execution_count": null,
      "id": "devoted-madrid",
      "metadata": {
        "id": "devoted-madrid"
      },
      "outputs": [],
      "source": [
        "obj = 46.2"
      ]
    },
    {
      "cell_type": "code",
      "execution_count": null,
      "id": "ambient-planet",
      "metadata": {
        "id": "ambient-planet",
        "outputId": "58027a50-a0b6-4a4b-d9b2-e6d9804b6287"
      },
      "outputs": [
        {
          "name": "stdout",
          "output_type": "stream",
          "text": [
            "<class 'float'>\n"
          ]
        }
      ],
      "source": [
        "print(type(obj))"
      ]
    },
    {
      "cell_type": "code",
      "execution_count": null,
      "id": "vocal-female",
      "metadata": {
        "id": "vocal-female"
      },
      "outputs": [],
      "source": []
    },
    {
      "cell_type": "code",
      "execution_count": null,
      "id": "neural-florence",
      "metadata": {
        "id": "neural-florence",
        "outputId": "3fce20d9-38b8-41bb-b9dc-997800c96dd2"
      },
      "outputs": [
        {
          "name": "stdout",
          "output_type": "stream",
          "text": [
            "['__abs__', '__add__', '__bool__', '__ceil__', '__class__', '__delattr__', '__dir__', '__divmod__', '__doc__', '__eq__', '__float__', '__floor__', '__floordiv__', '__format__', '__ge__', '__getattribute__', '__getformat__', '__getnewargs__', '__gt__', '__hash__', '__init__', '__init_subclass__', '__int__', '__le__', '__lt__', '__mod__', '__mul__', '__ne__', '__neg__', '__new__', '__pos__', '__pow__', '__radd__', '__rdivmod__', '__reduce__', '__reduce_ex__', '__repr__', '__rfloordiv__', '__rmod__', '__rmul__', '__round__', '__rpow__', '__rsub__', '__rtruediv__', '__setattr__', '__setformat__', '__sizeof__', '__str__', '__sub__', '__subclasshook__', '__truediv__', '__trunc__', 'as_integer_ratio', 'conjugate', 'fromhex', 'hex', 'imag', 'is_integer', 'real']\n"
          ]
        }
      ],
      "source": [
        "print(dir(obj))"
      ]
    },
    {
      "cell_type": "code",
      "execution_count": null,
      "id": "placed-recognition",
      "metadata": {
        "id": "placed-recognition",
        "outputId": "0df8283d-aa0a-47b2-c64e-53f5bcb3a3ca"
      },
      "outputs": [
        {
          "name": "stdout",
          "output_type": "stream",
          "text": [
            "['__add__', '__class__', '__contains__', '__delattr__', '__dir__', '__doc__', '__eq__', '__format__', '__ge__', '__getattribute__', '__getitem__', '__getnewargs__', '__gt__', '__hash__', '__init__', '__init_subclass__', '__iter__', '__le__', '__len__', '__lt__', '__mod__', '__mul__', '__ne__', '__new__', '__reduce__', '__reduce_ex__', '__repr__', '__rmod__', '__rmul__', '__setattr__', '__sizeof__', '__str__', '__subclasshook__', 'capitalize', 'casefold', 'center', 'count', 'encode', 'endswith', 'expandtabs', 'find', 'format', 'format_map', 'index', 'isalnum', 'isalpha', 'isascii', 'isdecimal', 'isdigit', 'isidentifier', 'islower', 'isnumeric', 'isprintable', 'isspace', 'istitle', 'isupper', 'join', 'ljust', 'lower', 'lstrip', 'maketrans', 'partition', 'removeprefix', 'removesuffix', 'replace', 'rfind', 'rindex', 'rjust', 'rpartition', 'rsplit', 'rstrip', 'split', 'splitlines', 'startswith', 'strip', 'swapcase', 'title', 'translate', 'upper', 'zfill']\n",
            "<class 'str'>\n"
          ]
        }
      ],
      "source": [
        "obj = \"Сосисочка\"\n",
        "print(dir(obj))\n",
        "print(type(obj))"
      ]
    },
    {
      "cell_type": "code",
      "execution_count": null,
      "id": "complicated-answer",
      "metadata": {
        "id": "complicated-answer",
        "outputId": "a045808f-67c2-43ad-d188-82c8fb3c6382"
      },
      "outputs": [
        {
          "name": "stdout",
          "output_type": "stream",
          "text": [
            "СТРОКА строка Строка\n",
            "True False\n"
          ]
        },
        {
          "ename": "TypeError",
          "evalue": "str.center() takes no keyword arguments",
          "output_type": "error",
          "traceback": [
            "\u001b[0;31m---------------------------------------------------------------------------\u001b[0m",
            "\u001b[0;31mTypeError\u001b[0m                                 Traceback (most recent call last)",
            "Cell \u001b[0;32mIn[91], line 4\u001b[0m\n\u001b[1;32m      2\u001b[0m \u001b[38;5;28mprint\u001b[39m(obj\u001b[38;5;241m.\u001b[39mupper(), obj\u001b[38;5;241m.\u001b[39mlower(), obj\u001b[38;5;241m.\u001b[39mtitle())\n\u001b[1;32m      3\u001b[0m \u001b[38;5;28mprint\u001b[39m(obj\u001b[38;5;241m.\u001b[39misalpha(), obj\u001b[38;5;241m.\u001b[39misdigit())\n\u001b[0;32m----> 4\u001b[0m \u001b[38;5;28mprint\u001b[39m(\u001b[43mobj\u001b[49m\u001b[38;5;241;43m.\u001b[39;49m\u001b[43mcenter\u001b[49m\u001b[43m(\u001b[49m\u001b[38;5;241;43m56\u001b[39;49m\u001b[43m,\u001b[49m\u001b[43m \u001b[49m\u001b[43mfillchar\u001b[49m\u001b[38;5;241;43m=\u001b[39;49m\u001b[38;5;241;43m1\u001b[39;49m\u001b[43m,\u001b[49m\u001b[43m)\u001b[49m)\n",
            "\u001b[0;31mTypeError\u001b[0m: str.center() takes no keyword arguments"
          ]
        }
      ],
      "source": [
        "obj = \"стРОкА\".upper()\n",
        "print(obj.upper(), obj.lower(), obj.title())\n",
        "print(obj.isalpha(), obj.isdigit())\n",
        "print(obj.center(56, fillchar=1,))"
      ]
    },
    {
      "cell_type": "code",
      "execution_count": null,
      "id": "40b1f44f-96a4-4225-95ea-5e83a81db73f",
      "metadata": {
        "id": "40b1f44f-96a4-4225-95ea-5e83a81db73f"
      },
      "outputs": [],
      "source": [
        "obj = \"стРОкА\".upper()"
      ]
    },
    {
      "cell_type": "code",
      "execution_count": null,
      "id": "a598e79d-c002-4a76-8177-a4b27eb0aa79",
      "metadata": {
        "id": "a598e79d-c002-4a76-8177-a4b27eb0aa79",
        "outputId": "140ce4e6-894d-498c-ee3e-9c693d727e9e"
      },
      "outputs": [
        {
          "data": {
            "text/plain": [
              "'СТРОКА'"
            ]
          },
          "execution_count": 84,
          "metadata": {},
          "output_type": "execute_result"
        }
      ],
      "source": [
        "obj"
      ]
    },
    {
      "cell_type": "code",
      "execution_count": null,
      "id": "1c5cae47-2a48-403c-a996-fd37cfc8fd27",
      "metadata": {
        "id": "1c5cae47-2a48-403c-a996-fd37cfc8fd27",
        "outputId": "a29b49cd-2449-480c-82ad-1cf76d44c801"
      },
      "outputs": [
        {
          "ename": "TypeError",
          "evalue": "object of type 'int' has no len()",
          "output_type": "error",
          "traceback": [
            "\u001b[0;31m---------------------------------------------------------------------------\u001b[0m",
            "\u001b[0;31mTypeError\u001b[0m                                 Traceback (most recent call last)",
            "Cell \u001b[0;32mIn[94], line 1\u001b[0m\n\u001b[0;32m----> 1\u001b[0m \u001b[38;5;28;43mlen\u001b[39;49m\u001b[43m(\u001b[49m\u001b[38;5;241;43m77\u001b[39;49m\u001b[43m)\u001b[49m\n",
            "\u001b[0;31mTypeError\u001b[0m: object of type 'int' has no len()"
          ]
        }
      ],
      "source": [
        "len(77)"
      ]
    },
    {
      "cell_type": "markdown",
      "id": "registered-rendering",
      "metadata": {
        "id": "registered-rendering"
      },
      "source": [
        "Чтобы посмотреть помощь по какой-то функции, используйте встроенную функцию help:\n",
        "\n"
      ]
    },
    {
      "cell_type": "code",
      "execution_count": null,
      "id": "charitable-technician",
      "metadata": {
        "id": "charitable-technician",
        "outputId": "dba5d17b-2432-46b7-aaf7-da5696c750c1"
      },
      "outputs": [
        {
          "name": "stdout",
          "output_type": "stream",
          "text": [
            "Help on built-in function center:\n",
            "\n",
            "center(width, fillchar=' ', /) method of builtins.str instance\n",
            "    Return a centered string of length width.\n",
            "    \n",
            "    Padding is done using the specified fill character (default is a space).\n",
            "\n"
          ]
        }
      ],
      "source": [
        "help(obj.center)"
      ]
    },
    {
      "cell_type": "markdown",
      "id": "running-bedroom",
      "metadata": {
        "id": "running-bedroom"
      },
      "source": [
        "Функция len() возвращает длину (количество элементов) в объекте.\n"
      ]
    },
    {
      "cell_type": "code",
      "execution_count": null,
      "id": "previous-silicon",
      "metadata": {
        "id": "previous-silicon",
        "outputId": "61d65620-305e-40ba-96d1-8686e19b9b50"
      },
      "outputs": [
        {
          "data": {
            "text/plain": [
              "6"
            ]
          },
          "execution_count": 92,
          "metadata": {},
          "output_type": "execute_result"
        }
      ],
      "source": [
        "len('abcdef')"
      ]
    },
    {
      "cell_type": "code",
      "execution_count": null,
      "id": "166c62f9",
      "metadata": {
        "id": "166c62f9"
      },
      "outputs": [],
      "source": [
        "\n",
        "# Все методы, название которых начинается с двух подчёркиваний являются служебными. Это не значит, что их нельзя вызывать напрямую, надо просто иметь в виду что они будут вызываться, когда интерпретатор увидит соответствующий оператор.\n",
        "#Это удобно, потому что их можно перегружать для своих кастомных классов"
      ]
    },
    {
      "cell_type": "code",
      "execution_count": null,
      "id": "51954102-fd27-4cbe-ba6e-276a3ab1b6cc",
      "metadata": {
        "id": "51954102-fd27-4cbe-ba6e-276a3ab1b6cc",
        "outputId": "5d14dd33-8d7e-4a0a-ab15-81abb5aca3a9"
      },
      "outputs": [
        {
          "data": {
            "text/plain": [
              "4"
            ]
          },
          "execution_count": 93,
          "metadata": {},
          "output_type": "execute_result"
        }
      ],
      "source": [
        "2 + 2"
      ]
    },
    {
      "cell_type": "code",
      "execution_count": null,
      "id": "coated-opinion",
      "metadata": {
        "id": "coated-opinion",
        "outputId": "09c2ba5b-c23c-493d-cf18-bdf88c097cd6"
      },
      "outputs": [
        {
          "name": "stdout",
          "output_type": "stream",
          "text": [
            "20\n",
            "20\n",
            "False\n",
            "False\n"
          ]
        }
      ],
      "source": [
        "a = 15\n",
        "print(a + 5)\n",
        "print(a.__add__(5))\n",
        "print(a < 10)\n",
        "print(a.__lt__(10))  # lt от less than"
      ]
    },
    {
      "cell_type": "code",
      "execution_count": null,
      "id": "hourly-wellington",
      "metadata": {
        "id": "hourly-wellington"
      },
      "outputs": [],
      "source": []
    },
    {
      "cell_type": "markdown",
      "id": "imposed-interview",
      "metadata": {
        "id": "imposed-interview"
      },
      "source": [
        "### Многострок и комменты"
      ]
    },
    {
      "cell_type": "markdown",
      "id": "ee9ec031-d36b-4240-89f9-27ca72bbd5ea",
      "metadata": {
        "id": "ee9ec031-d36b-4240-89f9-27ca72bbd5ea"
      },
      "source": [
        "При необходимости записать \"многострочных\" блоков текста можно использовать тройные кавычки или апострофы:"
      ]
    },
    {
      "cell_type": "code",
      "execution_count": null,
      "id": "explicit-separation",
      "metadata": {
        "id": "explicit-separation",
        "outputId": "ab7c0fda-c904-475e-eeb6-94df3397c6ed"
      },
      "outputs": [
        {
          "data": {
            "text/plain": [
              "'multiple lines\\nstring'"
            ]
          },
          "execution_count": 39,
          "metadata": {},
          "output_type": "execute_result"
        }
      ],
      "source": [
        "'''multiple lines\n",
        "string'''"
      ]
    },
    {
      "cell_type": "code",
      "execution_count": null,
      "id": "designed-acceptance",
      "metadata": {
        "id": "designed-acceptance"
      },
      "outputs": [],
      "source": [
        "c = '''line 1\n",
        "line 2\n",
        "line 3'''\n",
        "d = \"\"\"New line 1\n",
        "new line 2\n",
        "new line 3\"\"\""
      ]
    },
    {
      "cell_type": "code",
      "execution_count": null,
      "id": "coated-greensboro",
      "metadata": {
        "id": "coated-greensboro",
        "outputId": "5c2cca62-c812-473f-885c-70626b2bc221"
      },
      "outputs": [
        {
          "data": {
            "text/plain": [
              "'line 1\\nline 2\\nline 3'"
            ]
          },
          "execution_count": 121,
          "metadata": {},
          "output_type": "execute_result"
        }
      ],
      "source": [
        "c"
      ]
    },
    {
      "cell_type": "code",
      "execution_count": null,
      "id": "threatened-little",
      "metadata": {
        "id": "threatened-little",
        "outputId": "1b0c245d-44fe-4013-8a1f-88db50d29bee"
      },
      "outputs": [
        {
          "name": "stdout",
          "output_type": "stream",
          "text": [
            "line 1\n",
            "line 2\n",
            "line 3\n"
          ]
        }
      ],
      "source": [
        "print(c)"
      ]
    },
    {
      "cell_type": "code",
      "execution_count": null,
      "id": "australian-peninsula",
      "metadata": {
        "id": "australian-peninsula",
        "outputId": "1653b499-11b5-4054-e5b6-d854665abd6b"
      },
      "outputs": [
        {
          "name": "stdout",
          "output_type": "stream",
          "text": [
            "New line 1\n",
            "new line 2\n",
            "new line 3\n"
          ]
        }
      ],
      "source": [
        "print(d)"
      ]
    },
    {
      "cell_type": "code",
      "execution_count": null,
      "id": "broke-berry",
      "metadata": {
        "id": "broke-berry"
      },
      "outputs": [],
      "source": [
        "c = '''line 1\n",
        "line 2\n",
        "line 3\n",
        "d = \"New line 1\n",
        "new line 2\n",
        "new line 3'''"
      ]
    },
    {
      "cell_type": "code",
      "execution_count": null,
      "id": "thousand-ceramic",
      "metadata": {
        "id": "thousand-ceramic"
      },
      "outputs": [],
      "source": []
    },
    {
      "cell_type": "code",
      "execution_count": null,
      "id": "suburban-hostel",
      "metadata": {
        "id": "suburban-hostel",
        "outputId": "9112b15b-53dd-4ef5-a783-a658e7eba161"
      },
      "outputs": [
        {
          "data": {
            "text/plain": [
              "'multiple lines\\nstring with double qoutes'"
            ]
          },
          "execution_count": 40,
          "metadata": {},
          "output_type": "execute_result"
        }
      ],
      "source": [
        "\"\"\"multiple lines\n",
        "string with double qoutes\"\"\"\n",
        "\n",
        "dsdsd"
      ]
    },
    {
      "cell_type": "code",
      "execution_count": null,
      "id": "precise-savings",
      "metadata": {
        "id": "precise-savings"
      },
      "outputs": [],
      "source": [
        "a = 'string'\n",
        "b = 'another string'"
      ]
    },
    {
      "cell_type": "code",
      "execution_count": null,
      "id": "julian-disney",
      "metadata": {
        "id": "julian-disney",
        "outputId": "351941b0-4794-4ae7-dad1-3011dfb993cc"
      },
      "outputs": [
        {
          "name": "stdout",
          "output_type": "stream",
          "text": [
            "string\n",
            "string\n"
          ]
        }
      ],
      "source": [
        "print(a)\n",
        "'''\n",
        "multiline\n",
        "comment\n",
        "'''\n",
        "print(a)"
      ]
    },
    {
      "cell_type": "code",
      "execution_count": null,
      "id": "f72a890b-9815-420c-afbf-5b0e65b24ae1",
      "metadata": {
        "id": "f72a890b-9815-420c-afbf-5b0e65b24ae1"
      },
      "outputs": [],
      "source": [
        "a = 'another string'\n",
        "b = 'another string'"
      ]
    },
    {
      "cell_type": "code",
      "execution_count": null,
      "id": "9f754ec6-6e11-4a5c-a061-e4d547d8788f",
      "metadata": {
        "id": "9f754ec6-6e11-4a5c-a061-e4d547d8788f",
        "outputId": "7220a36c-7c19-44c0-d749-eaa71abd1173"
      },
      "outputs": [
        {
          "data": {
            "text/plain": [
              "True"
            ]
          },
          "execution_count": 45,
          "metadata": {},
          "output_type": "execute_result"
        }
      ],
      "source": [
        "a == b"
      ]
    },
    {
      "cell_type": "code",
      "execution_count": null,
      "id": "3fd2068b-105e-4732-9b27-6df6f6b7f2db",
      "metadata": {
        "id": "3fd2068b-105e-4732-9b27-6df6f6b7f2db",
        "outputId": "ac3fecaa-a1c6-4b2c-88d9-fab272858dc5"
      },
      "outputs": [
        {
          "data": {
            "text/plain": [
              "False"
            ]
          },
          "execution_count": 46,
          "metadata": {},
          "output_type": "execute_result"
        }
      ],
      "source": [
        "a is b"
      ]
    },
    {
      "cell_type": "code",
      "execution_count": null,
      "id": "183358d1-7d64-43b9-b016-4134d2ef0ddf",
      "metadata": {
        "id": "183358d1-7d64-43b9-b016-4134d2ef0ddf"
      },
      "outputs": [],
      "source": []
    },
    {
      "cell_type": "code",
      "execution_count": null,
      "id": "handy-deployment",
      "metadata": {
        "id": "handy-deployment",
        "outputId": "d0c9e908-a6cc-40de-e4b2-c1831872af90"
      },
      "outputs": [
        {
          "data": {
            "text/plain": [
              "'\\nМногострочный комментарий – это просто\\nстрока\\n'"
            ]
          },
          "execution_count": 16,
          "metadata": {},
          "output_type": "execute_result"
        }
      ],
      "source": [
        "\n",
        "# это комментарий\n",
        "x = 5 # комментарий к действию\n",
        "'''\n",
        "Многострочный комментарий – это просто\n",
        "строка\n",
        "'''"
      ]
    },
    {
      "cell_type": "markdown",
      "id": "curious-bubble",
      "metadata": {
        "id": "curious-bubble"
      },
      "source": [
        "##### Экранирование"
      ]
    },
    {
      "cell_type": "markdown",
      "id": "impressive-linux",
      "metadata": {
        "id": "impressive-linux"
      },
      "source": [
        "![image.png](attachment:image.png)"
      ]
    },
    {
      "cell_type": "markdown",
      "id": "ignored-cheese",
      "metadata": {
        "id": "ignored-cheese"
      },
      "source": [
        "Для экранирования других символов используется \\. Например, в случае если необходимо в текстовой строке использовать символ, идентичный литералу начала строковой переменной (кавычки или апострофа):\n",
        "\n"
      ]
    },
    {
      "cell_type": "code",
      "execution_count": null,
      "id": "trying-flour",
      "metadata": {
        "id": "trying-flour",
        "outputId": "3a6f20de-03c5-4a1a-e589-7d4f5d9b3886"
      },
      "outputs": [
        {
          "name": "stdout",
          "output_type": "stream",
          "text": [
            "some 'simbols'...\n"
          ]
        }
      ],
      "source": [
        "print('some \\'simbols\\'...')\n"
      ]
    },
    {
      "cell_type": "code",
      "execution_count": null,
      "id": "adjustable-hurricane",
      "metadata": {
        "id": "adjustable-hurricane"
      },
      "outputs": [],
      "source": []
    },
    {
      "cell_type": "code",
      "execution_count": null,
      "id": "comparative-retailer",
      "metadata": {
        "id": "comparative-retailer",
        "outputId": "5cb09c17-94e1-414b-ae68-ae66367f2711"
      },
      "outputs": [
        {
          "name": "stdout",
          "output_type": "stream",
          "text": [
            "First line \n",
            "\n",
            "\n",
            " Last line\n"
          ]
        }
      ],
      "source": [
        "print('First line', '\\n\\n\\n', 'Last line')\n"
      ]
    },
    {
      "cell_type": "markdown",
      "id": "moderate-bumper",
      "metadata": {
        "id": "moderate-bumper"
      },
      "source": [
        "## Логические операции\n"
      ]
    },
    {
      "cell_type": "markdown",
      "id": "adjusted-enough",
      "metadata": {
        "id": "adjusted-enough"
      },
      "source": [
        "Логические операторы сравнивают выражения справа и слева от оператора и возвращают один из двух результатов:\n",
        "\n"
      ]
    },
    {
      "cell_type": "markdown",
      "id": "satisfactory-recognition",
      "metadata": {
        "id": "satisfactory-recognition"
      },
      "source": [
        "True (истина) - если выражение правдиво\n",
        "False (ложь) - если выражение ошибочно"
      ]
    },
    {
      "cell_type": "markdown",
      "id": "reserved-spank",
      "metadata": {
        "id": "reserved-spank"
      },
      "source": [
        "Условно разделим операторы на несколько групп."
      ]
    },
    {
      "cell_type": "markdown",
      "id": "direct-gamma",
      "metadata": {
        "id": "direct-gamma"
      },
      "source": [
        "  \"Математические\" операторы:\n",
        "\n",
        "    == \"равно\"\n",
        "    != \"не равно\"\n",
        "    > (левая часть больше, чем правая)\n",
        "    >= (левая часть больше, либо равна правой)\n",
        "    <  (левая часть меньше, чем правая)\n",
        "    <= (левая часть меньше, либо равна правой)\n",
        "\n",
        "Естественно, сравнивать можно не только числа, но и другие типы данных. Однако, если с равенством\\неравенством ещё интуитивно понятно, то вот > и < для строк и списков не интуитивная операция, частично мы затронем её дальше.\n",
        "\n"
      ]
    },
    {
      "cell_type": "markdown",
      "id": "affected-arrangement",
      "metadata": {
        "id": "affected-arrangement"
      },
      "source": [
        "Логические операторы\n",
        "\n",
        "Позволяют выполнять операции с логическими переменными, а так же комбинировать несколько условий.\n",
        "\n",
        "    and - логическое \"и\" (оба выражения должны быть верны)\n",
        "    or - логическое \"или\" (хотя бы одно из выражений должно быть верно)\n",
        "    not инвертирование (меняет True на False и наоборот), применяется, если нужно проверить, что какое-то условие НЕ выполнено."
      ]
    },
    {
      "cell_type": "code",
      "execution_count": null,
      "id": "boolean-optimum",
      "metadata": {
        "id": "boolean-optimum",
        "outputId": "a05ca093-f643-4941-9ce1-60014916aeb7"
      },
      "outputs": [
        {
          "name": "stdout",
          "output_type": "stream",
          "text": [
            "-5\n",
            "False\n"
          ]
        }
      ],
      "source": [
        "a = int(input())\n",
        "print(a > 0)"
      ]
    },
    {
      "cell_type": "code",
      "execution_count": null,
      "id": "hollywood-namibia",
      "metadata": {
        "id": "hollywood-namibia",
        "outputId": "62e78e42-8246-4629-c8a3-3e5f40ed5716"
      },
      "outputs": [
        {
          "name": "stdout",
          "output_type": "stream",
          "text": [
            "5\n",
            "True\n"
          ]
        }
      ],
      "source": [
        "a = int(input())\n",
        "print(a >= 10 or a < 100)"
      ]
    },
    {
      "cell_type": "code",
      "execution_count": null,
      "id": "changing-bundle",
      "metadata": {
        "id": "changing-bundle"
      },
      "outputs": [],
      "source": [
        "a, b, v = 10, 15, 20"
      ]
    },
    {
      "cell_type": "code",
      "execution_count": null,
      "id": "certified-bench",
      "metadata": {
        "id": "certified-bench",
        "outputId": "21662c9a-7e6d-49b8-be1f-731885e3760b"
      },
      "outputs": [
        {
          "data": {
            "text/plain": [
              "True"
            ]
          },
          "execution_count": 138,
          "metadata": {},
          "output_type": "execute_result"
        }
      ],
      "source": [
        "x1, x2, x3 = False, True, False\n",
        "not x1 or x2 and x3"
      ]
    },
    {
      "cell_type": "markdown",
      "id": "democratic-stability",
      "metadata": {
        "id": "democratic-stability"
      },
      "source": [
        "Добавляя скобки в выражения, можно изменить порядок вычисления и значение результирующего выражения. Если не уверены в приоритете операций, смело добавляйте скобки, чтобы быть уверенными в том, что выражение вычисляется именно так, как вы хотите¶\n"
      ]
    },
    {
      "cell_type": "code",
      "execution_count": null,
      "id": "tracked-notice",
      "metadata": {
        "id": "tracked-notice",
        "outputId": "dd032bc5-28db-4b77-b41c-4bde16e62d54"
      },
      "outputs": [
        {
          "data": {
            "text/plain": [
              "False"
            ]
          },
          "execution_count": 139,
          "metadata": {},
          "output_type": "execute_result"
        }
      ],
      "source": [
        "((not x1) or x2) and x3"
      ]
    },
    {
      "cell_type": "code",
      "execution_count": null,
      "id": "supreme-paraguay",
      "metadata": {
        "id": "supreme-paraguay",
        "outputId": "571827bb-375e-40bd-985a-3ec01a9fd90d"
      },
      "outputs": [
        {
          "data": {
            "text/plain": [
              "True"
            ]
          },
          "execution_count": 140,
          "metadata": {},
          "output_type": "execute_result"
        }
      ],
      "source": [
        "x=7\n",
        "x>2 and x%2 !=0"
      ]
    },
    {
      "cell_type": "code",
      "execution_count": null,
      "id": "88741e72",
      "metadata": {
        "id": "88741e72",
        "outputId": "11a62fdf-df73-4147-9de6-bf20195732d8"
      },
      "outputs": [
        {
          "data": {
            "text/plain": [
              "False"
            ]
          },
          "execution_count": 141,
          "metadata": {},
          "output_type": "execute_result"
        }
      ],
      "source": [
        "x=10\n",
        "x>2 and x%2 !=0"
      ]
    },
    {
      "cell_type": "code",
      "execution_count": null,
      "id": "coordinated-valentine",
      "metadata": {
        "id": "coordinated-valentine",
        "outputId": "f42acd24-4e8b-4cf3-c00a-1b981d8af373"
      },
      "outputs": [
        {
          "data": {
            "text/plain": [
              "True"
            ]
          },
          "execution_count": 142,
          "metadata": {},
          "output_type": "execute_result"
        }
      ],
      "source": [
        "'abc' == '''abc'''\n"
      ]
    },
    {
      "cell_type": "code",
      "execution_count": null,
      "id": "wrapped-richmond",
      "metadata": {
        "id": "wrapped-richmond",
        "outputId": "667ac39d-fd83-4255-c21f-8fffa74f235c"
      },
      "outputs": [
        {
          "data": {
            "text/plain": [
              "True"
            ]
          },
          "execution_count": 143,
          "metadata": {},
          "output_type": "execute_result"
        }
      ],
      "source": [
        "'abc' > 'ab'"
      ]
    },
    {
      "cell_type": "code",
      "execution_count": null,
      "id": "a5dfdf19",
      "metadata": {
        "id": "a5dfdf19",
        "outputId": "27d646a5-05e1-4635-b250-9ee0d082964b"
      },
      "outputs": [
        {
          "data": {
            "text/plain": [
              "False"
            ]
          },
          "execution_count": 144,
          "metadata": {},
          "output_type": "execute_result"
        }
      ],
      "source": [
        "'abc' > 'db'"
      ]
    },
    {
      "cell_type": "markdown",
      "id": "steady-store",
      "metadata": {
        "id": "steady-store"
      },
      "source": [
        "## IF ELSE"
      ]
    },
    {
      "cell_type": "markdown",
      "id": "focused-nirvana",
      "metadata": {
        "id": "focused-nirvana"
      },
      "source": [
        "Ветвления можно создать с помощью условного оператора if.\n",
        "\n",
        "При этом можно задать сколько угодно альтернативных условий с помощью оператора elif и назначить выполнение некоторого кода в случае невыполнения ни одного из условий.\n",
        "\n"
      ]
    },
    {
      "cell_type": "code",
      "execution_count": null,
      "id": "nasty-fitness",
      "metadata": {
        "collapsed": true,
        "jupyter": {
          "outputs_hidden": true
        },
        "id": "nasty-fitness",
        "outputId": "269f2be7-3c2b-4bc5-a80e-238b07ef5148"
      },
      "outputs": [
        {
          "ename": "NameError",
          "evalue": "name 'test1' is not defined",
          "output_type": "error",
          "traceback": [
            "\u001b[0;31m---------------------------------------------------------------------------\u001b[0m",
            "\u001b[0;31mNameError\u001b[0m                                 Traceback (most recent call last)",
            "\u001b[0;32m<ipython-input-51-f6c7602036ca>\u001b[0m in \u001b[0;36m<module>\u001b[0;34m\u001b[0m\n\u001b[0;32m----> 1\u001b[0;31m \u001b[0;32mif\u001b[0m \u001b[0mtest1\u001b[0m\u001b[0;34m:\u001b[0m\u001b[0;34m\u001b[0m\u001b[0;34m\u001b[0m\u001b[0m\n\u001b[0m\u001b[1;32m      2\u001b[0m     \u001b[0mstate1\u001b[0m\u001b[0;34m\u001b[0m\u001b[0;34m\u001b[0m\u001b[0m\n\u001b[1;32m      3\u001b[0m \u001b[0;32melif\u001b[0m \u001b[0mtest2\u001b[0m\u001b[0;34m:\u001b[0m\u001b[0;34m\u001b[0m\u001b[0;34m\u001b[0m\u001b[0m\n\u001b[1;32m      4\u001b[0m     \u001b[0mstate2\u001b[0m\u001b[0;34m\u001b[0m\u001b[0;34m\u001b[0m\u001b[0m\n\u001b[1;32m      5\u001b[0m \u001b[0;32melse\u001b[0m\u001b[0;34m:\u001b[0m\u001b[0;34m\u001b[0m\u001b[0;34m\u001b[0m\u001b[0m\n",
            "\u001b[0;31mNameError\u001b[0m: name 'test1' is not defined"
          ]
        }
      ],
      "source": [
        "if test1:\n",
        "    state1\n",
        "elif test2:\n",
        "    state2\n",
        "else:\n",
        "    state3"
      ]
    },
    {
      "cell_type": "code",
      "execution_count": null,
      "id": "stuck-slovenia",
      "metadata": {
        "id": "stuck-slovenia",
        "outputId": "d1cfc2a4-bbe9-45ce-a948-3d509df4aabd"
      },
      "outputs": [
        {
          "name": "stdin",
          "output_type": "stream",
          "text": [
            " 5\n",
            " 0\n"
          ]
        },
        {
          "name": "stdout",
          "output_type": "stream",
          "text": [
            "Деление невозможно\n",
            "Деление невозможно1\n",
            "пока\n"
          ]
        }
      ],
      "source": [
        "a = int(input())\n",
        "b = int(input())\n",
        "if b != 0:\n",
        "    print(a / b)\n",
        "else:\n",
        "    print('Деление невозможно')\n",
        "    print('Деление невозможно1')\n",
        "print('пока')\n"
      ]
    },
    {
      "cell_type": "markdown",
      "id": "distributed-somerset",
      "metadata": {
        "id": "distributed-somerset"
      },
      "source": [
        "Основное правило синтаксиса — надо следить за индентацией. В питоне индентация используется для разграничения блоков (в C для этого фигурные скобки, а тут вместо открывающей фигурной скобки :, а вместо закрывающей обратная индентация. Если в примере выше сломать индентацию, то вас не поймёт интерпретатор."
      ]
    },
    {
      "cell_type": "code",
      "execution_count": null,
      "id": "ethical-title",
      "metadata": {
        "id": "ethical-title",
        "outputId": "56c0e0fb-84b6-4696-c9a6-b07c6bd0ef25"
      },
      "outputs": [
        {
          "name": "stdout",
          "output_type": "stream",
          "text": [
            "5\n",
            "0\n",
            "Деление невозможно\n",
            "Введите ненулевое значение 0\n"
          ]
        },
        {
          "ename": "ZeroDivisionError",
          "evalue": "division by zero",
          "output_type": "error",
          "traceback": [
            "\u001b[0;31m---------------------------------------------------------------------------\u001b[0m",
            "\u001b[0;31mZeroDivisionError\u001b[0m                         Traceback (most recent call last)",
            "Cell \u001b[0;32mIn [154], line 8\u001b[0m\n\u001b[1;32m      6\u001b[0m     \u001b[38;5;28mprint\u001b[39m(\u001b[38;5;124m'\u001b[39m\u001b[38;5;124mДеление невозможно\u001b[39m\u001b[38;5;124m'\u001b[39m)\n\u001b[1;32m      7\u001b[0m     b \u001b[38;5;241m=\u001b[39m \u001b[38;5;28mint\u001b[39m(\u001b[38;5;28minput\u001b[39m(\u001b[38;5;124m'\u001b[39m\u001b[38;5;124mВведите ненулевое значение \u001b[39m\u001b[38;5;124m'\u001b[39m))\n\u001b[0;32m----> 8\u001b[0m     \u001b[38;5;28mprint\u001b[39m(a \u001b[38;5;241m/\u001b[39m b)\n\u001b[1;32m     10\u001b[0m \u001b[38;5;28mprint\u001b[39m(\u001b[38;5;124m'\u001b[39m\u001b[38;5;124mprivet\u001b[39m\u001b[38;5;124m'\u001b[39m)\n",
            "\u001b[0;31mZeroDivisionError\u001b[0m: division by zero"
          ]
        }
      ],
      "source": [
        "a = int(input())\n",
        "b = int(input())\n",
        "if b != 0:\n",
        "    print(a / b)\n",
        "else:\n",
        "    print('Деление невозможно')\n",
        "    b = int(input('Введите ненулевое значение '))\n",
        "    print(a / b)\n",
        "\n",
        "print('privet')"
      ]
    },
    {
      "cell_type": "code",
      "execution_count": null,
      "id": "nonprofit-measurement",
      "metadata": {
        "id": "nonprofit-measurement",
        "outputId": "2f410b9c-2008-452f-9601-acc2cc7d8f90"
      },
      "outputs": [
        {
          "name": "stdout",
          "output_type": "stream",
          "text": [
            "5\n",
            "0\n",
            "Деление невозможно\n",
            "Введите ненулевое значение 0\n",
            "Вы не справились!\n"
          ]
        }
      ],
      "source": [
        "a = int(input())\n",
        "b = int(input())\n",
        "if b != 0:\n",
        "    print(a / b)\n",
        "else:\n",
        "    print('Деление невозможно')\n",
        "    b = int(input('Введите ненулевое значение '))\n",
        "    if b == 0:\n",
        "        print('Вы не справились!')\n",
        "    else:\n",
        "        print(a / b)"
      ]
    },
    {
      "cell_type": "code",
      "execution_count": null,
      "id": "announced-robert",
      "metadata": {
        "id": "announced-robert",
        "outputId": "6fe138b4-bb77-4915-f415-d700613c2662"
      },
      "outputs": [
        {
          "name": "stdout",
          "output_type": "stream",
          "text": [
            "3\n",
            "Нечетное\n"
          ]
        }
      ],
      "source": [
        "\n",
        "x = int(input())\n",
        "if x % 2 == 0:\n",
        "    print('Четное')\n",
        "else:\n",
        "    print('Нечетное')"
      ]
    },
    {
      "cell_type": "code",
      "execution_count": null,
      "id": "solar-membrane",
      "metadata": {
        "id": "solar-membrane"
      },
      "outputs": [],
      "source": [
        "x=2"
      ]
    },
    {
      "cell_type": "code",
      "execution_count": null,
      "id": "interim-uncle",
      "metadata": {
        "id": "interim-uncle"
      },
      "outputs": [],
      "source": [
        "my_var = 'Адын' if x == 1 else 'Не Адын'\n",
        "# my_var укажет на `one` если x равно 1, иначе на `other"
      ]
    },
    {
      "cell_type": "code",
      "execution_count": null,
      "id": "jewish-pressure",
      "metadata": {
        "id": "jewish-pressure",
        "outputId": "3d8f56c8-aedd-4781-9350-0b874804d675"
      },
      "outputs": [
        {
          "data": {
            "text/plain": [
              "'Не Адын'"
            ]
          },
          "execution_count": 159,
          "metadata": {},
          "output_type": "execute_result"
        }
      ],
      "source": [
        "my_var"
      ]
    },
    {
      "cell_type": "markdown",
      "id": "right-maximum",
      "metadata": {
        "id": "right-maximum"
      },
      "source": [
        "### Наибольшее из двух чисел\n"
      ]
    },
    {
      "cell_type": "code",
      "execution_count": null,
      "id": "inside-permission",
      "metadata": {
        "id": "inside-permission",
        "outputId": "0dd616b5-1353-41e5-e02e-d51b47d83382"
      },
      "outputs": [
        {
          "name": "stdout",
          "output_type": "stream",
          "text": [
            "7\n"
          ]
        }
      ],
      "source": [
        "a = 4\n",
        "b = 7\n",
        "\n",
        "if a >= b:\n",
        "    print(a)\n",
        "else:\n",
        "    print(b)"
      ]
    },
    {
      "cell_type": "code",
      "execution_count": null,
      "id": "sunrise-porcelain",
      "metadata": {
        "id": "sunrise-porcelain",
        "outputId": "1457dc2f-a35f-4730-ed72-fe9e957c93f8"
      },
      "outputs": [
        {
          "name": "stdout",
          "output_type": "stream",
          "text": [
            "7\n"
          ]
        }
      ],
      "source": [
        "a = 4\n",
        "b = 7\n",
        "m = b\n",
        "if b > m:\n",
        "    m = b\n",
        "print(m)"
      ]
    },
    {
      "cell_type": "markdown",
      "id": "freelance-strength",
      "metadata": {
        "id": "freelance-strength"
      },
      "source": [
        "## Многоуровневые условия"
      ]
    },
    {
      "cell_type": "code",
      "execution_count": null,
      "id": "moved-blink",
      "metadata": {
        "id": "moved-blink"
      },
      "outputs": [],
      "source": [
        "if test1:\n",
        "    state1\n",
        "    if test2:\n",
        "        state2\n",
        "        if test3:\n",
        "            state3"
      ]
    },
    {
      "cell_type": "markdown",
      "id": "fifteen-semiconductor",
      "metadata": {
        "id": "fifteen-semiconductor"
      },
      "source": [
        "Не стоит слишком увлекаться такими \"лесенками\". Больше 2-3 уровней вложенности становится сложно читать и анализировать человеку.\n",
        "Если возникает такая сложная конструкция, то возможно лучше оформить её в виде функции."
      ]
    },
    {
      "cell_type": "markdown",
      "id": "annual-batman",
      "metadata": {
        "id": "annual-batman"
      },
      "source": [
        "### ELIF"
      ]
    },
    {
      "cell_type": "markdown",
      "id": "domestic-browse",
      "metadata": {
        "id": "domestic-browse"
      },
      "source": [
        "Ранее мы рассмотрели работу условного оператора if. С помощью его расширенной версии if-else можно реализовать две отдельные ветви выполнения. Однако алгоритм программы может предполагать выбор больше, чем из двух путей, например, из трех, четырех или даже пяти. В данном случае следует говорить о необходимости множественного ветвления."
      ]
    },
    {
      "cell_type": "markdown",
      "id": "narrow-challenge",
      "metadata": {
        "id": "narrow-challenge"
      },
      "source": [
        "Рассмотрим конкретный пример. Допустим, в зависимости от возраста пользователя, ему рекомендуется определенный видеоконтент. При этом выделяют группы от 3 до 6 лет, от 6 до 12, от 12 до 16, 16+. Итого 4 диапазона. Как бы мы стали реализовывать задачу, имея в наборе инструментов только конструкцию if-else?"
      ]
    },
    {
      "cell_type": "markdown",
      "id": "smooth-confidentiality",
      "metadata": {
        "id": "smooth-confidentiality"
      },
      "source": [
        "Самый простой ответ – последовательно проверять вхождение введенного числа-возраста в определенный диапазон с помощью следующих друг за другом условных операторов:\n",
        "\n"
      ]
    },
    {
      "cell_type": "code",
      "execution_count": null,
      "id": "right-birthday",
      "metadata": {
        "id": "right-birthday",
        "outputId": "d622ac96-b2bd-4fca-c526-3046af97389c"
      },
      "outputs": [
        {
          "name": "stdout",
          "output_type": "stream",
          "text": [
            "Ваш возраст: 7\n",
            "Рекомендовано: \"Зеленый слоник\"\n"
          ]
        }
      ],
      "source": [
        "old = int(input('Ваш возраст: '))\n",
        "\n",
        "print('Рекомендовано:', end=' ')\n",
        "\n",
        "if 3 <= old < 6:\n",
        "    print('\"Заводной апельсин\"')\n",
        "if 6 <= old < 12:\n",
        "    print('\"Зеленый слоник\"')\n",
        "if 12 <= old < 16:\n",
        "    print('\"Фиксики\"')\n",
        "if 16 <= old:\n",
        "    print('\"Гравити фолз\"')"
      ]
    },
    {
      "cell_type": "markdown",
      "id": "ecological-pickup",
      "metadata": {
        "id": "ecological-pickup"
      },
      "source": [
        "Предложенный код прекрасно работает, но есть одно существенное \"но\". Он не эффективен, так как каждый if в нем – это отдельно взятый оператор, никак не связанный с другими if. Процессор тратит время и \"нервы\" на обработку каждого из них, даже если в этом уже нет необходимости. Например, введено число 10. В первом if логическое выражение возвращает ложь, и поток выполнения переходит ко второму if. Логическое выражение в его заголовке возвращает истину, и его тело выполняется. Всё, на этом программа должна была остановиться."
      ]
    },
    {
      "cell_type": "markdown",
      "id": "experienced-router",
      "metadata": {
        "id": "experienced-router"
      },
      "source": [
        "Однако следующий if никак не связан с предыдущим, поэтому далее будет проверяться вхождение значения переменной old в диапазон от 12 до 16, в чем необходимости нет. И далее будет обрабатываться логическое выражение в последнем if, хотя уже понятно, что и там будет False.\n",
        "\n"
      ]
    },
    {
      "cell_type": "markdown",
      "id": "tracked-cargo",
      "metadata": {
        "id": "tracked-cargo"
      },
      "source": [
        "Решить проблему избыточности проверок можно, вкладывая условные операторы друг в друга:\n"
      ]
    },
    {
      "cell_type": "code",
      "execution_count": null,
      "id": "hairy-subscription",
      "metadata": {
        "id": "hairy-subscription",
        "outputId": "4b3ea237-9041-40c5-ced7-15cb2e6c93c4"
      },
      "outputs": [
        {
          "name": "stdout",
          "output_type": "stream",
          "text": [
            "Ваш возраст: \n"
          ]
        },
        {
          "ename": "ValueError",
          "evalue": "invalid literal for int() with base 10: ''",
          "output_type": "error",
          "traceback": [
            "\u001b[0;31m---------------------------------------------------------------------------\u001b[0m",
            "\u001b[0;31mValueError\u001b[0m                                Traceback (most recent call last)",
            "Cell \u001b[0;32mIn [170], line 1\u001b[0m\n\u001b[0;32m----> 1\u001b[0m old \u001b[38;5;241m=\u001b[39m \u001b[38;5;28mint\u001b[39m(\u001b[38;5;28minput\u001b[39m(\u001b[38;5;124m'\u001b[39m\u001b[38;5;124mВаш возраст: \u001b[39m\u001b[38;5;124m'\u001b[39m))\n\u001b[1;32m      2\u001b[0m m\u001b[38;5;241m=\u001b[39m\u001b[38;5;241m1\u001b[39m\n\u001b[1;32m      3\u001b[0m \u001b[38;5;28mprint\u001b[39m(\u001b[38;5;124m'\u001b[39m\u001b[38;5;124mРекомендовано:\u001b[39m\u001b[38;5;124m'\u001b[39m, end\u001b[38;5;241m=\u001b[39m\u001b[38;5;124m'\u001b[39m\u001b[38;5;124m \u001b[39m\u001b[38;5;124m'\u001b[39m)\n",
            "\u001b[0;31mValueError\u001b[0m: invalid literal for int() with base 10: ''"
          ]
        }
      ],
      "source": [
        "old = int(input('Ваш возраст: '))\n",
        "m=1\n",
        "print('Рекомендовано:', end=' ')\n",
        "\n",
        "if 3 <= old < 6:\n",
        "    print('\"Петя и Волк\"')\n",
        "    m=m+1\n",
        "else:\n",
        "    if 6 <= old < 12:\n",
        "        print('\"Иваново детство\"')\n",
        "        m=m+2\n",
        "    else:\n",
        "        if 12 <= old < 16:\n",
        "            m=m+3\n",
        "            print('\"Восхитительный мистер Фокс\"')\n",
        "            print(m)\n",
        "        else:\n",
        "            if 16 <= old:\n",
        "                print('\"Когда плачут Чайки\"')\n",
        "\n",
        "print(m)"
      ]
    },
    {
      "cell_type": "markdown",
      "id": "primary-turning",
      "metadata": {
        "id": "primary-turning"
      },
      "source": [
        "Рассмотрим поток выполнения этого варианта кода. Сначала проверяется условие в первом if (он же самый внешний). Если здесь было получено True, то тело этого if выполняется, а в ветку else мы даже не заходим, так как она срабатывает только тогда, когда в условии if возникает ложь.\n",
        "\n"
      ]
    },
    {
      "cell_type": "markdown",
      "id": "restricted-wages",
      "metadata": {
        "id": "restricted-wages"
      },
      "source": [
        "Если внешний if вернул False, поток выполнения программы заходит в соответствующий ему внешний else. В его теле находится другой if со своим else. Если введенное число попадает в диапазон от 6 до 12, то выполнится тело вложенного if, после чего программа завершается. Если же число не попадает в диапазон от 6 до 12, то произойдет переход к ветке else. В ее теле находится свой условный оператор, имеющий уже третий уровень вложенности.\n",
        "\n"
      ]
    },
    {
      "cell_type": "markdown",
      "id": "injured-prince",
      "metadata": {
        "id": "injured-prince"
      },
      "source": [
        "Таким образом до последней проверки (16 <= old) интерпретатор доходит только тогда, когда все предыдущие возвращают False. Если же по ходу выполнения программы возникает True, то все последующие проверки опускаются, что экономит ресурсы процессора. Кроме того, такая логика выполнения программы более правильная.\n",
        "\n"
      ]
    },
    {
      "cell_type": "markdown",
      "id": "incredible-daughter",
      "metadata": {
        "id": "incredible-daughter"
      },
      "source": [
        "Теперь зададимся следующим вопросом. Можно ли как-то оптимизировать код множественного ветвления и не строить лестницу из вложенных друг в друга условных операторов? Во многих языках программирования, где отступы используются только для удобства чтения программистом, но не имеют никакого синтаксического значения, часто используется подобный стиль:\n",
        "\n"
      ]
    },
    {
      "cell_type": "code",
      "execution_count": null,
      "id": "scenic-commander",
      "metadata": {
        "id": "scenic-commander"
      },
      "outputs": [],
      "source": [
        "if логическое_выражение {\n",
        "    … ;\n",
        "}\n",
        "else if логическое_выражение {\n",
        "    … ;\n",
        "}\n",
        "else if логическое_выражение {\n",
        "    … ;\n",
        "}\n",
        "else {\n",
        "    … ;\n",
        "}"
      ]
    },
    {
      "cell_type": "markdown",
      "id": "public-characterization",
      "metadata": {
        "id": "public-characterization"
      },
      "source": [
        "Может показаться, что имеется только один уровень вложенности, и появляется новое расширение для if, выглядящее как else if. Но это только кажется. На самом деле if, стоящее сразу после else, является вложенным в это else. Выше приведенная схема – то же самое, что\n",
        "\n"
      ]
    },
    {
      "cell_type": "code",
      "execution_count": null,
      "id": "damaged-pierre",
      "metadata": {
        "id": "damaged-pierre"
      },
      "outputs": [],
      "source": [
        "if логическое_выражение {\n",
        "    … ;\n",
        "}\n",
        "else\n",
        "    if логическое_выражение {\n",
        "        … ;\n",
        "    }\n",
        "    else\n",
        "        if логическое_выражение {\n",
        "            … ;\n",
        "        }\n",
        "        else {\n",
        "            … ;\n",
        "        }"
      ]
    },
    {
      "cell_type": "markdown",
      "id": "laughing-duplicate",
      "metadata": {
        "id": "laughing-duplicate"
      },
      "source": [
        "Именно так ее \"понимает\" интерпретатор или компилятор. Однако считается, что человеку проще воспринимать первый вариант.\n",
        "\n",
        "В Питоне такое поднятие вложенного if к внешнему else невозможно, потому что здесь отступы и переходы на новую строку имеют синтаксическое значение. Поэтому в язык Python встроена возможность настоящего множественного ветвления на одном уровне вложенности, которое реализуется с помощью веток elif.\n",
        "\n",
        "Слово \"elif\" образовано от двух первых букв слова \"else\", к которым присоединено слово \"if\". Это можно перевести как \"иначе если\".\n",
        "\n",
        "В отличие от else, в заголовке elif обязательно должно быть логическое выражение также, как в заголовке if. Перепишем нашу программу, используя конструкцию множественного ветвления:"
      ]
    },
    {
      "cell_type": "code",
      "execution_count": null,
      "id": "recognized-benjamin",
      "metadata": {
        "id": "recognized-benjamin",
        "outputId": "03ceb4e2-cc2b-47cd-cf8c-71002a66d236"
      },
      "outputs": [
        {
          "name": "stdout",
          "output_type": "stream",
          "text": [
            "Ваш возраст: 23\n",
            "Рекомендовано: \"Триган\"\n"
          ]
        }
      ],
      "source": [
        "old = int(input('Ваш возраст: '))\n",
        "\n",
        "print('Рекомендовано:', end=' ')\n",
        "\n",
        "if 3 <= old < 6:\n",
        "    print('\"Прощай унылый учитель\"')\n",
        "elif 6 <= old < 12:\n",
        "    print('\"Помпоко: Война тануки в период Хэйсэй\"')\n",
        "elif 12 <= old < 16:\n",
        "    print('\"Ковбой Бибоп\"')\n",
        "elif 16 <= old:\n",
        "    print('\"Триган\"')\n"
      ]
    },
    {
      "cell_type": "markdown",
      "id": "gentle-apple",
      "metadata": {
        "id": "gentle-apple"
      },
      "source": [
        "Обратите внимание, в конце, после всех elif, может использоваться одна ветка else для обработки случаев, не попавших в условия ветки if и всех elif. Блок-схему полной конструкции if-elif-…-elif-else можно изобразить так:\n",
        "\n"
      ]
    },
    {
      "cell_type": "markdown",
      "id": "fallen-mumbai",
      "metadata": {
        "id": "fallen-mumbai"
      },
      "source": [
        "![image.png](attachment:image.png)"
      ]
    },
    {
      "cell_type": "markdown",
      "id": "skilled-evening",
      "metadata": {
        "id": "skilled-evening"
      },
      "source": [
        "Как только тело if или какого-нибудь elif выполняется, программа сразу же возвращается в основную ветку (нижний ярко-голубой прямоугольник), а все нижеследующие elif, а также else пропускаются.\n",
        "\n"
      ]
    },
    {
      "cell_type": "markdown",
      "id": "bacterial-appearance",
      "metadata": {
        "id": "bacterial-appearance"
      },
      "source": [
        "## ДЗ"
      ]
    },
    {
      "cell_type": "markdown",
      "id": "fatty-belfast",
      "metadata": {
        "id": "fatty-belfast"
      },
      "source": [
        "##### 1) Сделайте так, чтобы число секунд отображалось в виде дни:часы:минуты:секунды."
      ]
    },
    {
      "cell_type": "code",
      "execution_count": 2,
      "id": "welsh-participation",
      "metadata": {
        "colab": {
          "base_uri": "https://localhost:8080/"
        },
        "id": "welsh-participation",
        "outputId": "186e50cd-39e1-4871-828b-8fcb951ba71e"
      },
      "outputs": [
        {
          "output_type": "stream",
          "name": "stdout",
          "text": [
            "0:2:46:40\n"
          ]
        }
      ],
      "source": [
        "s=10000\n",
        "d, s = divmod(s, 86400)\n",
        "h, s = divmod(s, 3600)\n",
        "m, s = divmod(s, 60)\n",
        "print(f\"{d}:{h}:{m}:{s}\")"
      ]
    },
    {
      "cell_type": "markdown",
      "id": "disciplinary-semiconductor",
      "metadata": {
        "id": "disciplinary-semiconductor"
      },
      "source": [
        "##### 2) Напишите калькулятор который запрашивает на входе две переменные и знак, и в соответствии с знаком ( + - * / ) выводит результат"
      ]
    },
    {
      "cell_type": "code",
      "source": [
        "num1 = float(input(\"Введите первое число: \"))\n",
        "num2 = float(input(\"Введите второе число: \"))\n",
        "\n",
        "operator = input(\"Введите знак операции (+, -, *, /): \")\n",
        "\n",
        "if operator == '+':\n",
        "    result = num1 + num2\n",
        "elif operator == '-':\n",
        "    result = num1 - num2\n",
        "elif operator == '*':\n",
        "    result = num1 * num2\n",
        "elif operator == '/':\n",
        "    if num2 != 0:\n",
        "        result = num1 / num2\n",
        "    else:\n",
        "        result = \"Ошибка: деление на ноль!\"\n",
        "else:\n",
        "    result = \"Ошибка: неверный знак операции!\"\n",
        "\n",
        "print(f\"Результат: {result}\")"
      ],
      "metadata": {
        "colab": {
          "base_uri": "https://localhost:8080/"
        },
        "id": "wx4maPfwN5b_",
        "outputId": "adf4e157-a1c1-451e-decd-8d8fed23de71"
      },
      "id": "wx4maPfwN5b_",
      "execution_count": 3,
      "outputs": [
        {
          "output_type": "stream",
          "name": "stdout",
          "text": [
            "Введите первое число: 4\n",
            "Введите второе число: 3\n",
            "Введите знак операции (+, -, *, /): -\n",
            "Результат: 1.0\n"
          ]
        }
      ]
    },
    {
      "cell_type": "markdown",
      "id": "a7b099a6",
      "metadata": {
        "id": "a7b099a6"
      },
      "source": [
        "##### 3)Считайте 2 строки и выведите их на печать, разделив символом $."
      ]
    },
    {
      "cell_type": "code",
      "source": [
        "str1 = input(\"Введите первую строку: \")\n",
        "str2 = input(\"Введите вторую строку: \")\n",
        "\n",
        "print(f\"{str1}${str2}\")"
      ],
      "metadata": {
        "colab": {
          "base_uri": "https://localhost:8080/"
        },
        "id": "9y71cTu7OYAe",
        "outputId": "41664e7f-014f-4db3-875a-d3d89b37b594"
      },
      "id": "9y71cTu7OYAe",
      "execution_count": 4,
      "outputs": [
        {
          "output_type": "stream",
          "name": "stdout",
          "text": [
            "Введите первую строку: Привет\n",
            "Введите вторую строку: Андрей\n",
            "Привет$Андрей\n"
          ]
        }
      ]
    },
    {
      "cell_type": "code",
      "source": [
        "str1 = input(\"Введите первую строку: \")\n",
        "str2 = input(\"Введите вторую строку: \")\n",
        "\n",
        "print(str1 + \"$\" + str2)"
      ],
      "metadata": {
        "colab": {
          "base_uri": "https://localhost:8080/"
        },
        "id": "Ub81yVrHOvuL",
        "outputId": "4d72f39b-99ce-4850-db6a-d57d1ee9cb3b"
      },
      "id": "Ub81yVrHOvuL",
      "execution_count": 5,
      "outputs": [
        {
          "output_type": "stream",
          "name": "stdout",
          "text": [
            "Введите первую строку: Привет\n",
            "Введите вторую строку: Артур\n",
            "Привет$Артур\n"
          ]
        }
      ]
    },
    {
      "cell_type": "code",
      "source": [
        "str1 = input(\"Введите первую строку: \")\n",
        "str2 = input(\"Введите вторую строку: \")\n",
        "\n",
        "print(str1, str2, sep=\"$\")"
      ],
      "metadata": {
        "colab": {
          "base_uri": "https://localhost:8080/"
        },
        "id": "BBZybltiO3A7",
        "outputId": "a16ee451-dbd6-4a9f-fa8e-ea2e96ec9fe0"
      },
      "id": "BBZybltiO3A7",
      "execution_count": 6,
      "outputs": [
        {
          "output_type": "stream",
          "name": "stdout",
          "text": [
            "Введите первую строку: Привет\n",
            "Введите вторую строку: Сулейман\n",
            "Привет$Сулейман\n"
          ]
        }
      ]
    },
    {
      "cell_type": "markdown",
      "id": "c6c5ab0e",
      "metadata": {
        "id": "c6c5ab0e"
      },
      "source": [
        "Попробуйте решить эту задачу как минимум 2 способами:\n",
        "\n",
        "1) с помощью конкатенации строк\n",
        "2) с помощью указания разделителя в параметре sep метода print"
      ]
    },
    {
      "cell_type": "markdown",
      "id": "e0090b8e",
      "metadata": {
        "id": "e0090b8e"
      },
      "source": [
        "##### 4) Напишите поздравление с Днем рождения, где программа считает имя и возраст и выведет поздравление столько раз, сколько лет именнинику"
      ]
    },
    {
      "cell_type": "code",
      "execution_count": 7,
      "id": "921c57b8-5533-49dc-9124-e58956a06f4a",
      "metadata": {
        "colab": {
          "base_uri": "https://localhost:8080/"
        },
        "id": "921c57b8-5533-49dc-9124-e58956a06f4a",
        "outputId": "89f2b7d0-ef96-4a9f-b9f4-2981d955e25c"
      },
      "outputs": [
        {
          "output_type": "stream",
          "name": "stdout",
          "text": [
            "Введите имя: Аслан\n",
            "Введите возраст: 20\n",
            "С Днем рождения, Аслан! Расти болшой, не будь лапшой :)\n",
            "С Днем рождения, Аслан! Расти болшой, не будь лапшой :)\n",
            "С Днем рождения, Аслан! Расти болшой, не будь лапшой :)\n",
            "С Днем рождения, Аслан! Расти болшой, не будь лапшой :)\n",
            "С Днем рождения, Аслан! Расти болшой, не будь лапшой :)\n",
            "С Днем рождения, Аслан! Расти болшой, не будь лапшой :)\n",
            "С Днем рождения, Аслан! Расти болшой, не будь лапшой :)\n",
            "С Днем рождения, Аслан! Расти болшой, не будь лапшой :)\n",
            "С Днем рождения, Аслан! Расти болшой, не будь лапшой :)\n",
            "С Днем рождения, Аслан! Расти болшой, не будь лапшой :)\n",
            "С Днем рождения, Аслан! Расти болшой, не будь лапшой :)\n",
            "С Днем рождения, Аслан! Расти болшой, не будь лапшой :)\n",
            "С Днем рождения, Аслан! Расти болшой, не будь лапшой :)\n",
            "С Днем рождения, Аслан! Расти болшой, не будь лапшой :)\n",
            "С Днем рождения, Аслан! Расти болшой, не будь лапшой :)\n",
            "С Днем рождения, Аслан! Расти болшой, не будь лапшой :)\n",
            "С Днем рождения, Аслан! Расти болшой, не будь лапшой :)\n",
            "С Днем рождения, Аслан! Расти болшой, не будь лапшой :)\n",
            "С Днем рождения, Аслан! Расти болшой, не будь лапшой :)\n",
            "С Днем рождения, Аслан! Расти болшой, не будь лапшой :)\n"
          ]
        }
      ],
      "source": [
        "name = input(\"Введите имя: \")\n",
        "age = int(input(\"Введите возраст: \"))\n",
        "\n",
        "congratulation = f\"С Днем рождения, {name}! Расти болшой, не будь лапшой :)\"\n",
        "\n",
        "for _ in range(age):\n",
        "    print(congratulation)"
      ]
    }
  ],
  "metadata": {
    "celltoolbar": "Отсутствует",
    "kernelspec": {
      "display_name": "Python 3 (ipykernel)",
      "language": "python",
      "name": "python3"
    },
    "language_info": {
      "codemirror_mode": {
        "name": "ipython",
        "version": 3
      },
      "file_extension": ".py",
      "mimetype": "text/x-python",
      "name": "python",
      "nbconvert_exporter": "python",
      "pygments_lexer": "ipython3",
      "version": "3.10.12"
    },
    "colab": {
      "provenance": []
    }
  },
  "nbformat": 4,
  "nbformat_minor": 5
}