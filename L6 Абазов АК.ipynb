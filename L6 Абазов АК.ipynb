{
  "cells": [
    {
      "cell_type": "markdown",
      "id": "controversial-title",
      "metadata": {
        "id": "controversial-title"
      },
      "source": [
        "# Урок 6\n"
      ]
    },
    {
      "cell_type": "markdown",
      "id": "systematic-laser",
      "metadata": {
        "id": "systematic-laser"
      },
      "source": [
        "### 2 Классы\n",
        "### 3 Декораторы\n",
        "### 4 Виртуальное окружение\n",
        "### 5 Исключения"
      ]
    },
    {
      "cell_type": "markdown",
      "id": "b9f0b2ca",
      "metadata": {
        "id": "b9f0b2ca"
      },
      "source": [
        "# ДЗ 1"
      ]
    },
    {
      "cell_type": "markdown",
      "id": "19417e20",
      "metadata": {
        "id": "19417e20"
      },
      "source": [
        "###### Задание 1"
      ]
    },
    {
      "cell_type": "markdown",
      "id": "dccbdff8",
      "metadata": {
        "id": "dccbdff8"
      },
      "source": [
        "###### Сделайте так, чтобы число секунд отображалось в виде дни:часы:минуты:секунды."
      ]
    },
    {
      "cell_type": "code",
      "execution_count": null,
      "id": "a1a9c803",
      "metadata": {
        "id": "a1a9c803"
      },
      "outputs": [],
      "source": [
        "seconds = 10000\n",
        "\n",
        "seconds_in_day = 24 * 3600\n",
        "seconds_in_hour = 3600\n",
        "seconds_in_minute = 60\n",
        "\n",
        "left = seconds\n",
        "result = \"\"\n",
        "\n",
        "for i in seconds_in_day, seconds_in_hour, seconds_in_minute:\n",
        "    time = int(left / i)\n",
        "    left -= time * i\n",
        "    result += f'{time}:'\n",
        "\n",
        "result += f'{left}'\n",
        "\n",
        "print(result)"
      ]
    },
    {
      "cell_type": "code",
      "execution_count": null,
      "id": "811c0a52",
      "metadata": {
        "id": "811c0a52",
        "outputId": "f10bb91d-a0f3-4ab1-be79-d2b0b6ed67ba"
      },
      "outputs": [
        {
          "name": "stdout",
          "output_type": "stream",
          "text": [
            "0:2:46:40\n"
          ]
        }
      ],
      "source": [
        "seconds = 10000\n",
        "d = seconds // (60*60*24)\n",
        "seconds = seconds - d*24*60*60\n",
        "h = seconds // (60*60)\n",
        "seconds = seconds - h*60*60\n",
        "m = seconds // 60\n",
        "seconds = seconds - m*60\n",
        "m\n",
        "print(d, h, m, seconds, sep = \":\")\n"
      ]
    },
    {
      "cell_type": "code",
      "execution_count": null,
      "id": "89fa9cc1",
      "metadata": {
        "id": "89fa9cc1"
      },
      "outputs": [],
      "source": [
        "seconds = 10000\n",
        "days = seconds // (60 * 60 * 24)\n",
        "seconds %= 24 * 60 * 60\n",
        "hours = seconds // (60 * 60)\n",
        "seconds %= 60 * 60\n",
        "minutes = seconds // 60\n",
        "seconds %= 60"
      ]
    },
    {
      "cell_type": "code",
      "execution_count": null,
      "id": "aefcf8b7",
      "metadata": {
        "id": "aefcf8b7",
        "outputId": "4d3b6769-7d96-4bb2-f409-354cb649255b"
      },
      "outputs": [
        {
          "name": "stdout",
          "output_type": "stream",
          "text": [
            "0:2:46:40\n"
          ]
        }
      ],
      "source": [
        "print(days, hours, minutes, seconds, sep = \":\")\n"
      ]
    },
    {
      "cell_type": "code",
      "execution_count": null,
      "id": "9ed38357",
      "metadata": {
        "id": "9ed38357",
        "outputId": "7543723f-7cca-4cca-e774-3ac44c5352aa"
      },
      "outputs": [
        {
          "name": "stdout",
          "output_type": "stream",
          "text": [
            "Seconds: 23123123\n",
            "267d:15h:5m:23s\n"
          ]
        }
      ],
      "source": [
        "MINUTE_LEN = 60\n",
        "HOUR_LEN = 60 * MINUTE_LEN\n",
        "DAY_LEN = 24 * HOUR_LEN\n",
        "\n",
        "def main():\n",
        "    try:\n",
        "        time = int(input(\"Seconds: \"))\n",
        "        if time < 0:\n",
        "            print(\"Entered number is negative\")\n",
        "        else:\n",
        "            days = time // DAY_LEN\n",
        "            hours = (time % DAY_LEN) // HOUR_LEN\n",
        "            minutes = (time % HOUR_LEN) // MINUTE_LEN\n",
        "            seconds = time % MINUTE_LEN\n",
        "            print(f'{days}d:{hours}h:{minutes}m:{seconds}s')\n",
        "    except ValueError:\n",
        "        print(\"Entered not an int number\")\n",
        "\n",
        "if __name__ == \"__main__\":\n",
        "    main()"
      ]
    },
    {
      "cell_type": "code",
      "execution_count": null,
      "id": "2014ee50",
      "metadata": {
        "id": "2014ee50",
        "outputId": "d9f24f35-f10a-4b65-d2b0-2f4e39b77137"
      },
      "outputs": [
        {
          "name": "stdout",
          "output_type": "stream",
          "text": [
            "Кол-во секунд: 2323\n",
            "\n",
            "0:38:43 [h]:[m]:[s]\n"
          ]
        }
      ],
      "source": [
        "from datetime import timedelta\n",
        "\n",
        "sec = int(input(\"Кол-во секунд: \"))\n",
        "print(f'\\n{timedelta(seconds=sec)} [h]:[m]:[s]')"
      ]
    },
    {
      "cell_type": "markdown",
      "id": "c494dfeb",
      "metadata": {
        "id": "c494dfeb"
      },
      "source": [
        "###### Задание 2"
      ]
    },
    {
      "cell_type": "markdown",
      "id": "65915bab",
      "metadata": {
        "id": "65915bab"
      },
      "source": [
        "###### Напишите калькулятор который запрашивает на входе две переменные и знак, и в соответствии с знаком ( + - * / ) выводит результат"
      ]
    },
    {
      "cell_type": "code",
      "execution_count": null,
      "id": "8dd051b3",
      "metadata": {
        "id": "8dd051b3"
      },
      "outputs": [],
      "source": [
        "per_1 = float(input(\"Первая переменная: \"))\n",
        "per_2 = float(input(\"Вторая переменная: \"))\n",
        "znak = input(\"Знак: \")\n",
        "\n",
        "if znak == \"+\":\n",
        "    x = per_1 + per_2\n",
        "if znak == \"-\":\n",
        "    x = per_1 - per_2\n",
        "if znak == \"*\":\n",
        "    x = per_1 * per_2\n",
        "else: x = per_1 / per_2\n",
        "\n",
        "print(\"Ответ: \", x)"
      ]
    },
    {
      "cell_type": "code",
      "execution_count": null,
      "id": "b2f915e5",
      "metadata": {
        "id": "b2f915e5"
      },
      "outputs": [],
      "source": [
        "print('Enter first number:')\n",
        "number1 = float(input())\n",
        "print('Enter second number:')\n",
        "number2 = float(input())\n",
        "print('Enter operation:')\n",
        "operation = input()\n",
        "if (len(operation) == 1):\n",
        "    match operation.split():\n",
        "        case [\"+\"]:\n",
        "            print(number1 + number2)\n",
        "        case [\"-\"]:\n",
        "            print(number1 - number2)\n",
        "        case [\"*\"]:\n",
        "            print(number1 * number2)\n",
        "        case [\"/\"]:\n",
        "            if (number2 == 0):\n",
        "                print(\"Error! Division by 0.\")\n",
        "            else:\n",
        "                print(number1 / number2)\n",
        "        case _:\n",
        "            print(\"This operation does not exist.\")\n",
        "else:\n",
        "    print(\"This operation does not exist.\")"
      ]
    },
    {
      "cell_type": "code",
      "execution_count": null,
      "id": "0b242249",
      "metadata": {
        "id": "0b242249"
      },
      "outputs": [],
      "source": [
        "number1 = float(input())\n",
        "sign = input()\n",
        "number2 = float(input())\n",
        "\n",
        "if sign == \"*\":\n",
        "    print(number1 * number2)\n",
        "elif sign == \"/\":\n",
        "    print(number1 / number2)\n",
        "elif sign == \"+\":\n",
        "    print(number1 + number2)\n",
        "elif sign == \"-\":\n",
        "    print(number1 - number2)\n",
        "else:\n",
        "    print(\"Unknown sign. Try again.\")"
      ]
    },
    {
      "cell_type": "code",
      "execution_count": null,
      "id": "c0214e8a",
      "metadata": {
        "id": "c0214e8a"
      },
      "outputs": [],
      "source": [
        "try:\n",
        "    a1=int(input('Введите первую переменную\\n'))\n",
        "    simvol=input('Введите символ\\n')\n",
        "    a2=int(input('Введите вторую переменную\\n'))\n",
        "\n",
        "    if len(simvol)>1 or len(simvol)==0:\n",
        "\n",
        "        print(\"Вы ввели не операцию!\")\n",
        "\n",
        "    elif simvol[0]!='*' and simvol[0]!='/' and simvol[0]!='+' and simvol[0]!='-':\n",
        "\n",
        "        print(\"Вы ввели не операцию!\")\n",
        "\n",
        "    else:\n",
        "\n",
        "        slovar = {\n",
        "            '*': a1*a2,\n",
        "            '+': a1+a2,\n",
        "            '-': a1-a2,\n",
        "            '/': a1/a2\n",
        "        }\n",
        "        print(slovar[simvol[0]])\n",
        "\n",
        "except ValueError:\n",
        "    print(\"Вы ввели не число!\")"
      ]
    },
    {
      "cell_type": "code",
      "execution_count": null,
      "id": "867223f7",
      "metadata": {
        "id": "867223f7"
      },
      "outputs": [],
      "source": [
        "def calculator(exp):\n",
        "    '''\n",
        "    Калькулятор, который принимает арифметическое выражение в str и выводит\n",
        "    результат вычислений, соответственно арифметическому знаку.\n",
        "    '''\n",
        "    exp = exp.replace(',', '.') # убираем возможную ошибку пользователя\n",
        "    sign = [i for i in '+-*/' if i in exp] # поиск арифметического знака\n",
        "    if len(sign) == 0: # проверка на адекватность 1\n",
        "        return 'Нет арифметического знака!'\n",
        "    else:\n",
        "        sign_num = exp.find(sign[0]) # нахождение индекса арифм. знака\n",
        "    try: # проверка на адекватность 2\n",
        "        if exp[:sign_num] == '' or exp[sign_num+1:] == '':\n",
        "            return 'Неполное выражение!'\n",
        "        p_1 = float(exp[:sign_num])\n",
        "        p_2 = float(exp[sign_num+1:])\n",
        "    except:\n",
        "        return 'Присутствуют посторонние знаки!'\n",
        "    try: # проверка на адекватность 3\n",
        "        if sign[0] == '+':\n",
        "            answer = p_1 + p_2\n",
        "        elif sign[0] == '-':\n",
        "            answer = p_1 - p_2\n",
        "        elif sign[0] == '*':\n",
        "            answer = p_1 * p_2\n",
        "        elif sign[0] == '/':\n",
        "            answer = p_1 / p_2\n",
        "    except:\n",
        "        return 'Зачем делишь на ноль?!'\n",
        "    if answer % 1 == 0: # форматирование\n",
        "        return int(answer)\n",
        "    else:\n",
        "        return answer\n",
        "\n",
        "\n",
        "exp = input('\"Калькулятор\"\\n\\tВведите выражение: ') # арифметическое выражение\n",
        "print(f'\\tОтвет: {calculator(exp)}')"
      ]
    },
    {
      "cell_type": "code",
      "execution_count": null,
      "id": "8f48ec46",
      "metadata": {
        "id": "8f48ec46"
      },
      "outputs": [],
      "source": []
    },
    {
      "cell_type": "markdown",
      "id": "b30704fc",
      "metadata": {
        "id": "b30704fc"
      },
      "source": [
        "###### Задание 3"
      ]
    },
    {
      "cell_type": "markdown",
      "id": "7497c0b1",
      "metadata": {
        "id": "7497c0b1"
      },
      "source": [
        "###### Считайте 2 строки и выведите их на печать, разделив символом $.\n",
        "Попробуйте решить эту задачу как минимум 2 способами:\n",
        "\n",
        "1)с помощью конкатенации строк\n",
        "\n",
        "2)с помощью указания разделителя в параметре sep метода print"
      ]
    },
    {
      "cell_type": "code",
      "execution_count": null,
      "id": "efbb971d",
      "metadata": {
        "id": "efbb971d"
      },
      "outputs": [],
      "source": [
        "\n",
        "strk_1 = input()\n",
        "strk_2 = input()\n",
        "\n",
        "print(strk_1 + \"$\" + strk_2)\n",
        "print(f\"{strk_1}${strk_2}\")\n",
        "print(\"$\".join([strk_1, strk_2]))\n",
        "print(strk_1, strk_2, sep = \"$\")"
      ]
    },
    {
      "cell_type": "code",
      "execution_count": null,
      "id": "d641fb73",
      "metadata": {
        "id": "d641fb73"
      },
      "outputs": [],
      "source": [
        "first_string = input()\n",
        "second_string = input()\n",
        "\n",
        "print(f\"{first_string}${second_string}\")\n",
        "print(first_string + \"$\" + second_string)\n",
        "print(first_string, second_string, sep=\"$\")"
      ]
    },
    {
      "cell_type": "code",
      "execution_count": null,
      "id": "1f25659e",
      "metadata": {
        "tags": [],
        "id": "1f25659e"
      },
      "outputs": [],
      "source": []
    },
    {
      "cell_type": "markdown",
      "id": "1d4def5d",
      "metadata": {
        "id": "1d4def5d"
      },
      "source": [
        "###### Задание 4"
      ]
    },
    {
      "cell_type": "markdown",
      "id": "5d6d8031",
      "metadata": {
        "id": "5d6d8031"
      },
      "source": [
        "###### Напишите поздравление с Днем рождения, где программа считает имя и возраст и выведет поздравление столько раз, сколько лет именнинику"
      ]
    },
    {
      "cell_type": "code",
      "execution_count": null,
      "id": "656ea9c1",
      "metadata": {
        "id": "656ea9c1"
      },
      "outputs": [],
      "source": [
        "name = input('Имя: ')\n",
        "age = int(input('Возраст: '))\n",
        "\n",
        "for i in range(age):\n",
        "    print(\"С днем Рождения\", name, sep = \", \")\n"
      ]
    },
    {
      "cell_type": "code",
      "execution_count": null,
      "id": "846afee5",
      "metadata": {
        "id": "846afee5"
      },
      "outputs": [],
      "source": []
    },
    {
      "cell_type": "markdown",
      "id": "4bc58d1c",
      "metadata": {
        "id": "4bc58d1c"
      },
      "source": [
        "# ДЗ 2"
      ]
    },
    {
      "cell_type": "markdown",
      "id": "9b6e8798",
      "metadata": {
        "id": "9b6e8798"
      },
      "source": [
        "###### Задание 1"
      ]
    },
    {
      "cell_type": "markdown",
      "id": "d26f7f0f",
      "metadata": {
        "id": "d26f7f0f"
      },
      "source": [
        "###### Какой месяц"
      ]
    },
    {
      "cell_type": "code",
      "execution_count": null,
      "id": "b6faf76d",
      "metadata": {
        "id": "b6faf76d"
      },
      "outputs": [],
      "source": [
        "month = int(input(\"Введите номер месяца \"))\n",
        "months = [\"январь\", \"февраль\", \"март\", \"апрель\", \"май\", \"июнь\", \"июль\", \"август\", \"сентябрь\", \"октябрь\", \"ноябрь\", \"декабрь\"]\n",
        "\n",
        "if (month > 12 or month <= 0):\n",
        "    print(\"Несуществующий месяц\")\n",
        "\n",
        "else:\n",
        "    print(months[month - 1])"
      ]
    },
    {
      "cell_type": "code",
      "execution_count": null,
      "id": "b389bb40",
      "metadata": {
        "id": "b389bb40",
        "outputId": "ad75b0c7-696b-4705-fc57-920ac5520a77"
      },
      "outputs": [
        {
          "name": "stdout",
          "output_type": "stream",
          "text": [
            "Номер месяца: 1\n",
            "Январь\n"
          ]
        }
      ],
      "source": [
        "num = int(input(\"Номер месяца: \"))\n",
        "months={1:'Январь',2:'Февраль',3:'Март',4:'Апрель',5:'Май',6:'Июнь',7:'Июль',8:'Август',9:'Сентябрь',10:'Октябрь',\n",
        "        11:'Ноябрь',12:'Декабрь'}\n",
        "if num < 13:\n",
        "    print(months[num])\n",
        "else:print(\"Error\")"
      ]
    },
    {
      "cell_type": "code",
      "execution_count": null,
      "id": "d909138c",
      "metadata": {
        "id": "d909138c",
        "outputId": "e259b156-5f9d-4fd0-cb6a-7a37deb20968"
      },
      "outputs": [
        {
          "name": "stdout",
          "output_type": "stream",
          "text": [
            "Номер месяца: 1\n",
            "Январь\n"
          ]
        }
      ],
      "source": [
        "num_month = int(input(\"Номер месяца: \"))\n",
        "if num_month == 1:\n",
        "    print('Январь')\n",
        "elif num_month == 2:\n",
        "    print('Февраль')\n",
        "elif num_month == 3:\n",
        "    print('Март')\n",
        "elif num_month == 4:\n",
        "    print('Апрель')\n",
        "elif num_month == 5:\n",
        "    print('Май')\n",
        "elif num_month == 6:\n",
        "    print('Июнь')\n",
        "elif num_month == 7:\n",
        "    print('Июль')\n",
        "elif num_month == 8:\n",
        "    print('Август')\n",
        "elif num_month == 9:\n",
        "    print('Сентябрь')\n",
        "elif num_month == 10:\n",
        "    print('Октябрь')\n",
        "elif num_month == 11:\n",
        "    print('Ноябрь')\n",
        "elif num_month == 12:\n",
        "    print('Декабрь')\n",
        "else:\n",
        "    print('error')"
      ]
    },
    {
      "cell_type": "code",
      "execution_count": null,
      "id": "0e79e489",
      "metadata": {
        "id": "0e79e489"
      },
      "outputs": [],
      "source": [
        "try:\n",
        "    month=int(input('Введите номер месяца\\n'))\n",
        "    slovar = {\n",
        "            1: 'Январь',\n",
        "            2: 'Февраль',\n",
        "            3: 'Март',\n",
        "            4: 'Апрель',\n",
        "            5: 'Май',\n",
        "            6: 'Июнь',\n",
        "            7: 'Июль',\n",
        "            8: 'Август',\n",
        "            9: 'Сентябрь',\n",
        "            10: 'Октябрь',\n",
        "            11: 'Ноябрь',\n",
        "            12: 'Декабрь'\n",
        "        }\n",
        "    print(slovar[month])\n",
        "except ValueError:\n",
        "    print(\"Вы ввели не число!\")"
      ]
    },
    {
      "cell_type": "code",
      "execution_count": null,
      "id": "4c439469",
      "metadata": {
        "id": "4c439469"
      },
      "outputs": [],
      "source": [
        "# 1. Какой месяц\n",
        "\n",
        "# import calendar\n",
        "\n",
        "MONTH_NAMES = [\"January\", \"February\", \"March\", \"April\", \"May\", \"June\", \"July\", \"August\", \"September\", \"October\", \"November\", \"December\"]\n",
        "\n",
        "def printMonth(month):\n",
        "    if (month < 1) or (month > 12):\n",
        "        print(\"Incorrect month number\")\n",
        "    else:\n",
        "        print(MONTH_NAMES[month-1])\n",
        "#         print(calendar.month_name[month])\n",
        "\n",
        "try:\n",
        "    month = int(input(\"Enter month number: \"))\n",
        "    printMonth(month)\n",
        "except ValueError:\n",
        "    print(\"Entered value is not a number\")"
      ]
    },
    {
      "cell_type": "markdown",
      "id": "66a439b5",
      "metadata": {
        "id": "66a439b5"
      },
      "source": [
        "###### Задание 2"
      ]
    },
    {
      "cell_type": "markdown",
      "id": "88528602",
      "metadata": {
        "id": "88528602"
      },
      "source": [
        "###### Наибольший общий делитель\n"
      ]
    },
    {
      "cell_type": "code",
      "execution_count": null,
      "id": "033f1b88",
      "metadata": {
        "id": "033f1b88"
      },
      "outputs": [],
      "source": [
        "print(\"Введите два числа \")\n",
        "\n",
        "a = int(input())\n",
        "b = int(input())\n",
        "s = f\"НОД({a}, {b})\"\n",
        "\n",
        "while (a != 0 and b != 0):\n",
        "    if a > b:\n",
        "        a = a % b\n",
        "    else:\n",
        "        b = b % a\n",
        "\n",
        "print(f\"{s} = {a + b}\")"
      ]
    },
    {
      "cell_type": "markdown",
      "id": "f096c255",
      "metadata": {
        "id": "f096c255"
      },
      "source": [
        "Алгоритм Евклида (либо смотрим на остатки, либо на разницу)\n"
      ]
    },
    {
      "cell_type": "code",
      "execution_count": null,
      "id": "1eab4bb9",
      "metadata": {
        "id": "1eab4bb9"
      },
      "outputs": [],
      "source": [
        "a = 600\n",
        "b = 1012"
      ]
    },
    {
      "cell_type": "code",
      "execution_count": null,
      "id": "39a6309c",
      "metadata": {
        "id": "39a6309c",
        "outputId": "a7a2bfb2-44d1-459b-9470-6388c1e75cbe"
      },
      "outputs": [
        {
          "name": "stdout",
          "output_type": "stream",
          "text": [
            "4\n"
          ]
        }
      ],
      "source": [
        "while a != b:\n",
        "    if a > b:\n",
        "        nod = a - b\n",
        "        a = nod\n",
        "    else:\n",
        "        nod = b - a\n",
        "        b = nod\n",
        "\n",
        "print(nod)"
      ]
    },
    {
      "cell_type": "code",
      "execution_count": null,
      "id": "38daf09d",
      "metadata": {
        "id": "38daf09d"
      },
      "outputs": [],
      "source": [
        "def nod(a, b):\n",
        "    while a != 0 and b != 0:\n",
        "        if a > b:\n",
        "            a = a - b\n",
        "        else:\n",
        "            b = b - a\n",
        "    return max(a, b)"
      ]
    },
    {
      "cell_type": "code",
      "execution_count": null,
      "id": "5fd0a81a",
      "metadata": {
        "id": "5fd0a81a",
        "outputId": "1a0aa7b3-aaf8-4592-e54e-c4cd0226a9ea"
      },
      "outputs": [
        {
          "data": {
            "text/plain": [
              "4"
            ]
          },
          "execution_count": 23,
          "metadata": {},
          "output_type": "execute_result"
        }
      ],
      "source": [
        "nod(a, b)\n"
      ]
    },
    {
      "cell_type": "code",
      "execution_count": null,
      "id": "2e2cf4f2",
      "metadata": {
        "id": "2e2cf4f2"
      },
      "outputs": [],
      "source": []
    },
    {
      "cell_type": "code",
      "execution_count": null,
      "id": "ffd711b7",
      "metadata": {
        "id": "ffd711b7"
      },
      "outputs": [],
      "source": [
        "def nod_ost(a, b):\n",
        "    while a != 0 and b != 0:\n",
        "        if a > b:\n",
        "            a = a % b\n",
        "        else:\n",
        "            b = b % a\n",
        "    return max(a, b)"
      ]
    },
    {
      "cell_type": "code",
      "execution_count": null,
      "id": "2d537e46",
      "metadata": {
        "id": "2d537e46",
        "outputId": "3e6314d2-46ad-45f8-d36a-f02be080ec9a"
      },
      "outputs": [
        {
          "data": {
            "text/plain": [
              "4"
            ]
          },
          "execution_count": 25,
          "metadata": {},
          "output_type": "execute_result"
        }
      ],
      "source": [
        "nod_ost(a, b)\n"
      ]
    },
    {
      "cell_type": "markdown",
      "id": "387061ce",
      "metadata": {
        "id": "387061ce"
      },
      "source": [
        "###### Задание 3"
      ]
    },
    {
      "cell_type": "markdown",
      "id": "f53b2a39",
      "metadata": {
        "id": "f53b2a39"
      },
      "source": [
        "###### Проверка расширения файла\n"
      ]
    },
    {
      "cell_type": "code",
      "execution_count": null,
      "id": "52e8fed2",
      "metadata": {
        "id": "52e8fed2"
      },
      "outputs": [],
      "source": [
        "file='Моя диссертац.gif'\n",
        "extensions = ['png', 'jpg', 'jpeg', 'gif', 'svg']"
      ]
    },
    {
      "cell_type": "code",
      "execution_count": null,
      "id": "33800507",
      "metadata": {
        "id": "33800507"
      },
      "outputs": [],
      "source": [
        "s = file.split('.')\n",
        "\n",
        "if s[-1] in extensions:\n",
        "    print(f\"{s[-1]} - допустимое разрешение\")\n",
        "\n",
        "else:\n",
        "    print(f\"{s[-1]} не поддерживается. Выберите другое расширение!\")"
      ]
    },
    {
      "cell_type": "code",
      "execution_count": null,
      "id": "6953dd2b",
      "metadata": {
        "id": "6953dd2b",
        "outputId": "140e7c17-eb8f-44c7-92da-e48d050c98cf"
      },
      "outputs": [
        {
          "name": "stdout",
          "output_type": "stream",
          "text": [
            "gif\n"
          ]
        }
      ],
      "source": [
        "for extension in extensions:\n",
        "    if file.find(extension) != -1:\n",
        "        print(extension)\n",
        "        break"
      ]
    },
    {
      "cell_type": "code",
      "execution_count": null,
      "id": "ffb0ca90",
      "metadata": {
        "id": "ffb0ca90"
      },
      "outputs": [],
      "source": [
        "text = file.split('.')\n",
        "\n",
        "extension = '.'.join(text[-1:])\n",
        "print(extension)"
      ]
    },
    {
      "cell_type": "code",
      "execution_count": null,
      "id": "3075c9fd",
      "metadata": {
        "id": "3075c9fd"
      },
      "outputs": [],
      "source": [
        "filename=input('Введите имя файла\\n')\n",
        "fail = True\n",
        "i=0\n",
        "while i<len(filename) and fail:\n",
        "    if filename[i]==\".\":\n",
        "        fail=False\n",
        "    i=i+1\n",
        "if  fail!=True:\n",
        "    slovar = {\n",
        "        'png': 0,\n",
        "        'jpg': 1,\n",
        "        'jpeg': 2,\n",
        "        'gif': 3,\n",
        "        'svg': 4\n",
        "    }\n",
        "    i=len(filename)-1\n",
        "    temp = 0\n",
        "    fileformat = ''\n",
        "    while filename[i]!=\".\":\n",
        "        i=i-1\n",
        "    i=i+1\n",
        "    while i<len(filename):\n",
        "        fileformat+=filename[i]\n",
        "        i=i+1\n",
        "    try:\n",
        "        print(slovar[fileformat])\n",
        "    except KeyError:\n",
        "        print('Неопознанный формат\\n')\n",
        "else:\n",
        "    print('Неопознанный формат\\n')"
      ]
    },
    {
      "cell_type": "code",
      "execution_count": null,
      "id": "92fd85bb",
      "metadata": {
        "id": "92fd85bb"
      },
      "outputs": [],
      "source": [
        "# 3. Проверка расширения файла\n",
        "SUPPORTED_EXTENSIONS = ['png', 'jpg', 'jpeg', 'gif', 'svg']\n",
        "\n",
        "def isSupported(filename):\n",
        "    splitted = filename.split('.')\n",
        "    if (len(splitted) < 2) or (len(splitted) == 2 and splitted[0] == \"\"):\n",
        "        return False\n",
        "    else:\n",
        "        extension = splitted[-1]\n",
        "        return extension in SUPPORTED_EXTENSIONS\n",
        "\n",
        "filename = '123.gif'\n",
        "print(isSupported(filename))"
      ]
    },
    {
      "cell_type": "code",
      "execution_count": null,
      "id": "19c8a7ab",
      "metadata": {
        "id": "19c8a7ab"
      },
      "outputs": [],
      "source": []
    },
    {
      "cell_type": "markdown",
      "id": "3c27f21b",
      "metadata": {
        "id": "3c27f21b"
      },
      "source": [
        "###### Задание 4\n"
      ]
    },
    {
      "cell_type": "markdown",
      "id": "0e88eb56",
      "metadata": {
        "id": "0e88eb56"
      },
      "source": [
        "###### Високосный год"
      ]
    },
    {
      "cell_type": "code",
      "execution_count": null,
      "id": "3db11673",
      "metadata": {
        "tags": [],
        "id": "3db11673",
        "outputId": "916e2cf9-1d29-4613-8743-b9ec8eed0448"
      },
      "outputs": [
        {
          "name": "stdin",
          "output_type": "stream",
          "text": [
            "Введите год:  2025\n"
          ]
        },
        {
          "name": "stdout",
          "output_type": "stream",
          "text": [
            "2025 - невисокосный год\n"
          ]
        }
      ],
      "source": [
        "year=int(input(\"Введите год: \"))\n",
        "\n",
        "if (year % 400 == 0 or year % 4 == 0):\n",
        "    print(f\"{year} - високосный\")\n",
        "\n",
        "else:\n",
        "    print(f\"{year} - невисокосный год\")"
      ]
    },
    {
      "cell_type": "code",
      "execution_count": null,
      "id": "395e9bdf",
      "metadata": {
        "id": "395e9bdf"
      },
      "outputs": [],
      "source": [
        "year = int(input())\n",
        "\n",
        "if (year % 400 != 0) and (year % 100 == 0) or (year % 4 != 0):\n",
        "    print(\"Невискосный Год\")\n",
        "else:\n",
        "    print(\"Вискосный Год\")"
      ]
    },
    {
      "cell_type": "code",
      "execution_count": null,
      "id": "92312378",
      "metadata": {
        "id": "92312378"
      },
      "outputs": [],
      "source": []
    },
    {
      "cell_type": "code",
      "execution_count": null,
      "id": "90db5df0",
      "metadata": {
        "id": "90db5df0"
      },
      "outputs": [],
      "source": []
    },
    {
      "cell_type": "markdown",
      "id": "common-support",
      "metadata": {
        "id": "common-support"
      },
      "source": [
        "###  Классы Объектно-ориентированное программирование в Python\n",
        "\n"
      ]
    },
    {
      "cell_type": "markdown",
      "id": "acoustic-butter",
      "metadata": {
        "id": "acoustic-butter"
      },
      "source": [
        "Python — это процедурно-ориентированный и одновременно объектно-ориентированный язык программирования.\n",
        "\n"
      ]
    },
    {
      "cell_type": "markdown",
      "id": "phantom-sugar",
      "metadata": {
        "id": "phantom-sugar"
      },
      "source": [
        "«Процедурно-ориентированный» подразумевает наличие функций. Программист может создавать функции, которые затем используются в сторонних скриптах.\n",
        "\n"
      ]
    },
    {
      "cell_type": "markdown",
      "id": "false-princeton",
      "metadata": {
        "id": "false-princeton"
      },
      "source": [
        "«Объектно-ориентированный» подразумевает наличие классов. Есть возможность создавать классы, представляющие собой прототипы для будущих объектов.\n",
        "\n"
      ]
    },
    {
      "cell_type": "markdown",
      "id": "southern-synthetic",
      "metadata": {
        "id": "southern-synthetic"
      },
      "source": [
        "Синтаксис для написания нового класса:\n",
        "\n"
      ]
    },
    {
      "cell_type": "code",
      "execution_count": null,
      "id": "miniature-madrid",
      "metadata": {
        "id": "miniature-madrid"
      },
      "outputs": [],
      "source": [
        "class ClassName:\n",
        "    'Краткое описание класса (необязательно)'\n",
        "    # Код ..."
      ]
    },
    {
      "cell_type": "markdown",
      "id": "common-shipping",
      "metadata": {
        "id": "common-shipping"
      },
      "source": [
        "Для создания класса пишется ключевое слово class, его имя и двоеточие (:). Первая строчка в теле класса описывает его. (По желанию) получить доступ к этой строке можно с помощью ClassName.__doc__\n"
      ]
    },
    {
      "cell_type": "markdown",
      "id": "gross-retirement",
      "metadata": {
        "id": "gross-retirement"
      },
      "source": [
        "В теле класса допускается объявление атрибутов, методов и конструктора.\n"
      ]
    },
    {
      "cell_type": "markdown",
      "id": "anticipated-interval",
      "metadata": {
        "id": "anticipated-interval"
      },
      "source": [
        "Атрибут:\n",
        "Атрибут — это элемент класса. Например, у прямоугольника таких 2: ширина (width) и высота (height).\n",
        "\n"
      ]
    },
    {
      "cell_type": "markdown",
      "id": "paperback-pizza",
      "metadata": {
        "id": "paperback-pizza"
      },
      "source": [
        "Метод:\n",
        "Метод класса напоминает классическую функцию, но на самом деле — это функция класса. Для использования ее необходимо вызывать через объект.\n",
        "Первый параметр метода всегда self (ключевое слово, которое ссылается на сам класс)."
      ]
    },
    {
      "cell_type": "markdown",
      "id": "mechanical-creek",
      "metadata": {
        "id": "mechanical-creek"
      },
      "source": [
        "Конструктор:\n",
        "Конструктор — уникальный метод класса, который называется __init__.\n",
        "Первый параметр конструктора во всех случаях self (ключевое слово, которое ссылается на сам класс).\n",
        "Конструктор нужен для создания объекта.\n",
        "Конструктор передает значения аргументов свойствам создаваемого объекта.\n",
        "В одном классе всегда только один конструктор.\n",
        "Если класс определяется не конструктором, Python предположит, что он наследует конструктор родительского класса."
      ]
    },
    {
      "cell_type": "code",
      "execution_count": null,
      "id": "accessory-afternoon",
      "metadata": {
        "tags": [],
        "id": "accessory-afternoon"
      },
      "outputs": [],
      "source": [
        "class Rectangle:\n",
        "    'это класс на первый класс'\n",
        "    def __init__(self, width, height):\n",
        "        self.width=width\n",
        "        self.height=height\n",
        "\n",
        "    def getHeight(self):\n",
        "        return self.height\n",
        "\n",
        "    def getWidth(self):\n",
        "        return self.width\n",
        "\n",
        "    def getArea(self):\n",
        "        return self.width * self.height"
      ]
    },
    {
      "cell_type": "code",
      "execution_count": null,
      "id": "cheap-configuration",
      "metadata": {
        "tags": [],
        "id": "cheap-configuration"
      },
      "outputs": [],
      "source": [
        "r1=Rectangle(10,5)"
      ]
    },
    {
      "cell_type": "code",
      "execution_count": null,
      "id": "83139191",
      "metadata": {
        "tags": [],
        "id": "83139191",
        "outputId": "8d98a5e7-425a-444d-c80a-8b7606438f11"
      },
      "outputs": [
        {
          "data": {
            "text/plain": [
              "__main__.Rectangle"
            ]
          },
          "execution_count": 28,
          "metadata": {},
          "output_type": "execute_result"
        }
      ],
      "source": [
        "type(r1)"
      ]
    },
    {
      "cell_type": "code",
      "execution_count": null,
      "id": "rural-declaration",
      "metadata": {
        "tags": [],
        "id": "rural-declaration"
      },
      "outputs": [],
      "source": [
        "r2=Rectangle(20,11)"
      ]
    },
    {
      "cell_type": "code",
      "execution_count": null,
      "id": "handed-assumption",
      "metadata": {
        "tags": [],
        "id": "handed-assumption",
        "outputId": "4ce4e530-dbeb-47a6-8772-a441b987a59f"
      },
      "outputs": [
        {
          "data": {
            "text/plain": [
              "5"
            ]
          },
          "execution_count": 30,
          "metadata": {},
          "output_type": "execute_result"
        }
      ],
      "source": [
        "r1.getHeight()"
      ]
    },
    {
      "cell_type": "code",
      "execution_count": null,
      "id": "geological-memorial",
      "metadata": {
        "tags": [],
        "id": "geological-memorial",
        "outputId": "631fbc9f-5282-43c1-9617-d9d020ee4db6"
      },
      "outputs": [
        {
          "data": {
            "text/plain": [
              "10"
            ]
          },
          "execution_count": 31,
          "metadata": {},
          "output_type": "execute_result"
        }
      ],
      "source": [
        "r1.getWidth()"
      ]
    },
    {
      "cell_type": "code",
      "execution_count": null,
      "id": "thrown-norway",
      "metadata": {
        "tags": [],
        "id": "thrown-norway",
        "outputId": "3bb48065-1e5d-4e21-ebe4-e5278001c05e"
      },
      "outputs": [
        {
          "data": {
            "text/plain": [
              "50"
            ]
          },
          "execution_count": 32,
          "metadata": {},
          "output_type": "execute_result"
        }
      ],
      "source": [
        "r1.getArea()"
      ]
    },
    {
      "cell_type": "markdown",
      "id": "searching-parts",
      "metadata": {
        "id": "searching-parts"
      },
      "source": [
        "Что происходит при создании объекта с помощью класса?\n",
        "\n",
        "При создании объекта класса Rectangle запускается конструктор выбранного класса, и атрибутам нового объекта передаются значения аргументов. Как на этом изображении:\n",
        "\n"
      ]
    },
    {
      "cell_type": "markdown",
      "id": "chronic-boundary",
      "metadata": {
        "id": "chronic-boundary"
      },
      "source": [
        "![image.png](attachment:image.png)"
      ]
    },
    {
      "cell_type": "markdown",
      "id": "molecular-springer",
      "metadata": {
        "id": "molecular-springer"
      },
      "source": [
        "Конструктор с аргументами по умолчанию\n"
      ]
    },
    {
      "cell_type": "markdown",
      "id": "identical-cache",
      "metadata": {
        "id": "identical-cache"
      },
      "source": [
        "В других языках программирования конструкторов может быть несколько. В Python — только один. Но этот язык разрешает задавать значение по умолчанию.\n",
        "\n",
        "Все требуемые аргументы нужно указывать до аргументов со значениями по умолчанию."
      ]
    },
    {
      "cell_type": "code",
      "execution_count": null,
      "id": "bright-poker",
      "metadata": {
        "tags": [],
        "id": "bright-poker"
      },
      "outputs": [],
      "source": [
        "class Person:\n",
        "    def __init__(self, name, age=1, gender='Male'):\n",
        "        self.name = name\n",
        "        self.age = age\n",
        "        self.gender = gender\n",
        "\n",
        "    def showInfo(self):\n",
        "        print('Имя',self.name)\n",
        "        print('Возраст',self.age)\n",
        "        print('Пол',self.gender)\n"
      ]
    },
    {
      "cell_type": "code",
      "execution_count": null,
      "id": "adolescent-mistake",
      "metadata": {
        "tags": [],
        "id": "adolescent-mistake"
      },
      "outputs": [],
      "source": [
        "yaKrevedko= Person('Daniel',  'Male',33)"
      ]
    },
    {
      "cell_type": "code",
      "execution_count": null,
      "id": "characteristic-serbia",
      "metadata": {
        "tags": [],
        "id": "characteristic-serbia",
        "outputId": "f393705a-fe11-4285-e196-b845d526f9b3"
      },
      "outputs": [
        {
          "name": "stdout",
          "output_type": "stream",
          "text": [
            "Имя Daniel\n",
            "Возраст Male\n",
            "Пол 33\n"
          ]
        }
      ],
      "source": [
        "yaKrevedko.showInfo()"
      ]
    },
    {
      "cell_type": "code",
      "execution_count": null,
      "id": "fluid-transfer",
      "metadata": {
        "tags": [],
        "id": "fluid-transfer"
      },
      "outputs": [],
      "source": [
        "somebody=Person('blahblah', 23, 'FeMale')"
      ]
    },
    {
      "cell_type": "code",
      "execution_count": null,
      "id": "major-authority",
      "metadata": {
        "tags": [],
        "id": "major-authority",
        "outputId": "3e3b94d6-5e92-4aed-b240-426e4dc7dd94"
      },
      "outputs": [
        {
          "name": "stdout",
          "output_type": "stream",
          "text": [
            "Имя blahblah\n",
            "Возраст 23\n",
            "Пол FeMale\n"
          ]
        }
      ],
      "source": [
        "somebody.showInfo()"
      ]
    },
    {
      "cell_type": "code",
      "execution_count": null,
      "id": "impressed-niger",
      "metadata": {
        "tags": [],
        "id": "impressed-niger"
      },
      "outputs": [],
      "source": [
        "somebody2=Person( 23, 'FeMale')"
      ]
    },
    {
      "cell_type": "code",
      "execution_count": null,
      "id": "37f447cd",
      "metadata": {
        "tags": [],
        "id": "37f447cd"
      },
      "outputs": [],
      "source": [
        "somebody2=Person('Святослав')"
      ]
    },
    {
      "cell_type": "code",
      "execution_count": null,
      "id": "finite-blackberry",
      "metadata": {
        "tags": [],
        "id": "finite-blackberry",
        "outputId": "4bcba06c-8c67-46e4-acf6-a071d9311e07"
      },
      "outputs": [
        {
          "name": "stdout",
          "output_type": "stream",
          "text": [
            "Имя Святослав\n",
            "Возраст 1\n",
            "Пол Male\n"
          ]
        }
      ],
      "source": [
        "somebody2.showInfo()"
      ]
    },
    {
      "cell_type": "code",
      "execution_count": null,
      "id": "moved-nowhere",
      "metadata": {
        "id": "moved-nowhere",
        "outputId": "9cb177b5-b860-40cc-bcb0-1e33ecbf2b42"
      },
      "outputs": [
        {
          "name": "stdout",
          "output_type": "stream",
          "text": [
            "<__main__.Person object at 0x7f9db1f1f4c0>\n"
          ]
        }
      ],
      "source": [
        "print(somebody2)"
      ]
    },
    {
      "cell_type": "code",
      "execution_count": null,
      "id": "intimate-jacob",
      "metadata": {
        "tags": [],
        "id": "intimate-jacob"
      },
      "outputs": [],
      "source": [
        "somebody3=Person('blahblah')"
      ]
    },
    {
      "cell_type": "code",
      "execution_count": null,
      "id": "unlike-electric",
      "metadata": {
        "tags": [],
        "id": "unlike-electric"
      },
      "outputs": [],
      "source": [
        "somebody4=Person('blahblah', 'FeMale')"
      ]
    },
    {
      "cell_type": "code",
      "execution_count": null,
      "id": "taken-black",
      "metadata": {
        "tags": [],
        "id": "taken-black",
        "outputId": "a7899d4b-f637-48fc-bd17-2d9125d35f21"
      },
      "outputs": [
        {
          "name": "stdout",
          "output_type": "stream",
          "text": [
            "Имя blahblah\n",
            "Возраст 1\n",
            "Пол Male\n"
          ]
        }
      ],
      "source": [
        "somebody3.showInfo()"
      ]
    },
    {
      "cell_type": "code",
      "execution_count": null,
      "id": "solar-sheffield",
      "metadata": {
        "tags": [],
        "id": "solar-sheffield",
        "outputId": "44894aa2-69ad-42bb-d9eb-f4470406b8d9"
      },
      "outputs": [
        {
          "name": "stdout",
          "output_type": "stream",
          "text": [
            "Имя blahblah\n",
            "Возраст FeMale\n",
            "Пол Male\n"
          ]
        }
      ],
      "source": [
        "somebody4.showInfo()"
      ]
    },
    {
      "cell_type": "markdown",
      "id": "latest-default",
      "metadata": {
        "id": "latest-default"
      },
      "source": [
        "Резюме"
      ]
    },
    {
      "cell_type": "markdown",
      "id": "floppy-belfast",
      "metadata": {
        "id": "floppy-belfast"
      },
      "source": [
        "класс - это инструкция, по которой собирается конкретный объект\n",
        "экземпляр - это конкретный объект\n",
        "а метод - это функция, присущая конкретному классу объектов."
      ]
    },
    {
      "cell_type": "markdown",
      "id": "suffering-scottish",
      "metadata": {
        "id": "suffering-scottish"
      },
      "source": [
        "метод __init__(), как и другие методы класса должен принимать как минимум 1 аргумент self\n",
        "к аргументам объекта можно обращаться из метода как аргументам self (например, self.arg)\n",
        "Если аргумент создаётся конструктором __init__, то его не нужно описывать в классе как отдельную переменную"
      ]
    },
    {
      "cell_type": "markdown",
      "id": "sophisticated-couple",
      "metadata": {
        "id": "sophisticated-couple"
      },
      "source": [
        "Если для конструктора __init__ мы зададим какие-то аргументы кроме self, то их можно будет передать в конструктор при создании экземпляра объекта, и сразу записать в аргументы, если необходимо."
      ]
    },
    {
      "cell_type": "markdown",
      "id": "black-billy",
      "metadata": {
        "id": "black-billy"
      },
      "source": [
        "класс - это тоже объект."
      ]
    },
    {
      "cell_type": "markdown",
      "id": "virgin-dictionary",
      "metadata": {
        "id": "virgin-dictionary"
      },
      "source": [
        "#### Наследование"
      ]
    },
    {
      "cell_type": "markdown",
      "id": "welcome-operator",
      "metadata": {
        "id": "welcome-operator"
      },
      "source": [
        "Идея в том, чтобы хранить в классе только необходимые для него объекты и атрибуты.\n",
        "И структурировать, объединить в иерархию объекты.\n",
        "Обычно это иллюстрируется на примерах животных: кошечки, собачки, кролики и т.п.\n",
        "Есть класс животные, он имеет\n",
        "атрибуты: число ног, имя, возраст.\n",
        "методы: геттеры и сеттеры\n",
        "\n",
        "Теперь создадим класс кошки. Кошки - тоже животные. Поэтому все атрибуты и методы класса животные им тоже присущи. Но кроме этого, у них могут быть свои:\n",
        "атрибуты: имя и т.п.\n",
        "методы: \"говорение\" (мяу) и т.п.\n",
        "\n",
        "Чтобы не дублировать код, класс кошки наследуется от класса животные.\n",
        "\n",
        "Наследник получает все методы и атрибуты родителя, а так же может некоторые из них переопределить (например, если мы сделаем класс \"птицы\" наследником класса \"животные\", то, вероятно, ограничение на число ног изменится с 4 до 2), а так же задать собственные атрибуты и методы.\n"
      ]
    },
    {
      "cell_type": "markdown",
      "id": "individual-johnson",
      "metadata": {
        "id": "individual-johnson"
      },
      "source": [
        "https://xn--80ahcjeib4ac4d.xn--p1ai/information/python_object_oriented_programming_oop/"
      ]
    },
    {
      "cell_type": "markdown",
      "id": "improved-alliance",
      "metadata": {
        "id": "improved-alliance"
      },
      "source": [
        "Для наших целей классы это такая штука в которую можно спрятать какую-то логику\n",
        "\n"
      ]
    },
    {
      "cell_type": "markdown",
      "id": "planned-honduras",
      "metadata": {
        "id": "planned-honduras"
      },
      "source": [
        "Вообще, все ваши классы лучше наследовать от общего типа object. Но так как мы пока даже не обсудили, что такое наследование, то давайте просто запомним что классы лучше определять вот так:\n",
        "\n"
      ]
    },
    {
      "cell_type": "code",
      "execution_count": null,
      "id": "particular-virgin",
      "metadata": {
        "id": "particular-virgin"
      },
      "outputs": [],
      "source": [
        "class MyClass(object):\n",
        "    ..."
      ]
    },
    {
      "cell_type": "markdown",
      "id": "significant-number",
      "metadata": {
        "id": "significant-number"
      },
      "source": [
        "При этом класс это определение некоторых принципов работы определённой коллекции операций и данных. Можно просто воспринимать класс, а точнее его конкретные экземпляры как такой хитрый контейнер. Типа такого:\n",
        "\n"
      ]
    },
    {
      "cell_type": "code",
      "execution_count": null,
      "id": "square-junction",
      "metadata": {
        "tags": [],
        "id": "square-junction",
        "outputId": "78704697-87b6-4915-bd5c-b0ef4263683e"
      },
      "outputs": [
        {
          "name": "stdout",
          "output_type": "stream",
          "text": [
            "Имя Фамилия Отчество\n"
          ]
        }
      ],
      "source": [
        "class MyClass(object):\n",
        "    pass\n",
        "\n",
        "a = MyClass()\n",
        "a.name = 'Имя'\n",
        "a.surname = 'Фамилия'\n",
        "a.middle_name = 'Отчество'\n",
        "\n",
        "print(a.name, a.surname, a.middle_name)"
      ]
    },
    {
      "cell_type": "code",
      "execution_count": null,
      "id": "7caf7fb4",
      "metadata": {
        "id": "7caf7fb4",
        "outputId": "67e14691-ac5e-48c3-e57c-0a1fc1fda4d5"
      },
      "outputs": [
        {
          "name": "stdout",
          "output_type": "stream",
          "text": [
            "<__main__.MyClass object at 0x7f9db1f1d630>\n"
          ]
        }
      ],
      "source": [
        "print(a)"
      ]
    },
    {
      "cell_type": "markdown",
      "id": "sporting-hypothesis",
      "metadata": {
        "id": "sporting-hypothesis"
      },
      "source": [
        "Выше мы создали объект a класса MyClass и у него задали три поля name, surname и middle_name. При этом, если мы создадим ещё один объект класса MyClass, этих полей у него не будет — они будут только у объекта a. Если мы хотим, чтобы у класса были сразу как-то инициированы какие-то поля, то эти операции надо засунуть в конструктор:\n",
        "\n"
      ]
    },
    {
      "cell_type": "code",
      "execution_count": null,
      "id": "small-albania",
      "metadata": {
        "tags": [],
        "id": "small-albania"
      },
      "outputs": [],
      "source": [
        "class MyClass(object):\n",
        "    def __init__(self):  # эта функция вызывается когда мы пишем MyClass()\n",
        "        self.name = 'Имя'\n",
        "        self.surname = 'Фамилия'\n",
        "        self.middle_name = 'Отчество'\n",
        "\n",
        "    def __str__(self):\n",
        "        return \"%s %s. %s\" % (\n",
        "            self.name, self.middle_name[0], self.surname\n",
        "        )\n",
        "\n",
        "    def rename(sosisochka, newname):\n",
        "        sosisochka.name = newname"
      ]
    },
    {
      "cell_type": "code",
      "execution_count": null,
      "id": "comfortable-louisiana",
      "metadata": {
        "tags": [],
        "id": "comfortable-louisiana",
        "outputId": "b8a10373-41af-442f-9882-bc0fbf86a629"
      },
      "outputs": [
        {
          "name": "stdout",
          "output_type": "stream",
          "text": [
            "Имя О. Фамилия\n"
          ]
        }
      ],
      "source": [
        "a = MyClass()\n",
        "print(a)"
      ]
    },
    {
      "cell_type": "markdown",
      "id": "specified-manufacturer",
      "metadata": {
        "id": "specified-manufacturer"
      },
      "source": [
        "«Как можно легко видеть», функция __str__ вызывается, когда мы объект кастуем к строке, либо неявно через print либо через str(a), f\"{a}\" или \"%s\" % a .\n",
        "\n"
      ]
    },
    {
      "cell_type": "code",
      "execution_count": null,
      "id": "great-palace",
      "metadata": {
        "tags": [],
        "id": "great-palace",
        "outputId": "6cae6a53-e555-4537-9ef1-901517148f41"
      },
      "outputs": [
        {
          "name": "stdout",
          "output_type": "stream",
          "text": [
            "Имя О. Онегин\n"
          ]
        }
      ],
      "source": [
        "b = MyClass()\n",
        "b.surname = \"Онегин\"\n",
        "print(b)"
      ]
    },
    {
      "cell_type": "code",
      "execution_count": null,
      "id": "stunning-wholesale",
      "metadata": {
        "tags": [],
        "id": "stunning-wholesale",
        "outputId": "e7d9b6c4-b2c6-4dda-f7b7-3df6fa116eaa"
      },
      "outputs": [
        {
          "name": "stdout",
          "output_type": "stream",
          "text": [
            "Евгений О. Онегин\n"
          ]
        }
      ],
      "source": [
        "b.rename(\"Евгений\")\n",
        "print(b)"
      ]
    },
    {
      "cell_type": "markdown",
      "id": "threatened-ratio",
      "metadata": {
        "id": "threatened-ratio"
      },
      "source": [
        "Вот ещё один, чуть более навороченный пример класса с особым композитным полем fullname, которое имеет индивидуальный сеттер, что позволяет хитро задавать сразу три поля объекта одной операцией.\n",
        "\n"
      ]
    },
    {
      "cell_type": "code",
      "execution_count": null,
      "id": "supported-silicon",
      "metadata": {
        "tags": [],
        "id": "supported-silicon"
      },
      "outputs": [],
      "source": [
        "class MyClass(object):\n",
        "    def __init__(self,\n",
        "                 name='unknown',\n",
        "                 surname='unknown',\n",
        "                 middle_name='unknown'\n",
        "    ):\n",
        "        self.name = name\n",
        "        self.surname = surname\n",
        "        self.middle_name = middle_name\n",
        "\n",
        "    def __str__(self):\n",
        "        return self.fullname\n",
        "\n",
        "    def fullname_prosto_tak(self):\n",
        "        return \"AAAA %s %s. %s\" % (\n",
        "            self.name.title(),\n",
        "            self.middle_name.title()[0],\n",
        "            self.surname.title()\n",
        "        )\n",
        "\n",
        "    @property\n",
        "    def fullname(self):\n",
        "        return \"%s %s. %s\" % (\n",
        "            self.name.title(),\n",
        "            self.middle_name.title()[0],\n",
        "            self.surname.title()\n",
        "        )\n",
        "\n",
        "    @fullname.setter\n",
        "    def fullname(self, value):\n",
        "        self.name, self.middle_name, self.surname = value.split(' ', 2)"
      ]
    },
    {
      "cell_type": "code",
      "execution_count": null,
      "id": "special-understanding",
      "metadata": {
        "tags": [],
        "id": "special-understanding",
        "outputId": "82efc342-edba-4ece-ec9c-7e942ce850c9"
      },
      "outputs": [
        {
          "data": {
            "text/plain": [
              "'Unknown U. Unknown'"
            ]
          },
          "execution_count": 58,
          "metadata": {},
          "output_type": "execute_result"
        }
      ],
      "source": [
        "a = MyClass()\n",
        "a.fullname"
      ]
    },
    {
      "cell_type": "code",
      "execution_count": null,
      "id": "round-identity",
      "metadata": {
        "tags": [],
        "id": "round-identity",
        "outputId": "bbc65d31-1f65-4a41-e8e4-4ab3946863d2"
      },
      "outputs": [
        {
          "name": "stdout",
          "output_type": "stream",
          "text": [
            "Unknown U. Unknown\n",
            "Воробьев Д. Анатольевич\n",
            "Анатольевич\n"
          ]
        }
      ],
      "source": [
        "a = MyClass()\n",
        "print(a)\n",
        "a.fullname = \"Воробьев Даниил Анатольевич\"\n",
        "print(a)\n",
        "print(a.surname)"
      ]
    },
    {
      "cell_type": "markdown",
      "id": "thirty-pursuit",
      "metadata": {
        "id": "thirty-pursuit"
      },
      "source": [
        "У класса могут быть специальные непривязанные к конкретным инстансам методы, которые помечаются как @classmethod\n",
        "\n"
      ]
    },
    {
      "cell_type": "code",
      "execution_count": null,
      "id": "characteristic-behalf",
      "metadata": {
        "tags": [],
        "id": "characteristic-behalf"
      },
      "outputs": [],
      "source": [
        "class MyClass(object):\n",
        "    _secret = None\n",
        "\n",
        "    @classmethod\n",
        "    def hello(cls):\n",
        "        return \"Дратути\"\n",
        "\n",
        "    @classmethod\n",
        "    def init_with_secret(cls, secret):\n",
        "        s = MyClass()\n",
        "        s._secret = secret\n",
        "        return s\n",
        "\n",
        "    def __str__(self):\n",
        "        return f'{self.hello()}. Секрет: {self._secret}'"
      ]
    },
    {
      "cell_type": "code",
      "execution_count": null,
      "id": "protected-intermediate",
      "metadata": {
        "tags": [],
        "id": "protected-intermediate",
        "outputId": "f2f32ad8-887d-43a5-b02d-19c08a22d928"
      },
      "outputs": [
        {
          "name": "stdout",
          "output_type": "stream",
          "text": [
            "Дратути. Секрет: 4205\n"
          ]
        }
      ],
      "source": [
        "x = MyClass.init_with_secret(4205)\n",
        "print(x)"
      ]
    },
    {
      "cell_type": "markdown",
      "id": "studied-hobby",
      "metadata": {
        "id": "studied-hobby"
      },
      "source": [
        "А, да, и обратите внимание что первый аргумент в методах это всегда self, а у classmethods это cls. Это, собственно, текущий объект. Ничто не мешает называть эти первые позиционные аргументы по-другому, но хорошим тоном считается давать им именно такие названия. Считайте это особенностью языка.\n",
        "\n"
      ]
    },
    {
      "cell_type": "markdown",
      "id": "resistant-nutrition",
      "metadata": {
        "id": "resistant-nutrition"
      },
      "source": [
        "А вообще, вот эти все конструкции с символом собачки над определениями функций называются декораторами, и их можно использовать, чтобы менять поведение функции. По сути, когда вы видите конструкцию\n",
        "\n"
      ]
    },
    {
      "cell_type": "code",
      "execution_count": null,
      "id": "standing-moore",
      "metadata": {
        "collapsed": true,
        "jupyter": {
          "outputs_hidden": true
        },
        "id": "standing-moore",
        "outputId": "aa4704a4-d54d-40d8-8ab9-cc885b0dff60"
      },
      "outputs": [
        {
          "ename": "NameError",
          "evalue": "name 'mydecorator' is not defined",
          "output_type": "error",
          "traceback": [
            "\u001b[0;31m---------------------------------------------------------------------------\u001b[0m",
            "\u001b[0;31mNameError\u001b[0m                                 Traceback (most recent call last)",
            "Cell \u001b[0;32mIn [18], line 1\u001b[0m\n\u001b[0;32m----> 1\u001b[0m \u001b[38;5;129m@mydecorator\u001b[39m\n\u001b[1;32m      2\u001b[0m \u001b[38;5;28;01mdef\u001b[39;00m \u001b[38;5;21mmyfunction\u001b[39m(a, b, c):\n\u001b[1;32m      3\u001b[0m     \u001b[38;5;241m.\u001b[39m\u001b[38;5;241m.\u001b[39m\u001b[38;5;241m.\u001b[39m\n",
            "\u001b[0;31mNameError\u001b[0m: name 'mydecorator' is not defined"
          ]
        }
      ],
      "source": [
        "@mydecorator\n",
        "def myfunction(a, b, c):\n",
        "    ..."
      ]
    },
    {
      "cell_type": "markdown",
      "id": "fifteen-sapphire",
      "metadata": {
        "id": "fifteen-sapphire"
      },
      "source": [
        "То надо понимать что в этом месте результат вызова функции myfunction будет использован как-то декоратором @mydecorator. Вообще декораторы это паттерн аспектно-ориентированного программирования и их, конечно, можно (и часто нужно) писать свои. Правда выглядит немного замороченно:\n",
        "\n"
      ]
    },
    {
      "cell_type": "code",
      "execution_count": null,
      "id": "traditional-selling",
      "metadata": {
        "id": "traditional-selling",
        "outputId": "6ae89260-b94b-4b48-f779-ae830649e96e"
      },
      "outputs": [
        {
          "name": "stdout",
          "output_type": "stream",
          "text": [
            "-- ENTER --\n",
            "** ENTER **\n",
            "Hello there\n",
            "*** EXIT **\n",
            "-- EXIT --\n"
          ]
        }
      ],
      "source": [
        "def my_decorator(f):\n",
        "    def inner_decorator(*args, **kw):\n",
        "        print(\"-- ENTER --\")\n",
        "        f(*args, **kw)\n",
        "        print(\"-- EXIT --\")\n",
        "    return inner_decorator\n",
        "\n",
        "def my_second_decorator(f):\n",
        "    def inner_deco(*args, **kw):\n",
        "        print(\" ENTER \".center(11, \"*\"))\n",
        "        f(*args, **kw)\n",
        "        print(\" EXIT \".center(11, \"*\"))\n",
        "    return inner_deco\n",
        "\n",
        "@my_decorator\n",
        "@my_second_decorator\n",
        "def hello():\n",
        "    print(\"Hello there\")\n",
        "\n",
        "hello()"
      ]
    },
    {
      "cell_type": "markdown",
      "id": "assumed-shareware",
      "metadata": {
        "id": "assumed-shareware"
      },
      "source": [
        "А если хочется совсем заморочиться, то можно написать вообще класс, объекты которого будут декораторами с какими-то дополнительно определёнными полями, влияющими на поведение. Типа такого:\n",
        "\n"
      ]
    },
    {
      "cell_type": "code",
      "execution_count": null,
      "id": "rotary-situation",
      "metadata": {
        "id": "rotary-situation",
        "outputId": "a2eff205-85b5-4220-a053-591af197a902"
      },
      "outputs": [
        {
          "name": "stdout",
          "output_type": "stream",
          "text": [
            "***Hello***\n",
            "Inside Function\n",
            "**Goodbye**\n",
            "-----\n",
            "***Hello***\n",
            "***Что-то**\n",
            "Inside Another Function\n",
            "***Другое**\n",
            "**Goodbye**\n"
          ]
        }
      ],
      "source": [
        "# Class Decorator\n",
        "class MyDecorator(object):\n",
        "    def __init__(self, before, after):\n",
        "        self.before = before\n",
        "        self.after = after\n",
        "\n",
        "    def __call__(self, f):\n",
        "        def inner_f(*args, **kw):\n",
        "            print(self.before.center(11, \"*\"))\n",
        "            f(*args, **kw)\n",
        "            print(self.after.center(11, \"*\"))\n",
        "        return inner_f\n",
        "\n",
        "mydecoratorobject = MyDecorator('Hello', 'Goodbye')\n",
        "\n",
        "@mydecoratorobject\n",
        "def f():\n",
        "    print('Inside Function')\n",
        "\n",
        "f()\n",
        "\n",
        "print('-----')\n",
        "\n",
        "@mydecoratorobject\n",
        "@MyDecorator('Что-то', 'Другое')\n",
        "def g():\n",
        "    print('Inside Another Function')\n",
        "\n",
        "g()"
      ]
    },
    {
      "cell_type": "code",
      "execution_count": null,
      "id": "similar-certificate",
      "metadata": {
        "id": "similar-certificate"
      },
      "outputs": [],
      "source": []
    },
    {
      "cell_type": "markdown",
      "id": "informed-lesbian",
      "metadata": {
        "id": "informed-lesbian"
      },
      "source": [
        "А вообще, декораторы бывают ещё и на классы... Но это совсем уже чёрная магия.\n",
        "\n"
      ]
    },
    {
      "cell_type": "markdown",
      "id": "rental-roulette",
      "metadata": {
        "id": "rental-roulette"
      },
      "source": [
        "# Еще раз посмотрим на классы"
      ]
    },
    {
      "cell_type": "code",
      "execution_count": null,
      "id": "northern-citizenship",
      "metadata": {
        "tags": [],
        "id": "northern-citizenship"
      },
      "outputs": [],
      "source": [
        "class User:\n",
        "  pass"
      ]
    },
    {
      "cell_type": "code",
      "execution_count": null,
      "id": "martial-period",
      "metadata": {
        "tags": [],
        "id": "martial-period"
      },
      "outputs": [],
      "source": [
        "user1=User()"
      ]
    },
    {
      "cell_type": "code",
      "execution_count": null,
      "id": "announced-match",
      "metadata": {
        "tags": [],
        "id": "announced-match"
      },
      "outputs": [],
      "source": [
        "user1.dva='два'\n",
        "user1.tri='Четыре'"
      ]
    },
    {
      "cell_type": "code",
      "execution_count": null,
      "id": "intellectual-turning",
      "metadata": {
        "tags": [],
        "id": "intellectual-turning",
        "outputId": "be59d4c0-929d-444f-c7aa-f0e545274eae"
      },
      "outputs": [
        {
          "name": "stdout",
          "output_type": "stream",
          "text": [
            "два\n"
          ]
        }
      ],
      "source": [
        "print(user1.dva)"
      ]
    },
    {
      "cell_type": "code",
      "execution_count": null,
      "id": "typical-mixer",
      "metadata": {
        "tags": [],
        "id": "typical-mixer",
        "outputId": "2c334d9e-6768-4fc8-9623-cd036c364829"
      },
      "outputs": [
        {
          "name": "stdout",
          "output_type": "stream",
          "text": [
            "дваЧетыре\n"
          ]
        }
      ],
      "source": [
        "print(user1.dva + user1.tri)"
      ]
    },
    {
      "cell_type": "code",
      "execution_count": null,
      "id": "applied-checklist",
      "metadata": {
        "tags": [],
        "id": "applied-checklist"
      },
      "outputs": [],
      "source": [
        "user1.car = 'Lotus'"
      ]
    },
    {
      "cell_type": "code",
      "execution_count": null,
      "id": "distinguished-klein",
      "metadata": {
        "tags": [],
        "id": "distinguished-klein"
      },
      "outputs": [],
      "source": [
        "user2=User()"
      ]
    },
    {
      "cell_type": "code",
      "execution_count": null,
      "id": "outer-violence",
      "metadata": {
        "tags": [],
        "id": "outer-violence",
        "outputId": "dff5c5cb-c2a6-4f5c-ecd3-81ef0957839a"
      },
      "outputs": [
        {
          "ename": "AttributeError",
          "evalue": "'User' object has no attribute 'car'",
          "output_type": "error",
          "traceback": [
            "\u001b[0;31m---------------------------------------------------------------------------\u001b[0m",
            "\u001b[0;31mAttributeError\u001b[0m                            Traceback (most recent call last)",
            "Cell \u001b[0;32mIn[70], line 1\u001b[0m\n\u001b[0;32m----> 1\u001b[0m \u001b[43muser2\u001b[49m\u001b[38;5;241;43m.\u001b[39;49m\u001b[43mcar\u001b[49m\n",
            "\u001b[0;31mAttributeError\u001b[0m: 'User' object has no attribute 'car'"
          ]
        }
      ],
      "source": [
        "user2.car"
      ]
    },
    {
      "cell_type": "code",
      "execution_count": null,
      "id": "excited-caribbean",
      "metadata": {
        "tags": [],
        "id": "excited-caribbean"
      },
      "outputs": [],
      "source": [
        "class Sotrudnik:\n",
        "     zarplata = 50000\n",
        "     def adder(razmer_premii):\n",
        "             return razmer_premii + Sotrudnik.zarplata"
      ]
    },
    {
      "cell_type": "code",
      "execution_count": null,
      "id": "fresh-alabama",
      "metadata": {
        "tags": [],
        "id": "fresh-alabama",
        "outputId": "b182561c-0bf2-4d0e-c299-2b50b0efd980"
      },
      "outputs": [
        {
          "data": {
            "text/plain": [
              "50000"
            ]
          },
          "execution_count": 72,
          "metadata": {},
          "output_type": "execute_result"
        }
      ],
      "source": [
        "Sotrudnik.zarplata"
      ]
    },
    {
      "cell_type": "code",
      "execution_count": null,
      "id": "mexican-distribution",
      "metadata": {
        "tags": [],
        "id": "mexican-distribution",
        "outputId": "da663cab-5b9b-43bf-ba87-b4a28ccada2d"
      },
      "outputs": [
        {
          "data": {
            "text/plain": [
              "50600"
            ]
          },
          "execution_count": 73,
          "metadata": {},
          "output_type": "execute_result"
        }
      ],
      "source": [
        "Sotrudnik.adder(600)"
      ]
    },
    {
      "cell_type": "code",
      "execution_count": null,
      "id": "common-programming",
      "metadata": {
        "tags": [],
        "id": "common-programming"
      },
      "outputs": [],
      "source": [
        "Petya=Sotrudnik()"
      ]
    },
    {
      "cell_type": "code",
      "execution_count": null,
      "id": "detected-smoke",
      "metadata": {
        "tags": [],
        "id": "detected-smoke",
        "outputId": "485e6a54-753e-41dd-fcd2-e267711733f1"
      },
      "outputs": [
        {
          "data": {
            "text/plain": [
              "50000"
            ]
          },
          "execution_count": 75,
          "metadata": {},
          "output_type": "execute_result"
        }
      ],
      "source": [
        "Petya.zarplata"
      ]
    },
    {
      "cell_type": "markdown",
      "id": "funny-warehouse",
      "metadata": {
        "id": "funny-warehouse"
      },
      "source": [
        "Класс создает объекты, которые в определенном смысле являются его наследниками. Это значит, что если у объекта нет собственного поля n, то интерпретатор ищет его уровнем выше, то есть в классе. Таким образом, если мы присваиваем объекту поле с таким же именем как в классе, то оно перекрывает, т. е. переопределяет, поле класса:"
      ]
    },
    {
      "cell_type": "code",
      "execution_count": null,
      "id": "infinite-walter",
      "metadata": {
        "tags": [],
        "id": "infinite-walter"
      },
      "outputs": [],
      "source": [
        "Petya.zarplata=60000"
      ]
    },
    {
      "cell_type": "code",
      "execution_count": null,
      "id": "level-tourist",
      "metadata": {
        "tags": [],
        "id": "level-tourist",
        "outputId": "5020be9e-3789-4ad1-ba07-c531d0b43f4d"
      },
      "outputs": [
        {
          "data": {
            "text/plain": [
              "60000"
            ]
          },
          "execution_count": 77,
          "metadata": {},
          "output_type": "execute_result"
        }
      ],
      "source": [
        "Petya.zarplata"
      ]
    },
    {
      "cell_type": "code",
      "execution_count": null,
      "id": "after-collect",
      "metadata": {
        "tags": [],
        "id": "after-collect",
        "outputId": "b3149994-c14c-4ee0-b593-dcbb183037e8"
      },
      "outputs": [
        {
          "ename": "TypeError",
          "evalue": "Sotrudnik.adder() takes 1 positional argument but 2 were given",
          "output_type": "error",
          "traceback": [
            "\u001b[0;31m---------------------------------------------------------------------------\u001b[0m",
            "\u001b[0;31mTypeError\u001b[0m                                 Traceback (most recent call last)",
            "Cell \u001b[0;32mIn[79], line 1\u001b[0m\n\u001b[0;32m----> 1\u001b[0m \u001b[43mPetya\u001b[49m\u001b[38;5;241;43m.\u001b[39;49m\u001b[43madder\u001b[49m\u001b[43m(\u001b[49m\u001b[38;5;241;43m3434\u001b[39;49m\u001b[43m)\u001b[49m\n",
            "\u001b[0;31mTypeError\u001b[0m: Sotrudnik.adder() takes 1 positional argument but 2 were given"
          ]
        }
      ],
      "source": [
        "Petya.adder(3434)"
      ]
    },
    {
      "cell_type": "markdown",
      "id": "sharing-worthy",
      "metadata": {
        "id": "sharing-worthy"
      },
      "source": [
        "Ищу атрибут adder() у объекта Petya. Не нахожу.\n",
        "\n",
        "Тогда иду искать в класс Sotrudnik, так как он создал объект Petya.\n",
        "\n",
        "Здесь нахожу искомый метод. Передаю ему объект, к которому этот метод надо применить, и аргумент, указанный в скобках."
      ]
    },
    {
      "cell_type": "code",
      "execution_count": null,
      "id": "institutional-plastic",
      "metadata": {
        "id": "institutional-plastic"
      },
      "outputs": [],
      "source": [
        "Sotrudnik.adder(100) преобразуется в выражение Sotrudnik.adder(Petya, 100)"
      ]
    },
    {
      "cell_type": "code",
      "execution_count": null,
      "id": "amateur-vinyl",
      "metadata": {
        "id": "amateur-vinyl"
      },
      "outputs": [],
      "source": [
        "class Sotrudnik:\n",
        "     zarplata = 50000\n",
        "     def adder(self, razmer_premii):\n",
        "             return razmer_premii + self.zarplata"
      ]
    },
    {
      "cell_type": "markdown",
      "id": "mechanical-parks",
      "metadata": {
        "id": "mechanical-parks"
      },
      "source": [
        "Важное отличие от обычной функции у методов класса — их первый аргумент — это всегда носитель тайного знания, содержащий объект, с которым сейчас будут осуществляться манипуляции. По договоренности, вы всегда должны называть его self, хотя никто принуждать к этому не будет, и, если вы назовете его по-другому, код продолжит работать."
      ]
    },
    {
      "cell_type": "code",
      "execution_count": null,
      "id": "strange-henry",
      "metadata": {
        "id": "strange-henry",
        "outputId": "77813181-9a64-4996-c62a-96de08ecd983"
      },
      "outputs": [
        {
          "ename": "TypeError",
          "evalue": "Sotrudnik.adder() takes 1 positional argument but 2 were given",
          "output_type": "error",
          "traceback": [
            "\u001b[0;31m---------------------------------------------------------------------------\u001b[0m",
            "\u001b[0;31mTypeError\u001b[0m                                 Traceback (most recent call last)",
            "Cell \u001b[0;32mIn [176], line 1\u001b[0m\n\u001b[0;32m----> 1\u001b[0m Petya\u001b[38;5;241m.\u001b[39madder(\u001b[38;5;241m5000\u001b[39m)\n",
            "\u001b[0;31mTypeError\u001b[0m: Sotrudnik.adder() takes 1 positional argument but 2 were given"
          ]
        }
      ],
      "source": [
        "Petya.adder(5000)"
      ]
    },
    {
      "cell_type": "code",
      "execution_count": null,
      "id": "otherwise-motor",
      "metadata": {
        "tags": [],
        "id": "otherwise-motor"
      },
      "outputs": [],
      "source": [
        "Petya=Sotrudnik()"
      ]
    },
    {
      "cell_type": "code",
      "execution_count": null,
      "id": "physical-weight",
      "metadata": {
        "tags": [],
        "id": "physical-weight",
        "outputId": "8d4c6c90-417d-49d0-ac6c-f84f605b44b1"
      },
      "outputs": [
        {
          "data": {
            "text/plain": [
              "50000"
            ]
          },
          "execution_count": 81,
          "metadata": {},
          "output_type": "execute_result"
        }
      ],
      "source": [
        "Petya.zarplata"
      ]
    },
    {
      "cell_type": "code",
      "execution_count": null,
      "id": "integral-quick",
      "metadata": {
        "tags": [],
        "id": "integral-quick",
        "outputId": "95e33c42-a4b1-4203-c29d-4bc6027665ac"
      },
      "outputs": [
        {
          "ename": "TypeError",
          "evalue": "Sotrudnik.adder() takes 1 positional argument but 2 were given",
          "output_type": "error",
          "traceback": [
            "\u001b[0;31m---------------------------------------------------------------------------\u001b[0m",
            "\u001b[0;31mTypeError\u001b[0m                                 Traceback (most recent call last)",
            "Cell \u001b[0;32mIn[82], line 1\u001b[0m\n\u001b[0;32m----> 1\u001b[0m \u001b[43mPetya\u001b[49m\u001b[38;5;241;43m.\u001b[39;49m\u001b[43madder\u001b[49m\u001b[43m(\u001b[49m\u001b[38;5;241;43m5000\u001b[39;49m\u001b[43m)\u001b[49m\n",
            "\u001b[0;31mTypeError\u001b[0m: Sotrudnik.adder() takes 1 positional argument but 2 were given"
          ]
        }
      ],
      "source": [
        "Petya.adder(5000)"
      ]
    },
    {
      "cell_type": "code",
      "execution_count": null,
      "id": "tracked-reservation",
      "metadata": {
        "tags": [],
        "id": "tracked-reservation"
      },
      "outputs": [],
      "source": [
        "Petya.zarplata=60000"
      ]
    },
    {
      "cell_type": "code",
      "execution_count": null,
      "id": "future-heaven",
      "metadata": {
        "tags": [],
        "id": "future-heaven"
      },
      "outputs": [],
      "source": [
        "Vasya=Sotrudnik()"
      ]
    },
    {
      "cell_type": "code",
      "execution_count": null,
      "id": "celtic-ridge",
      "metadata": {
        "tags": [],
        "id": "celtic-ridge",
        "outputId": "47f6dea2-25f3-4283-879a-6346a8786435"
      },
      "outputs": [
        {
          "data": {
            "text/plain": [
              "50000"
            ]
          },
          "execution_count": 85,
          "metadata": {},
          "output_type": "execute_result"
        }
      ],
      "source": [
        "Vasya.zarplata"
      ]
    },
    {
      "cell_type": "code",
      "execution_count": null,
      "id": "piano-delaware",
      "metadata": {
        "tags": [],
        "id": "piano-delaware",
        "outputId": "44e3adf0-9d55-48c9-c755-a6e30832e8fe"
      },
      "outputs": [
        {
          "data": {
            "text/plain": [
              "True"
            ]
          },
          "execution_count": 86,
          "metadata": {},
          "output_type": "execute_result"
        }
      ],
      "source": [
        "Vasya.zarplata is Sotrudnik.zarplata\n"
      ]
    },
    {
      "cell_type": "code",
      "execution_count": null,
      "id": "monetary-printer",
      "metadata": {
        "tags": [],
        "id": "monetary-printer",
        "outputId": "2353dbea-a74b-4b28-f826-ef0493e09828"
      },
      "outputs": [
        {
          "data": {
            "text/plain": [
              "False"
            ]
          },
          "execution_count": 87,
          "metadata": {},
          "output_type": "execute_result"
        }
      ],
      "source": [
        "Petya.zarplata is Sotrudnik.zarplata\n"
      ]
    },
    {
      "cell_type": "markdown",
      "id": "suitable-conclusion",
      "metadata": {
        "id": "suitable-conclusion"
      },
      "source": [
        "# Магические методы"
      ]
    },
    {
      "cell_type": "code",
      "execution_count": null,
      "id": "becoming-cleveland",
      "metadata": {
        "tags": [],
        "id": "becoming-cleveland"
      },
      "outputs": [],
      "source": [
        "class Sotrudnik:\n",
        "\n",
        "    def __init__(self):\n",
        "        print(\"У нас новый сотрудник на начальной должности!\")\n",
        "        self.vacancy = 'раб'\n",
        "    zarplata = 50000\n",
        "\n",
        "    def adder(self, razmer_premii):\n",
        "        return razmer_premii + self.zarplata"
      ]
    },
    {
      "cell_type": "code",
      "execution_count": null,
      "id": "sharp-gardening",
      "metadata": {
        "tags": [],
        "id": "sharp-gardening",
        "outputId": "78ea173c-fedc-4f26-d24d-d2e11c19ca13"
      },
      "outputs": [
        {
          "name": "stdout",
          "output_type": "stream",
          "text": [
            "У нас новый сотрудник на начальной должности!\n"
          ]
        }
      ],
      "source": [
        "Igor=Sotrudnik()"
      ]
    },
    {
      "cell_type": "code",
      "execution_count": null,
      "id": "centered-tournament",
      "metadata": {
        "tags": [],
        "id": "centered-tournament",
        "outputId": "e3d55c6c-e5e4-4f0f-f248-1a261d1f09c2"
      },
      "outputs": [
        {
          "data": {
            "text/plain": [
              "<__main__.Sotrudnik at 0x7fb1781565c0>"
            ]
          },
          "execution_count": 90,
          "metadata": {},
          "output_type": "execute_result"
        }
      ],
      "source": [
        "Igor"
      ]
    },
    {
      "cell_type": "code",
      "execution_count": null,
      "id": "hungry-portrait",
      "metadata": {
        "tags": [],
        "id": "hungry-portrait"
      },
      "outputs": [],
      "source": [
        "class Sotrudnik:\n",
        "\n",
        "    def __init__(self):\n",
        "        print(\"У нас новый сотрудник на начальной должности!\")\n",
        "        self.vacancy = 'раб'\n",
        "        self.zarplata = 50000\n",
        "\n",
        "    def adder(self, razmer_premii):\n",
        "        return razmer_premii + self.zarplata"
      ]
    },
    {
      "cell_type": "code",
      "execution_count": null,
      "id": "interracial-guyana",
      "metadata": {
        "tags": [],
        "id": "interracial-guyana",
        "outputId": "5525d7f5-4b2e-41b8-cbbe-08767b9de52e"
      },
      "outputs": [
        {
          "name": "stdout",
          "output_type": "stream",
          "text": [
            "50500 раб\n"
          ]
        }
      ],
      "source": [
        "print(Igor.adder(500), Igor.vacancy)\n"
      ]
    },
    {
      "cell_type": "code",
      "execution_count": null,
      "id": "postal-carroll",
      "metadata": {
        "tags": [],
        "id": "postal-carroll"
      },
      "outputs": [],
      "source": [
        "class Sotrudnik:\n",
        "\n",
        "    def __init__(self,zarplata=50000, vacancy='раб' ):\n",
        "        print(\"У нас новый сотрудник на должности\")\n",
        "        self.vacancy = vacancy\n",
        "        self.zarplata = zarplata\n",
        "        print(self.vacancy)\n",
        "    def adder(self, razmer_premii):\n",
        "        return razmer_premii + self.zarplata\n",
        "\n",
        "    def propusk_activen(self):\n",
        "        return True\n",
        "\n",
        "    def __str__(self):\n",
        "        return f\"Карточка сотрудника: Должность: {self.vacancy}, Зарплата: {self.zarplata}, Вход разрешен - {self.propusk_activen()}\"\n"
      ]
    },
    {
      "cell_type": "code",
      "execution_count": null,
      "id": "protecting-afternoon",
      "metadata": {
        "tags": [],
        "id": "protecting-afternoon",
        "outputId": "af6d4194-dc00-4496-d20c-a2b28c5ae77b"
      },
      "outputs": [
        {
          "name": "stdout",
          "output_type": "stream",
          "text": [
            "У нас новый сотрудник на должности\n",
            "Царь\n"
          ]
        }
      ],
      "source": [
        "Leonid=Sotrudnik(zarplata=1000000000, vacancy='Царь')"
      ]
    },
    {
      "cell_type": "code",
      "execution_count": null,
      "id": "inner-emergency",
      "metadata": {
        "tags": [],
        "id": "inner-emergency",
        "outputId": "e570619c-ae9b-4eca-e59e-1cd25270d7fa"
      },
      "outputs": [
        {
          "name": "stdout",
          "output_type": "stream",
          "text": [
            "У нас новый сотрудник на должности\n",
            "раб\n"
          ]
        }
      ],
      "source": [
        "Leonid=Sotrudnik()"
      ]
    },
    {
      "cell_type": "code",
      "execution_count": null,
      "id": "lonely-fantasy",
      "metadata": {
        "tags": [],
        "id": "lonely-fantasy",
        "outputId": "14ad67a6-e52c-49e8-9da2-79537db7e0d4"
      },
      "outputs": [
        {
          "data": {
            "text/plain": [
              "50000"
            ]
          },
          "execution_count": 96,
          "metadata": {},
          "output_type": "execute_result"
        }
      ],
      "source": [
        "Leonid.zarplata"
      ]
    },
    {
      "cell_type": "code",
      "execution_count": null,
      "id": "posted-throw",
      "metadata": {
        "tags": [],
        "id": "posted-throw",
        "outputId": "31b9789a-5542-4331-c458-0e76e6adb3f5"
      },
      "outputs": [
        {
          "name": "stdout",
          "output_type": "stream",
          "text": [
            "Карточка сотрудника: Должность: раб, Зарплата: 50000, Вход разрешен - True\n"
          ]
        }
      ],
      "source": [
        "print(Leonid)"
      ]
    },
    {
      "cell_type": "code",
      "execution_count": null,
      "id": "supreme-warehouse",
      "metadata": {
        "id": "supreme-warehouse"
      },
      "outputs": [],
      "source": []
    },
    {
      "cell_type": "code",
      "execution_count": null,
      "id": "becoming-assets",
      "metadata": {
        "tags": [],
        "id": "becoming-assets"
      },
      "outputs": [],
      "source": [
        "class NutritionInfo:\n",
        "    def __init__(self, proteins, carbs, fats):\n",
        "        self.proteins = proteins\n",
        "        self.carbs = carbs\n",
        "        self.fats = fats\n",
        "\n",
        "    def __add__(self, other):\n",
        "        return NutritionInfo(self.proteins + other.proteins, self.carbs + other.carbs, self.fats + other.fats)\n",
        "\n",
        "    def __str__(self):\n",
        "        return f\"Nutrition p {self.proteins}, c {self.carbs}, f {self.fats}\"\n",
        "\n",
        "    def energy(self):\n",
        "        return int(self.fats * 9 + (self.carbs + self.proteins) * 4.2)"
      ]
    },
    {
      "cell_type": "code",
      "execution_count": null,
      "id": "mathematical-michael",
      "metadata": {
        "tags": [],
        "id": "mathematical-michael",
        "outputId": "6ed929a0-c5e5-4b80-c72c-a4a531ccedf4"
      },
      "outputs": [
        {
          "name": "stdout",
          "output_type": "stream",
          "text": [
            "<__main__.NutritionInfo object at 0x7fb178155f30>\n"
          ]
        }
      ],
      "source": [
        "egg = NutritionInfo(1, 2, 3)\n",
        "pastila = NutritionInfo(1, 2, 3)\n",
        "tvorog_9 = NutritionInfo(18, 3, 9)\n",
        "apple = NutritionInfo(0, 25, 0)\n",
        "\n",
        "print(egg + pastila)"
      ]
    },
    {
      "cell_type": "code",
      "execution_count": null,
      "id": "quantitative-depression",
      "metadata": {
        "tags": [],
        "id": "quantitative-depression"
      },
      "outputs": [],
      "source": [
        "breakfast = apple + tvorog_9 + pastila"
      ]
    },
    {
      "cell_type": "code",
      "execution_count": null,
      "id": "sufficient-blackberry",
      "metadata": {
        "tags": [],
        "id": "sufficient-blackberry",
        "outputId": "e64fabc4-a99a-4be5-b9bf-8f57f049232d"
      },
      "outputs": [
        {
          "data": {
            "text/plain": [
              "313"
            ]
          },
          "execution_count": 101,
          "metadata": {},
          "output_type": "execute_result"
        }
      ],
      "source": [
        "breakfast.energy()"
      ]
    },
    {
      "cell_type": "code",
      "execution_count": null,
      "id": "computational-suggestion",
      "metadata": {
        "id": "computational-suggestion",
        "outputId": "3f4b01f4-fb5b-4f6d-cac6-0b43c98c784c"
      },
      "outputs": [
        {
          "ename": "TypeError",
          "evalue": "unsupported operand type(s) for *: 'NutritionInfo' and 'int'",
          "output_type": "error",
          "traceback": [
            "\u001b[0;31m---------------------------------------------------------------------------\u001b[0m",
            "\u001b[0;31mTypeError\u001b[0m                                 Traceback (most recent call last)",
            "Cell \u001b[0;32mIn [200], line 1\u001b[0m\n\u001b[0;32m----> 1\u001b[0m breakfast \u001b[38;5;241m=\u001b[39m apple \u001b[38;5;241m*\u001b[39m \u001b[38;5;241m3\u001b[39m\n",
            "\u001b[0;31mTypeError\u001b[0m: unsupported operand type(s) for *: 'NutritionInfo' and 'int'"
          ]
        }
      ],
      "source": [
        "breakfast = apple * 3"
      ]
    },
    {
      "cell_type": "markdown",
      "id": "present-focus",
      "metadata": {
        "id": "present-focus"
      },
      "source": [
        "https://habr.com/ru/post/186608/"
      ]
    },
    {
      "cell_type": "markdown",
      "id": "confidential-party",
      "metadata": {
        "id": "confidential-party"
      },
      "source": [
        "# Наследование"
      ]
    },
    {
      "cell_type": "markdown",
      "id": "greater-occasions",
      "metadata": {
        "id": "greater-occasions"
      },
      "source": [
        "Возможность одному классу выступать в качестве наследника для другого, перенимая тем самым его свойства и методы, является важной особенностью ООП."
      ]
    },
    {
      "cell_type": "code",
      "execution_count": null,
      "id": "surgical-messenger",
      "metadata": {
        "tags": [],
        "id": "surgical-messenger",
        "outputId": "7afd7822-0eb0-4702-e4c3-f9d679bd7b42"
      },
      "outputs": [
        {
          "name": "stdout",
          "output_type": "stream",
          "text": [
            "пользователь Vasiliy <vasily@mail.ru>\n",
            "админ Larisa <larisa@mail.ru>\n"
          ]
        }
      ],
      "source": [
        "class User:\n",
        "    def __init__(self, name, email):\n",
        "        self.name = name.title()\n",
        "        self.email = email.lower()\n",
        "\n",
        "    def is_active(self):\n",
        "        return False\n",
        "\n",
        "    def is_superuser(self):\n",
        "        return False\n",
        "\n",
        "    def __str__(self):\n",
        "        kind = \"пользователь\"\n",
        "        if self.is_superuser():\n",
        "            kind = \"админ\"\n",
        "\n",
        "        return \"%s %s <%s>\" % (kind, self.name, self.email)\n",
        "\n",
        "class RegularUser(User):\n",
        "    pass\n",
        "\n",
        "class SuperUser(User):\n",
        "    def is_superuser(self):\n",
        "        return True\n",
        "\n",
        "###\n",
        "u1 = RegularUser(\"vasILiy\", \"vasily@mail.ru\")\n",
        "u2 = SuperUser(\"LArisa\", \"larisa@mail.ru\")\n",
        "for u in (u1, u2):\n",
        "    print(u)"
      ]
    },
    {
      "cell_type": "code",
      "execution_count": null,
      "id": "duplicate-slope",
      "metadata": {
        "tags": [],
        "id": "duplicate-slope",
        "outputId": "1d8d253d-2121-4b87-c45c-9073128b00ee"
      },
      "outputs": [
        {
          "name": "stdout",
          "output_type": "stream",
          "text": [
            "Джон Доу заработал $2000\n"
          ]
        }
      ],
      "source": [
        "class Person:\n",
        "    name = \"Джон Доу\"\n",
        "class Worker(Person):\n",
        "    zarplata = 2000\n",
        "human = Worker()\n",
        "print(human.name + \" заработал $\" + str(human.zarplata))"
      ]
    },
    {
      "cell_type": "markdown",
      "id": "needed-running",
      "metadata": {
        "id": "needed-running"
      },
      "source": [
        "Абстрактные методы"
      ]
    },
    {
      "cell_type": "code",
      "execution_count": null,
      "id": "pending-civilization",
      "metadata": {
        "tags": [],
        "id": "pending-civilization",
        "outputId": "08e8977c-b1b9-4b4e-8662-2a8c8e04be30"
      },
      "outputs": [
        {
          "name": "stdout",
          "output_type": "stream",
          "text": [
            "Кусака Говорит: Гаф!\n",
            "Бутерброд говорит: Мяу!\n"
          ]
        }
      ],
      "source": [
        "class Dog():\n",
        "    def __init__(self, name):\n",
        "        self.name = name\n",
        "    def makeNoise(self):\n",
        "        print(self.name + \" Говорит: Гаф!\")\n",
        "class Cat():\n",
        "    def __init__(self, name):\n",
        "        self.name = name\n",
        "    def makeNoise(self):\n",
        "        print(self.name + \" говорит: Мяу!\")\n",
        "dog = Dog(\"Кусака\")\n",
        "cat = Cat(\"Бутерброд\")\n",
        "dog.makeNoise()\n",
        "cat.makeNoise()\n",
        "\n"
      ]
    },
    {
      "cell_type": "markdown",
      "id": "sharp-employer",
      "metadata": {
        "id": "sharp-employer"
      },
      "source": [
        "Увлечение сложными конструкциями без явных причин называют архитектурной космонавтикой. В некоторых областях без классов не обойтись, но часто можно использовать простое правило: если вы определяете класс, у которого два метода, и один из них — конструктор __init__, можно определить одну функцию, которая делает то же самое. У нее будет много параметров, но ее будет проще читать, потому что будет меньше вложенности и отступов."
      ]
    },
    {
      "cell_type": "code",
      "execution_count": null,
      "id": "vertical-barrel",
      "metadata": {
        "id": "vertical-barrel"
      },
      "outputs": [],
      "source": []
    },
    {
      "cell_type": "markdown",
      "id": "alpha-fifteen",
      "metadata": {
        "id": "alpha-fifteen"
      },
      "source": [
        "# DECORATORы"
      ]
    },
    {
      "cell_type": "markdown",
      "id": "announced-adelaide",
      "metadata": {
        "id": "announced-adelaide"
      },
      "source": [
        "![image.png](attachment:image.png)"
      ]
    },
    {
      "cell_type": "markdown",
      "id": "suitable-worship",
      "metadata": {
        "id": "suitable-worship"
      },
      "source": [
        "Декораторы — один из самых полезных инструментов в Python, однако новичкам они могут показаться непонятными."
      ]
    },
    {
      "cell_type": "markdown",
      "id": "knowing-negotiation",
      "metadata": {
        "id": "knowing-negotiation"
      },
      "source": [
        "Новичкам декораторы могут показаться неудобными и непонятными, потому что они выходят за рамки «обычного» процедурного программирования как в Си, где вы объявляете функции, содержащие блоки кода, и вызываете их. То же касается и объектно-ориентированного программирования, где вы определяете классы и создаёте на их основе объекты. Декораторы не принадлежат ни одной из этих парадигм и исходят из области функционального программирования."
      ]
    },
    {
      "cell_type": "markdown",
      "id": "prospective-crown",
      "metadata": {
        "id": "prospective-crown"
      },
      "source": [
        "Декоратор — это функция, которая позволяет обернуть другую функцию для расширения её функциональности без непосредственного изменения её кода. Вот почему декораторы можно рассматривать как практику метапрограммирования, когда программы могут работать с другими программами как со своими данными."
      ]
    },
    {
      "cell_type": "markdown",
      "id": "blank-diving",
      "metadata": {
        "id": "blank-diving"
      },
      "source": [
        "### Как работают функции\n"
      ]
    },
    {
      "cell_type": "markdown",
      "id": "scheduled-bronze",
      "metadata": {
        "id": "scheduled-bronze"
      },
      "source": [
        " У функций Python есть определённые аспекты, с которыми мы нечасто имеем дело, и, как следствие, они забываются. Давайте проясним, что такое функции и как они представлены в Python."
      ]
    },
    {
      "cell_type": "markdown",
      "id": "thorough-throat",
      "metadata": {
        "id": "thorough-throat"
      },
      "source": [
        "#### Функции как процедуры\n"
      ]
    },
    {
      "cell_type": "markdown",
      "id": "smart-mineral",
      "metadata": {
        "id": "smart-mineral"
      },
      "source": [
        "С этим аспектом функций мы знакомы лучше всего. Процедура — это именованная последовательность вычислительных шагов. Любую процедуру можно вызвать в любом месте программы, в том числе внутри другой процедуры или даже самой себя"
      ]
    },
    {
      "cell_type": "markdown",
      "id": "false-sydney",
      "metadata": {
        "id": "false-sydney"
      },
      "source": [
        "#### Функции как объекты первого класса"
      ]
    },
    {
      "cell_type": "markdown",
      "id": "voluntary-divide",
      "metadata": {
        "id": "voluntary-divide"
      },
      "source": [
        "В Python всё является объектом, а не только объекты, которые вы создаёте из классов. В этом смысле он (Python) полностью соответствует идеям объектно-ориентированного программирования. Это значит, что в Python всё это — объекты:\n",
        "\n",
        "числа;\n",
        "строки;\n",
        "классы (да, даже классы!);\n",
        "функции (то, что нас интересует).\n",
        "Тот факт, что всё является объектами, открывает перед нами множество возможностей. Мы можем сохранять функции в переменные, передавать их в качестве аргументов и возвращать из других функций. Можно даже определить одну функцию внутри другой. Иными словами, функции — это объекты первого класса."
      ]
    },
    {
      "cell_type": "markdown",
      "id": "subject-click",
      "metadata": {
        "id": "subject-click"
      },
      "source": [
        "функции являются объектами первого класса;\n",
        "следовательно, язык поддерживает функции высших порядков"
      ]
    },
    {
      "cell_type": "markdown",
      "id": "increased-nightlife",
      "metadata": {
        "id": "increased-nightlife"
      },
      "source": [
        "Функции высших порядков — это такие функции, которые могут принимать в качестве аргументов и возвращать другие функции."
      ]
    },
    {
      "cell_type": "code",
      "execution_count": null,
      "id": "indirect-africa",
      "metadata": {
        "tags": [],
        "id": "indirect-africa"
      },
      "outputs": [],
      "source": [
        "def shalom_world():\n",
        "    print('shalom world!')"
      ]
    },
    {
      "cell_type": "code",
      "execution_count": null,
      "id": "recent-armstrong",
      "metadata": {
        "tags": [],
        "id": "recent-armstrong",
        "outputId": "6119fa38-5959-4a3d-c28b-e0c1a4cb6427"
      },
      "outputs": [
        {
          "data": {
            "text/plain": [
              "function"
            ]
          },
          "execution_count": 109,
          "metadata": {},
          "output_type": "execute_result"
        }
      ],
      "source": [
        "type(shalom_world)"
      ]
    },
    {
      "cell_type": "code",
      "execution_count": null,
      "id": "figured-michigan",
      "metadata": {
        "tags": [],
        "id": "figured-michigan"
      },
      "outputs": [],
      "source": [
        "privet = shalom_world"
      ]
    },
    {
      "cell_type": "code",
      "execution_count": null,
      "id": "artificial-developer",
      "metadata": {
        "tags": [],
        "id": "artificial-developer",
        "outputId": "ec35b958-3454-408d-f5fd-668dee1c8360"
      },
      "outputs": [
        {
          "name": "stdout",
          "output_type": "stream",
          "text": [
            "shalom world!\n"
          ]
        }
      ],
      "source": [
        "privet()"
      ]
    },
    {
      "cell_type": "code",
      "execution_count": null,
      "id": "equipped-warning",
      "metadata": {
        "tags": [],
        "id": "equipped-warning"
      },
      "outputs": [],
      "source": [
        " def wrapper_function():\n",
        "    def hello_world():\n",
        "        print('Hello world!')\n",
        "\n",
        "    hello_world()"
      ]
    },
    {
      "cell_type": "code",
      "execution_count": null,
      "id": "covered-story",
      "metadata": {
        "tags": [],
        "id": "covered-story",
        "outputId": "7223d737-9fd2-4132-e4d6-cd3a04a11915"
      },
      "outputs": [
        {
          "name": "stdout",
          "output_type": "stream",
          "text": [
            "Hello world!\n"
          ]
        }
      ],
      "source": [
        "wrapper_function()"
      ]
    },
    {
      "cell_type": "code",
      "execution_count": null,
      "id": "cultural-chess",
      "metadata": {
        "tags": [],
        "id": "cultural-chess",
        "outputId": "6000418c-bd9b-42a3-9f03-f203684c7e8c"
      },
      "outputs": [
        {
          "name": "stdout",
          "output_type": "stream",
          "text": [
            "Получена функция <function shalom_world at 0x7fb161bd5990> в качестве аргумента\n",
            "shalom world!\n"
          ]
        },
        {
          "data": {
            "text/plain": [
              "<function __main__.shalom_world()>"
            ]
          },
          "execution_count": 114,
          "metadata": {},
          "output_type": "execute_result"
        }
      ],
      "source": [
        "def higher_order(func):\n",
        "     print('Получена функция {} в качестве аргумента'.format(func))\n",
        "     func()\n",
        "     return func\n",
        "\n",
        "higher_order(shalom_world)"
      ]
    },
    {
      "cell_type": "markdown",
      "id": "concerned-keeping",
      "metadata": {
        "id": "concerned-keeping"
      },
      "source": [
        "Декоратор — это функция, которая позволяет обернуть другую функцию для расширения её функциональности без непосредственного изменения её кода.\n"
      ]
    },
    {
      "cell_type": "code",
      "execution_count": null,
      "id": "secondary-african",
      "metadata": {
        "tags": [],
        "id": "secondary-african"
      },
      "outputs": [],
      "source": [
        "def decorator_function(func):\n",
        "    def wrapper():\n",
        "        print('Функция-обёртка!')\n",
        "        print('Оборачиваемая функция: {}'.format(func))\n",
        "        print('Выполняем обёрнутую функцию...')\n",
        "        func()\n",
        "        print('Выходим из обёртки')\n",
        "    return wrapper"
      ]
    },
    {
      "cell_type": "markdown",
      "id": "egyptian-default",
      "metadata": {
        "id": "egyptian-default"
      },
      "source": [
        "Внутри decorator_function() мы определили другую функцию, обёртку, так сказать, которая обёртывает функцию-аргумент и затем изменяет её поведение. Декоратор возвращает эту обёртку."
      ]
    },
    {
      "cell_type": "code",
      "execution_count": null,
      "id": "explicit-degree",
      "metadata": {
        "tags": [],
        "id": "explicit-degree"
      },
      "outputs": [],
      "source": [
        "@decorator_function\n",
        "def hello_world():\n",
        "     print('Hello world!')"
      ]
    },
    {
      "cell_type": "code",
      "execution_count": null,
      "id": "adult-laser",
      "metadata": {
        "id": "adult-laser",
        "outputId": "da1b4d96-f385-4a22-b256-8bc7bdb13e22"
      },
      "outputs": [
        {
          "name": "stdout",
          "output_type": "stream",
          "text": [
            "Функция-обёртка!\n",
            "Оборачиваемая функция: <function hello_world at 0x7f9db1348160>\n",
            "Выполняем обёрнутую функцию...\n",
            "Выходим из обёртки\n"
          ]
        }
      ],
      "source": [
        "hello_world()"
      ]
    },
    {
      "cell_type": "markdown",
      "id": "alike-norfolk",
      "metadata": {
        "id": "alike-norfolk"
      },
      "source": [
        "  Добавив @decorator_function перед определением функции hello_world(), мы модифицировали её поведение. Однако выражение с @ является всего лишь синтаксическим сахаром для hello_world = decorator_function(hello_world)."
      ]
    },
    {
      "cell_type": "code",
      "execution_count": null,
      "id": "c3892e45",
      "metadata": {
        "id": "c3892e45"
      },
      "outputs": [],
      "source": [
        "hello_world = decorator_function(hello_world)."
      ]
    },
    {
      "cell_type": "code",
      "execution_count": null,
      "id": "future-indication",
      "metadata": {
        "id": "future-indication"
      },
      "outputs": [],
      "source": [
        "Иными словами, выражение @decorator_function вызывает decorator_function() с hello_world в качестве аргумента и присваивает имени hello_world возвращаемую функцию."
      ]
    },
    {
      "cell_type": "code",
      "execution_count": null,
      "id": "thrown-therapy",
      "metadata": {
        "tags": [],
        "id": "thrown-therapy",
        "outputId": "30d8348c-8110-4f72-8b79-6ad72c4d5f83"
      },
      "outputs": [
        {
          "name": "stdout",
          "output_type": "stream",
          "text": [
            "Requirement already satisfied: requests in /opt/conda/lib/python3.10/site-packages (2.28.2)\n",
            "Requirement already satisfied: charset-normalizer<4,>=2 in /opt/conda/lib/python3.10/site-packages (from requests) (3.1.0)\n",
            "Requirement already satisfied: idna<4,>=2.5 in /opt/conda/lib/python3.10/site-packages (from requests) (3.4)\n",
            "Requirement already satisfied: urllib3<1.27,>=1.21.1 in /opt/conda/lib/python3.10/site-packages (from requests) (1.26.15)\n",
            "Requirement already satisfied: certifi>=2017.4.17 in /opt/conda/lib/python3.10/site-packages (from requests) (2023.5.7)\n"
          ]
        }
      ],
      "source": [
        "!pip install requests"
      ]
    },
    {
      "cell_type": "code",
      "execution_count": null,
      "id": "functional-bosnia",
      "metadata": {
        "tags": [],
        "id": "functional-bosnia",
        "outputId": "22842ccd-cd4c-462a-c3be-ccd5ac782b48"
      },
      "outputs": [
        {
          "name": "stdout",
          "output_type": "stream",
          "text": [
            "[*] Время выполнения: 0.8917491436004639 секунд.\n"
          ]
        }
      ],
      "source": [
        "def benchmark(func):\n",
        "    import time\n",
        "\n",
        "    def wrapper():\n",
        "        start = time.time()\n",
        "        func()\n",
        "        end = time.time()\n",
        "        print('[*] Время выполнения: {} секунд.'.format(end-start))\n",
        "    return wrapper\n",
        "\n",
        "@benchmark\n",
        "def fetch_webpage():\n",
        "    import requests\n",
        "    webpage = requests.get('https://google.com')\n",
        "\n",
        "fetch_webpage()"
      ]
    },
    {
      "cell_type": "code",
      "execution_count": null,
      "id": "waiting-thomas",
      "metadata": {
        "tags": [],
        "id": "waiting-thomas"
      },
      "outputs": [],
      "source": [
        "def fetch_webpage():\n",
        "    import requests\n",
        "    webpage = requests.get('https://ya.ru')\n",
        "    print(webpage)"
      ]
    },
    {
      "cell_type": "code",
      "execution_count": null,
      "id": "constant-jordan",
      "metadata": {
        "tags": [],
        "id": "constant-jordan",
        "outputId": "77eeca6f-c08a-48e6-c3a5-9d97f77caee6"
      },
      "outputs": [
        {
          "name": "stdout",
          "output_type": "stream",
          "text": [
            "<Response [200]>\n"
          ]
        }
      ],
      "source": [
        "fetch_webpage()"
      ]
    },
    {
      "cell_type": "code",
      "execution_count": null,
      "id": "formed-fence",
      "metadata": {
        "tags": [],
        "id": "formed-fence"
      },
      "outputs": [],
      "source": [
        "def fetch_webpage():\n",
        "    import requests\n",
        "    webpage = requests.get('htstps://yandex.ru')\n",
        "    print(webpage)"
      ]
    },
    {
      "cell_type": "code",
      "execution_count": null,
      "id": "coupled-messenger",
      "metadata": {
        "tags": [],
        "id": "coupled-messenger"
      },
      "outputs": [],
      "source": [
        "def fetch_webpage():\n",
        "    import requests\n",
        "    webpage = requests.get('https://yandex.ru')\n",
        "    print(webpage)"
      ]
    },
    {
      "cell_type": "code",
      "execution_count": null,
      "id": "attempted-stereo",
      "metadata": {
        "id": "attempted-stereo"
      },
      "outputs": [],
      "source": [
        "def fetch_webpage():\n",
        "    import requests\n",
        "    webpage = requests.get('https://yandesx.ru')\n",
        "    print(webpage)"
      ]
    },
    {
      "cell_type": "code",
      "execution_count": null,
      "id": "crazy-klein",
      "metadata": {
        "id": "crazy-klein"
      },
      "outputs": [],
      "source": [
        "def fetch_webpage():\n",
        "    import requests\n",
        "    webpage = requests.get('httsps://yandex.ru')\n",
        "    print(webpage)"
      ]
    },
    {
      "cell_type": "code",
      "execution_count": null,
      "id": "theoretical-messaging",
      "metadata": {
        "tags": [],
        "id": "theoretical-messaging"
      },
      "outputs": [],
      "source": [
        "def fetch_webpage():\n",
        "    import requests\n",
        "    webpage = requests.get('https://yandex.ru')\n",
        "    print(webpage)"
      ]
    },
    {
      "cell_type": "code",
      "execution_count": null,
      "id": "fitting-arena",
      "metadata": {
        "tags": [],
        "id": "fitting-arena",
        "outputId": "83e5dcec-9e85-4c48-dbc9-32492ec93c3e"
      },
      "outputs": [
        {
          "name": "stdout",
          "output_type": "stream",
          "text": [
            "<Response [200]>\n"
          ]
        }
      ],
      "source": [
        "fetch_webpage()"
      ]
    },
    {
      "cell_type": "code",
      "execution_count": null,
      "id": "exceptional-greek",
      "metadata": {
        "id": "exceptional-greek"
      },
      "outputs": [],
      "source": []
    },
    {
      "cell_type": "code",
      "execution_count": null,
      "id": "affected-coupon",
      "metadata": {
        "tags": [],
        "id": "affected-coupon",
        "outputId": "f00147b5-b0e6-4920-bd75-34e2c4575d69"
      },
      "outputs": [
        {
          "name": "stdout",
          "output_type": "stream",
          "text": [
            "[*] Время выполнения: 0.2733759880065918 секунд.\n",
            "<!DOCTYPE html>\n",
            "<!-- (c) Art. Lebedev Studio | http://www.artlebedev.ru/ -->\n",
            "<html lang=\"ru\" class=\"ru\"><head><meta http-equiv=\"Content-Type\" content=\"text/html; charset=UTF-8\"><title>Университет науки и технологий МИСИС — официальный сайт</title><script>(function(w,d,s,l,i){w[l]=w[l]||[];w[l].push({'gtm.start': new Date().getTime(),event:'gtm.js'});var f=d.getElementsByTagName(s)[0], j=d.createElement(s),dl=l!='dataLayer'?'&l='+l:'';j.async=true;j.src='https://www.googletagmanager.com/gtm.js?id='+i+dl;f.parentNode.insertBefore(j,f);})(window,document,'script','dataLayer','GTM-WWB856T');</script><meta name=\"description\" content=\"Университет науки и технологий МИСИС в Москве: информация для поступающих, новости, институты, программы подготовки\"><meta name=\"viewport\" content=\"width=device-width, initial-scale=1\"><meta name=\"section\" content=\"\"><link rel=\"canonical\" href=\"https://misis.ru/\"><link rel=\"dns-prefetch\" href=\"//google-analytics.com\"><link rel=\"dns-prefetch\" href=\"//googletagmanager.com\"><link rel=\"dns-prefetch\" href=\"//youtube.com\"><link rel=\"dns-prefetch\" href=\"//yandex.ru\"><link rel=\"dns-prefetch\" href=\"//sputnik.ru\"><link rel=\"dns-prefetch\" href=\"//vk.com\"><link rel=\"preconnect\" href=\"//google-analytics.com\"><link rel=\"preconnect\" href=\"//youtube.com\"><link rel=\"preconnect\" href=\"//googletagmanager.com\"><link rel=\"preconnect\" href=\"//mc.yandex.ru\"><link rel=\"preconnect\" href=\"//stat.sputnik.ru\"><link rel=\"preconnect\" href=\"//vk.com\"><link rel=\"image_src\" href=\"//misis.ru/f/src/images/icon-128.png\"><link rel=\"apple-touch-icon\" sizes=\"180x180\" href=\"//misis.ru/f/src/images/apple-touch-icon.png\"><link rel=\"icon\" type=\"image/png\" href=\"//misis.ru/f/src/images/favicon-16x16.png\" sizes=\"16x16\"><link rel=\"icon\" type=\"image/png\" href=\"//misis.ru/f/src/images/favicon-32x32.png\" sizes=\"32x32\"><link rel=\"shortcut icon\" href=\"//misis.ru/favicon-1.ico\" type=\"image/x-icon\"><link rel=\"manifest\" href=\"//misis.ru/site.webmanifest\"><link rel=\"mask-icon\" href=\"//misis.ru/f/src/images/safari-pinned-tab.svg\" color=\"#35c6e3\"><script type=\"text/javascript\">\n",
            "\n",
            "var _tmr = window._tmr || (window._tmr = []);\n",
            "_tmr.push({id: \"3488558\", type: \"pageView\", start: (new Date()).getTime()});\n",
            "(function (d, w, id) {\n",
            "  if (d.getElementById(id)) return;\n",
            "  var ts = d.createElement(\"script\"); ts.type = \"text/javascript\"; ts.async = true; ts.id = id;\n",
            "  ts.src = \"https://top-fwz1.mail.ru/js/code.js\";\n",
            "  var f = function () {var s = d.getElementsByTagName(\"script\")[0]; s.parentNode.insertBefore(ts, s);};\n",
            "  if (w.opera == \"[object Opera]\") { d.addEventListener(\"DOMContentLoaded\", f, false); } else { f(); }\n",
            "})(document, window, \"tmr-code\");\n",
            "\n",
            "https://top-fwz1.mail.ru/counter?id=3488558;js=na\n",
            "</script><script type=\"text/javascript\">!function(){var t=document.createElement(\"script\");t.type=\"text/javascript\",t.async=!0,t.src=\"https://vk.com/js/api/openapi.js?168\",t.onload=function(){VK.Retargeting.Init(\"VK-RTRG-890764-ahTTY\"),VK.Retargeting.Hit()},document.head.appendChild(t)}();</script><noscript><img src=\"https://vk.com/rtrg?p=VK-RTRG-890764-ahTTY\" style=\"position:fixed; left:-999px;\" alt=\"\"></noscript><link rel=\"start\" href=\"//misis.ru/\"><link href=\"/rev-29/f/assets/misis.bundle.css\" media=\"all\" src=\"misis.bundle.css\" rel=\"stylesheet\"><meta name=\"yandex-verification\" content=\"1d26e9ea525d88cd\"><meta name=\"google-site-verification\" content=\"EF4Z10N90q0YkdeN5qMBxPBcZymDwNuelRzmrqACFJA\"><meta property=\"og:image\" content=\"https://misis.ru/f/src/images/misis-logo-ru-1.png\"><meta name=\"twitter:card\" content=\"summary_large_image\"><meta property=\"og:image:width\" content=\"1200\"><meta property=\"og:image:height\" content=\"628\"><meta property=\"og:type\" content=\"website\"><meta property=\"og:title\" content=\"Университет науки и технологий МИСИС — официальный сайт\"><meta property=\"og:url\" content=\"https://misis.ru/\"><meta name=\"copyright\" lang=\"ru\" content=\"Университет науки и технологий МИСИС\"></head><body id=\"home_page\" class=\"dark-scheme with-promo\"><noscript><iframe src=\"https://www.googletagmanager.com/ns.html?id=GTM-WWB856T\" height=\"0\" width=\"0\" style=\"display:none;visibility:hidden\"></iframe></noscript><script>\n",
            "(function(i,s,o,g,r,a,m){i['GoogleAnalyticsObject']=r;i[r]=i[r]||function(){(i[r].q=i[r].q||[]).push(arguments)},i[r].l=1*new Date();a=s.createElement(o),m=s.getElementsByTagName(o)[0];a.async=1;a.src=g;m.parentNode.insertBefore(a,m)})(window,document,'script','//www.google-analytics.com/analytics.js','ga');\n",
            "ga('create', 'UA-39746940-1', 'auto');\n",
            "ga('send', 'pageview');\n",
            "</script><!-- Yandex.Metrika counter -->\n",
            "<script type=\"text/javascript\">\n",
            "   (function(m,e,t,r,i,k,a){m[i]=m[i]||function(){(m[i].a=m[i].a||[]).push(arguments)};\n",
            "   m[i].l=1*new Date();\n",
            "   for (var j = 0; j < document.scripts.length; j++) {if (document.scripts[j].src === r) { return; }}\n",
            "   k=e.createElement(t),a=e.getElementsByTagName(t)[0],k.async=1,k.src=r,a.parentNode.insertBefore(k,a)})\n",
            "   (window, document, \"script\", \"https://mc.yandex.ru/metrika/tag.js\", \"ym\");\n",
            "\n",
            "   ym(54044305, \"init\", {\n",
            "        clickmap:true,\n",
            "        trackLinks:true,\n",
            "        accurateTrackBounce:true,\n",
            "        webvisor:true,\n",
            "        ecommerce:\"dataLayer\"\n",
            "   });\n",
            "\n",
            "   ym(18672967, \"init\", {\n",
            "        clickmap:true,\n",
            "        trackLinks:true,\n",
            "        accurateTrackBounce:true,\n",
            "        webvisor:true\n",
            "   });\n",
            "</script>\n",
            "<noscript>\n",
            "<div><img src=\"https://mc.yandex.ru/watch/54044305\" style=\"position:absolute; left:-9999px;\" alt=\"\"></div>\n",
            "<div><img src=\"https://mc.yandex.ru/watch/18672967\" style=\"position:absolute; left:-9999px;\" alt=\"\"></div>\n",
            "</noscript>\n",
            "<!-- /Yandex.Metrika counter -->\n",
            "\n",
            "<!-- ||||| -->\n",
            "\n",
            "<!-- sputnik --> <script type=\"text/javascript\">\n",
            "       (function(d, t, p) {\n",
            "           var j = d.createElement(t); j.async = true; j.type = \"text/javascript\";\n",
            "           j.src = (\"https:\" == p ? \"https:\" : \"http:\") + \"//stat.sputnik.ru/cnt.js\";\n",
            "           var s = d.getElementsByTagName(t)[0]; s.parentNode.insertBefore(j, s);\n",
            "       })(document, \"script\", document.location.protocol);\n",
            "    </script> <!-- /sputnik-->\n",
            "\n",
            "<!-- Top.Mail.Ru counter -->\n",
            "<script type=\"text/javascript\">\n",
            "var _tmr = window._tmr || (window._tmr = []);\n",
            "_tmr.push({id: \"3488086\", type: \"pageView\", start: (new Date()).getTime()});\n",
            "(function (d, w, id) {\n",
            "  if (d.getElementById(id)) return;\n",
            "  var ts = d.createElement(\"script\"); ts.type = \"text/javascript\"; ts.async = true; ts.id = id;\n",
            "  ts.src = \"https://top-fwz1.mail.ru/js/code.js\";\n",
            "  var f = function () {var s = d.getElementsByTagName(\"script\")[0]; s.parentNode.insertBefore(ts, s);};\n",
            "  if (w.opera == \"[object Opera]\") { d.addEventListener(\"DOMContentLoaded\", f, false); } else { f(); }\n",
            "})(document, window, \"tmr-code\");\n",
            "</script>\n",
            "<noscript><div><img src=\"https://top-fwz1.mail.ru/counter?id=3488086;js=na\" style=\"position:absolute;left:-9999px;\" alt=\"Top.Mail.Ru\"></div></noscript>\n",
            "<!-- /Top.Mail.Ru counter --><div class=\"layout\"><header class=\"header\" itemscope=\"itemscope\" itemtype=\"http://schema.org/WPHeader\"><meta itemprop=\"headline\" content=\"Заглавная страница\"><meta itemprop=\"description\" content=\"Университет науки и технологий МИСИС в Москве: информация для поступающих, новости, институты, программы подготовки\"><nav role=\"navigation\" class=\"navbar navbar-default navbar-static-top\" itemscope=\"itemscope\" itemtype=\"http://schema.org/SiteNavigationElement\"><div class=\"logo-white-text navbar-brand\"><span title=\"Университет науки и технологий МИСИС\" class=\"strong selected\"><img alt=\"Университет науки и технологий МИСИС\" src=\"/files/-/9eb09a0e37d7c55e6a906444b415a653/misis_logo_white_rus.svg\" width=\"195\" height=\"77\"></span></div><div class=\"logo-black-text navbar-brand\"><span title=\"Университет науки и технологий МИСИС\" class=\"strong selected\"><img alt=\"Университет науки и технологий МИСИС\" src=\"/files/-/dbfd60c08f13104d63a4652ea7c43c68/misis_logo_black_rus.svg\" width=\"195\" height=\"77\"></span></div><ul class=\"nav navbar-nav navbar-right\"><li><a itemprop=\"url\" href=\"/applicants/\"><span itemprop=\"name\">Поступающим</span></a></li><li><a itemprop=\"url\" href=\"/students/\"><span itemprop=\"name\">Студентам</span></a></li><li><a itemprop=\"url\" href=\"/graduates/\"><span itemprop=\"name\">Выпускникам</span></a></li><li><a itemprop=\"url\" href=\"/university/struktura-universiteta/offices/personnel/world/\"><span itemprop=\"name\">Сотрудникам</span></a></li><li class=\"sitemap\"><button type=\"button\" class=\"sitemap-toggle\" data-toggle=\"modal\" data-target=\"#siteMapModal\" data-url=\"/ajax-sitemap/?object-id=1\"><svg xmlns=\"http://www.w3.org/2000/svg\" width=\"31\" height=\"19\" viewBox=\"0 0 31 19\" fill=\"none\" class=\"icon-bar\"><path fill-rule=\"evenodd\" clip-rule=\"evenodd\" d=\"M19.5 12C21.9853 12 24 9.98528 24 7.5C24 5.01472 21.9853 3 19.5 3C17.0147 3 15 5.01472 15 7.5C15 9.98528 17.0147 12 19.5 12ZM19.5 15C23.6421 15 27 11.6421 27 7.5C27 3.35786 23.6421 0 19.5 0C15.3579 0 12 3.35786 12 7.5C12 11.6421 15.3579 15 19.5 15Z\" fill=\"white\"></path><path fill-rule=\"evenodd\" clip-rule=\"evenodd\" d=\"M12.1515 0H0V3H10.0104C10.5446 1.87559 11.2727 0.861181 12.1515 0ZM9.01169 7H0V10H9.29945C9.10375 9.19878 9 8.3615 9 7.5C9 7.33239 9.00393 7.16569 9.01169 7ZM11.2532 14H0V17H15.0221C13.5441 16.3021 12.2552 15.2695 11.2532 14Z\" fill=\"white\"></path><path fill-rule=\"evenodd\" clip-rule=\"evenodd\" d=\"M27.9393 18.0607L22.9393 13.0607L25.0607 10.9393L30.0607 15.9393L27.9393 18.0607Z\" fill=\"white\"></path></svg></button></li><li><a itemprop=\"url\" href=\"/university/\"><span itemprop=\"name\">Университет</span></a></li><li><a itemprop=\"url\" href=\"/education/\"><span itemprop=\"name\">Образование</span></a></li><li><a itemprop=\"url\" href=\"/science/\"><span itemprop=\"name\">Наука</span></a></li><li><a itemprop=\"url\" href=\"/business/\"><span itemprop=\"name\">Бизнесу</span></a></li></ul><div class=\"btn-group btn-group-header\"><div class=\"header-control\"><span class=\"contrast-select-size js-size-x2\">×2</span><div class=\"color-scheme-select\"><span class=\"color-scheme-select-item color-scheme-select-item_bw js-color-scheme\" data-color=\"color01\"></span><span class=\"color-scheme-select-item color-scheme-select-item_wb js-color-scheme\" data-color=\"color02\"></span></div><span class=\"header-nav-control\"><span class=\"link link_pseudo js-contrast\" itemprop=\"copy\" data-next=\"Обычная версия\">Версия для слабовидящих</span></span></div><span class=\"header-nav-control\"><a href=\"https://lk.misis.ru/ru/users/sign_in\" class=\"link\">Личный кабинет</a></span><span class=\"header-nav-control\"><a target=\"_blank\" href=\"https://newlms.misis.ru/\">LMS Moodle</a></span><div class=\"lang-select\"><span data-toggle=\"dropdown\" class=\"flag flag_ru\"></span><ul class=\"dropdown-menu\"><li><a href=\"https://en.misis.ru\" class=\"flag flag_en\"></a></li></ul></div></div></nav></header><div class=\"wrapper\"><div class=\"wide\"><div id=\"carousel-id85\" class=\"carousel slide slider-container carousel-main\"><div class=\"carousel-inner\" role=\"listbox\"><div class=\"item active\" style=\"mask: url(#mask_1);-webkit-clip-path: url(#clip-path_1);background-image:url(/files/29849/8789798798_large.jpg)\"><div class=\"item-inner\"><div class=\"carousel-item-main\"><div class=\"h1\"><a href=\"/events/5778/\">День открытых дверей Университета МИСИС</a></div></div><div class=\"carousel-item-aside\"><p class=\"first_child last_child \">Ждем абитуриентов и их родителей 14 декабря в 12:00 на онлайн-трансляции</p></div></div><svg width=\"100%\" height=\"700\"><mask id=\"mask_1\"><circle r=\"10\" cx=\"100\" cy=\"100\" class=\"c-mask-circle\"></circle></mask><clipPath id=\"clip-path_1\"><circle r=\"10\" cx=\"100\" cy=\"100\" class=\"c-cp-circle\"></circle></clipPath></svg></div><div class=\"item\" style=\"mask: url(#mask_2);-webkit-clip-path: url(#clip-path_2);background-image:url(/files/29885/rl12_large.jpg)\"><div class=\"item-inner\"><div class=\"carousel-item-main\"><div class=\"h1\"><a href=\"/university/struktura-universiteta/centers/k3/xmas/\">Рождественские лекции Университета МИСИС</a></div></div><div class=\"carousel-item-aside\"><p class=\"first_child last_child \">Традиционный цикл лекций ведущих ученых страны и мира</p></div></div><svg width=\"100%\" height=\"700\"><mask id=\"mask_2\"><circle r=\"10\" cx=\"100\" cy=\"100\" class=\"c-mask-circle\"></circle></mask><clipPath id=\"clip-path_2\"><circle r=\"10\" cx=\"100\" cy=\"100\" class=\"c-cp-circle\"></circle></clipPath></svg></div><div class=\"item\" style=\"mask: url(#mask_3);-webkit-clip-path: url(#clip-path_3);background-image:url(/files/26046/464654_large.jpg)\"><div class=\"item-inner\"><div class=\"carousel-item-main\"><div class=\"h1\"><a href=\"/applicants/studentam/studencheskayaolimpiadayaprofes/\">Олимпиада «Я — профессионал»</a></div></div><div class=\"carousel-item-aside\"><p class=\"first_child last_child \">Отборочный этап по направлению «Горное дело» — с 20 ноября по 1 декабря 2024 года.</p></div></div><svg width=\"100%\" height=\"700\"><mask id=\"mask_3\"><circle r=\"10\" cx=\"100\" cy=\"100\" class=\"c-mask-circle\"></circle></mask><clipPath id=\"clip-path_3\"><circle r=\"10\" cx=\"100\" cy=\"100\" class=\"c-cp-circle\"></circle></clipPath></svg></div><div class=\"item\" style=\"mask: url(#mask_4);-webkit-clip-path: url(#clip-path_4);background-image:url(/files/29939/sg_large.jpg)\"><div class=\"item-inner\"><div class=\"carousel-item-main\"><div class=\"h1\"><a href=\"/events/5805/\">Конкурс «Студент года-2024»</a></div></div><div class=\"carousel-item-aside\"><p class=\"first_child last_child \">Прием анкет — до 20 декабря</p></div></div><svg width=\"100%\" height=\"700\"><mask id=\"mask_4\"><circle r=\"10\" cx=\"100\" cy=\"100\" class=\"c-mask-circle\"></circle></mask><clipPath id=\"clip-path_4\"><circle r=\"10\" cx=\"100\" cy=\"100\" class=\"c-cp-circle\"></circle></clipPath></svg></div><div class=\"item\" style=\"mask: url(#mask_5);-webkit-clip-path: url(#clip-path_5);background-image:url(/files/29940/rg3_large.jpg)\"><div class=\"item-inner\"><div class=\"carousel-item-main\"><div class=\"h1\"><a href=\"/university/struktura-universiteta/offices/personnel/karta/sotrudnik/year/\">Конкурс «Человек года»</a></div></div><div class=\"carousel-item-aside\"><p class=\"first_child \">Приглашаем сотрудников университета принять участие в конкурсе профессионального мастерства</p>\n",
            "<p class=\"last_child \">Прием заявок — до 6 декабря</p></div></div><svg width=\"100%\" height=\"700\"><mask id=\"mask_5\"><circle r=\"10\" cx=\"100\" cy=\"100\" class=\"c-mask-circle\"></circle></mask><clipPath id=\"clip-path_5\"><circle r=\"10\" cx=\"100\" cy=\"100\" class=\"c-cp-circle\"></circle></clipPath></svg></div></div><div class=\"wrapper-inner\"><ol class=\"carousel-indicators\"><li data-slide-to=\"0\" data-target=\"#carousel-id85\" class=\"active radial-progress\"><div class=\"circle\"><div class=\"mask full\"><div class=\"fill\"></div></div><div class=\"mask half\"><div class=\"fill\"></div><div class=\"fill fix\"></div></div></div></li><li data-slide-to=\"1\" data-target=\"#carousel-id85\" class=\" radial-progress\"><div class=\"circle\"><div class=\"mask full\"><div class=\"fill\"></div></div><div class=\"mask half\"><div class=\"fill\"></div><div class=\"fill fix\"></div></div></div></li><li data-slide-to=\"2\" data-target=\"#carousel-id85\" class=\" radial-progress\"><div class=\"circle\"><div class=\"mask full\"><div class=\"fill\"></div></div><div class=\"mask half\"><div class=\"fill\"></div><div class=\"fill fix\"></div></div></div></li><li data-slide-to=\"3\" data-target=\"#carousel-id85\" class=\" radial-progress\"><div class=\"circle\"><div class=\"mask full\"><div class=\"fill\"></div></div><div class=\"mask half\"><div class=\"fill\"></div><div class=\"fill fix\"></div></div></div></li><li data-slide-to=\"4\" data-target=\"#carousel-id85\" class=\" radial-progress\"><div class=\"circle\"><div class=\"mask full\"><div class=\"fill\"></div></div><div class=\"mask half\"><div class=\"fill\"></div><div class=\"fill fix\"></div></div></div></li></ol></div></div></div><div class=\"content\" id=\"js-content\"><div class=\"cols-flex\"><div class=\"col3_video\"><iframe width=\"720\" height=\"405\" frameBorder=\"0\" allow=\"clipboard-write; autoplay\" webkitAllowFullScreen=\"true\" mozallowfullscreen=\"true\" allowFullScreen=\"true\" src=\"https://rutube.ru/play/embed/ca764d454672e1c4a7b46fac036e5d34\"></iframe></div><div class=\"col1_events\"><div class=\"w-events js-w-events\"><script type=\"text/javascript\">window['events'] = [{'title':'Конкурс Программы поддержки соискателей ученой степени доктора наук, а также их научных консультантов на заключительном этапе подготовки диссертации','category':'Университетская жизнь','href':'/university/events/university-life/2023-05/4711/','begin_datetime':'2023-05-20 09:00:00','end_datetime':'2024-12-22 19:00:00'},{'title':'Прием документов на соискание Государственной премии Российской Федерации в области науки и технологий','category':'Наука','href':'/science/events/lectures/2024-09/5607/','begin_datetime':'2024-09-15 09:00:00','end_datetime':'2024-12-15 19:00:00'},{'title':'XI Всероссийский инженерный конкурс','category':'Конкурсы, олимпиады','href':'/university/events/contests/2024-09/5642/','begin_datetime':'2024-09-16 09:00:00','end_datetime':'2024-12-01 19:00:00'},{'title':'Программа творческого развития студентов «Арт-кластер»','category':'Программа творческого развития студентов «Арт-кластер»','href':'/university/events/art_claster/2024-09/5655/','begin_datetime':'2024-09-20 09:00:00','end_datetime':'2024-12-31 18:00:00'},{'title':'Арт-кластер. Направление «Медиа»','category':'Программа творческого развития студентов «Арт-кластер»','href':'/university/events/art_claster/2024-09/5664/','begin_datetime':'2024-09-21 18:00:00','end_datetime':'2024-12-30 20:00:00'},{'title':'Арт-кластер. Направление «Театр и импровизация»','category':'Программа творческого развития студентов «Арт-кластер»','href':'/university/events/art_claster/2024-09/5657/','begin_datetime':'2024-09-23 17:00:00','end_datetime':'2024-12-30 20:00:00'},{'title':'Арт-кластер. Инструментальное направление','category':'Программа творческого развития студентов «Арт-кластер»','href':'/university/events/art_claster/2024-09/5661/','begin_datetime':'2024-09-23 18:00:00','end_datetime':'2024-12-30 20:00:00'},{'title':'Арт-кластер. Литературное направление','category':'Программа творческого развития студентов «Арт-кластер»','href':'/university/events/art_claster/2024-09/5660/','begin_datetime':'2024-09-23 18:00:00','end_datetime':'2024-12-30 20:00:00'},{'title':'Арт-кластер. Вокальное направление','category':'Программа творческого развития студентов «Арт-кластер»','href':'/university/events/art_claster/2024-09/5662/','begin_datetime':'2024-09-24 18:00:00','end_datetime':'2024-12-30 20:00:00'},{'title':'Арт-кластер. Направление «Event-менеджмент»','category':'Программа творческого развития студентов «Арт-кластер»','href':'/university/events/art_claster/2024-09/5663/','begin_datetime':'2024-09-30 18:00:00','end_datetime':'2024-12-30 20:00:00'},{'title':'Арт-кластер. Художественное направление','category':'Программа творческого развития студентов «Арт-кластер»','href':'/university/events/art_claster/2024-10/5656/','begin_datetime':'2024-10-04 19:00:00','end_datetime':'2024-12-30 20:00:00'},{'title':'Набор слушателей Зимней школы по китайскому языку','category':'Тренинги и мастер-классы','href':'/university/events/workshops/2024-10/5712/','begin_datetime':'2024-10-18 09:00:00','end_datetime':'2024-12-31 19:00:00'},{'title':'Регистрация участников олимпиады «Когнитивные технологии»','category':'Конкурсы, олимпиады','href':'/university/events/contests/2024-11/5749/','begin_datetime':'2024-11-03 09:00:00','end_datetime':'2024-12-13 19:00:00'},{'title':'Программа Сбера DeepTech Studio','category':'Тренинги и мастер-классы','href':'/university/events/workshops/2024-11/5769/','begin_datetime':'2024-11-03 09:00:00','end_datetime':'2024-11-30 19:00:00'},{'title':'Спортивно-патриотический проект «Зарница.МИСИС»','category':'Зарница.МИСИС','href':'/university/events/zarnica_misis/2024-11/5741/','begin_datetime':'2024-11-09 09:00:00','end_datetime':'2025-05-31 19:00:00'},{'title':'Академия дебатов','category':'Тренинги и мастер-классы','href':'/university/events/workshops/2024-11/5764/','begin_datetime':'2024-11-12 17:00:00','end_datetime':'2024-12-03 18:30:00'},{'title':'Грантовый конкурс Фонда Потанина для преподавателей','category':'Конкурсы, олимпиады','href':'/university/events/contests/2024-11/5775/','begin_datetime':'2024-11-15 09:00:00','end_datetime':'2025-01-14 19:00:00'},{'title':'Фотоконкурс «Улыбнись, МИСИС!»','category':'Конкурсы, олимпиады','href':'/university/events/contests/2024-11/5774/','begin_datetime':'2024-11-15 09:00:00','end_datetime':'2024-12-01 19:00:00'},{'title':'Ежегодный мониторинг удовлетворенности студентов НИТУ МИСИС — 2024','category':'Университетская жизнь','href':'/university/events/university-life/2024-11/5783/','begin_datetime':'2024-11-20 09:00:00','end_datetime':'2024-12-31 19:00:00'},{'title':'Панельная дискуссия «Вызовы безопасности молодежи»','category':'Университетская жизнь','href':'/university/events/university-life/2024-11/5782/','begin_datetime':'2024-11-21 16:00:00','end_datetime':'2024-12-04 18:00:00'},{'title':'Прием заявок на конкурс «Студент года-2024»','category':'Университетская жизнь','href':'/university/events/university-life/2024-11/5805/','begin_datetime':'2024-11-27 09:00:00','end_datetime':'2024-12-20 19:00:00'},{'title':'Грантовый конкурс «Альфа-шанс»','category':'Конкурсы, олимпиады','href':'/university/events/contests/2024-11/5812/','begin_datetime':'2024-11-29 09:00:00','end_datetime':'2024-12-29 19:00:00'},{'title':'Открытый турнир по силе удара','category':'Спорт','href':'/university/events/sport/2024-11/5813/','begin_datetime':'2024-11-29 15:00:00','end_datetime':'2024-11-29 19:00:00'},{'title':'VIII Всероссийская научно-практическая конференция «День спортивной информатики»','category':'Конференции','href':'/university/events/conference/2024-12/5802/','begin_datetime':'2024-12-02 10:00:00','end_datetime':'2024-12-02 19:30:00'},{'title':'Школа волонтера НИТУ МИСИС — 2024','category':'Тренинги и мастер-классы','href':'/university/events/workshops/2024-12/5807/','begin_datetime':'2024-12-02 16:00:00','end_datetime':'2024-12-03 18:30:00'},{'title':'Встреча разговорного клуба русского языка: «Сторителлинг»','category':'Университетская жизнь','href':'/university/events/university-life/2024-12/5809/','begin_datetime':'2024-12-02 16:20:00','end_datetime':'2024-12-02 18:00:00'},{'title':'Неделя ментального здоровья','category':'Адаптационный проект «Погружение»','href':'/university/events/dip/2024-12/5803/','begin_datetime':'2024-12-02 16:20:00','end_datetime':'2024-12-06 18:00:00'},{'title':'Экскурсия в передовую инженерную школу «Материаловедение, аддитивные и сквозные технологии» 3 декабря','category':'Экскурсии в НИТУ МИСИС','href':'/university/events/excursions/2024-12/5441/','begin_datetime':'2024-12-03 16:00:00','end_datetime':'2024-12-03 17:00:00'},{'title':'Лекция Александра Аузана «Контуры будущего»','category':'Рождественские лекции','href':'/university/events/christmas-lectures/2024-12/5793/','begin_datetime':'2024-12-03 16:30:00','end_datetime':'2024-12-03 18:00:00'},{'title':'Лекция «Нобелиада Дмитрия Менделеева»','category':'Университетская жизнь','href':'/university/events/university-life/2024-12/5801/','begin_datetime':'2024-12-03 16:30:00','end_datetime':'2024-12-03 18:00:00'},{'title':'Конференция «Патриотическое воспитание в системе высшего образования»','category':'Университетская жизнь','href':'/university/events/university-life/2024-12/5720/','begin_datetime':'2024-12-04 11:00:00','end_datetime':'2024-12-04 19:00:00'},{'title':'Экскурсия в Институт физики и квантовой инженерии. 4 декабря','category':'Экскурсии в НИТУ МИСИС','href':'/university/events/excursions/2024-12/5553/','begin_datetime':'2024-12-04 16:00:00','end_datetime':'2024-12-04 17:00:00'},{'title':'Экскурсия в Институт новых материалов НИТУ МИСИС. 4 декабря','category':'Экскурсии в НИТУ МИСИС','href':'/university/events/excursions/2024-12/5504/','begin_datetime':'2024-12-04 17:00:00','end_datetime':'2024-12-04 18:00:00'},{'title':'Тренинг «Личный бренд: как и зачем его развивать студентам» и экскурсия в Kept','category':'Профнавигация','href':'/university/events/future/2024-12/5795/','begin_datetime':'2024-12-04 17:30:00','end_datetime':'2024-12-04 19:00:00'},{'title':'Лекция «Эпоха дворцовых переворотов» из цикла «Русская история в шедеврах»','category':'Университетская жизнь','href':'/university/events/university-life/2024-12/5691/','begin_datetime':'2024-12-04 19:00:00','end_datetime':'2024-12-04 20:00:00'},{'title':'Заседание Совета ветеранов Университета МИСИС','category':'Университетская жизнь','href':'/university/events/university-life/2024-12/5804/','begin_datetime':'2024-12-05 15:00:00','end_datetime':'2025-01-01 17:00:00'},{'title':'VI Межвузовский конкурс по русскому языку и культуре речи «Самый грамотный студент»','category':'Конкурсы, олимпиады','href':'/university/events/contests/2024-12/5781/','begin_datetime':'2024-12-05 16:00:00','end_datetime':'2024-12-05 21:00:00'},{'title':'Лекция Всеволода Белоусова «Термогенетика: как Деду Морозу заставить оленей быстрее везти сани?»','category':'Рождественские лекции','href':'/university/events/christmas-lectures/2024-12/5790/','begin_datetime':'2024-12-05 16:30:00','end_datetime':'2024-12-05 18:00:00'},{'title':'25-летний юбилей направления «Лингвистика» в НИТУ МИСИС','category':'Университетская жизнь','href':'/university/events/university-life/2024-12/5810/','begin_datetime':'2024-12-05 16:30:00','end_datetime':'2024-12-05 19:30:00'},{'title':'Экскурсия в ОТП Банк','category':'Профнавигация','href':'/university/events/future/2024-12/5796/','begin_datetime':'2024-12-06 15:30:00','end_datetime':'2024-12-06 17:00:00'},{'title':'Экскурсия в Институт экономики и управления НИТУ МИСИС. 10 декабря','category':'Экскурсии в НИТУ МИСИС','href':'/university/events/excursions/2024-12/5549/','begin_datetime':'2024-12-10 16:00:00','end_datetime':'2024-12-10 17:00:00'},{'title':'Лекция Александра Яковенко «Что ждёт мир и Россию в ближайшее время»','category':'Рождественские лекции','href':'/university/events/christmas-lectures/2024-12/5791/','begin_datetime':'2024-12-10 16:30:00','end_datetime':'2024-12-10 18:00:00'},{'title':'Экскурсия в Горный институт НИТУ МИСИС. 10 декабря','category':'Экскурсии в НИТУ МИСИС','href':'/university/events/excursions/2024-12/5507/','begin_datetime':'2024-12-10 16:30:00','end_datetime':'2024-12-10 17:30:00'},{'title':'Экскурсия в Институт технологий НИТУ МИСИС. 10 декабря','category':'Экскурсии в НИТУ МИСИС','href':'/university/events/excursions/2024-12/5506/','begin_datetime':'2024-12-10 16:30:00','end_datetime':'2024-12-10 17:30:00'},{'title':'Экскурсия в Институт базового образования НИТУ МИСИС. 10 декабря','category':'Экскурсии в НИТУ МИСИС','href':'/university/events/excursions/2024-12/5521/','begin_datetime':'2024-12-11 16:00:00','end_datetime':'2024-12-11 17:00:00'},{'title':'«Математический калейдоскоп-2024» для студентов второго курса','category':'Университетская жизнь','href':'/university/events/university-life/2024-12/5806/','begin_datetime':'2024-12-11 16:30:00','end_datetime':'2024-12-11 18:30:00'},{'title':'Экскурсия в Институт компьютерных наук НИТУ МИСИС. 11 декабря','category':'Экскурсии в НИТУ МИСИС','href':'/university/events/excursions/2024-12/5555/','begin_datetime':'2024-12-11 16:30:00','end_datetime':'2024-12-11 17:30:00'},{'title':'Лекция Фёдора Сенатова «Биомиметика новогодней ёлки»','category':'Рождественские лекции','href':'/university/events/christmas-lectures/2024-12/5792/','begin_datetime':'2024-12-12 16:30:00','end_datetime':'2024-12-12 18:00:00'},{'title':'День открытых дверей Университета МИСИС','category':'День открытых дверей','href':'/university/events/dod/2024-12/5778/','begin_datetime':'2024-12-14 12:00:00','end_datetime':'2024-12-23 19:00:00'},{'title':'Лекция Сергея Чернышева «В новый год на крыльях успеха!»','category':'Рождественские лекции','href':'/university/events/christmas-lectures/2024-12/5798/','begin_datetime':'2024-12-17 16:30:00','end_datetime':'2024-12-17 18:00:00'},{'title':'Лекция «Всесветлейшая Eлисавет» из цикла «Русская история в шедеврах»','category':'Университетская жизнь','href':'/university/events/university-life/2024-12/5692/','begin_datetime':'2024-12-18 19:00:00','end_datetime':'2024-12-18 20:00:00'},{'title':'Расширенное заседание «Актуальные вопросы развития изобретательской и рационализаторской деятельности в 2025 году»','category':'Конференции','href':'/university/events/conference/2024-12/5811/','begin_datetime':'2024-12-19 15:00:00','end_datetime':'2024-12-19 18:30:00'},{'title':'Конкурсный отбор программы «Стипендия Правительства Китая»','category':'Конкурсы, олимпиады','href':'/university/events/contests/2024-12/5785/','begin_datetime':'2024-12-20 09:00:00','end_datetime':'2024-12-20 19:00:00'},{'title':'X Всероссийская студенческая Актионада','category':'Конкурсы, олимпиады','href':'/university/events/contests/2024-12/5797/','begin_datetime':'2024-12-25 09:00:00','end_datetime':'2024-12-25 19:00:00'},{'title':'Международный научный симпозиум «Неделя горняка-2025»','category':'Конференции','href':'/university/events/conference/2025-02/5033/','begin_datetime':'2025-02-03 09:00:00','end_datetime':'2025-02-07 19:00:00'}]</script><script type=\"text/template\" id=\"templateEventsWidget\">\n",
            "\t\t\t\t\n",
            "\t\t\t\t\t<div class=\"block c-dark\">\n",
            "\t\t\t\t\t\t<div class=\"date-choose\">\n",
            "\t\t\t\t\t\t\t<div class=\"day\"><%= day %></div>\n",
            "\t\t\t\t\t\t\t<div class=\"month\"><%= month %></div>\n",
            "\t\t\t\t\t\t</div>\n",
            "\t\t\t\t\t\t<span class=\"prev\">prev</span>\n",
            "\t\t\t\t\t\t<span class=\"next\">next</span>\n",
            "\t\t\t\t\t</div>\n",
            "\t\t\t\t\t<% forEach(events, function(event) { %>\n",
            "\t\t\t\t\t<div class=\"block event c-light\">\n",
            "\t\t\t\t\t\t<div class=\"time\"><%= event.time %></div>\n",
            "\t\t\t\t\t\t<div class=\"b-title b-title_w\"><%= event.category %></div>\n",
            "\t\t\t\t\t\t<a href=\"<%= event.href %>\"\n",
            "\t\t\t\t\t\t   class=\"link fill-out\"><%= event.title %></a>\n",
            "\t\t\t\t\t</div>\n",
            "\t\t\t\t\t<% }) %>\n",
            "\t\t\t\t\t<div class=\"block event c-light\">\n",
            "\t\t\t\t\t\t<a href=\"/university/events/\"\n",
            "\t\t\t\t\t\t   class=\"b-title fill-out link with-icon with-icon--gallery-arrow\">Все события</a>\n",
            "\t\t\t\t\t</div>\n",
            "\t\t\t\t\n",
            "\t\t\t</script></div></div></div><div class=\"news js-news\"><ul class=\"nav nav-tabs\"><li><a href=\"/university/news/\">Новости</a></li><li><a href=\"/university/news/misc/\" type=\"button\" class=\"articles-category-selector-opener with-icon with-icon--settings2 js-articles-category-selector-opener\">Свежие</a></li></ul><div class=\"articles-category-selector js-articles-category-selector\"><div class=\"col-md-1\"><div class=\"articles-category-item active\"><a href=\"/university/news/misc/\" class=\"link_pseudo\" data-ajax=\"/university/news/ajax/\">Свежие</a></div><div class=\"articles-category-item\"><a href=\"/university/news/5-100/\" class=\"link_pseudo\" data-ajax=\"/university/news/ajax/3/\">5-100</a></div><div class=\"articles-category-item\"><a href=\"/university/news/science/\" class=\"link_pseudo\" data-ajax=\"/university/news/ajax/5/\">Наука</a></div><div class=\"articles-category-item\"><a href=\"/university/news/education/\" class=\"link_pseudo\" data-ajax=\"/university/news/ajax/6/\">Образование</a></div><div class=\"articles-category-item\"><a href=\"/university/news/cooperation/\" class=\"link_pseudo\" data-ajax=\"/university/news/ajax/7/\">Международное сотрудничество</a></div></div><div class=\"col-md-1\"><div class=\"articles-category-item\"><a href=\"/university/news/life/\" class=\"link_pseudo\" data-ajax=\"/university/news/ajax/8/\">Университетская жизнь</a></div><div class=\"articles-category-item\"><a href=\"/science/community/\" class=\"link_pseudo\" data-ajax=\"/university/news/ajax/15/\">Научное сообщество</a></div><div class=\"articles-category-item\"><a href=\"/science/fcp/\" class=\"link_pseudo\" data-ajax=\"/university/news/ajax/16/\">Федеральные целевые программы</a></div><div class=\"articles-category-item\"><a href=\"/university/news/business/\" class=\"link_pseudo\" data-ajax=\"/university/news/ajax/17/\">Взаимодействие с бизнесом</a></div><div class=\"articles-category-item\"><a href=\"/university/news/covid/\" class=\"link_pseudo\" data-ajax=\"/university/news/ajax/18/\">COVID-19</a></div></div><div class=\"col-md-1\"><div class=\"articles-category-item\"><a href=\"/applicants/reasons/news/\" class=\"link_pseudo\" data-ajax=\"/university/news/ajax/21/\">НИТУ МИСИС меняет мир</a></div><div class=\"articles-category-item\"><a href=\"/university/news/achievements/\" class=\"link_pseudo\" data-ajax=\"/university/news/ajax/22/\">Достижения студентов</a></div><div class=\"articles-category-item\"><a href=\"/university/news/congratulations/\" class=\"link_pseudo\" data-ajax=\"/university/news/ajax/23/\">Поздравления</a></div><div class=\"articles-category-item\"><a href=\"/university/news/developments/\" class=\"link_pseudo\" data-ajax=\"/university/news/ajax/24/\">Импортозамещение</a></div><div class=\"articles-category-item\"><a href=\"/university/news/exhibitions/\" class=\"link_pseudo\" data-ajax=\"/university/news/ajax/25/\">Мероприятия и выставки</a></div></div><div class=\"col-md-1\"><div class=\"articles-category-item\"><a href=\"/university/news/nti/\" class=\"link_pseudo\" data-ajax=\"/university/news/ajax/26/\">ЦИНТИ</a></div><div class=\"articles-category-item\"><a href=\"/university/news/prioritet_2030/\" class=\"link_pseudo\" data-ajax=\"/university/news/ajax/27/\">Программа «Приоритет-2030»</a></div></div></div><div class=\"grid-reset articles-content news-blocks js-articles-content\"><div class=\"col-xs-4 col-md-2 news-blocks__single\"><div class=\"b-tile b-cover\"><div class=\"b-tile__inner b-sq\"><span class=\"bg\" style=\"background-image:url(/files/29941/DSC_0247_picture.jpg)\"></span><div class=\"cont\"><div class=\"article-date\">сегодня, в 12:00</div><div class=\"article-summary\"><a href=\"/news/9431/\" class=\"fill-out link link_white\">Новый нейроимплантат на шаг ближе к пациентам с травмами спинного мозга</a></div></div></div></div></div><div class=\"col-xs-4 col-md-2 news-blocks__bar\"><div class=\"col-xs-2 b-tile\"><div class=\"b-tile__inner b-sq\"><span class=\"bg\" style=\"background-image:url(/files/29954/DSC_1821_preview_middle.jpg)\"></span><div class=\"cont\"><div class=\"article-date\">вчера</div><div class=\"article-summary\"><a href=\"/news/9433/\" class=\"fill-out link link_white\">Студенты завоевали золото международного хакатона, решив задачу от Европейского космического агентства</a></div></div></div></div><div class=\"col-xs-2 b-tile\"><div class=\"b-tile__inner b-sq\"><span class=\"bg\" style=\"background-image:url(/files/29948/DSC_6418_preview_middle.jpg)\"></span><div class=\"cont\"><div class=\"article-date\">вчера</div><div class=\"article-summary\"><a href=\"/news/9432/\" class=\"fill-out link link_white\">В Университете МИСИС прошла открытая тренировка по боксу для именитых чемпионов по различным видам спорта</a></div></div></div></div><div class=\"col-xs-2 b-tile\"><div class=\"b-tile__inner b-sq\"><span class=\"bg\" style=\"background-image:url(/files/29996/DSC_5572_preview_middle.jpg)\"></span><div class=\"cont\"><div class=\"article-date\">вчера</div><div class=\"article-summary\"><a href=\"/news/9435/\" class=\"fill-out link link_white\">Нам важно ваше мнение: в НИТУ МИСИС прошел «Открытый ректорат»</a></div></div></div></div><div class=\"col-xs-2 b-tile\"><a class=\"b-tile__inner b-sq b-sq_ctl\" href=\"/university/news/\"><span class=\"sq-ctl with-icon with-icon--arrow-next\">Читать<br>все новости</span></a></div></div></div></div></div><div class=\"wide_promo\"><div class=\"content\"><div class=\"col\"> <span class=\"giant-number\"> 48</span><br>\n",
            " лабораторий и инжиниринговых центров<br>\n",
            " мирового уровня. \n",
            "\t\t\t\t<div><br>\n",
            " \t\t\t\t</div>\n",
            "\t\t\t\t<p>В университете ежегодно открываются научно-исследовательские лаборатории с современным оборудованием, которое делает процесс обучения познавательным. </p>\n",
            "\t\t\t\t<h5 class=\"last_child \"><a href=\"/applicants/reasons/\">Причины поступать в Университет МИСИС</a></h5>\n",
            " \t\t\t</div><div class=\"col col__image\"><img alt=\"Микроскоп Axio Imager Z2\" src=\"/files/-/72c38b77326e10f4caa81b0f8aed4b1b/miscroscope.png\" width=\"668\" height=\"810\"><br>\n",
            " \t\t\t</div><div class=\"col col__info\">Микроскоп<br>\n",
            " Axio Imager Z2 \n",
            "\t\t\t</div></div></div><div class=\"content\" id=\"js-content\"><div class=\"cols-flex\"><div class=\"col3_grey\"><div class=\"col3_grey__inner c-dark\"><h1 class=\"first_child \">Университет науки и технологий МИСИС</h1>\n",
            "<div class=\"data\"><div class=\"row o\"><div class=\"col-md-2 col-sm-4\"><div class=\"col-inner \"> <span class=\"strong\"><a href=\"/applicants/school-leavers/pre-university-training/\">Довузовская подготовка</a></span> \n",
            "\t\t\t\t<p> Подготовительные курсы, подготовительное отделение, инженерная школа</p>\n",
            "\t\t\t\t<span class=\"strong\"><a href=\"/applicants/admission/baccalaureate-and-specialty/\">Подготовка специалистов и бакалавров</a></span> \n",
            "\t\t\t\t<p> Очная и заочная формы обучения</p>\n",
            "\t\t\t\t<span class=\"strong\">Подготовка <a href=\"/applicants/admission/magistracy/\">магистров</a> и <a href=\"/university/struktura-universiteta/centers/postgraduate/\">аспирантов</a></span> \n",
            "\t\t\t\t<p> Очная и заочная формы обучения</p>\n",
            "\t\t\t\t<p><a href=\"/applicants/admission/magistracy/faculties/\"><span class=\"strong\">Англоязычная магистратура</span></a></p>\n",
            "\t\t\t\t<span class=\"strong\"><a href=\"/university/prioritet-2030/digdep/\">Цифровая кафедра</a></span> \n",
            "\t\t\t\t<p>Получения новой профессии в ИТ-сфере для студентов</p>\n",
            "\t\t\t\t<a href=\"/university/mast/\"><span class=\"strong\">Передовая инженерная школа</span></a> \n",
            "\t\t\t\t<p>«Материаловедение, аддитивные и сквозные технологии»</p>\n",
            "\t\t\t\t<span class=\"strong\"><a target=\"_blank\" href=\"https://openedu.ru/university/misis/\">Открытое образование</a></span> \n",
            "\t\t\t\t<p class=\"last_child \">Курсы ведущих вузов России для каждого без ограничений</p>\n",
            "\t\t\t</div></div><div class=\"col-md-2 col-sm-4\"><div class=\"col-inner \"> <span class=\"strong\"><a href=\"/university/struktura-universiteta/instituty/inobr/\">Институт развития</a></span> \n",
            "\t\t\t\t<p>Профессиональное обучение для корпоративных клиентов и физических лиц</p>\n",
            "\t\t\t\t<span class=\"strong\"><a href=\"/university/struktura-universiteta/offices/umu/school-ped/\">Школа педагогического мастерства</a></span> \n",
            "\t\t\t\t<p>Повышение квалификации преподавателей</p>\n",
            "\t\t\t\t<a href=\"/business/dba/\"><span class=\"strong\">Центр развития передовых компетенций отрасле</span><span class=\"strong\">вых лидеров</span></a> \n",
            "\t\t\t\t<p> Образовательные программы MBA, DBA, EdD, DHM</p>\n",
            "\t\t\t\t<span class=\"strong\"><a href=\"/business/cppk/\">Профессиональная переподготовка и повышение квалификации</a></span> \n",
            "\t\t\t\t<p>Центр переподготовки и повышения квалификации (ЦППК)</p>\n",
            "\t\t\t\t<a href=\"/business/prof-schools/\"><span class=\"strong\">Центр развития кадрового потенциала (ЦРКП)</span></a> \n",
            "\t\t\t\t<p>Подготовка кадрового резерва для промышленных предприятий</p>\n",
            "\t\t\t\t<p class=\"last_child \"><span class=\"strong\"><a target=\"_blank\" href=\"https://portal-journals.misis.ru/\">Портал научных журналов Университета МИСИС</a></span></p>\n",
            "\t\t\t</div></div></div></div></div></div><div class=\"col1_grey\"><div class=\"col1_grey__inner c-dark\"><div class=\"first_child \"><br>\n",
            "</div>\n",
            "<div><br>\n",
            "</div>\n",
            "<p><a href=\"/university/mast/\"><img alt=\"\" src=\"/files/-/8bf2ea10ecc8ad6fe86f5fea1b8ad9ae/add.png\" width=\"70\" height=\"72\"></a></p>\n",
            "<h5><a href=\"/university/mast/\">Передовая инженерная школа «Материаловедение, аддитивные и сквозные технологии»</a></h5>\n",
            "<div class=\"last_child \"><br>\n",
            "\t<p>Узнайте больше о ПИШ МАСТ и перспективных программах магистратуры</p>\n",
            "\t<p class=\"last_child \"><a class=\"pretty-button_default\" href=\"/university/mast/\">Подробнее</a></p>\n",
            "</div></div></div></div><div class=\"col2_activities\"><div class=\"col2_activities__inner\"><h3 class=\"first_child \">Направления деятельности</h3><div id=\"carousel-id40\" class=\"carousel slide slider-container carousel-activities\"><div class=\"carousel-inner\" role=\"listbox\"><div class=\"item active\"><div class=\"item-inner-wrapper\"><div class=\"item-inner\"><a href=\"/university/prioritet-2030/\"><img alt=\"\" src=\"/files/-/e87e90b5773ae87cff57a3e488b83d4d/465454645.png\" width=\"310\" height=\"36\"></a><br>\n",
            "\t\t\t\t<a href=\"/university/prioritet-2030/\">Федеральная программа «Приоритет-2030»</a><br>\n",
            " \t\t\t</div></div></div><div class=\"item\"><div class=\"item-inner-wrapper\"><div class=\"item-inner\"> <a target=\"_blank\" href=\"https://openedu.ru/course/?uni=4&amp;status=all\"><img alt=\"\" src=\"/files/-/ab2397b667e1475ca0fa6fa9068d982d/openedu_footer_logo.png\" width=\"310\" height=\"186\"><br>\n",
            " Онлайн-курсы Университета МИСИС</a> \n",
            "\t\t\t</div></div></div><div class=\"item\"><div class=\"item-inner-wrapper\"><div class=\"item-inner\"> <a href=\"/university/struktura-universiteta/centers/career-center/\"><img alt=\"\" src=\"/files/-/9cf86d116652a6d51390cbe8d6104bdc/crop_image2_06092016.png\" width=\"310\" height=\"310\"><br>\n",
            " Центр карьеры </a> \n",
            "\t\t\t</div></div></div><div class=\"item\"><div class=\"item-inner-wrapper\"><div class=\"item-inner\"><a href=\"/university/scunivers/\"><img alt=\"\" src=\"/files/-/d7af489ff38c83c095e4a5fed48b4606/%D0%9D%D0%B0%D1%83%D0%BA%D0%B0_%D0%BB%D0%BE%D0%B3%D0%BE_%D0%B3%D0%BE%D1%80%D0%B8%D0%B7.png\" width=\"500\" height=\"131\"><br>\n",
            " Национальный проект «Наука и университеты»</a> \n",
            "\t\t\t</div></div></div><div class=\"item\"><div class=\"item-inner-wrapper\"><div class=\"item-inner\"> \n",
            "\t\t\t\t<h4 class=\"first_child \"><a target=\"_blank\" href=\"https://xn--2024-u4d6b7a9f1a.xn--p1ai/\"><img alt=\"\" src=\"/files/-/bc85196d79c08c9891f1d905ce1f6afe/god_semi_znak.png\" width=\"500\" height=\"281\"></a><br>\n",
            " \t\t\t\t</h4>\n",
            "\t\t\t\t<p class=\"last_child \"><a target=\"_blank\" href=\"https://xn--2024-u4d6b7a9f1a.xn--p1ai/\">2024 год объявлен Президентом России Годом семьи</a></p>\n",
            " \t\t\t</div></div></div></div><div class=\"wrapper-inner\"><ol class=\"carousel-indicators\"><li data-slide-to=\"0\" data-target=\"#carousel-id40\" class=\"active\"><li data-slide-to=\"1\" data-target=\"#carousel-id40\" class=\"\"><li data-slide-to=\"2\" data-target=\"#carousel-id40\" class=\"\"><li data-slide-to=\"3\" data-target=\"#carousel-id40\" class=\"\"><li data-slide-to=\"4\" data-target=\"#carousel-id40\" class=\"\"></ol></div></div></div></div><div class=\"col2_committee\"><div class=\"col2_committee__inner\"><h3> <a href=\"/applicants/\">Приемная комиссия</a></h3><div class=\"article-date\">17 ноября </div><p class=\"article-summary\"><a href=\"/applicants/notifications/2024-11/9399/\">Отборочный этап Многопрофильной инженерной олимпиаде «Звезда»</a></p><div class=\"article-date\">6 ноября </div><p class=\"article-summary\"><a href=\"/university/news/admission/2024-11/9395/\">ИТ-каникулы Университета МИСИС</a></p><div class=\"article-date\">5 ноября </div><p class=\"article-summary\"><a href=\"/university/news/admission/2024-11/9393/\">Инженерные каникулы в Университете МИСИС</a></p><div class=\"button-holder\"> <a class=\"pretty-button_light\" href=\"/university/send-email/email-reply/\">Задать вопрос Ответственному секретарю</a> \n",
            "\t\t\t\t<div class=\"first_child last_child \"><br>\n",
            "\t\t\t\t</div>\n",
            "\t\t\t</div></div></div></div><div class=\"wide_video\"><div class=\"player\"><div class=\"video-container\"><iframe frameborder=\"0\" src=\"https://www.youtube-nocookie.com/embed/sWoMmAMe_iM?showinfo=0&amp;rel=0&amp;playsinline=1&amp;cc_load_policy=0&amp;fs=0&amp;iv_load_policy=3&amp;loop=1&amp;modestbranding=1&amp;autohide=1&amp;enablejsapi=1&amp;playlist=sWoMmAMe_iM\"></iframe></div></div></div></div><footer class=\"footer\" itemscope=\"itemscope\" itemtype=\"http://schema.org/WPFooter\"><div class=\"wrapper-inner\" itemscope=\"true\" itemtype=\"https://schema.org/Organization\"><div><div class=\"copyright\"><div class=\"footer__header\">Пресс-служба</div>\n",
            "<div> \n",
            "\t<p> <a href=\"mailto:press@edu.misis.ru\">press@edu.misis.ru</a><br>\n",
            "\t\t<a href=\"mailto:press@edu.misis.ru\">Заявка на информационную поддержку</a><br>\n",
            "\t\t<a href=\"https://docs.google.com/forms/d/e/1FAIpQLSf4JFsYktjum18apah6YFfNlfRKJ9GJgSF0jISWwKeeunX1Zg/viewform\">Заявка на информационную поддержку для ученых</a>\n",
            "\t</p>\n",
            "</div>\n",
            "<div class=\"footer__header\">Нашли опечатку?</div>\n",
            "<p>Выделите ее и нажмите Ctrl+Enter. Спасибо за участие! </p>\n",
            "<p>Сервис предназначен только для отправки сообщений об орфографических и пунктуационных ошибках.</p></div></div><div> \n",
            "\t\t\t\t<div class=\"footer__header\">Приемная комиссия:</div>\n",
            "\t\t\t\t<p><nobr class=\"phone\"><a href=\"tel:+74996494480\">+7 499 649-44-80</a></nobr></p>\n",
            "\t\t\t\t<p><a href=\"mailto:vopros@misis.ru\">vopros@misis.ru</a></p>\n",
            "\t\t\t\t<div class=\"footer__header\"><a type=\"common\" href=\"/business/cct/\">Центр коммерциализации технологий</a></div>\n",
            "\t\t\t\t<p><nobr class=\"phone\"><a href=\"tel:+74956384657\">+7 495 638-46-57</a></nobr></p>\n",
            "\t\t\t\t<a href=\"mailto:cctt@misis.ru\">cctt@misis.ru</a><br>\n",
            "\t\t\t\t<br>\n",
            "\t\t\t\t<p><a type=\"common\" href=\"/university/job/\">Работа в Университете МИСИС</a></p>\n",
            "\t\t\t\t<p><a href=\"/sveden/common\" domain=\"misis.ru\">Сведения об образовательной организации</a></p>\n",
            " \t\t\t</div><div> \n",
            "\t\t\t\t<div>\n",
            "\t\t\t\t\t<div class=\"footer__header\">Канцелярия:</div>\n",
            "\t\t\t\t\t<a href=\"tel:+74959550032\" itemprop=\"telephone\">+7 495 955-00-32</a> <br>\n",
            " Факс: <a href=\"tel:+74992362105\" itemprop=\"faxNumber\">+7 499 236-21-05</a> <br>\n",
            "\t\t\t\t\t\t<a href=\"mailto:kancela@misis.ru\" itemprop=\"email\">kancela@misis.ru</a><br>\n",
            "\n",
            "<div itemprop=\"address\" itemscope=\"true\" itemtype=\"https://schema.org/PostalAddress\">\n",
            " <p><span itemprop=\"postalCode\">119049</span>, <span itemprop=\"addressLocality\">Москва</span>, <span itemprop=\"streetAddress\">Ленинский пр-кт, д. 4, стр. 1</span> </p></div>\n",
            "\t\t\t\t\t<div class=\"footer__contact-buttons footer__contact-buttons--mobile\"><p><a class=\"pretty-button_default\" type=\"common\" href=\"/university/send-email/email-reply/\">Написать нам</a><button class=\"pretty-button_default subscribe-button\">Подписаться на рассылку</button></p></div>\n",
            "\n",
            "\t\t\t\t\t<div class=\"footer__header\">Техническая поддержка сайта:</div>\n",
            "\t\t\t\t\t<p><a href=\"mailto:site@edu.misis.ru\">site@edu.misis.ru</a><br>\n",
            "\t\t\t\t\t\t<a type=\"common\" href=\"/map/\">Карта сайта</a> \n",
            "\t\t\t\t\t</p>\n",
            "\t\t\t\t\t<p><a type=\"common\" href=\"/university/tenders/\">Информация о закупках</a> <br>\n",
            "\t\t\t\t\t\t<a type=\"common\" href=\"/university/sved/protivodeystvie-korrupcii/\">Противодействие коррупции</a> \n",
            "\t\t\t\t\t</p>\n",
            "\t\t\t\t\t<div class=\"footer__header\">Бета-версия</div>\n",
            "\t\t\t\t\t<p> Вопросы и предложения <br>\n",
            " по сайту: <a href=\"mailto:site@edu.misis.ru\">site@edu.misis.ru</a> \n",
            "\t\t\t\t\t</p>\n",
            " \t\t\t\t</div>\n",
            " \t\t\t</div>\n",
            "<div><p>© <span itemprop=\"copyrightYear\">2024</span> <span itemprop=\"name\">Университет науки и технологий МИСИС</span></p><div class=\"footer__social\"><p><a href=\"https://vk.com/nust_misis\"><img src=\"/files/-/8a9837eb4e89145037268f7d5d292dab/vk.svg\" width=\"24\" height=\"24\" alt=\"Логотип ВКонтакте\"></a><a href=\"https://t.me/nust_misis\"><img src=\"/files/-/b4bb2f68dfabcbeabb9643dac2a2a5a1/telegram.svg\" width=\"24\" height=\"24\" alt=\"Логотип Телеграм\"></a><a href=\"https://ok.ru/group/56080999448603\"><img src=\"/files/-/b32a5ad1398d926e2dbfe2c1895a57b7/ok.svg\" width=\"24\" height=\"24\" alt=\"Логотип Одноклассников\"></a><a href=\"https://www.youtube.com/nustmisis\"><img src=\"/files/-/f0dde0cec309fd4a9e53c1fb2c6a5ed7/youtube.svg\" width=\"24\" height=\"24\" alt=\"Логотип YouTube\"></a><a href=\"http://zen.yandex.ru/id/5cd6e73edc906400b27ff7d7\"><img src=\"/files/-/369e673fa508a6f5d6ebecd4799cfc11/zen.svg\" width=\"24\" height=\"24\" alt=\"Логотип Яндекс Дзен\"></a><a href=\"https://rutube.ru/channel/23750838/\"><img src=\"/files/-/2221038be39cb79a7eccb12ef3fbee49/rutube.svg\" width=\"24\" height=\"24\" alt=\"Логотип Rutube\"></a></p></div><div class=\"footer__contact-buttons footer__contact-buttons--desktop\"><p><a class=\"pretty-button_default\" type=\"common\" href=\"/university/send-email/email-reply/\">Написать нам</a><button class=\"pretty-button_default subscribe-button\">Подписаться на рассылку</button></p></div><div class=\"footer__ministry-logo\"><p><a href=\"https://minobrnauki.gov.ru\"><img src=\"/files/-/0f73d3828e1de8e6f0c80578ca9e5578/ministry-logo.svg\" width=\"236\" height=\"69\" alt=\"Логотип министерства науки и высшего образования Российской Федерации\"></a></p></div><div class=\"made-in\">Сделано в <a class=\"art-lebedev\" href=\"http://www.artlebedev.ru/\"><svg xmlns=\"http://www.w3.org/2000/svg\" viewBox=\"0 0 100 46\"><path fill=\"#ffffff\" d=\"M99,1V33H1V1H99m1-1H0V34H100Z\"></path><path fill=\"#ffffff\" d=\"M80.65,22.75,80.05,27H79.8l-.34-4.13L78.81,4H77l1.5,26h2.62L83.6,4H81.53ZM67.57,4H64V30h3.44c2,0,2.56-1.16,2.56-3V6.77C70,4.92,69.54,4,67.57,4ZM68,27.46c0,1.32.06,1.54-1,1.54H66V5h1c1.06,0,1,.22,1,1.54ZM72,30h4V29H74V16h1.34V15H74V5h2V4H72ZM18,4,16,30h1.52l.74-8H20l.23,8H22.3L20.85,4Zm.33,17,.6-11.74.3-3.16h.57L20,9.26V21ZM43,4H41V30h4V29H43Zm3,26h4V29H48V16h1.33V15H48V5h2V4H46ZM30.71,5h1.67V30h1.86V5h1.6V4H30.71Zm5.91,22.94a1.19,1.19,0,1,0,1.2,1.19A1.2,1.2,0,0,0,36.62,27.94ZM55.71,4H51V30h3.94A2,2,0,0,0,57,27.91V17.63c0-1.25-.22-1.57-.67-1.82v-.56c.55-.28.67-.56.67-1.44V5.58C57,4.66,56.65,4,55.71,4ZM55,28.1c0,.69-.06.84-.61.84H53V16h1.41c.55,0,.59.3.59,1.42Zm0-14.46c0,1.09,0,1.3-.55,1.36H53V5h1.44c.47,0,.57.22.57.79ZM27.59,4H24V30h2V18h1.33c.61,0,.67.28.67,1V30h2V20.11c0-1.42.07-1.79-.73-2.26v-.6c.53-.06.74-.13.74-1.54V7C30,5.16,29.55,4,27.59,4ZM28,16c0,.81,0,1-.64,1H26V5l.84,0c1,0,1.16.7,1.16,2ZM59,30h4V29H61V16h1.34V15H61V5h2V4H59Z\"></path><path fill=\"#ffffff\" d=\"M3.5,39.85a1,1,0,0,0-1.1-1.08A2.3,2.3,0,0,0,1,39.35l-.41-.5A2.71,2.71,0,0,1,2.53,38a1.76,1.76,0,0,1,1.91,1.83c0,1.54-1.77,3.24-2.79,4.18H4.53v.79h-4v-.65C1.53,43.15,3.5,41.42,3.5,39.85Z\"></path><path fill=\"#ffffff\" d=\"M8.48,45c-1.86,0-2.39-2-2.39-3.47S6.62,38,8.48,38s2.39,2,2.39,3.48S10.34,45,8.48,45Zm0-6.27C7.21,38.7,7,40.54,7,41.5s.23,2.81,1.5,2.81S10,42.46,10,41.5,9.75,38.7,8.48,38.7Z\"></path><path fill=\"#ffffff\" d=\"M12.25,39.33l1.94-1.15h.57v6l1.2.22v.44H12.67v-.44l1.2-.22v-5l-1.46.54Z\"></path><path fill=\"#ffffff\" d=\"M20,45h0c-1.46,0-2.26-1-2.26-3.06,0-1.85.87-3.9,2.68-3.9a2.55,2.55,0,0,1,1.5.47l-.33.65a2.27,2.27,0,0,0-1.2-.44c-1.18,0-1.58,1.29-1.71,2.46a2.19,2.19,0,0,1,1.47-.57,2,2,0,0,1,2.08,2.12A2.21,2.21,0,0,1,20,45Zm0-.66a1.45,1.45,0,0,0,1.32-1.6A1.33,1.33,0,0,0,20,41.21a1.87,1.87,0,0,0-1.36.64c0,.11,0,.22,0,.32C18.66,43,18.92,44.31,20,44.31Z\"></path></svg>Студии Артемия Лебедева</a><br><a href=\"http://www.artlebedev.ru/misis/\">Информация о сайте</a></div></div></div></footer><div class=\"cookie-message cookie-message--hidden js-cookie-agreement\"><div class=\"cookie-message__text\">Наш сайт использует файлы cookie.<br>\n",
            "      Мы не идентифицируем вас, а улучшаем работу сайта.<br>\n",
            "      Оставаясь, вы даете согласие на обработку файлов cookie.</div><button type=\"button\" class=\"pretty-button_light js-cookie-agreement-button\" tabindex=\"1\">Я согласен</button></div></div><button class=\"scroll-button hidden js-scroll-button\"><svg xmlns=\"http://www.w3.org/2000/svg\" width=\"50\" height=\"50\" viewBox=\"0 0 50 50\" fill=\"none\"><rect width=\"50\" height=\"50\" rx=\"25\" fill=\"currentColor\"></rect><path fill-rule=\"evenodd\" clip-rule=\"evenodd\" d=\"M12.8789 24.2337L23.9768 13.9021C24.5527 13.366 25.445 13.366 26.021 13.9021L37.1188 24.2337L35.0747 26.4295L26.4989 18.4458L26.4989 36.5L23.4989 36.5L23.4989 18.4458L14.9231 26.4295L12.8789 24.2337Z\" fill=\"#0541F0\"></path></svg></button><div class=\"modal modal-fullscreen fade modal-sitemap\" tabindex=\"-1\" role=\"dialog\" aria-labelledby=\"gridSystemModalLabel\" id=\"siteMapModal\"><div class=\"modal-dialog\" role=\"document\"><div class=\"modal-content\"><button type=\"button\" class=\"close with-icon with-icon--close\" data-dismiss=\"modal\" aria-label=\"Close\"><span aria-hidden=\"true\">×</span></button><div class=\"logo-white-text navbar-brand\"><span title=\"Университет науки и технологий МИСИС\" class=\"strong selected\"><img alt=\"Университет науки и технологий МИСИС\" src=\"/files/-/9eb09a0e37d7c55e6a906444b415a653/misis_logo_white_rus.svg\" width=\"195\" height=\"77\"></span></div><div class=\"logo-black-text navbar-brand\"><span title=\"Университет науки и технологий МИСИС\" class=\"strong selected\"><img alt=\"Университет науки и технологий МИСИС\" src=\"/files/-/dbfd60c08f13104d63a4652ea7c43c68/misis_logo_black_rus.svg\" width=\"195\" height=\"77\"></span></div><div class=\"modal-body links-white\"></div></div></div></div><div class=\"subscribe-popup\"><div class=\"subscribe-popup_body\"><div class=\"subscribe-popup_content\"><div class=\"subscribe-header\"><a class=\"close\">×</a></div><div class=\"subscribe-form_container\"><script data-b24-form=\"inline/47/vjsjfu\" data-skip-moving=\"true\">(function(w,d,u){var s=d.createElement('script');s.async=true;s.src=u+'?'+(Date.now()/180000|0);var h=d.getElementsByTagName('script')[0];h.parentNode.insertBefore(s,h);})(window,document,'https://crm.misis.ru/upload/crm/form/loader_47_vjsjfu.js');</script></div></div></div></div><link href=\"/rev-29/f/assets/misis-2.bundle.css\" media=\"all\" src=\"misis-2.bundle.css\" rel=\"preload\" place=\"body\" as=\"style\" onload=\"this.rel='stylesheet'\"><link href=\"/rev-29/f/assets/contrast.bundle.css\" media=\"all\" src=\"contrast.bundle.css\" rel=\"preload\" place=\"body\" as=\"style\" onload=\"this.rel='stylesheet'\"><link href=\"/rev-29/f/assets/home.bundle.css\" media=\"all\" src=\"home.bundle.css\" rel=\"preload\" place=\"body\" as=\"style\" onload=\"this.rel='stylesheet'\"><script src=\"/rev-29/f/assets/misis.bundle.js\"></script></body></html>\n"
          ]
        }
      ],
      "source": [
        "def benchmark(func):\n",
        "    import time\n",
        "\n",
        "    def wrapper(*args, **kwargs):\n",
        "        start = time.time()\n",
        "        return_value = func(*args, **kwargs)\n",
        "        end = time.time()\n",
        "        print('[*] Время выполнения: {} секунд.'.format(end-start))\n",
        "        return return_value\n",
        "    return wrapper\n",
        "\n",
        "@benchmark\n",
        "def fetch_webpage(url):\n",
        "    import requests\n",
        "    webpage = requests.get(url)\n",
        "    return webpage.text\n",
        "\n",
        "webpage = fetch_webpage('https://misis.ru')\n",
        "print(webpage)"
      ]
    },
    {
      "cell_type": "markdown",
      "id": "acquired-aspect",
      "metadata": {
        "id": "acquired-aspect"
      },
      "source": [
        "Как вы видите, аргументы декорируемой функции передаются функции-обёртке, после чего с ними можно делать что угодно. Можно изменять аргументы и затем передавать их декорируемой функции, а можно оставить их как есть или вовсе забыть про них и передать что-нибудь совсем другое. То же касается возвращаемого из декорируемой функции значения, с ним тоже можно делать что угодно."
      ]
    },
    {
      "cell_type": "markdown",
      "id": "determined-toolbox",
      "metadata": {
        "id": "determined-toolbox"
      },
      "source": [
        "Декораторы с аргументами\n"
      ]
    },
    {
      "cell_type": "code",
      "execution_count": null,
      "id": "fifteen-abuse",
      "metadata": {
        "id": "fifteen-abuse",
        "outputId": "a8403775-c41f-47c2-a009-b2104af28613"
      },
      "outputs": [
        {
          "name": "stdout",
          "output_type": "stream",
          "text": [
            "[*] Среднее время выполнения: 0.14998011589050292 секунд.\n",
            "<html><head></head><body><header>\n",
            "<title>http://info.cern.ch</title>\n",
            "</header>\n",
            "\n",
            "<h1>http://info.cern.ch - home of the first website</h1>\n",
            "<p>From here you can:</p>\n",
            "<ul>\n",
            "<li><a href=\"http://info.cern.ch/hypertext/WWW/TheProject.html\">Browse the first website</a></li>\n",
            "<li><a href=\"http://line-mode.cern.ch/www/hypertext/WWW/TheProject.html\">Browse the first website using the line-mode browser simulator</a></li>\n",
            "<li><a href=\"http://home.web.cern.ch/topics/birth-web\">Learn about the birth of the web</a></li>\n",
            "<li><a href=\"http://home.web.cern.ch/about\">Learn about CERN, the physics laboratory where the web was born</a></li>\n",
            "</ul>\n",
            "</body></html>\n",
            "\n"
          ]
        }
      ],
      "source": [
        "def benchmark(iters):\n",
        "    def actual_decorator(func):\n",
        "        import time\n",
        "\n",
        "        def wrapper(*args, **kwargs):\n",
        "            total = 0\n",
        "            for i in range(iters):\n",
        "                start = time.time()\n",
        "                return_value = func(*args, **kwargs)\n",
        "                end = time.time()\n",
        "                total = total + (end-start)\n",
        "            print('[*] Среднее время выполнения: {} секунд.'.format(total/iters))\n",
        "            return return_value\n",
        "\n",
        "        return wrapper\n",
        "    return actual_decorator\n",
        "\n",
        "\n",
        "@benchmark(iters=10)\n",
        "def fetch_webpage(url):\n",
        "    import requests\n",
        "    webpage = requests.get(url)\n",
        "    return webpage.text\n",
        "\n",
        "webpage = fetch_webpage('http://info.cern.ch')\n",
        "print(webpage)"
      ]
    },
    {
      "cell_type": "markdown",
      "id": "touched-costa",
      "metadata": {
        "id": "touched-costa"
      },
      "source": [
        "Декоратор принимает функцию в качестве аргумента и возвращает функцию.\n"
      ]
    },
    {
      "cell_type": "markdown",
      "id": "opening-feeling",
      "metadata": {
        "id": "opening-feeling"
      },
      "source": [
        "Исполозать кешер в качестве декораторов\n"
      ]
    },
    {
      "cell_type": "code",
      "execution_count": null,
      "id": "satisfied-princess",
      "metadata": {
        "tags": [],
        "id": "satisfied-princess"
      },
      "outputs": [],
      "source": [
        "def memoize_func(f):\n",
        "    memo = dict()\n",
        "    def func(*args):\n",
        "        print(f'Run with args={args}, memo={memo}')\n",
        "        if args not in memo:\n",
        "            memo[args] = f(*args)\n",
        "        return memo[args]\n",
        "\n",
        "    return func"
      ]
    },
    {
      "cell_type": "code",
      "execution_count": null,
      "id": "outstanding-parks",
      "metadata": {
        "tags": [],
        "id": "outstanding-parks"
      },
      "outputs": [],
      "source": [
        "def benchmark(func):\n",
        "    import time\n",
        "\n",
        "    def wrapper(*args, **kwargs):\n",
        "        start = time.time()\n",
        "        return_value = func(*args, **kwargs)\n",
        "        end = time.time()\n",
        "        print('[*] Время выполнения: {} секунд.'.format(end-start))\n",
        "        return return_value\n",
        "    return wrapper\n",
        "@memoize_func\n",
        "\n",
        "def func(a, b):\n",
        "    print(f'    Run func({a}, {b})')\n",
        "    return a ** b\n"
      ]
    },
    {
      "cell_type": "code",
      "execution_count": null,
      "id": "piano-covering",
      "metadata": {
        "tags": [],
        "id": "piano-covering",
        "outputId": "71dd495d-0c23-4b8a-e597-d30b74ab0f2f"
      },
      "outputs": [
        {
          "name": "stdout",
          "output_type": "stream",
          "text": [
            "Run with args=(1, 9), memo={(1, 9): 1}\n"
          ]
        },
        {
          "data": {
            "text/plain": [
              "1"
            ]
          },
          "execution_count": 142,
          "metadata": {},
          "output_type": "execute_result"
        }
      ],
      "source": [
        "func(1,9)"
      ]
    },
    {
      "cell_type": "code",
      "execution_count": null,
      "id": "piano-virginia",
      "metadata": {
        "id": "piano-virginia",
        "outputId": "6521b8ae-fe33-44b9-dc4f-2ba829290fab"
      },
      "outputs": [
        {
          "name": "stdout",
          "output_type": "stream",
          "text": [
            "Run with args=(1, 9), memo={(1, 9): 1}\n"
          ]
        },
        {
          "data": {
            "text/plain": [
              "1"
            ]
          },
          "execution_count": 238,
          "metadata": {},
          "output_type": "execute_result"
        }
      ],
      "source": [
        "func(1,9)"
      ]
    },
    {
      "cell_type": "code",
      "execution_count": null,
      "id": "premium-publisher",
      "metadata": {
        "id": "premium-publisher",
        "outputId": "a5acf319-e811-43ab-ba57-ec426106175f"
      },
      "outputs": [
        {
          "name": "stdout",
          "output_type": "stream",
          "text": [
            "Run with args=(1, 9), memo={(1, 9): 1}\n"
          ]
        },
        {
          "data": {
            "text/plain": [
              "1"
            ]
          },
          "execution_count": 312,
          "metadata": {},
          "output_type": "execute_result"
        }
      ],
      "source": [
        "func(1,9)"
      ]
    },
    {
      "cell_type": "code",
      "execution_count": null,
      "id": "empty-lawrence",
      "metadata": {
        "tags": [],
        "id": "empty-lawrence",
        "outputId": "83fbc272-eed2-4963-a1b2-e6885062525d"
      },
      "outputs": [
        {
          "name": "stdout",
          "output_type": "stream",
          "text": [
            "Run with args=(2, 2), memo={(1, 9): 1, (2, 2): 4}\n"
          ]
        },
        {
          "data": {
            "text/plain": [
              "4"
            ]
          },
          "execution_count": 144,
          "metadata": {},
          "output_type": "execute_result"
        }
      ],
      "source": [
        "func(2,2)"
      ]
    },
    {
      "cell_type": "code",
      "execution_count": null,
      "id": "limiting-allergy",
      "metadata": {
        "id": "limiting-allergy",
        "outputId": "52f12342-926b-45b3-f92f-b0c333e2f252"
      },
      "outputs": [
        {
          "name": "stdout",
          "output_type": "stream",
          "text": [
            "Run with args=(2, 2), memo={(1, 9): 1, (2, 2): 4}\n"
          ]
        },
        {
          "data": {
            "text/plain": [
              "4"
            ]
          },
          "execution_count": 315,
          "metadata": {},
          "output_type": "execute_result"
        }
      ],
      "source": [
        "func(2,2)"
      ]
    },
    {
      "cell_type": "code",
      "execution_count": null,
      "id": "adapted-rider",
      "metadata": {
        "id": "adapted-rider"
      },
      "outputs": [],
      "source": []
    },
    {
      "cell_type": "code",
      "execution_count": null,
      "id": "colored-mineral",
      "metadata": {
        "tags": [],
        "id": "colored-mineral",
        "outputId": "bb5ebc3a-0420-473a-956f-eb6898dd19a1"
      },
      "outputs": [
        {
          "name": "stdout",
          "output_type": "stream",
          "text": [
            "--ветчина--\n"
          ]
        }
      ],
      "source": [
        "def bread(func):\n",
        "    def wrapper():\n",
        "        print (\"</------\\>\")\n",
        "        func()\n",
        "        print (\"<\\______/>\")\n",
        "    return wrapper\n",
        "\n",
        "def ingredients(func):\n",
        "    def wrapper():\n",
        "        print (\"#помидоры#\")\n",
        "        func()\n",
        "        print (\"~салат~\")\n",
        "    return wrapper\n",
        "\n",
        "def sandwich(food=\"--ветчина--\"):\n",
        "    print (food)\n",
        "\n",
        "sandwich()"
      ]
    },
    {
      "cell_type": "code",
      "execution_count": null,
      "id": "embedded-leone",
      "metadata": {
        "tags": [],
        "id": "embedded-leone"
      },
      "outputs": [],
      "source": [
        "sandwich = bread(ingredients(sandwich))\n"
      ]
    },
    {
      "cell_type": "code",
      "execution_count": null,
      "id": "focal-choice",
      "metadata": {
        "tags": [],
        "id": "focal-choice",
        "outputId": "1b342dc4-d922-4f3e-c1ee-eff0c4f382a3"
      },
      "outputs": [
        {
          "name": "stdout",
          "output_type": "stream",
          "text": [
            "</------\\>\n",
            "#помидоры#\n",
            "--ветчина--\n",
            "~салат~\n",
            "<\\______/>\n"
          ]
        }
      ],
      "source": [
        "sandwich()\n"
      ]
    },
    {
      "cell_type": "code",
      "execution_count": null,
      "id": "direct-hawaiian",
      "metadata": {
        "tags": [],
        "id": "direct-hawaiian"
      },
      "outputs": [],
      "source": [
        "@bread\n",
        "@ingredients\n",
        "def sandwich(food=\"--ветчина--\"):\n",
        "    print (food)"
      ]
    },
    {
      "cell_type": "code",
      "execution_count": null,
      "id": "close-monroe",
      "metadata": {
        "tags": [],
        "id": "close-monroe",
        "outputId": "4b695c1a-05fd-43dc-f254-0745af418c98"
      },
      "outputs": [
        {
          "name": "stdout",
          "output_type": "stream",
          "text": [
            "</------\\>\n",
            "#помидоры#\n",
            "--ветчина--\n",
            "~салат~\n",
            "<\\______/>\n"
          ]
        }
      ],
      "source": [
        "sandwich()\n"
      ]
    },
    {
      "cell_type": "code",
      "execution_count": null,
      "id": "mighty-wireless",
      "metadata": {
        "id": "mighty-wireless"
      },
      "outputs": [],
      "source": [
        "Следует помнить о том, что порядок декорирования ВАЖЕН:"
      ]
    },
    {
      "cell_type": "code",
      "execution_count": null,
      "id": "israeli-poetry",
      "metadata": {
        "tags": [],
        "id": "israeli-poetry",
        "outputId": "410d8966-468c-4f07-96bc-413f863b8b9b"
      },
      "outputs": [
        {
          "name": "stdout",
          "output_type": "stream",
          "text": [
            "#помидоры#\n",
            "</------\\>\n",
            "--ветчина--\n",
            "<\\______/>\n",
            "~салат~\n"
          ]
        }
      ],
      "source": [
        "@ingredients\n",
        "@bread\n",
        "\n",
        "def sandwich(food=\"--ветчина--\"):\n",
        "    print (food)\n",
        "\n",
        "sandwich()"
      ]
    },
    {
      "cell_type": "code",
      "execution_count": null,
      "id": "92d6e1ec",
      "metadata": {
        "id": "92d6e1ec"
      },
      "outputs": [],
      "source": []
    },
    {
      "cell_type": "code",
      "execution_count": null,
      "id": "fd509e5c",
      "metadata": {
        "id": "fd509e5c"
      },
      "outputs": [],
      "source": []
    },
    {
      "cell_type": "code",
      "execution_count": null,
      "id": "83790514",
      "metadata": {
        "id": "83790514"
      },
      "outputs": [],
      "source": []
    },
    {
      "cell_type": "code",
      "execution_count": null,
      "id": "42fd2dad",
      "metadata": {
        "id": "42fd2dad",
        "outputId": "904235bf-c2e1-4654-dcf4-2a70e44840c8"
      },
      "outputs": [
        {
          "name": "stdout",
          "output_type": "stream",
          "text": [
            "--ветчина--\n"
          ]
        }
      ],
      "source": [
        "sandwich()"
      ]
    },
    {
      "cell_type": "code",
      "execution_count": null,
      "id": "33793f52",
      "metadata": {
        "id": "33793f52"
      },
      "outputs": [],
      "source": []
    },
    {
      "cell_type": "markdown",
      "id": "operating-israel",
      "metadata": {
        "id": "operating-israel"
      },
      "source": [
        "Декораторы несколько замедляют вызов функции, не забывайте об этом.\n",
        "Вы не можете «раздекорировать» функцию. Безусловно, существуют трюки, позволяющие создать декоратор, который можно отсоединить от функции, но это плохая практика. Правильней будет запомнить, что если функция декорирована — это не отменить.\n",
        "Декораторы оборачивают функции, что может затруднить отладку."
      ]
    },
    {
      "cell_type": "code",
      "execution_count": null,
      "id": "essential-membership",
      "metadata": {
        "id": "essential-membership"
      },
      "outputs": [],
      "source": [
        "https://tirinox.ru/useful-decorators/"
      ]
    },
    {
      "cell_type": "markdown",
      "id": "instrumental-fields",
      "metadata": {
        "id": "instrumental-fields"
      },
      "source": [
        "###  Виртуальное окружение\n"
      ]
    },
    {
      "cell_type": "markdown",
      "id": "painful-river",
      "metadata": {
        "id": "painful-river"
      },
      "source": [
        "Что такое виртуальное окружение и зачем оно нужно?\n"
      ]
    },
    {
      "cell_type": "markdown",
      "id": "excited-blues",
      "metadata": {
        "id": "excited-blues"
      },
      "source": [
        "При разработке Python-приложений или использовании решений на Python, созданных другими разработчиками, может возникнуть ряд проблем, связанных с использованием библиотек различных версий. Рассмотрим их более подробно.\n",
        "\n"
      ]
    },
    {
      "cell_type": "markdown",
      "id": "cosmetic-healthcare",
      "metadata": {
        "id": "cosmetic-healthcare"
      },
      "source": [
        "Во-первых: различные приложения могут использовать одну и туже библиотеку, но при этом требуемые версии могут отличаться.\n",
        "\n"
      ]
    },
    {
      "cell_type": "markdown",
      "id": "small-elimination",
      "metadata": {
        "id": "small-elimination"
      },
      "source": [
        "Во-вторых: может возникнуть необходимость в том, чтобы запретить вносить изменения в приложение на уровне библиотек, т.е. вы установили приложение и хотите, чтобы оно работало независимо от того обновляются у вас библиотеки или нет. Как вы понимаете, если оно будет использовать библиотеки из глобального хранилища (/usr/lib/pythonXX/site-packages), то, со временем, могут возникнуть проблемы.\n",
        "\n"
      ]
    },
    {
      "cell_type": "markdown",
      "id": "republican-hydrogen",
      "metadata": {
        "id": "republican-hydrogen"
      },
      "source": [
        "В-третьих: у вас просто может не быть доступа к каталогу /usr/lib/pythonXX/site-packages.\n",
        "\n"
      ]
    },
    {
      "cell_type": "markdown",
      "id": "adjustable-exception",
      "metadata": {
        "id": "adjustable-exception"
      },
      "source": [
        "Для решения данных вопросов используется подход, основанный на построении виртуальных окружений – своего рода песочниц, в рамках которых запускается приложение со своими библиотеками, обновление и изменение которых не затронет другие приложение, использующие те же библиотеки.\n",
        "\n"
      ]
    },
    {
      "cell_type": "markdown",
      "id": "objective-linux",
      "metadata": {
        "id": "objective-linux"
      },
      "source": [
        "ПО позволяющее создавать виртуальное окружение в Python\n"
      ]
    },
    {
      "cell_type": "markdown",
      "id": "violent-heather",
      "metadata": {
        "id": "violent-heather"
      },
      "source": [
        "virtualenv\n",
        "\n",
        "Это, наверное, одни из самых популярных инструментов, позволяющих создавать виртуальные окружения. Он прост в установке и использовании. В сети довольно много руководств по virtualenv, самые интересные, на наш взгляд, будут собраны в конце урока в разделе “Полезные ссылки”. В общем, этот инструмент нужно обязательно освоить, как минимум, потому что описание развертывания и использования многих систем, созданных с использованием Python, включает в себя процесс создания виртуального окружения с помощью virtualenv.\n",
        "\n",
        "pyenv\n",
        "\n",
        "Инструмент для изоляции версий Python. Чаще всего применяется, когда на одной машине вам нужно иметь несколько версий интерпретатора для тестирования на них разрабатываемого вами ПО.\n",
        "\n",
        "virtualenvwrapper\n",
        "\n",
        "Virtualenvwrapper – это обертка для virtualenv позволяющая хранить все изолированные окружения в одном месте, создавать их, копировать и удалять. Предоставляет удобный способ переключения между окружениями и возможность расширять функционал за счет plug-in’ов.\n",
        "\n",
        "Существуют ещё инструменты и plug-in’ы, выполняющие работу по изоляции частей системы Python, но мы их не будем рассматривать.\n",
        "\n",
        "Инструменты, входящие в стандартную библиотеку Python.\n",
        "\n",
        "venv\n",
        "\n",
        "Этот модуль появился в Python3 и не может быть использован для решения задачи изоляции в Python2. По своему функционалу очень похож на virtualenv. Если вы работаете с третьим Python, то можете смело использовать данный инструмент."
      ]
    },
    {
      "cell_type": "markdown",
      "id": "structural-beast",
      "metadata": {
        "id": "structural-beast"
      },
      "source": [
        "virtualenv\n"
      ]
    },
    {
      "cell_type": "markdown",
      "id": "nutritional-douglas",
      "metadata": {
        "id": "nutritional-douglas"
      },
      "source": [
        "Будем рассматривать работу с virtualenv в рамках операционной системы Linux. Для Windows все будет очень похоже, за исключением моментов, связанных со спецификой этой ОС: названия и расположение каталогов, запуск скриптов оболочки и т.п.\n",
        "\n"
      ]
    },
    {
      "cell_type": "markdown",
      "id": "refined-transition",
      "metadata": {
        "id": "refined-transition"
      },
      "source": [
        "Установка virtualenv\n",
        "Virtualenv можно установить с использованием менеджера pip (ссылка на статью), либо скачать исходные коды проекта и установить приложение вручную."
      ]
    },
    {
      "cell_type": "markdown",
      "id": "fitting-apparatus",
      "metadata": {
        "id": "fitting-apparatus"
      },
      "source": [
        "Установка с использованием pip."
      ]
    },
    {
      "cell_type": "markdown",
      "id": "constitutional-storm",
      "metadata": {
        "id": "constitutional-storm"
      },
      "source": [
        "Для установки virtualenv откройте консоль и введите следующую команду:\n",
        "\n",
        "> pip install virtualenv"
      ]
    },
    {
      "cell_type": "markdown",
      "id": "micro-wallpaper",
      "metadata": {
        "id": "micro-wallpaper"
      },
      "source": [
        "Установка из исходного кода проекта.\n",
        "\n",
        "В этом случае, вам нужно будет выполнить чуть большее количество действий.\n",
        "\n",
        "Введите в консоли следующий набор команд:\n",
        "\n",
        "> curl -O https://pypi.python.org/packages/source/v/virtualenv/virtualenv-X.X.tar.gz\n",
        "> tar xvfz virtualenv-X.X.tar.gz\n",
        "> cd virtualenv-X.X\n",
        ">  [sudo] python setup.py install"
      ]
    },
    {
      "cell_type": "code",
      "execution_count": null,
      "id": "continued-immune",
      "metadata": {
        "id": "continued-immune"
      },
      "outputs": [],
      "source": [
        "> virtualenv PRG1\n"
      ]
    },
    {
      "cell_type": "markdown",
      "id": "national-croatia",
      "metadata": {
        "id": "national-croatia"
      },
      "source": [
        "PRG1 в данном случае – это имя окружения.\n",
        "\n"
      ]
    },
    {
      "cell_type": "markdown",
      "id": "alpine-fifteen",
      "metadata": {
        "id": "alpine-fifteen"
      },
      "source": [
        "После выполнения данной команды, в текущем каталоге будет создан новый каталог с именем PRG1. Разберем более подробно его содержимое.\n",
        "\n"
      ]
    },
    {
      "cell_type": "markdown",
      "id": "ordinary-mozambique",
      "metadata": {
        "id": "ordinary-mozambique"
      },
      "source": [
        "RPG1/bin/ – содержит скрипты для активации/деактивации окружения, интерпретатор Python, используемый в рамках данного окружения, менеджер pip и ещё несколько инструментов, обеспечивающих работу с пакетами Python. В Windows, это каталог PRG1\\Scripts\n",
        "\n"
      ]
    },
    {
      "cell_type": "markdown",
      "id": "happy-bridal",
      "metadata": {
        "id": "happy-bridal"
      },
      "source": [
        "PRG1/include/ и PRG1/lib/ – каталоги, содержащие библиотечные файлы окружения. Новые пакеты будут установлены в каталог PRG1/lib/pythonX.X/site-packages/.\n",
        "\n"
      ]
    },
    {
      "cell_type": "markdown",
      "id": "opposite-vertex",
      "metadata": {
        "id": "opposite-vertex"
      },
      "source": []
    },
    {
      "cell_type": "markdown",
      "id": "tender-iraqi",
      "metadata": {
        "id": "tender-iraqi"
      },
      "source": [
        "Для активации виртуального окружения воспользуйтесь командой (для Linux):\n",
        "\n"
      ]
    },
    {
      "cell_type": "markdown",
      "id": "pleasant-phrase",
      "metadata": {
        "id": "pleasant-phrase"
      },
      "source": [
        "> source PRG1/bin/activate\n"
      ]
    },
    {
      "cell_type": "markdown",
      "id": "successful-authentication",
      "metadata": {
        "id": "successful-authentication"
      },
      "source": [
        "для Windows команда будет выглядеть так:\n",
        "\n"
      ]
    },
    {
      "cell_type": "markdown",
      "id": "persistent-monitoring",
      "metadata": {
        "id": "persistent-monitoring"
      },
      "source": [
        "> PRG1\\Scripts\\activate.bat\n",
        "\n"
      ]
    },
    {
      "cell_type": "markdown",
      "id": "mineral-emergency",
      "metadata": {
        "id": "mineral-emergency"
      },
      "source": [
        "Если команда выполнилась успешно, то вы увидите, что перед приглашением в командной строке появилась дополнительная надпись, совпадающая с именем виртуального окружения.\n",
        "\n"
      ]
    },
    {
      "cell_type": "markdown",
      "id": "nuclear-clear",
      "metadata": {
        "id": "nuclear-clear"
      },
      "source": [
        "При этом в переменную окружения PATH, в самое начало, будет добавлен путь до директории bin, созданного каталога RPG1.\n",
        "\n"
      ]
    },
    {
      "cell_type": "markdown",
      "id": "burning-fleet",
      "metadata": {
        "id": "burning-fleet"
      },
      "source": [
        "Деактивация виртуального окружения\n"
      ]
    },
    {
      "cell_type": "markdown",
      "id": "meaning-complexity",
      "metadata": {
        "id": "meaning-complexity"
      },
      "source": [
        "Для деактивации виртуального окружения (выхода из него), введите команду deactivate для Linux или deactivate.bat, если вы работаете в Windows.\n",
        "\n"
      ]
    },
    {
      "cell_type": "markdown",
      "id": "caroline-server",
      "metadata": {
        "id": "caroline-server"
      },
      "source": [
        "Устанавливать venv не нужно, т.к. он входит в стандартную библиотеку Python. Т.е. если вы установили себе Python, то venv у вас уже есть. Помните, что venv работает только в Python3!\n",
        "\n"
      ]
    },
    {
      "cell_type": "markdown",
      "id": "renewable-engagement",
      "metadata": {
        "id": "renewable-engagement"
      },
      "source": [
        ">source PRG2/bin/activate\n"
      ]
    },
    {
      "cell_type": "markdown",
      "id": "earlier-jacket",
      "metadata": {
        "id": "earlier-jacket"
      },
      "source": [
        ">PRG2\\Scripts\\activate.bat\n"
      ]
    },
    {
      "cell_type": "markdown",
      "id": "chemical-wholesale",
      "metadata": {
        "id": "chemical-wholesale"
      },
      "source": [
        "https://python-scripts.com/virtualenv"
      ]
    },
    {
      "cell_type": "markdown",
      "id": "chief-slide",
      "metadata": {
        "id": "chief-slide"
      },
      "source": [
        "###  Исключения"
      ]
    },
    {
      "cell_type": "markdown",
      "id": "constant-johnson",
      "metadata": {
        "id": "constant-johnson"
      },
      "source": [
        "### 1 Обработка исключений через try/except/finally/else.\n"
      ]
    },
    {
      "cell_type": "markdown",
      "id": "union-characteristic",
      "metadata": {
        "id": "union-characteristic"
      },
      "source": [
        "![image.png](attachment:image.png)"
      ]
    },
    {
      "cell_type": "markdown",
      "id": "returning-deficit",
      "metadata": {
        "id": "returning-deficit"
      },
      "source": [
        "Допустим, вы пытаетесь открыть файл, но вы ввели неверный путь, или вы хотите узнать информацию у пользователей и они пишут какую-то бессмыслицу. Вы не хотите, чтобы ваша программа крэшилась, по-этому вы выполняете обработку исключений. В Пайтоне, конструкция практически всегда обернута в то, что называется try/except."
      ]
    },
    {
      "cell_type": "markdown",
      "id": "furnished-drill",
      "metadata": {
        "id": "furnished-drill"
      },
      "source": [
        "Обратите внимание на то, что ошибка и исключение – два разных слова, описывающие одно и то же, в контексте обработки исключений."
      ]
    },
    {
      "cell_type": "markdown",
      "id": "fancy-copper",
      "metadata": {
        "id": "fancy-copper"
      },
      "source": [
        "###### Базовые типы исключений;\n",
        "\n",
        "###### Обработка исключений при помощи try/except;\n",
        "\n",
        "###### Узнаем, как работает try/except/finally;\n",
        "\n",
        "###### Выясним, как работает оператор else совместно с try/except;"
      ]
    },
    {
      "cell_type": "markdown",
      "id": "blind-spirituality",
      "metadata": {
        "id": "blind-spirituality"
      },
      "source": [
        "###### Базовые типы исключений;\n",
        "Exception – то, на чем фактически строятся все остальные ошибки;\n",
        "\n",
        "AttributeError – возникает, когда ссылка атрибута или присвоение не могут быть выполнены;\n",
        "\n",
        "IOError – возникает в том случае, когда операция I/O (такая как оператор вывода, встроенная функция open() или метод объекта-файла) не может быть выполнена, по связанной с I/O причине: «файл не найден», или «диск заполнен», иными словами.\n",
        "\n",
        "ImportError – возникает, когда оператор import не может найти определение модуля, или когда оператор не может найти имя файла, который должен быть импортирован;\n",
        "\n",
        "IndexError – возникает, когда индекс последовательности находится вне допустимого диапазона;\n",
        "\n",
        "KeyError – возникает, когда ключ сопоставления (dictionary key) не найден в наборе существующих ключей;\n",
        "\n",
        "KeyboardInterrupt – возникает, когда пользователь нажимает клавишу прерывания(обычно Delete или Ctrl+C);\n",
        "\n",
        "NameError – возникает, когда локальное или глобальное имя не найдено;\n",
        "\n",
        "OSError – возникает, когда функция получает связанную с системой ошибку;\n",
        "\n",
        "SyntaxError — возникает, когда синтаксическая ошибка встречается синтаксическим анализатором;\n",
        "\n",
        "TypeError – возникает, когда операция или функция применяется к объекту несоответствующего типа. Связанное значение представляет собой строку, в которой приводятся подробные сведения о несоответствии типов;\n",
        "\n",
        "ValueError – возникает, когда встроенная операция или функция получают аргумент, тип которого правильный, но неправильно значение, и ситуация не может описано более точно, как при возникновении IndexError;\n",
        "\n",
        "ZeroDivisionError – возникает, когда второй аргумент операции division или modulo равен нулю;"
      ]
    },
    {
      "cell_type": "code",
      "execution_count": null,
      "id": "juvenile-arrival",
      "metadata": {
        "id": "juvenile-arrival"
      },
      "outputs": [],
      "source": [
        "BaseException\n",
        " +-- SystemExit\n",
        " +-- KeyboardInterrupt\n",
        " +-- GeneratorExit\n",
        " +-- Exception\n",
        "      +-- StopIteration\n",
        "      +-- StandardError\n",
        "      |    +-- BufferError\n",
        "      |    +-- ArithmeticError\n",
        "      |    |    +-- FloatingPointError\n",
        "      |    |    +-- OverflowError\n",
        "      |    |    +-- ZeroDivisionError\n",
        "      |    +-- AssertionError\n",
        "      |    +-- AttributeError\n",
        "      |    +-- EnvironmentError\n",
        "      |    |    +-- IOError\n",
        "      |    |    +-- OSError\n",
        "      |    |         +-- WindowsError (Windows)\n",
        "      |    |         +-- VMSError (VMS)\n",
        "      |    +-- EOFError\n",
        "      |    +-- ImportError\n",
        "      |    +-- LookupError\n",
        "      |    |    +-- IndexError\n",
        "      |    |    +-- KeyError\n",
        "      |    +-- MemoryError\n",
        "      |    +-- NameError\n",
        "      |    |    +-- UnboundLocalError\n",
        "      |    +-- ReferenceError\n",
        "      |    +-- RuntimeError\n",
        "      |    |    +-- NotImplementedError\n",
        "      |    +-- SyntaxError\n",
        "      |    |    +-- IndentationError\n",
        "      |    |         +-- TabError\n",
        "      |    +-- SystemError\n",
        "      |    +-- TypeError\n",
        "      |    +-- ValueError\n",
        "      |         +-- UnicodeError\n",
        "      |              +-- UnicodeDecodeError\n",
        "      |              +-- UnicodeEncodeError\n",
        "      |              +-- UnicodeTranslateError\n",
        "      +-- Warning\n",
        "           +-- DeprecationWarning\n",
        "           +-- PendingDeprecationWarning\n",
        "           +-- RuntimeWarning\n",
        "           +-- SyntaxWarning\n",
        "           +-- UserWarning\n",
        "           +-- FutureWarning\n",
        "\t   +-- ImportWarning\n",
        "\t   +-- UnicodeWarning\n",
        "\t   +-- BytesWarning"
      ]
    },
    {
      "cell_type": "markdown",
      "id": "offensive-teaching",
      "metadata": {
        "id": "offensive-teaching"
      },
      "source": [
        "документация Пайтон  https://docs.python.org/2/library/exceptions.html"
      ]
    },
    {
      "cell_type": "markdown",
      "id": "recorded-bullet",
      "metadata": {
        "id": "recorded-bullet"
      },
      "source": [
        "#### Обработка исключений в Пайтон – это просто!"
      ]
    },
    {
      "cell_type": "code",
      "execution_count": null,
      "id": "hybrid-thing",
      "metadata": {
        "tags": [],
        "id": "hybrid-thing",
        "outputId": "e320999e-e0c9-4937-bf6f-6ba2dc827017"
      },
      "outputs": [
        {
          "ename": "ZeroDivisionError",
          "evalue": "division by zero",
          "output_type": "error",
          "traceback": [
            "\u001b[0;31m---------------------------------------------------------------------------\u001b[0m",
            "\u001b[0;31mZeroDivisionError\u001b[0m                         Traceback (most recent call last)",
            "Cell \u001b[0;32mIn[151], line 1\u001b[0m\n\u001b[0;32m----> 1\u001b[0m \u001b[38;5;241;43m1\u001b[39;49m\u001b[43m \u001b[49m\u001b[38;5;241;43m/\u001b[39;49m\u001b[43m \u001b[49m\u001b[38;5;241;43m0\u001b[39;49m\n",
            "\u001b[0;31mZeroDivisionError\u001b[0m: division by zero"
          ]
        }
      ],
      "source": [
        "1 / 0\n"
      ]
    },
    {
      "cell_type": "markdown",
      "id": "tender-domestic",
      "metadata": {
        "id": "tender-domestic"
      },
      "source": [
        "Так же может быть и такая ошибка (зависит от вашего интерпритатора)"
      ]
    },
    {
      "cell_type": "markdown",
      "id": "olympic-configuration",
      "metadata": {
        "id": "olympic-configuration"
      },
      "source": [
        "`\n",
        "Traceback (most recent call last):\n",
        "    File \"<string>\", line 1, in <fragment>\n",
        "ZeroDivisionError: integer division or modulo by zero\n",
        "`"
      ]
    },
    {
      "cell_type": "code",
      "execution_count": null,
      "id": "wound-spanish",
      "metadata": {
        "tags": [],
        "id": "wound-spanish",
        "outputId": "8927c65f-a7f5-491e-df82-f8876b0a1e9e"
      },
      "outputs": [
        {
          "name": "stdout",
          "output_type": "stream",
          "text": [
            "Ты что?! На ноль делить нельзя!! \n"
          ]
        }
      ],
      "source": [
        "try:\n",
        "    1 / 0\n",
        "except ZeroDivisionError:\n",
        "    print(\"Ты что?! На ноль делить нельзя!! \")"
      ]
    },
    {
      "cell_type": "markdown",
      "id": "saving-nevada",
      "metadata": {
        "id": "saving-nevada"
      },
      "source": [
        "Таким образом, базовая конструкция выглядит так:"
      ]
    },
    {
      "cell_type": "code",
      "execution_count": null,
      "id": "coral-constitution",
      "metadata": {
        "id": "coral-constitution"
      },
      "outputs": [],
      "source": [
        "try:\n",
        "    инструкции\n",
        "except [Тип_исключения]:\n",
        "    инструкции"
      ]
    },
    {
      "cell_type": "markdown",
      "id": "living-herald",
      "metadata": {
        "id": "living-herald"
      },
      "source": [
        "С помощью оператора **as** мы можем передать всю информацию об исключении в переменную, которую затем можно использовать в блоке except:"
      ]
    },
    {
      "cell_type": "code",
      "execution_count": null,
      "id": "colored-narrative",
      "metadata": {
        "tags": [],
        "id": "colored-narrative",
        "outputId": "9dcfdc3b-893e-44bd-af82-b6d97059e659"
      },
      "outputs": [
        {
          "name": "stdout",
          "output_type": "stream",
          "text": [
            "division by zero\n"
          ]
        }
      ],
      "source": [
        "try:\n",
        "    a = 100\n",
        "    b = 0\n",
        "    c = a / b\n",
        "except ZeroDivisionError as e:\n",
        "    print(e)"
      ]
    },
    {
      "cell_type": "code",
      "execution_count": null,
      "id": "c1923a52-6593-4f46-8949-fbaf851fc9e2",
      "metadata": {
        "tags": [],
        "id": "c1923a52-6593-4f46-8949-fbaf851fc9e2",
        "outputId": "120ed7d2-b3fe-4c18-c51a-d0a3c3a4dbbc"
      },
      "outputs": [
        {
          "ename": "NameError",
          "evalue": "name 'e' is not defined",
          "output_type": "error",
          "traceback": [
            "\u001b[0;31m---------------------------------------------------------------------------\u001b[0m",
            "\u001b[0;31mNameError\u001b[0m                                 Traceback (most recent call last)",
            "Cell \u001b[0;32mIn[154], line 1\u001b[0m\n\u001b[0;32m----> 1\u001b[0m \u001b[43me\u001b[49m\n",
            "\u001b[0;31mNameError\u001b[0m: name 'e' is not defined"
          ]
        }
      ],
      "source": [
        "e"
      ]
    },
    {
      "cell_type": "code",
      "execution_count": null,
      "id": "colored-soldier",
      "metadata": {
        "tags": [],
        "id": "colored-soldier",
        "outputId": "7d48eb39-5498-4657-df26-e9bac08c32a5"
      },
      "outputs": [
        {
          "name": "stdin",
          "output_type": "stream",
          "text": [
            "Введите число:  ghfghrghgchfhfghfgh gfgh\n"
          ]
        },
        {
          "name": "stdout",
          "output_type": "stream",
          "text": [
            "Сведения об исключении invalid literal for int() with base 10: 'ghfghrghgchfhfghfgh gfgh'\n",
            "Завершение программы\n"
          ]
        }
      ],
      "source": [
        "try:\n",
        "    number = int(input(\"Введите число: \"))\n",
        "    print(\"Введенное число:\", number)\n",
        "except ValueError as e:\n",
        "    print(\"Сведения об исключении\", e)\n",
        "print(\"Завершение программы\")"
      ]
    },
    {
      "cell_type": "markdown",
      "id": "municipal-mumbai",
      "metadata": {
        "id": "municipal-mumbai"
      },
      "source": [
        "### «Голое» исключение\n"
      ]
    },
    {
      "cell_type": "code",
      "execution_count": null,
      "id": "front-pakistan",
      "metadata": {
        "tags": [],
        "id": "front-pakistan",
        "outputId": "c8d38a8c-c759-439a-bb9f-21edb61c6c12"
      },
      "outputs": [
        {
          "name": "stdout",
          "output_type": "stream",
          "text": [
            "какая-то ошибка\n"
          ]
        }
      ],
      "source": [
        "try:\n",
        "    1 / 0\n",
        "except:\n",
        "    print(\"какая-то ошибка\")"
      ]
    },
    {
      "cell_type": "markdown",
      "id": "treated-reform",
      "metadata": {
        "id": "treated-reform"
      },
      "source": [
        "На жаргоне Пайтона, это известно как голое исключение, что означает, что будут найдены вообще все исключения.\n",
        "\n",
        "Причина, по которой так делать не рекомендуется, заключается в том, что вы не узнаете, что именно за исключение вы выловите. Когда у вас возникло что-то в духе ZeroDivisionError, вы хотите выявить фрагмент, в котором происходит деление на ноль. В коде, написанном выше, вы не можете указать, что именно вам нужно выявить.\n",
        "\n",
        "Посмотрим еще несколько примеров:"
      ]
    },
    {
      "cell_type": "code",
      "execution_count": null,
      "id": "normal-engineer",
      "metadata": {
        "tags": [],
        "id": "normal-engineer",
        "outputId": "1451ad95-466e-4580-ec57-588913a159be"
      },
      "outputs": [
        {
          "name": "stdout",
          "output_type": "stream",
          "text": [
            "Такого ключа нет\n"
          ]
        }
      ],
      "source": [
        "my_dict = {\"a\":1, \"b\":2, \"c\":3}\n",
        "\n",
        "try:\n",
        "    value = my_dict[\"d\"]\n",
        "except KeyError:\n",
        "    print(\"Такого ключа нет\")"
      ]
    },
    {
      "cell_type": "markdown",
      "id": "integrated-disclosure",
      "metadata": {
        "id": "integrated-disclosure"
      },
      "source": [
        "мы создали словарь из трех элементов. После этого, мы попытались открыть доступ ключу, которого в словаре нет."
      ]
    },
    {
      "cell_type": "code",
      "execution_count": null,
      "id": "interim-majority",
      "metadata": {
        "tags": [],
        "id": "interim-majority",
        "outputId": "b4d0b33f-1e97-42a1-a2bb-2c9e8d35b0f5"
      },
      "outputs": [
        {
          "ename": "TypeError",
          "evalue": "list indices must be integers or slices, not str",
          "output_type": "error",
          "traceback": [
            "\u001b[0;31m---------------------------------------------------------------------------\u001b[0m",
            "\u001b[0;31mTypeError\u001b[0m                                 Traceback (most recent call last)",
            "Cell \u001b[0;32mIn[160], line 4\u001b[0m\n\u001b[1;32m      1\u001b[0m my_list \u001b[38;5;241m=\u001b[39m [\u001b[38;5;124m'\u001b[39m\u001b[38;5;124m1\u001b[39m\u001b[38;5;124m'\u001b[39m, \u001b[38;5;124m'\u001b[39m\u001b[38;5;124m2\u001b[39m\u001b[38;5;124m'\u001b[39m, \u001b[38;5;124m'\u001b[39m\u001b[38;5;124m3\u001b[39m\u001b[38;5;124m'\u001b[39m, \u001b[38;5;124m'\u001b[39m\u001b[38;5;124m4\u001b[39m\u001b[38;5;124m'\u001b[39m, \u001b[38;5;124m'\u001b[39m\u001b[38;5;124m5\u001b[39m\u001b[38;5;124m'\u001b[39m]\n\u001b[1;32m      3\u001b[0m \u001b[38;5;28;01mtry\u001b[39;00m:\n\u001b[0;32m----> 4\u001b[0m     \u001b[43mmy_list\u001b[49m\u001b[43m[\u001b[49m\u001b[38;5;124;43m'\u001b[39;49m\u001b[38;5;124;43mdf\u001b[39;49m\u001b[38;5;124;43m'\u001b[39;49m\u001b[43m]\u001b[49m\n\u001b[1;32m      5\u001b[0m \u001b[38;5;28;01mexcept\u001b[39;00m \u001b[38;5;167;01mIndexError\u001b[39;00m:\n\u001b[1;32m      6\u001b[0m     \u001b[38;5;28mprint\u001b[39m(\u001b[38;5;124m\"\u001b[39m\u001b[38;5;124mЭтот индекс не находится в списке!!\u001b[39m\u001b[38;5;124m\"\u001b[39m)\n",
            "\u001b[0;31mTypeError\u001b[0m: list indices must be integers or slices, not str"
          ]
        }
      ],
      "source": [
        "my_list = ['1', '2', '3', '4', '5']\n",
        "\n",
        "try:\n",
        "    my_list['df']\n",
        "except IndexError:\n",
        "    print(\"Этот индекс не находится в списке!!\")"
      ]
    },
    {
      "cell_type": "markdown",
      "id": "beginning-kingston",
      "metadata": {
        "id": "beginning-kingston"
      },
      "source": [
        "Мы попытались взять шестой объект из индекса, забыв про нумерацию питона."
      ]
    },
    {
      "cell_type": "markdown",
      "id": "muslim-negotiation",
      "metadata": {
        "id": "muslim-negotiation"
      },
      "source": [
        "Можно выявить несколько ошибок за раз при помощи одного оператора. Для этого существует несколько различных способов. Давайте посмотрим:"
      ]
    },
    {
      "cell_type": "code",
      "execution_count": null,
      "id": "southwest-remains",
      "metadata": {
        "tags": [],
        "id": "southwest-remains",
        "outputId": "f8fcf92a-ec6f-4420-97bc-02f6d054f895"
      },
      "outputs": [
        {
          "name": "stdout",
          "output_type": "stream",
          "text": [
            "This key is not in the dictionary!\n"
          ]
        }
      ],
      "source": [
        "my_dict = {\"a\":1, \"b\":2, \"c\":3}\n",
        "\n",
        "try:\n",
        "    value = my_dict['sdsd']\n",
        "except IndexError:\n",
        "    print(\"This index does not exist!\")\n",
        "except KeyError:\n",
        "    print(\"This key is not in the dictionary!\")\n",
        "except:\n",
        "    print(\"Some other error occurred!\")"
      ]
    },
    {
      "cell_type": "markdown",
      "id": "viral-carrier",
      "metadata": {
        "id": "viral-carrier"
      },
      "source": [
        "И второй способ:"
      ]
    },
    {
      "cell_type": "code",
      "execution_count": null,
      "id": "suspected-malpractice",
      "metadata": {
        "tags": [],
        "id": "suspected-malpractice",
        "outputId": "5453c66e-78a6-4916-adc7-9b7ce967a938"
      },
      "outputs": [
        {
          "name": "stdout",
          "output_type": "stream",
          "text": [
            "An IndexError or KeyError occurred!\n"
          ]
        }
      ],
      "source": [
        "try:\n",
        "    value = my_dict[\"d\"]\n",
        "except (IndexError, KeyError):\n",
        "    print(\"An IndexError or KeyError occurred!\")"
      ]
    },
    {
      "cell_type": "markdown",
      "id": "sublime-bosnia",
      "metadata": {
        "id": "sublime-bosnia"
      },
      "source": [
        "Проблема данного метода в том, что трудно сказать какая именно ошибка произошла, так что предыдущий пример, мы рекомендуем больше чем этот. Зачастую, когда происходит ошибка, вам нужно уведомить пользователя, при помощи сообщения."
      ]
    },
    {
      "cell_type": "markdown",
      "id": "australian-peripheral",
      "metadata": {
        "id": "australian-peripheral"
      },
      "source": [
        "### finally!!!"
      ]
    },
    {
      "cell_type": "markdown",
      "id": "ce52f847-6530-42bc-a4d2-707443038341",
      "metadata": {
        "id": "ce52f847-6530-42bc-a4d2-707443038341"
      },
      "source": [
        "В зависимости от сложности данной ошибки, вам может понадобиться выйти из программы. Иногда вам может понадобиться выполнить очистку, перед выходом из программы. Например, мы открыли соединение с базой данных, и нужно будет закрыть его, перед выходом из программы, или вы можете закончить с открытым соединением. Другой пример – закрытие дескриптора файла, к которому вы обращаетесь. Теперь нам нужно научиться убирать за собой. Это очень просто, если использовать оператор finally.\n",
        "\n",
        "Так же оператор try/except также имеет пункт else. Он работает только в том случае, если в вашем коде нет ни единой ошибки.\n"
      ]
    },
    {
      "cell_type": "code",
      "execution_count": null,
      "id": "graphic-blood",
      "metadata": {
        "id": "graphic-blood"
      },
      "outputs": [],
      "source": [
        "try:\n",
        "    исполяем какой-то код\n",
        "except Exception as e:\n",
        "    обработка исключения\n",
        "else:\n",
        "    код, который будет исполнен в случае, когда не возникает исключения\n",
        "finally:\n",
        "    код, который гарантированно будет исполнен последним (всегда исполняется)"
      ]
    },
    {
      "cell_type": "code",
      "execution_count": null,
      "id": "suitable-depression",
      "metadata": {
        "tags": [],
        "id": "suitable-depression",
        "outputId": "5800b63e-e998-45e2-865e-0d2d2430a076"
      },
      "outputs": [
        {
          "name": "stdin",
          "output_type": "stream",
          "text": [
            "Введите число:  gfdfg\n"
          ]
        },
        {
          "name": "stdout",
          "output_type": "stream",
          "text": [
            "Не удалось преобразовать число\n",
            "Блок try завершил выполнение\n",
            "Завершение программы\n"
          ]
        }
      ],
      "source": [
        "try:\n",
        "    number = float(input(\"Введите число: \"))\n",
        "    print(\"Введенное число:\", number)\n",
        "except ValueError:\n",
        "    print(\"Не удалось преобразовать число\")\n",
        "finally:\n",
        "    print(\"Блок try завершил выполнение\")\n",
        "print(\"Завершение программы\")"
      ]
    },
    {
      "cell_type": "markdown",
      "id": "automotive-remedy",
      "metadata": {
        "id": "automotive-remedy"
      },
      "source": [
        "Иными словами, finally выполняет блок инструкций в любом случае, было ли исключение, или нет. А инструкция else выполняется в том случае, если исключения не было."
      ]
    },
    {
      "cell_type": "markdown",
      "id": "residential-layout",
      "metadata": {
        "id": "residential-layout"
      },
      "source": [
        "можно также вписать код exit в конце оператора finally."
      ]
    },
    {
      "cell_type": "code",
      "execution_count": null,
      "id": "final-defense",
      "metadata": {
        "tags": [],
        "id": "final-defense",
        "outputId": "f3e4f2bf-12c2-4e77-9c7b-049996142caf"
      },
      "outputs": [
        {
          "name": "stdout",
          "output_type": "stream",
          "text": [
            "Нет ошибок!\n",
            "Запущен финальный код!\n"
          ]
        }
      ],
      "source": [
        "my_dict = {\"a\":1, \"b\":2, \"c\":3}\n",
        "\n",
        "try:\n",
        "    value = my_dict[\"a\"]\n",
        "except KeyError:\n",
        "    print(\"KeyError ошибка!\")\n",
        "else:\n",
        "    print(\"Нет ошибок!\")\n",
        "finally:\n",
        "    print(\"Запущен финальный код!\")"
      ]
    },
    {
      "cell_type": "markdown",
      "id": "separated-assist",
      "metadata": {
        "id": "separated-assist"
      },
      "source": [
        "Единственное полезное применение оператора else, это когда вы хотите запустить вторую часть кода, в которой может быть ошибка. Конечно, если ошибка возникает в else, то она не будет поймана."
      ]
    },
    {
      "cell_type": "markdown",
      "id": "hollywood-caution",
      "metadata": {
        "id": "hollywood-caution"
      },
      "source": [
        "### Еще несколько примеров"
      ]
    },
    {
      "cell_type": "markdown",
      "id": "valuable-union",
      "metadata": {
        "id": "valuable-union"
      },
      "source": [
        "В блок except можно поместить обработку."
      ]
    },
    {
      "cell_type": "code",
      "execution_count": null,
      "id": "enclosed-chest",
      "metadata": {
        "tags": [],
        "id": "enclosed-chest"
      },
      "outputs": [],
      "source": [
        "try:\n",
        "    a = 100\n",
        "    b = 0\n",
        "    c = a / b\n",
        "except ZeroDivisionError as e:\n",
        "    c = -1"
      ]
    },
    {
      "cell_type": "code",
      "execution_count": null,
      "id": "demonstrated-prime",
      "metadata": {
        "tags": [],
        "id": "demonstrated-prime",
        "outputId": "d445d0ab-80db-42a8-f264-bd390b70df0e"
      },
      "outputs": [
        {
          "data": {
            "text/plain": [
              "-1"
            ]
          },
          "execution_count": 166,
          "metadata": {},
          "output_type": "execute_result"
        }
      ],
      "source": [
        "c"
      ]
    },
    {
      "cell_type": "markdown",
      "id": "powerful-election",
      "metadata": {
        "id": "powerful-election"
      },
      "source": [
        "Пускай у нас файл с данными в файловой системе и необходимо его прочитать. В этом случае сразу же всплывают несколько исключительных ситуаций, такие как: нет файла, файл битый; файл пустой (по заданию мы знаем, что в нем данные) и другие.\n",
        "Используя исключения, можно вот так решить эту задачу:"
      ]
    },
    {
      "cell_type": "code",
      "execution_count": null,
      "id": "closed-cancellation",
      "metadata": {
        "id": "closed-cancellation"
      },
      "outputs": [],
      "source": [
        "try:\n",
        "    filepath = '1.txt'\n",
        "    with open(filepath, 'r') as f:\n",
        "        result = f.readlines()\n",
        "    if not result:\n",
        "        raise Exception(\"File is empty\")\n",
        "\n",
        "except IOError as e:\n",
        "    result = []\n",
        "    print(e)\n",
        "except Exception as e:\n",
        "    result = []\n",
        "    print(e)"
      ]
    },
    {
      "cell_type": "markdown",
      "id": "intended-corpus",
      "metadata": {
        "id": "intended-corpus"
      },
      "source": [
        "В данном вымышленном коде новый ход - перехват нескольких видов исключений. Когда исключение брошено, оно сравнивается сверху вниз с каждым типом, пока не найдено совпадение. Если совпадения нет, то исключение пойдет наверх по цепочке исполнения кода.\n",
        "\n",
        "Если обработка для разных типов исключений одинакова, то уменьшить количество кода становится не проблемой:\n",
        "(файлы 1,2,3)"
      ]
    },
    {
      "cell_type": "code",
      "execution_count": null,
      "id": "caroline-leeds",
      "metadata": {
        "id": "caroline-leeds"
      },
      "outputs": [],
      "source": [
        "try:\n",
        "    filepath = '3.txt'\n",
        "    with open(filepath, 'r') as f:\n",
        "        result = f.readlines()\n",
        "    if not result:\n",
        "        raise Exception(\"файл пустой\")\n",
        "except (IOError, Exception) as e:\n",
        "    print(e)"
      ]
    },
    {
      "cell_type": "markdown",
      "id": "employed-lodge",
      "metadata": {
        "id": "employed-lodge"
      },
      "source": [
        "### Вызов исключений\n"
      ]
    },
    {
      "cell_type": "markdown",
      "id": "romantic-dating",
      "metadata": {
        "id": "romantic-dating"
      },
      "source": [
        "При работе с исключениями программист тратит большую часть времени на обработку, но при этом возникают ситуации, когда исключениями надо и бросать в других.\n",
        "\n",
        "На нашем сленге \"бросить исключение\" означает написать код, который при исполнении будет инициировать исключительную ситуацию.\n",
        "\n",
        "Например, функция, которая решает квадратное уравнение. Вы условились, что корни только вещественные, тогда в случае комплексных корней стоит бросить исключение.\n",
        "\n",
        "Чтобы бросить исключение необходимо воспользоваться raise"
      ]
    },
    {
      "cell_type": "code",
      "execution_count": null,
      "id": "brief-chess",
      "metadata": {
        "tags": [],
        "id": "brief-chess",
        "outputId": "bd2d7af0-e33d-48cc-a25c-dab5683e9ccc"
      },
      "outputs": [
        {
          "ename": "OSError",
          "evalue": "текст исключения",
          "output_type": "error",
          "traceback": [
            "\u001b[0;31m---------------------------------------------------------------------------\u001b[0m",
            "\u001b[0;31mOSError\u001b[0m                                   Traceback (most recent call last)",
            "Cell \u001b[0;32mIn[167], line 1\u001b[0m\n\u001b[0;32m----> 1\u001b[0m \u001b[38;5;28;01mraise\u001b[39;00m \u001b[38;5;167;01mIOError\u001b[39;00m(\u001b[38;5;124m\"\u001b[39m\u001b[38;5;124mтекст исключения\u001b[39m\u001b[38;5;124m\"\u001b[39m)\n",
            "\u001b[0;31mOSError\u001b[0m: текст исключения"
          ]
        }
      ],
      "source": [
        "raise IOError(\"текст исключения\")"
      ]
    },
    {
      "cell_type": "markdown",
      "id": "attached-david",
      "metadata": {
        "id": "attached-david"
      },
      "source": [
        "где IOError это класс исключения.\n"
      ]
    },
    {
      "cell_type": "markdown",
      "id": "advised-daily",
      "metadata": {
        "id": "advised-daily"
      },
      "source": [
        "Самый простой пример работы с raise может выглядеть так."
      ]
    },
    {
      "cell_type": "code",
      "execution_count": null,
      "id": "civic-audience",
      "metadata": {
        "id": "civic-audience",
        "outputId": "87176fe7-23f0-4e04-804f-f83098d2ce76"
      },
      "outputs": [
        {
          "name": "stdout",
          "output_type": "stream",
          "text": [
            "Exception exception Какое-то исключение\n"
          ]
        }
      ],
      "source": [
        "try:\n",
        "   raise Exception(\"Какое-то исключение\")\n",
        "except Exception as e:\n",
        "   print(\"Exception exception \" + str(e))"
      ]
    },
    {
      "cell_type": "code",
      "execution_count": null,
      "id": "numerical-sympathy",
      "metadata": {
        "tags": [],
        "id": "numerical-sympathy",
        "outputId": "8172a2eb-626b-403a-96ba-dfd0bdc1c7e0"
      },
      "outputs": [
        {
          "name": "stdin",
          "output_type": "stream",
          "text": [
            "Введите первое число:  fdf\n"
          ]
        },
        {
          "name": "stdout",
          "output_type": "stream",
          "text": [
            "Введены некорректные данные\n",
            "Завершение программы\n"
          ]
        }
      ],
      "source": [
        "try:\n",
        "    number1 = int(input(\"Введите первое число: \"))\n",
        "    number2 = int(input(\"Введите второе число: \"))\n",
        "    if number2 == 2:\n",
        "        raise Exception(\"Второе число не должно быть равно 2\")\n",
        "    print(\"Результат деления двух чисел:\", number1/number2)\n",
        "except ValueError:\n",
        "    print(\"Введены некорректные данные\")\n",
        "except Exception as e:\n",
        "    print(e)\n",
        "print(\"Завершение программы\")"
      ]
    },
    {
      "cell_type": "markdown",
      "id": "d14e1c8f",
      "metadata": {
        "id": "d14e1c8f"
      },
      "source": [
        "# ДЗ"
      ]
    },
    {
      "cell_type": "markdown",
      "id": "dimensional-ministry",
      "metadata": {
        "id": "dimensional-ministry"
      },
      "source": [
        "Задача 1. Напишите программу с классом Student, в котором есть три атрибута: name, groupNumber и age. По умолчанию name = Ivan, age = 18, groupNumber = 10A. Необходимо создать пять методов: getName, getAge, getGroupNumber, setNameAge, setGroupNumber. Метод getName нужен для получения данных об имени конкретного студента, метод getAge нужен для получения данных о возрасте конкретного студента, vетод setGroupNumberнужен для получения данных о номере группы конкретного студента. Метод SetNameAge позволяет изменить данные атрибутов установленных по умолчанию, метод setGroupNumber позволяет изменить номер группы установленный по умолчанию. В программе необходимо создать пять экземпляров класса Student, установить им разные имена, возраст и номер группы.\n",
        "\n"
      ]
    },
    {
      "cell_type": "code",
      "source": [
        "class Student:\n",
        "    def __init__(self, name=\"Ivan\", age=18, groupNumber=\"10A\"):\n",
        "        self.name = name\n",
        "        self.age = age\n",
        "        self.groupNumber = groupNumber\n",
        "\n",
        "    def getName(self):\n",
        "        return self.name\n",
        "\n",
        "    def getAge(self):\n",
        "        return self.age\n",
        "\n",
        "    def getGroupNumber(self):\n",
        "        return self.groupNumber\n",
        "\n",
        "    def setNameAge(self, name, age):\n",
        "        self.name = name\n",
        "        self.age = age\n",
        "\n",
        "    def setGroupNumber(self, groupNumber):\n",
        "        self.groupNumber = groupNumber\n",
        "\n",
        "student1 = Student()\n",
        "student2 = Student(\"Anna\", 19, \"11B\")\n",
        "student3 = Student(\"Petr\", 20, \"12C\")\n",
        "student4 = Student(\"Maria\", 18, \"10A\")\n",
        "student5 = Student(\"Alex\", 17, \"9D\")\n",
        "\n",
        "student1.setNameAge(\"Sergey\", 19)\n",
        "student1.setGroupNumber(\"11A\")\n",
        "\n",
        "student4.setNameAge(\"Olga\", 20)\n",
        "student4.setGroupNumber(\"12B\")\n",
        "\n",
        "students = [student1, student2, student3, student4, student5]\n",
        "for i, student in enumerate(students, start=1):\n",
        "    print(f\"Студент {i}:\")\n",
        "    print(f\"Имя: {student.getName()}\")\n",
        "    print(f\"Возраст: {student.getAge()}\")\n",
        "    print(f\"Группа: {student.getGroupNumber()}\")\n",
        "    print(\"-\" * 20)"
      ],
      "metadata": {
        "colab": {
          "base_uri": "https://localhost:8080/"
        },
        "id": "FVLN0rJd1rju",
        "outputId": "2c17f949-4f35-4cea-88c3-dee8387a2f43"
      },
      "id": "FVLN0rJd1rju",
      "execution_count": 1,
      "outputs": [
        {
          "output_type": "stream",
          "name": "stdout",
          "text": [
            "Студент 1:\n",
            "Имя: Sergey\n",
            "Возраст: 19\n",
            "Группа: 11A\n",
            "--------------------\n",
            "Студент 2:\n",
            "Имя: Anna\n",
            "Возраст: 19\n",
            "Группа: 11B\n",
            "--------------------\n",
            "Студент 3:\n",
            "Имя: Petr\n",
            "Возраст: 20\n",
            "Группа: 12C\n",
            "--------------------\n",
            "Студент 4:\n",
            "Имя: Olga\n",
            "Возраст: 20\n",
            "Группа: 12B\n",
            "--------------------\n",
            "Студент 5:\n",
            "Имя: Alex\n",
            "Возраст: 17\n",
            "Группа: 9D\n",
            "--------------------\n"
          ]
        }
      ]
    },
    {
      "cell_type": "markdown",
      "id": "quality-positive",
      "metadata": {
        "id": "quality-positive"
      },
      "source": [
        "Задача 2. Напишите программу с классом Car. Создайте конструктор класса Car. Создайте атрибуты класса Car — color (цвет), type (тип), year (год). Напишите пять методов. Первый — запуск автомобиля, при его вызове выводится сообщение «Автомобиль заведен». Второй — отключение автомобиля — выводит сообщение «Автомобиль заглушен». Третий — присвоение автомобилю года выпуска. Четвертый метод — присвоение автомобилю типа. Пятый — присвоение автомобилю цвета.\n",
        "\n"
      ]
    },
    {
      "cell_type": "code",
      "source": [
        "class Car:\n",
        "    def __init__(self, color='', car_type='', year=0):\n",
        "        self.color = color\n",
        "        self.car_type = car_type\n",
        "        self.year = year\n",
        "\n",
        "    def start(self):\n",
        "        print(\"Автомобиль заведен\")\n",
        "\n",
        "    def stop(self):\n",
        "        print(\"Автомобиль заглушен\")\n",
        "\n",
        "    def set_year(self, year):\n",
        "        self.year = year\n",
        "\n",
        "    def set_type(self, car_type):\n",
        "        self.car_type = car_type\n",
        "\n",
        "    def set_color(self, color):\n",
        "        self.color = color\n",
        "\n",
        "    def get_info(self):\n",
        "        return f\"Цвет: {self.color}, Тип: {self.car_type}, Год: {self.year}\"\n",
        "\n",
        "car1 = Car()\n",
        "car1.set_color(\"Красный\")\n",
        "car1.set_type(\"Седан\")\n",
        "car1.set_year(2022)\n",
        "car1.start()\n",
        "print(car1.get_info())\n",
        "car1.stop()\n"
      ],
      "metadata": {
        "colab": {
          "base_uri": "https://localhost:8080/"
        },
        "id": "LCEQiRNx2npS",
        "outputId": "4ba639f3-70e4-40f6-c45c-5818423533ff"
      },
      "id": "LCEQiRNx2npS",
      "execution_count": 2,
      "outputs": [
        {
          "output_type": "stream",
          "name": "stdout",
          "text": [
            "Автомобиль заведен\n",
            "Цвет: Красный, Тип: Седан, Год: 2022\n",
            "Автомобиль заглушен\n"
          ]
        }
      ]
    },
    {
      "cell_type": "markdown",
      "id": "familiar-rachel",
      "metadata": {
        "id": "familiar-rachel"
      },
      "source": [
        "Задача 3. Допишите функцию Nutrion"
      ]
    }
  ],
  "metadata": {
    "kernelspec": {
      "display_name": "Python 3 (ipykernel)",
      "language": "python",
      "name": "python3"
    },
    "language_info": {
      "codemirror_mode": {
        "name": "ipython",
        "version": 3
      },
      "file_extension": ".py",
      "mimetype": "text/x-python",
      "name": "python",
      "nbconvert_exporter": "python",
      "pygments_lexer": "ipython3",
      "version": "3.10.10"
    },
    "toc": {
      "base_numbering": 1,
      "nav_menu": {},
      "number_sections": true,
      "sideBar": true,
      "skip_h1_title": false,
      "title_cell": "Table of Contents",
      "title_sidebar": "Contents",
      "toc_cell": false,
      "toc_position": {},
      "toc_section_display": true,
      "toc_window_display": true
    },
    "varInspector": {
      "cols": {
        "lenName": 16,
        "lenType": 16,
        "lenVar": 40
      },
      "kernels_config": {
        "python": {
          "delete_cmd_postfix": "",
          "delete_cmd_prefix": "del ",
          "library": "var_list.py",
          "varRefreshCmd": "print(var_dic_list())"
        },
        "r": {
          "delete_cmd_postfix": ") ",
          "delete_cmd_prefix": "rm(",
          "library": "var_list.r",
          "varRefreshCmd": "cat(var_dic_list()) "
        }
      },
      "types_to_exclude": [
        "module",
        "function",
        "builtin_function_or_method",
        "instance",
        "_Feature"
      ],
      "window_display": false
    },
    "colab": {
      "provenance": []
    }
  },
  "nbformat": 4,
  "nbformat_minor": 5
}