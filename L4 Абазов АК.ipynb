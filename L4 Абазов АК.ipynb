{
  "cells": [
    {
      "cell_type": "markdown",
      "id": "ordered-bristol",
      "metadata": {
        "id": "ordered-bristol"
      },
      "source": [
        "# Урок 4"
      ]
    },
    {
      "cell_type": "markdown",
      "id": "monetary-harris",
      "metadata": {
        "id": "monetary-harris"
      },
      "source": [
        "### 1 Функции. Введение\n",
        "### 2 Базовые коллекции\n",
        "### 3 Словари"
      ]
    },
    {
      "cell_type": "code",
      "execution_count": null,
      "id": "quantitative-uganda",
      "metadata": {
        "id": "quantitative-uganda"
      },
      "outputs": [],
      "source": []
    },
    {
      "cell_type": "markdown",
      "id": "saved-andrews",
      "metadata": {
        "id": "saved-andrews"
      },
      "source": [
        "## Перебирание объектов\n"
      ]
    },
    {
      "cell_type": "markdown",
      "id": "f113f606-6617-4e43-b7d4-09db88566812",
      "metadata": {
        "id": "f113f606-6617-4e43-b7d4-09db88566812"
      },
      "source": [
        "Можно ещё использовать разные встроеные вспомогательные фишечки. Помедитируете над этими вещами\n"
      ]
    },
    {
      "cell_type": "code",
      "execution_count": null,
      "id": "focal-pattern",
      "metadata": {
        "tags": [],
        "id": "focal-pattern",
        "outputId": "369bf4b0-cab7-4cce-b0e7-5f9f8b2c565d"
      },
      "outputs": [
        {
          "name": "stdout",
          "output_type": "stream",
          "text": [
            "(0, 'a')\n",
            "(1, 'b')\n",
            "(2, 'c')\n"
          ]
        }
      ],
      "source": [
        "for i in enumerate(['a', 'b', 'c']):\n",
        "    print(i)"
      ]
    },
    {
      "cell_type": "code",
      "execution_count": null,
      "id": "reliable-mainstream",
      "metadata": {
        "tags": [],
        "id": "reliable-mainstream",
        "outputId": "a5fef064-217a-403a-992d-1929f0f4cef4"
      },
      "outputs": [
        {
          "name": "stdout",
          "output_type": "stream",
          "text": [
            "0 : a\n",
            "1 : b\n",
            "2 : c\n"
          ]
        }
      ],
      "source": [
        "for a,b in enumerate(['a','b','c']):\n",
        "        print(a, \":\", b)"
      ]
    },
    {
      "cell_type": "code",
      "execution_count": null,
      "id": "certain-shaft",
      "metadata": {
        "tags": [],
        "id": "certain-shaft",
        "outputId": "000fca8c-53d4-407d-e1af-c3e608d900ec"
      },
      "outputs": [
        {
          "name": "stdout",
          "output_type": "stream",
          "text": [
            "0\n",
            "1\n",
            "2\n",
            "3\n",
            "4\n"
          ]
        }
      ],
      "source": [
        "for i in range(5):\n",
        "    print(i)"
      ]
    },
    {
      "cell_type": "code",
      "execution_count": null,
      "id": "bigger-least",
      "metadata": {
        "id": "bigger-least"
      },
      "outputs": [],
      "source": []
    },
    {
      "cell_type": "markdown",
      "id": "confused-calibration",
      "metadata": {
        "id": "confused-calibration"
      },
      "source": [
        "Если вам нужно выполнить задачу несколько раз в рамках программы, вам не нужно набирать весь код для одной и той же задачи снова и снова; вы просто вызываете функцию, предназначенную для обработки этой задачи, и этот вызов указывает Python выполнить код внутри функции."
      ]
    },
    {
      "cell_type": "markdown",
      "id": "million-discovery",
      "metadata": {
        "id": "million-discovery"
      },
      "source": [
        "##  Функции. Введение"
      ]
    },
    {
      "cell_type": "markdown",
      "id": "recreational-cosmetic",
      "metadata": {
        "id": "recreational-cosmetic"
      },
      "source": [
        "Функция — это последовательность инструкций, которые должен выполнить Python. Каждая функция в Python начинается с ключевого слова def, имеет свое имя и параметры. Давай начнем с простого примера. Замени код в python_intro.py на следующий:\n",
        "\n"
      ]
    },
    {
      "cell_type": "markdown",
      "id": "mediterranean-management",
      "metadata": {
        "id": "mediterranean-management"
      },
      "source": [
        "Структура функции:\n",
        "\n",
        "def - для объявления функции используется ключевое слово def.\n",
        "После def идёт имя функции (старайтесь давать функциям осмысленные имена)\n",
        "После имени функции в круглых скобках идут параметры функции (если функция не принимает параметров, то пустые круглые скобки)\n",
        "С новой строки с отступом (аналогичным условиям и циклам) пишется \"тело функции\", т.е. код, исполняющийся в случае исполнения (вызова) функции.\n",
        "Для возврата функцией каких-либо значений используется ключевое слово return (в теле функции может быть несколько return, например, если надо возвращать разные значения в случае выполнения разных условий)"
      ]
    },
    {
      "cell_type": "code",
      "execution_count": null,
      "id": "prime-consultancy",
      "metadata": {
        "tags": [],
        "id": "prime-consultancy",
        "outputId": "7d33ffd0-10f9-4ced-e791-9a3d3456202c"
      },
      "outputs": [
        {
          "name": "stdout",
          "output_type": "stream",
          "text": [
            "Hi there!\n",
            "How are you?\n"
          ]
        }
      ],
      "source": [
        "def hi():\n",
        "    print('Hi there!')\n",
        "    print('How are you?')\n",
        "\n",
        "hi()"
      ]
    },
    {
      "cell_type": "markdown",
      "id": "economic-sunglasses",
      "metadata": {
        "id": "economic-sunglasses"
      },
      "source": [
        "Отлично, наша первая функция готова!\n",
        "\n"
      ]
    },
    {
      "cell_type": "code",
      "execution_count": null,
      "id": "cosmetic-plant",
      "metadata": {
        "tags": [],
        "id": "cosmetic-plant",
        "outputId": "e514ad89-8954-4fac-9f00-c96df6223f2f"
      },
      "outputs": [
        {
          "name": "stdout",
          "output_type": "stream",
          "text": [
            "Hi there!\n",
            "How are you?\n"
          ]
        }
      ],
      "source": [
        "hi()"
      ]
    },
    {
      "cell_type": "markdown",
      "id": "operational-lobby",
      "metadata": {
        "id": "operational-lobby"
      },
      "source": [
        "Ты можешь задаться вопросом, почему мы написали имя функции в конце файла. Причина в том, что Python читает и исполняет код из файла сверху вниз. Поэтому для использования нашей функции мы должны вызвать её в конце файла.\n",
        "\n"
      ]
    },
    {
      "cell_type": "markdown",
      "id": "emerging-military",
      "metadata": {
        "id": "emerging-military"
      },
      "source": [
        "Давай напишем нашу первую функцию с параметрами. Мы будем использовать предыдущий пример — функцию, которая пишет 'hi' и имя пользователя:\n",
        "\n"
      ]
    },
    {
      "cell_type": "code",
      "execution_count": null,
      "id": "concerned-recipe",
      "metadata": {
        "tags": [],
        "id": "concerned-recipe"
      },
      "outputs": [],
      "source": [
        "def hi(name):\n",
        "    if name == 'Ola':\n",
        "        print('Hi Ole4ka!')\n",
        "    elif name == 'Sonja':\n",
        "        print('Hi Sone4ka!')\n",
        "    else:\n",
        "        print('Hi anonymous!')"
      ]
    },
    {
      "cell_type": "code",
      "execution_count": null,
      "id": "annoying-westminster",
      "metadata": {
        "tags": [],
        "id": "annoying-westminster",
        "outputId": "fec64f68-e7a5-41a9-efa4-aed49f02ef9b"
      },
      "outputs": [
        {
          "ename": "TypeError",
          "evalue": "hi() missing 1 required positional argument: 'name'",
          "output_type": "error",
          "traceback": [
            "\u001b[0;31m---------------------------------------------------------------------------\u001b[0m",
            "\u001b[0;31mTypeError\u001b[0m                                 Traceback (most recent call last)",
            "Cell \u001b[0;32mIn[20], line 1\u001b[0m\n\u001b[0;32m----> 1\u001b[0m \u001b[43mhi\u001b[49m\u001b[43m(\u001b[49m\u001b[43m)\u001b[49m\n",
            "\u001b[0;31mTypeError\u001b[0m: hi() missing 1 required positional argument: 'name'"
          ]
        }
      ],
      "source": [
        "hi()\n"
      ]
    },
    {
      "cell_type": "code",
      "execution_count": null,
      "id": "a50ceb3b-647a-49ad-a863-d29c603878e7",
      "metadata": {
        "tags": [],
        "id": "a50ceb3b-647a-49ad-a863-d29c603878e7"
      },
      "outputs": [],
      "source": []
    },
    {
      "cell_type": "code",
      "execution_count": null,
      "id": "running-jimmy",
      "metadata": {
        "tags": [],
        "id": "running-jimmy",
        "outputId": "c2399b96-fe86-4914-cc17-2c04a3d89b21"
      },
      "outputs": [
        {
          "name": "stdout",
          "output_type": "stream",
          "text": [
            "Hi Ole4ka!\n"
          ]
        }
      ],
      "source": [
        "hi(\"Ola\")"
      ]
    },
    {
      "cell_type": "code",
      "execution_count": null,
      "id": "failing-imaging",
      "metadata": {
        "tags": [],
        "id": "failing-imaging",
        "outputId": "00a4dc0b-f98a-4bb7-f6f6-1dcad44eb32b"
      },
      "outputs": [
        {
          "name": "stdout",
          "output_type": "stream",
          "text": [
            "Hi anonymous!\n"
          ]
        }
      ],
      "source": [
        "hi('Brunhilda')"
      ]
    },
    {
      "cell_type": "code",
      "execution_count": null,
      "id": "minus-portrait",
      "metadata": {
        "tags": [],
        "id": "minus-portrait",
        "outputId": "8dc8c0ef-f2bc-42ab-e994-331cf0e798cc"
      },
      "outputs": [
        {
          "name": "stdout",
          "output_type": "stream",
          "text": [
            "Hi Rachel!\n"
          ]
        }
      ],
      "source": [
        "def hi(name):\n",
        "    print('Hi ' + name + '!')\n",
        "\n",
        "hi(\"Rachel\")"
      ]
    },
    {
      "cell_type": "markdown",
      "id": "consistent-entry",
      "metadata": {
        "id": "consistent-entry"
      },
      "source": [
        "Первая часть функции определяет его. Подобно установке значения переменной, определение функции дает вам что-то для вызова, когда вы хотите использовать эту функцию. Также похоже на переменную, он должен быть достаточно длинным, чтобы быть описательным, но достаточно коротким, чтобы его можно было легко повторить:\n"
      ]
    },
    {
      "cell_type": "code",
      "execution_count": null,
      "id": "exterior-editing",
      "metadata": {
        "id": "exterior-editing"
      },
      "outputs": [],
      "source": [
        "def function ():\n",
        "     # некоторые операторы функций\n",
        "# too long\n",
        "def function_to_do_all_the_things_i_want_it_to_do_and_more():\n",
        "     # некоторые операторы функций\n",
        "# как раз\n",
        "def silly_name_generator ():\n",
        "     # некоторые операторы функций"
      ]
    },
    {
      "cell_type": "markdown",
      "id": "returning-transportation",
      "metadata": {
        "id": "returning-transportation"
      },
      "source": [
        "Вы можете передать информацию функции, включив аргументы функции в круглые скобки в определении функции. Добавляя аргумент, вы позволяете функции принимать разные значения и выполнять одни и те же задачи. Теперь функция ожидает, что вы будете указывать значение аргумента каждый раз, когда вы его вызываете. Когда вы звоните hi(), вы можете передать ему имя, например, «jesse» . Например, вот функция, которая проверяет, доступен ли конкретный напиток в  магазине:\n"
      ]
    },
    {
      "cell_type": "code",
      "execution_count": null,
      "id": "living-wallace",
      "metadata": {
        "tags": [],
        "id": "living-wallace"
      },
      "outputs": [],
      "source": [
        "def  red_white_drinks_is_available ( drink_name ):\n",
        "     available_drinks  = [ 'mate' , 'beer' , 'wine' , 'coffee' , 'tea' ]\n",
        "     if  drink_name  in  available_drinks :\n",
        "         print ( f\"У нас есть { drink_name } в магазине!\" )\n",
        "     else :\n",
        "         print ( f\"Извините, у нас нет { drink_name } в нашем магазине\" )"
      ]
    },
    {
      "cell_type": "markdown",
      "id": "charitable-protest",
      "metadata": {
        "id": "charitable-protest"
      },
      "source": [
        "Выше мы только определили функцию. Если мы хотим использовать функцию, нам нужно ее вызвать и включить параметр для аргумента drink.\n"
      ]
    },
    {
      "cell_type": "code",
      "execution_count": null,
      "id": "apart-sleep",
      "metadata": {
        "tags": [],
        "id": "apart-sleep",
        "outputId": "0762e5bf-74b2-4032-e60a-bab4d6df3655"
      },
      "outputs": [
        {
          "name": "stdout",
          "output_type": "stream",
          "text": [
            "Извините, у нас нет cider в нашем магазине\n",
            "У нас есть coffee в магазине!\n"
          ]
        }
      ],
      "source": [
        "red_white_drinks_is_available ( 'cider' )\n",
        "red_white_drinks_is_available ( 'coffee' )"
      ]
    },
    {
      "cell_type": "markdown",
      "id": "conscious-contractor",
      "metadata": {
        "id": "conscious-contractor"
      },
      "source": [
        "Мы можем поставить все, что захотим, в качестве аргумента нашей функции.\n"
      ]
    },
    {
      "cell_type": "code",
      "execution_count": null,
      "id": "unsigned-pencil",
      "metadata": {
        "tags": [],
        "id": "unsigned-pencil"
      },
      "outputs": [],
      "source": [
        "def  red_white_drinks_is_available ( drink = 'beer' ):\n",
        "     available_drinks  = [ 'mate' , 'beer' , 'wine' , 'coffee' , 'tea' ]\n",
        "     if  drink  in  available_drinks :\n",
        "         print ( f\"У нас есть { drink } в магазине!\" )\n",
        "     else :\n",
        "         print ( f\"Извините, у нас нет { drink } в нашем магазине\" )"
      ]
    },
    {
      "cell_type": "code",
      "execution_count": null,
      "id": "passing-lafayette",
      "metadata": {
        "tags": [],
        "id": "passing-lafayette",
        "outputId": "f4f0aee3-ecef-426a-d21e-7ad383e64af9"
      },
      "outputs": [
        {
          "name": "stdout",
          "output_type": "stream",
          "text": [
            "У нас есть beer в магазине!\n"
          ]
        }
      ],
      "source": [
        "red_white_drinks_is_available()"
      ]
    },
    {
      "cell_type": "code",
      "execution_count": null,
      "id": "elegant-entrance",
      "metadata": {
        "id": "elegant-entrance",
        "outputId": "73065697-f283-4fab-c3c3-70d1f81bbaf3"
      },
      "outputs": [
        {
          "name": "stdout",
          "output_type": "stream",
          "text": [
            "Извините, у нас нет sdsd в нашем магазине\n"
          ]
        }
      ],
      "source": [
        "red_white_drinks_is_available('sdsd')"
      ]
    },
    {
      "cell_type": "code",
      "execution_count": null,
      "id": "divine-vegetable",
      "metadata": {
        "tags": [],
        "id": "divine-vegetable",
        "outputId": "b072bc2c-a13d-4d10-bfad-0a2eaa6a14e7"
      },
      "outputs": [
        {
          "name": "stdin",
          "output_type": "stream",
          "text": [
            "Как вас зовут?  Даниил\n"
          ]
        },
        {
          "name": "stdout",
          "output_type": "stream",
          "text": [
            "Дратути Даниил\n"
          ]
        }
      ],
      "source": [
        "def func(hello=\"Дратути\"):\n",
        "    who = input(\"Как вас зовут? \")\n",
        "    print(hello, who)\n",
        "func()"
      ]
    },
    {
      "cell_type": "markdown",
      "id": "interracial-present",
      "metadata": {
        "id": "interracial-present"
      },
      "source": [
        "Для того, чтобы введённый код не испортил вам ничего, то, что возвращает input это всегда строка. Поэтому если вы хотите с тем, что ввёл пользователй что-то сделать, надо сначала скастоватьпреобразовать к нужному типу.\n"
      ]
    },
    {
      "cell_type": "code",
      "execution_count": null,
      "id": "southeast-burden",
      "metadata": {
        "tags": [],
        "id": "southeast-burden"
      },
      "outputs": [],
      "source": [
        "def greet_someone(greeting, name, age):\n",
        "    if isinstance(age, str):\n",
        "        age = int(age)\n",
        "\n",
        "    if age >= 18:\n",
        "        print(f'{greeting}, {name}! Ты уже можешь сбегать в магазин за пивом. Захвати мне хугарден')\n",
        "    else:\n",
        "        print(f'{greeting}, {name}! Ну ты и малявка! Позови кого постарше, я хочу пива')"
      ]
    },
    {
      "cell_type": "code",
      "execution_count": null,
      "id": "sticky-visit",
      "metadata": {
        "tags": [],
        "id": "sticky-visit",
        "outputId": "b7656f8a-d442-4099-9f1b-eeff5ca9b467"
      },
      "outputs": [
        {
          "name": "stdout",
          "output_type": "stream",
          "text": [
            "Приветули, Констатин Браварский! Ты уже можешь сбегать в магазин за пивом. Захвати мне хугарден\n",
            "Здорово, Жычуань Су! Ну ты и малявка! Позови кого постарше, я хочу пива\n",
            "Hello there, Друбрадр Данатович Хырдыбырдов! Ты уже можешь сбегать в магазин за пивом. Захвати мне хугарден\n"
          ]
        }
      ],
      "source": [
        "greet_someone(\"Приветули\", \"Констатин Браварский\", \"27\")\n",
        "greet_someone(\"Здорово\", \"Жычуань Су\", 17)\n",
        "greet_someone(age=\"1337\", greeting=\"Hello there\", name=\"Друбрадр Данатович Хырдыбырдов\")"
      ]
    },
    {
      "cell_type": "markdown",
      "id": "norman-paste",
      "metadata": {
        "id": "norman-paste"
      },
      "source": [
        "Вроде работает. Осталось получать эти данные от пользователя.\n"
      ]
    },
    {
      "cell_type": "markdown",
      "id": "placed-rogers",
      "metadata": {
        "id": "placed-rogers"
      },
      "source": [
        "Обратите внимание:\n",
        "\n",
        "наша функция greet_someone работает даже если age передан как строка\n",
        "в третьем вызове мы нарочно перепутали местами аргументы и чтобы интерпретатор не запутался, явно их подписали"
      ]
    },
    {
      "cell_type": "markdown",
      "id": "logical-suspension",
      "metadata": {
        "id": "logical-suspension"
      },
      "source": [
        "Вообще говоря, вот эти вот манипуляции с isinstance считаются не очень хорошим тоном, и если вам надо их делать, вы скорее всего делаете что-то не очень красиво. Важно это помнить. Но в принципе, когда от нас приходит всегда строка (ввод пользователя), то у нас нет другого способа кроме как кастовать это на месте к нужному типу (в нашем случае — к числу)\n"
      ]
    },
    {
      "cell_type": "code",
      "execution_count": null,
      "id": "premium-soldier",
      "metadata": {
        "tags": [],
        "id": "premium-soldier"
      },
      "outputs": [],
      "source": [
        "def get_info_from_user(hello=\"Дратути\"):\n",
        "    who = input(\"Как тебя зовут? \")\n",
        "    age = input(\"А сколько тебе лет? \")\n",
        "    greet_someone(greeting=hello, name=who, age=int(age))"
      ]
    },
    {
      "cell_type": "code",
      "execution_count": null,
      "id": "southeast-projector",
      "metadata": {
        "tags": [],
        "id": "southeast-projector",
        "outputId": "d601d87a-c723-413b-fe67-422da78dbd7f"
      },
      "outputs": [
        {
          "name": "stdin",
          "output_type": "stream",
          "text": [
            "Как тебя зовут?  ывфывв\n",
            "А сколько тебе лет?  23\n"
          ]
        },
        {
          "name": "stdout",
          "output_type": "stream",
          "text": [
            "Дратути, ывфывв! Ты уже можешь сбегать в магазин за пивом. Захвати мне хугарден\n"
          ]
        }
      ],
      "source": [
        "get_info_from_user()"
      ]
    },
    {
      "cell_type": "code",
      "execution_count": null,
      "id": "439f6507-66c5-40f6-adc2-0f6b69277ee2",
      "metadata": {
        "tags": [],
        "id": "439f6507-66c5-40f6-adc2-0f6b69277ee2"
      },
      "outputs": [],
      "source": []
    },
    {
      "cell_type": "markdown",
      "id": "lasting-cookie",
      "metadata": {
        "id": "lasting-cookie"
      },
      "source": [
        "### Return"
      ]
    },
    {
      "cell_type": "code",
      "execution_count": null,
      "id": "casual-facility",
      "metadata": {
        "tags": [],
        "id": "casual-facility"
      },
      "outputs": [],
      "source": [
        "def pow2(x):\n",
        "    return x**2"
      ]
    },
    {
      "cell_type": "code",
      "execution_count": null,
      "id": "forty-detective",
      "metadata": {
        "tags": [],
        "id": "forty-detective",
        "outputId": "8e47add7-4193-45c8-a5da-d8ad4fae8a1f"
      },
      "outputs": [
        {
          "data": {
            "text/plain": [
              "25"
            ]
          },
          "execution_count": 37,
          "metadata": {},
          "output_type": "execute_result"
        }
      ],
      "source": [
        "pow2(5)"
      ]
    },
    {
      "cell_type": "code",
      "execution_count": null,
      "id": "noble-california",
      "metadata": {
        "tags": [],
        "id": "noble-california"
      },
      "outputs": [],
      "source": [
        "a=pow2(2)"
      ]
    },
    {
      "cell_type": "code",
      "execution_count": null,
      "id": "statistical-earth",
      "metadata": {
        "tags": [],
        "id": "statistical-earth",
        "outputId": "40dc2007-767c-482f-cfe5-9bd76167d71c"
      },
      "outputs": [
        {
          "data": {
            "text/plain": [
              "4"
            ]
          },
          "execution_count": 39,
          "metadata": {},
          "output_type": "execute_result"
        }
      ],
      "source": [
        "a"
      ]
    },
    {
      "cell_type": "code",
      "execution_count": null,
      "id": "controversial-camping",
      "metadata": {
        "tags": [],
        "id": "controversial-camping"
      },
      "outputs": [],
      "source": [
        "def add(x, y):\n",
        "    return x + y"
      ]
    },
    {
      "cell_type": "code",
      "execution_count": null,
      "id": "8fc9d012-bd78-4f27-9f4a-cafdea1ccf17",
      "metadata": {
        "tags": [],
        "id": "8fc9d012-bd78-4f27-9f4a-cafdea1ccf17",
        "outputId": "d36e60cd-7962-4ac3-d765-6c73761803ae"
      },
      "outputs": [
        {
          "data": {
            "text/plain": [
              "8"
            ]
          },
          "execution_count": 42,
          "metadata": {},
          "output_type": "execute_result"
        }
      ],
      "source": [
        "add(5,3)"
      ]
    },
    {
      "cell_type": "code",
      "execution_count": null,
      "id": "italic-airplane",
      "metadata": {
        "tags": [],
        "id": "italic-airplane"
      },
      "outputs": [],
      "source": [
        " def newfunc(n):\n",
        "    def myfunc(x):\n",
        "         return x + n\n",
        "    return myfunc"
      ]
    },
    {
      "cell_type": "code",
      "execution_count": null,
      "id": "ranking-friendship",
      "metadata": {
        "tags": [],
        "id": "ranking-friendship"
      },
      "outputs": [],
      "source": [
        "new = newfunc(100)"
      ]
    },
    {
      "cell_type": "code",
      "execution_count": null,
      "id": "textile-encoding",
      "metadata": {
        "tags": [],
        "id": "textile-encoding",
        "outputId": "04ca58d1-27a1-47d5-91e0-ba43f3bca41a"
      },
      "outputs": [
        {
          "data": {
            "text/plain": [
              "350"
            ]
          },
          "execution_count": 52,
          "metadata": {},
          "output_type": "execute_result"
        }
      ],
      "source": [
        "new(250)"
      ]
    },
    {
      "cell_type": "code",
      "execution_count": null,
      "id": "greenhouse-classroom",
      "metadata": {
        "tags": [],
        "id": "greenhouse-classroom"
      },
      "outputs": [],
      "source": [
        "def sqrt(x):\n",
        "    if x >= 0:\n",
        "        return x**0.5\n",
        "    print ('ОШИБКА! Не удаётся извлечь корень.')"
      ]
    },
    {
      "cell_type": "code",
      "execution_count": null,
      "id": "blocked-plaintiff",
      "metadata": {
        "tags": [],
        "id": "blocked-plaintiff"
      },
      "outputs": [],
      "source": [
        "def empty_func():\n",
        "    pass"
      ]
    },
    {
      "cell_type": "markdown",
      "id": "better-wrist",
      "metadata": {
        "id": "better-wrist"
      },
      "source": [
        "Функция может принимать произвольное количество аргументов или не принимать их вовсе. Также распространены функции с произвольным числом аргументов, функции с позиционными и именованными аргументами, обязательными и необязательными.\n",
        "\n"
      ]
    },
    {
      "cell_type": "markdown",
      "id": "distant-lambda",
      "metadata": {
        "id": "distant-lambda"
      },
      "source": [
        "Функция также может принимать переменное количество позиционных аргументов, тогда перед именем ставится *:\n",
        "\n"
      ]
    },
    {
      "cell_type": "code",
      "execution_count": null,
      "id": "micro-abuse",
      "metadata": {
        "tags": [],
        "id": "micro-abuse"
      },
      "outputs": [],
      "source": [
        "def func(*args):\n",
        "    return args"
      ]
    },
    {
      "cell_type": "code",
      "execution_count": null,
      "id": "roman-rachel",
      "metadata": {
        "tags": [],
        "id": "roman-rachel",
        "outputId": "a04afdc2-9366-46b1-9370-ba6da1ac061f"
      },
      "outputs": [
        {
          "data": {
            "text/plain": [
              "(1, 2, 3, 'abc')"
            ]
          },
          "execution_count": 56,
          "metadata": {},
          "output_type": "execute_result"
        }
      ],
      "source": [
        "func(1, 2, 3, 'abc')"
      ]
    },
    {
      "cell_type": "markdown",
      "id": "japanese-visitor",
      "metadata": {
        "id": "japanese-visitor"
      },
      "source": [
        "Как видно из примера, args - это кортеж из всех переданных аргументов функции, и с переменной можно работать также, как и с кортежем.\n",
        "\n",
        "Функция может принимать и произвольное число именованных аргументов, тогда перед именем ставится **:"
      ]
    },
    {
      "cell_type": "code",
      "execution_count": null,
      "id": "widespread-short",
      "metadata": {
        "tags": [],
        "id": "widespread-short"
      },
      "outputs": [],
      "source": [
        "def func(**kwargs):\n",
        "     return kwargs"
      ]
    },
    {
      "cell_type": "code",
      "execution_count": null,
      "id": "honey-process",
      "metadata": {
        "tags": [],
        "id": "honey-process",
        "outputId": "0775f149-4984-4d74-ecbf-4d99d10f8239"
      },
      "outputs": [
        {
          "data": {
            "text/plain": [
              "{'a': 1, 'b': 2, 'c': [1, 3, 4, 6]}"
            ]
          },
          "execution_count": 65,
          "metadata": {},
          "output_type": "execute_result"
        }
      ],
      "source": [
        "func(a=1, b=2, c=[1,3,4,6])"
      ]
    },
    {
      "cell_type": "code",
      "execution_count": null,
      "id": "viral-bloom",
      "metadata": {
        "tags": [],
        "id": "viral-bloom",
        "outputId": "7eddf7e9-7019-47e3-cad1-7b62a55cd66c"
      },
      "outputs": [
        {
          "data": {
            "text/plain": [
              "{}"
            ]
          },
          "execution_count": 62,
          "metadata": {},
          "output_type": "execute_result"
        }
      ],
      "source": [
        "func()"
      ]
    },
    {
      "cell_type": "code",
      "execution_count": null,
      "id": "contrary-disposal",
      "metadata": {
        "tags": [],
        "id": "contrary-disposal",
        "outputId": "ab12d506-1831-4683-aefa-222193f58253"
      },
      "outputs": [
        {
          "data": {
            "text/plain": [
              "{'name': 'python'}"
            ]
          },
          "execution_count": 64,
          "metadata": {},
          "output_type": "execute_result"
        }
      ],
      "source": [
        "func(name='python')"
      ]
    },
    {
      "cell_type": "code",
      "execution_count": null,
      "id": "danish-enemy",
      "metadata": {
        "id": "danish-enemy"
      },
      "outputs": [],
      "source": []
    },
    {
      "cell_type": "markdown",
      "id": "minus-massachusetts",
      "metadata": {
        "id": "minus-massachusetts"
      },
      "source": [
        "## Область видимости переменной\n"
      ]
    },
    {
      "cell_type": "code",
      "execution_count": null,
      "id": "metallic-ministry",
      "metadata": {
        "tags": [],
        "id": "metallic-ministry",
        "outputId": "f3823a30-07cc-40c1-c7b0-fda633a7cb0e"
      },
      "outputs": [
        {
          "name": "stdout",
          "output_type": "stream",
          "text": [
            "5\n",
            "0\n"
          ]
        }
      ],
      "source": [
        "num = 0\n",
        "def func():\n",
        "    num = 5 # новая переменная внутри функции\n",
        "    print(num)\n",
        "func()\n",
        "print(num)"
      ]
    },
    {
      "cell_type": "code",
      "execution_count": null,
      "id": "ancient-video",
      "metadata": {
        "tags": [],
        "id": "ancient-video",
        "outputId": "3573b806-1f9b-4d5c-d7b0-b97009f04b33"
      },
      "outputs": [
        {
          "name": "stdout",
          "output_type": "stream",
          "text": [
            "{'num': 3}\n",
            "{'num': 5}\n"
          ]
        }
      ],
      "source": [
        "values = {'num': 3}\n",
        "def func():\n",
        "    # питон сообразит посмотреть выше\n",
        "    values['num'] = 5\n",
        "print(values)\n",
        "func()\n",
        "print(values)"
      ]
    },
    {
      "cell_type": "code",
      "execution_count": null,
      "id": "derived-camping",
      "metadata": {
        "tags": [],
        "id": "derived-camping"
      },
      "outputs": [],
      "source": []
    },
    {
      "cell_type": "code",
      "execution_count": null,
      "id": "bound-newcastle",
      "metadata": {
        "id": "bound-newcastle"
      },
      "outputs": [],
      "source": []
    },
    {
      "cell_type": "markdown",
      "id": "young-local",
      "metadata": {
        "id": "young-local"
      },
      "source": [
        "## Контейнеры"
      ]
    },
    {
      "cell_type": "markdown",
      "id": "collective-brunei",
      "metadata": {
        "id": "collective-brunei"
      },
      "source": [
        "Контейнеры хранят в себе переменные. За счёт динамической типизации, они могут хранить в себе что угодно. Видов контейнеров в питоне несколько:\n"
      ]
    },
    {
      "cell_type": "markdown",
      "id": "prescribed-paintball",
      "metadata": {
        "id": "prescribed-paintball"
      },
      "source": [
        "tuple\n",
        "\n",
        "list\n",
        "\n",
        "dict\n",
        "\n",
        "set\n"
      ]
    },
    {
      "cell_type": "markdown",
      "id": "incorporated-suicide",
      "metadata": {
        "id": "incorporated-suicide"
      },
      "source": [
        "## Tuple"
      ]
    },
    {
      "cell_type": "markdown",
      "id": "variable-transcription",
      "metadata": {
        "id": "variable-transcription"
      },
      "source": [
        "По-русски это кортеж, но я не видел чтобы кто-то серьёзно его так называл. Его особенность в том, что у него нельзя менять конкретные элементы. Чтобы создать tuple, оберните все свои объекты в круглые скобочки и разделите запятыми. При этом, если у вас только один объект, а вы хотите tuple, то вам надо всё равно поставить одну запятую."
      ]
    },
    {
      "cell_type": "code",
      "execution_count": null,
      "id": "daily-nirvana",
      "metadata": {
        "id": "daily-nirvana",
        "outputId": "9d97f0c9-9851-4967-9055-815084ef216f"
      },
      "outputs": [
        {
          "name": "stdout",
          "output_type": "stream",
          "text": [
            "<class 'str'>\n",
            "<class 'tuple'>\n",
            "['__add__', '__class__', '__contains__', '__delattr__', '__dir__', '__doc__', '__eq__', '__format__', '__ge__', '__getattribute__', '__getitem__', '__getnewargs__', '__gt__', '__hash__', '__init__', '__init_subclass__', '__iter__', '__le__', '__len__', '__lt__', '__mul__', '__ne__', '__new__', '__reduce__', '__reduce_ex__', '__repr__', '__rmul__', '__setattr__', '__sizeof__', '__str__', '__subclasshook__', 'count', 'index']\n"
          ]
        }
      ],
      "source": [
        "# TUPLE\n",
        "t = ('a')\n",
        "print(type(t))\n",
        "t = ('a',)\n",
        "print(type(t))\n",
        "print(dir(t))"
      ]
    },
    {
      "cell_type": "code",
      "execution_count": null,
      "id": "handled-jewelry",
      "metadata": {
        "id": "handled-jewelry",
        "outputId": "b0c7efce-5be8-43cc-fc51-4a49d05627e7"
      },
      "outputs": [
        {
          "name": "stdout",
          "output_type": "stream",
          "text": [
            "('а', 2, 7, 15, 12, 'блаблабла')\n",
            "7\n",
            "15\n"
          ]
        }
      ],
      "source": [
        "t = ('а', 2) + (7, 15, 12, \"блаблабла\")\n",
        "print(t)\n",
        "print(t[2])   # 3 элемент с начала\n",
        "print(t[-3])  # 3 элемент с конца"
      ]
    },
    {
      "cell_type": "markdown",
      "id": "small-aluminum",
      "metadata": {
        "id": "small-aluminum"
      },
      "source": [
        "Индексация в питоне от нуля (первый элемент имеет индекс 0), обращение по индексу делается с помощью квадратных скобок.\n",
        "\n",
        "И в tuple нельзя изменять конкретные элементы. Следущий код у нас упадёт:"
      ]
    },
    {
      "cell_type": "code",
      "execution_count": null,
      "id": "increasing-explorer",
      "metadata": {
        "id": "increasing-explorer",
        "outputId": "caad1d32-9d65-43d0-9835-ed010394d6c9"
      },
      "outputs": [
        {
          "ename": "TypeError",
          "evalue": "'tuple' object does not support item assignment",
          "output_type": "error",
          "traceback": [
            "\u001b[0;31m---------------------------------------------------------------------------\u001b[0m",
            "\u001b[0;31mTypeError\u001b[0m                                 Traceback (most recent call last)",
            "\u001b[0;32m<ipython-input-32-481d019f24f7>\u001b[0m in \u001b[0;36m<module>\u001b[0;34m\u001b[0m\n\u001b[0;32m----> 1\u001b[0;31m \u001b[0mt\u001b[0m\u001b[0;34m[\u001b[0m\u001b[0;36m0\u001b[0m\u001b[0;34m]\u001b[0m \u001b[0;34m=\u001b[0m \u001b[0;34m'б'\u001b[0m\u001b[0;34m\u001b[0m\u001b[0;34m\u001b[0m\u001b[0m\n\u001b[0m",
            "\u001b[0;31mTypeError\u001b[0m: 'tuple' object does not support item assignment"
          ]
        }
      ],
      "source": [
        "t[0] = 'б'"
      ]
    },
    {
      "cell_type": "code",
      "execution_count": null,
      "id": "billion-advocacy",
      "metadata": {
        "id": "billion-advocacy",
        "outputId": "1fb69422-33ad-42ea-a62b-3ba8e65dc4b3"
      },
      "outputs": [
        {
          "data": {
            "text/plain": [
              "'а'"
            ]
          },
          "execution_count": 33,
          "metadata": {},
          "output_type": "execute_result"
        }
      ],
      "source": [
        "t[0]"
      ]
    },
    {
      "cell_type": "markdown",
      "id": "protected-egyptian",
      "metadata": {
        "id": "protected-egyptian"
      },
      "source": [
        "Помимо такой индексации, таплы, (как и списки, о которых ниже) поддерживают слайсинг. Это когда вы можете нарезать ваш объект так, чтобы сделать новый под-объект.\n"
      ]
    },
    {
      "cell_type": "code",
      "execution_count": null,
      "id": "fuzzy-standing",
      "metadata": {
        "tags": [],
        "id": "fuzzy-standing"
      },
      "outputs": [],
      "source": [
        "obj = (\"Красный\",\n",
        "       \"Оранжевый\",\n",
        "       \"Жёлтый\",\n",
        "       \"Зелёный\",\n",
        "       \"Голубой\",\n",
        "       \"Синий\",\n",
        "       \"Фиолетовый\")\n"
      ]
    },
    {
      "cell_type": "code",
      "execution_count": null,
      "id": "electrical-stockholm",
      "metadata": {
        "id": "electrical-stockholm",
        "outputId": "807e162c-346b-4878-e399-3c69a033b664"
      },
      "outputs": [
        {
          "name": "stdout",
          "output_type": "stream",
          "text": [
            "('Жёлтый',)\n",
            "('Голубой', 'Синий', 'Фиолетовый')\n",
            "('Красный', 'Оранжевый', 'Жёлтый', 'Зелёный')\n",
            "('Красный', 'Оранжевый', 'Жёлтый', 'Зелёный', 'Голубой', 'Синий', 'Фиолетовый')\n",
            "('Жёлтый', 'Зелёный', 'Голубой')\n",
            "('Жёлтый', 'Голубой')\n",
            "('Синий', 'Голубой', 'Зелёный')\n"
          ]
        }
      ],
      "source": [
        "print(obj[2:3])\n",
        "print(obj[4:])\n",
        "print(obj[:4])\n",
        "print(obj[:100])\n",
        "print(obj[-5:-2])\n",
        "print(obj[2:5:2])\n",
        "print(obj[-2:-5:-1])"
      ]
    },
    {
      "cell_type": "code",
      "execution_count": null,
      "id": "historic-employee",
      "metadata": {
        "id": "historic-employee",
        "outputId": "7f73fc4a-0763-4213-eb74-9cc667b8d483"
      },
      "outputs": [
        {
          "data": {
            "text/plain": [
              "'Жёлтый'"
            ]
          },
          "execution_count": 29,
          "metadata": {},
          "output_type": "execute_result"
        }
      ],
      "source": [
        "obj[2]\n"
      ]
    },
    {
      "cell_type": "markdown",
      "id": "native-growth",
      "metadata": {
        "id": "native-growth"
      },
      "source": [
        "В общем, там всё должно быть понятно, если понять принцип: obj[i:j:k] даст нам объект того же типа, с всеми n элементами начиная с i по j с индексами i + k*m, m &mdash целые от 0 до пока не дойдём до j. По умолчанию i = 0, j = len(obj) - 1, k = 1."
      ]
    },
    {
      "cell_type": "markdown",
      "id": "partial-candy",
      "metadata": {
        "id": "partial-candy"
      },
      "source": [
        "Короче, если запутались запомните пару примеров. Например, что obj[2:9:2] это каждый второй элемент с третьего по десятый."
      ]
    },
    {
      "cell_type": "markdown",
      "id": "hourly-killing",
      "metadata": {
        "id": "hourly-killing"
      },
      "source": [
        "## Sets"
      ]
    },
    {
      "cell_type": "markdown",
      "id": "conservative-bishop",
      "metadata": {
        "id": "conservative-bishop"
      },
      "source": [
        "Сеты это несортированные последовательности из уникальных значений, для которых определены операции над множествами.\n"
      ]
    },
    {
      "cell_type": "code",
      "execution_count": null,
      "id": "robust-ghana",
      "metadata": {
        "tags": [],
        "id": "robust-ghana",
        "outputId": "9970d204-e0b0-4029-9ddf-9a26ffbab050"
      },
      "outputs": [
        {
          "name": "stdout",
          "output_type": "stream",
          "text": [
            "{'к', 'л', 'а', 'В', 'Я', 'с', 'о', 'р', 'п', 'и'}\n",
            "{'л'}\n",
            "{'Я', 'с', 'р', 'п', 'к', 'а', 'В', 'о', 'и'}\n",
            "True\n"
          ]
        }
      ],
      "source": [
        "name = set(\"Василиса\")\n",
        "name2 = set(\"Ярополк\")\n",
        "print(name2 | name)\n",
        "print(name2 & name)\n",
        "print(name ^ name2)\n",
        "print(\"В\" in (name2 | name))"
      ]
    },
    {
      "cell_type": "code",
      "execution_count": null,
      "id": "f07470c4-f440-4ed7-8da4-7c884b0b9c6f",
      "metadata": {
        "tags": [],
        "id": "f07470c4-f440-4ed7-8da4-7c884b0b9c6f"
      },
      "outputs": [],
      "source": [
        "name = set(obj)"
      ]
    },
    {
      "cell_type": "code",
      "execution_count": null,
      "id": "9ed45ba9-76b6-49a2-9da3-4e15ca6e17d4",
      "metadata": {
        "tags": [],
        "id": "9ed45ba9-76b6-49a2-9da3-4e15ca6e17d4"
      },
      "outputs": [],
      "source": [
        "obj = (\"Красный\",\n",
        "       \"Оранжевый\",\n",
        "       \"Жёлтый\",\n",
        "       \"Зелёный\",\n",
        "       \"Голубой\",2,\n",
        "       \"Синий\",\n",
        "       \"Фиолетовый\",\n",
        "       \"Оранжевый\",\n",
        "       \"Жёлтый\",\n",
        "       \"Зелёный\",\n",
        "       \"Голубой\",1)\n"
      ]
    },
    {
      "cell_type": "code",
      "execution_count": null,
      "id": "f6b244e4-b27f-4191-9832-bcf34ea71a03",
      "metadata": {
        "tags": [],
        "id": "f6b244e4-b27f-4191-9832-bcf34ea71a03",
        "outputId": "0fb84d49-fb65-4106-c056-96895224e50b"
      },
      "outputs": [
        {
          "data": {
            "text/plain": [
              "{1,\n",
              " 2,\n",
              " 'Голубой',\n",
              " 'Жёлтый',\n",
              " 'Зелёный',\n",
              " 'Красный',\n",
              " 'Оранжевый',\n",
              " 'Синий',\n",
              " 'Фиолетовый'}"
            ]
          },
          "execution_count": 85,
          "metadata": {},
          "output_type": "execute_result"
        }
      ],
      "source": [
        "name"
      ]
    },
    {
      "cell_type": "markdown",
      "id": "rural-steel",
      "metadata": {
        "id": "rural-steel"
      },
      "source": [
        "        . - любой символ, кроме символа новой строки\n",
        "        ^ - начало строки\n",
        "        $ - конец строки\n",
        "        [abc] - любой символ в скобках\n",
        "        [^abc] - любой символ, кроме тех, что в скобках\n",
        "        a|b - элемент a или b"
      ]
    },
    {
      "cell_type": "code",
      "execution_count": null,
      "id": "smaller-intervention",
      "metadata": {
        "tags": [],
        "id": "smaller-intervention"
      },
      "outputs": [],
      "source": [
        "a=[1,2,2,3,3,3,4,5,6,7,7,7,7,8]"
      ]
    },
    {
      "cell_type": "code",
      "execution_count": null,
      "id": "express-mainstream",
      "metadata": {
        "tags": [],
        "id": "express-mainstream"
      },
      "outputs": [],
      "source": [
        "b=set(a)"
      ]
    },
    {
      "cell_type": "code",
      "execution_count": null,
      "id": "handled-binary",
      "metadata": {
        "id": "handled-binary"
      },
      "outputs": [],
      "source": [
        "c=list(b)"
      ]
    },
    {
      "cell_type": "code",
      "execution_count": null,
      "id": "german-miami",
      "metadata": {
        "tags": [],
        "id": "german-miami",
        "outputId": "144182c0-79b7-46ee-ac3d-83b3f229ff98"
      },
      "outputs": [
        {
          "data": {
            "text/plain": [
              "{1, 2, 3, 4, 5, 6, 7, 8}"
            ]
          },
          "execution_count": 88,
          "metadata": {},
          "output_type": "execute_result"
        }
      ],
      "source": [
        "b"
      ]
    },
    {
      "cell_type": "markdown",
      "id": "acquired-desperate",
      "metadata": {
        "id": "acquired-desperate"
      },
      "source": [
        "## Словарики"
      ]
    },
    {
      "cell_type": "markdown",
      "id": "surprising-romania",
      "metadata": {
        "id": "surprising-romania"
      },
      "source": [
        "Словарики в питоне это, по сути, хэш-таблица, в качестве хэш-функции для которой используется внутренняя функция hash. Это такой же мэппинг между ключами и значениями (и в качестве значений может быть почти что угодно), но так как мы не можем заранее знать ничего про ключ.\n",
        "\n",
        "Словари - это динамические структуры, и вы можете добавлять в словарь новые пары ключ-значение в любое время. Например, чтобы добавить новую пару «ключ-значение», вы должны указать имя словаря, за которым следует новый ключ в квадратных скобках вместе с новым значением.\n",
        "\n",
        "Python не заботится о порядке, в котором вы храните каждую пару \"ключ-значение\"; он заботится только о связи между каждым ключом и его значением."
      ]
    },
    {
      "cell_type": "code",
      "execution_count": null,
      "id": "subjective-mining",
      "metadata": {
        "tags": [],
        "id": "subjective-mining",
        "outputId": "274950e9-402f-4ca3-8bce-f0c0924c90a0"
      },
      "outputs": [
        {
          "data": {
            "text/plain": [
              "{0: 'Василиса', 'Ярополк': 'Серафим'}"
            ]
          },
          "execution_count": 89,
          "metadata": {},
          "output_type": "execute_result"
        }
      ],
      "source": [
        "slovarik = {}\n",
        "slovarik[0] = \"Василиса\"\n",
        "slovarik[\"Ярополк\"] = \"Серафим\"\n",
        "slovarik"
      ]
    },
    {
      "cell_type": "code",
      "execution_count": null,
      "id": "wooden-indication",
      "metadata": {
        "tags": [],
        "id": "wooden-indication"
      },
      "outputs": [],
      "source": [
        "d = dict(short='dict', long='dictionary')"
      ]
    },
    {
      "cell_type": "code",
      "execution_count": null,
      "id": "material-timber",
      "metadata": {
        "tags": [],
        "id": "material-timber",
        "outputId": "939e0b42-31ef-4118-8b10-19cf222a328f"
      },
      "outputs": [
        {
          "data": {
            "text/plain": [
              "{'short': 'dict', 'long': 'dictionary'}"
            ]
          },
          "execution_count": 91,
          "metadata": {},
          "output_type": "execute_result"
        }
      ],
      "source": [
        "d"
      ]
    },
    {
      "cell_type": "code",
      "execution_count": null,
      "id": "useful-notice",
      "metadata": {
        "id": "useful-notice"
      },
      "outputs": [],
      "source": []
    },
    {
      "cell_type": "code",
      "execution_count": null,
      "id": "moral-monitoring",
      "metadata": {
        "id": "moral-monitoring"
      },
      "outputs": [],
      "source": []
    },
    {
      "cell_type": "code",
      "execution_count": null,
      "id": "impressed-controversy",
      "metadata": {
        "tags": [],
        "id": "impressed-controversy",
        "outputId": "1087250a-6318-42d4-fba2-08e183fe8b9b"
      },
      "outputs": [
        {
          "name": "stdout",
          "output_type": "stream",
          "text": [
            "{0: 'MISIS', 1: 'Glowbyte', 4: 14, 5: 2024}\n"
          ]
        }
      ],
      "source": [
        "d = {}\n",
        "d[0] = \"MISIS\"\n",
        "d[1] = \"Glowbyte\"\n",
        "d[4] = 14\n",
        "d[5] = 2024\n",
        "print(d)"
      ]
    },
    {
      "cell_type": "code",
      "execution_count": null,
      "id": "voluntary-geology",
      "metadata": {
        "tags": [],
        "id": "voluntary-geology",
        "outputId": "b87b4d2d-c4d5-4564-d191-6c6f76c6ead4"
      },
      "outputs": [
        {
          "name": "stdout",
          "output_type": "stream",
          "text": [
            "(0, 'MISIS')\n",
            "(1, 'Glowbyte')\n",
            "(4, 14)\n",
            "(5, 2024)\n",
            "---\n",
            "0\n",
            "1\n",
            "4\n",
            "5\n",
            "---\n",
            "MISIS\n",
            "Glowbyte\n",
            "14\n",
            "2024\n"
          ]
        }
      ],
      "source": [
        "for i in d.items():\n",
        "    print(i)\n",
        "\n",
        "print('---')\n",
        "\n",
        "for i in d:\n",
        "    print(i)\n",
        "\n",
        "print('---')\n",
        "\n",
        "for i in d.values():\n",
        "    print(i)"
      ]
    },
    {
      "cell_type": "code",
      "execution_count": null,
      "id": "christian-salon",
      "metadata": {
        "tags": [],
        "id": "christian-salon",
        "outputId": "c0ff6785-273c-4b9f-c3d1-15eeae32ff04"
      },
      "outputs": [
        {
          "name": "stdout",
          "output_type": "stream",
          "text": [
            "False\n",
            "False\n",
            "True\n"
          ]
        }
      ],
      "source": [
        "print(\"Василиса\" in slovarik)\n",
        "print(\"Василиса\" in slovarik.keys())\n",
        "print(\"Василиса\" in slovarik.values())"
      ]
    },
    {
      "cell_type": "code",
      "execution_count": null,
      "id": "north-wrist",
      "metadata": {
        "tags": [],
        "id": "north-wrist",
        "outputId": "20d912fe-2ff5-4c21-b205-c354191d9045"
      },
      "outputs": [
        {
          "name": "stdout",
          "output_type": "stream",
          "text": [
            "{0: 'Василиса', 'Ярополк': 'Сосисочка', 'Крок': 'Абдыждыжч'}\n"
          ]
        }
      ],
      "source": [
        "noviy_slovarik = {\n",
        "    \"Ярополк\": \"Сосисочка\",\n",
        "    \"Крок\": \"Абдыждыжч\"\n",
        "}\n",
        "slovarik.update(noviy_slovarik)\n",
        "print(slovarik)"
      ]
    },
    {
      "cell_type": "code",
      "execution_count": null,
      "id": "constant-blake",
      "metadata": {
        "tags": [],
        "id": "constant-blake",
        "outputId": "9298bff9-b1d8-4538-a5fb-970c3b6f4566"
      },
      "outputs": [
        {
          "name": "stdout",
          "output_type": "stream",
          "text": [
            "Абдыждыжч\n"
          ]
        }
      ],
      "source": [
        "print(slovarik[\"Крок\"])\n"
      ]
    },
    {
      "cell_type": "code",
      "execution_count": null,
      "id": "underlying-attention",
      "metadata": {
        "tags": [],
        "id": "underlying-attention",
        "outputId": "ebacb79e-e706-441b-cf47-3d539b7bf794"
      },
      "outputs": [
        {
          "ename": "KeyError",
          "evalue": "0",
          "output_type": "error",
          "traceback": [
            "\u001b[0;31m---------------------------------------------------------------------------\u001b[0m",
            "\u001b[0;31mKeyError\u001b[0m                                  Traceback (most recent call last)",
            "Cell \u001b[0;32mIn[99], line 1\u001b[0m\n\u001b[0;32m----> 1\u001b[0m \u001b[43mslovarik\u001b[49m\u001b[38;5;241;43m.\u001b[39;49m\u001b[43mpop\u001b[49m\u001b[43m(\u001b[49m\u001b[38;5;241;43m0\u001b[39;49m\u001b[43m)\u001b[49m\n",
            "\u001b[0;31mKeyError\u001b[0m: 0"
          ]
        }
      ],
      "source": [
        "slovarik.pop(0)\n"
      ]
    },
    {
      "cell_type": "code",
      "execution_count": null,
      "id": "beautiful-effect",
      "metadata": {
        "tags": [],
        "id": "beautiful-effect",
        "outputId": "0e66ac3f-e327-4d3c-f5d3-524fad1d63ec"
      },
      "outputs": [
        {
          "data": {
            "text/plain": [
              "{'Ярополк': 'Сосисочка', 'Крок': 'Абдыждыжч'}"
            ]
          },
          "execution_count": 100,
          "metadata": {},
          "output_type": "execute_result"
        }
      ],
      "source": [
        "slovarik"
      ]
    },
    {
      "cell_type": "markdown",
      "id": "final-crest",
      "metadata": {
        "id": "final-crest"
      },
      "source": [
        "dict.clear() - очищает словарь.\n",
        "\n",
        "dict.copy() - возвращает копию словаря.\n",
        "\n",
        "classmethod dict.fromkeys(seq[, value]) - создает словарь с ключами из seq и значением value (по умолчанию None).\n",
        "\n",
        "dict.get(key[, default]) - возвращает значение ключа, но если его нет, не бросает исключение, а возвращает default (по умолчанию None).\n",
        "\n",
        "dict.items() - возвращает пары (ключ, значение).\n",
        "\n",
        "dict.keys() - возвращает ключи в словаре.\n",
        "\n",
        "dict.pop(key[, default]) - удаляет ключ и возвращает значение. Если ключа нет, возвращает default (по умолчанию бросает исключение).\n",
        "\n",
        "dict.popitem() - удаляет и возвращает пару (ключ, значение). Если словарь пуст, бросает исключение KeyError. Помните, что словари неупорядочены.\n",
        "\n",
        "dict.setdefault(key[, default]) - возвращает значение ключа, но если его нет, не бросает исключение, а создает ключ со значением default (по умолчанию None).\n",
        "\n",
        "dict.update([other]) - обновляет словарь, добавляя пары (ключ, значение) из other. Существующие ключи перезаписываются. Возвращает None (не новый словарь!).\n",
        "\n",
        "dict.values() - возвращает значения в словаре"
      ]
    },
    {
      "cell_type": "code",
      "execution_count": null,
      "id": "pending-aruba",
      "metadata": {
        "tags": [],
        "id": "pending-aruba",
        "outputId": "0ecaa661-7d89-4ec4-d780-79f33a6810ac"
      },
      "outputs": [
        {
          "name": "stdout",
          "output_type": "stream",
          "text": [
            "Столица страны Russia: Moscow\n",
            "В базе нет страны c названием France\n",
            "Столица страны USA: Washington\n",
            "Столица страны Russia: Moscow\n"
          ]
        }
      ],
      "source": [
        "# Создадим пустой словать Capitals\n",
        "Capitals = dict()\n",
        "\n",
        "# Заполним его несколькими значениями\n",
        "Capitals['Russia'] = 'Moscow'\n",
        "Capitals['Ukraine'] = 'Kiev'\n",
        "Capitals['USA'] = 'Washington'\n",
        "\n",
        "Countries = ['Russia', 'France', 'USA', 'Russia']\n",
        "\n",
        "for country in Countries:\n",
        "    # Для каждой страны из списка проверим, есть ли она в словаре Capitals\n",
        "    if country in Capitals:\n",
        "        print('Столица страны ' + country + ': ' + Capitals[country])\n",
        "    else:\n",
        "        print('В базе нет страны c названием ' + country)"
      ]
    },
    {
      "cell_type": "code",
      "execution_count": null,
      "id": "efficient-ordinary",
      "metadata": {
        "tags": [],
        "id": "efficient-ordinary",
        "outputId": "3d0e95b3-c81f-4fd0-b143-058dfd31ae01"
      },
      "outputs": [
        {
          "name": "stdout",
          "output_type": "stream",
          "text": [
            "Russia -> Moscow\n",
            "Ukraine -> Kiev\n",
            "USA -> Washington\n"
          ]
        }
      ],
      "source": [
        "for key, value in Capitals.items():\n",
        "         print(key, '->', value)\n"
      ]
    },
    {
      "cell_type": "code",
      "execution_count": null,
      "id": "dependent-consumer",
      "metadata": {
        "id": "dependent-consumer"
      },
      "outputs": [],
      "source": []
    },
    {
      "cell_type": "markdown",
      "id": "micro-uganda",
      "metadata": {
        "id": "micro-uganda"
      },
      "source": [
        "## Разница between is и ==\n"
      ]
    },
    {
      "cell_type": "markdown",
      "id": "fuzzy-edition",
      "metadata": {
        "id": "fuzzy-edition"
      },
      "source": [
        "== сравнивает значения, is сравнивает одно ли то же это в памяти. Для базовых типов это одно и то же, для некоторых других — нет. В основном is вам нужен, если надо сравнивать с None, потому что при использовании == могут быть неожиданности с приведением типов.\n",
        "\n"
      ]
    },
    {
      "cell_type": "code",
      "execution_count": null,
      "id": "extra-preference",
      "metadata": {
        "tags": [],
        "id": "extra-preference",
        "outputId": "a1baf22e-3642-4446-bf06-cd6326268d72"
      },
      "outputs": [
        {
          "name": "stdout",
          "output_type": "stream",
          "text": [
            "True True\n"
          ]
        }
      ],
      "source": [
        "x = 17\n",
        "y = 17\n",
        "print(x is y, x == y)"
      ]
    },
    {
      "cell_type": "code",
      "execution_count": null,
      "id": "spare-compound",
      "metadata": {
        "tags": [],
        "id": "spare-compound",
        "outputId": "a5e9708f-d37f-4786-80fc-9f8dd7fa2012"
      },
      "outputs": [
        {
          "name": "stdout",
          "output_type": "stream",
          "text": [
            "False True\n"
          ]
        }
      ],
      "source": [
        "x = [5]\n",
        "y = [5]\n",
        "print(x is y, x == y)"
      ]
    },
    {
      "cell_type": "markdown",
      "id": "internal-trigger",
      "metadata": {
        "id": "internal-trigger"
      },
      "source": [
        "## ДЗ"
      ]
    },
    {
      "cell_type": "markdown",
      "id": "trying-bahrain",
      "metadata": {
        "id": "trying-bahrain"
      },
      "source": [
        "1. Напишите функцию, извлекающую корень n-й степени из числа x. По умолчанию def будет извлекать квадратный корень:\n",
        "\n"
      ]
    },
    {
      "cell_type": "code",
      "source": [
        "def root(x, n=2):\n",
        "    return x ** (1 / n)\n",
        "\n",
        "result = root(16)\n",
        "print(result)\n",
        "\n",
        "result = root(27, 3)\n",
        "print(result)"
      ],
      "metadata": {
        "colab": {
          "base_uri": "https://localhost:8080/"
        },
        "id": "igKndNYRSn1m",
        "outputId": "52103f29-50a1-432b-e169-e5ade80562fc"
      },
      "id": "igKndNYRSn1m",
      "execution_count": 1,
      "outputs": [
        {
          "output_type": "stream",
          "name": "stdout",
          "text": [
            "4.0\n",
            "3.0\n"
          ]
        }
      ]
    },
    {
      "cell_type": "markdown",
      "id": "christian-solution",
      "metadata": {
        "id": "christian-solution"
      },
      "source": [
        "2. Перепишите ваш код для проверки расширения из прошлого ДЗ в функцию которая принимает список расширений и  имя файла"
      ]
    },
    {
      "cell_type": "code",
      "source": [
        "import os\n",
        "\n",
        "def check_file_extension(file, extensions):\n",
        "    file_extension = os.path.splitext(file)[1][1:].lower()\n",
        "\n",
        "    if file_extension in extensions:\n",
        "        return f\"Файл '{file}' имеет расширение '{file_extension}'.\"\n",
        "    else:\n",
        "        return f\"Файл '{file}' имеет недопустимое расширение '{file_extension}'.\"\n",
        "\n",
        "\n",
        "file = 'Моя диссертац.gif'\n",
        "extensions = ['png', 'jpg', 'jpeg', 'gif', 'svg']\n",
        "\n",
        "result = check_file_extension(file, extensions)\n",
        "print(result)"
      ],
      "metadata": {
        "colab": {
          "base_uri": "https://localhost:8080/"
        },
        "id": "1KVz7P5-Tehz",
        "outputId": "1e21873c-af4a-44c1-f31e-d3252afb30bc"
      },
      "id": "1KVz7P5-Tehz",
      "execution_count": 2,
      "outputs": [
        {
          "output_type": "stream",
          "name": "stdout",
          "text": [
            "Файл 'Моя диссертац.gif' имеет расширение 'gif'.\n"
          ]
        }
      ]
    },
    {
      "cell_type": "markdown",
      "id": "furnished-cookie",
      "metadata": {
        "id": "furnished-cookie"
      },
      "source": [
        "3. Слейте воедино три словаря"
      ]
    },
    {
      "cell_type": "code",
      "execution_count": 6,
      "id": "micro-robert",
      "metadata": {
        "colab": {
          "base_uri": "https://localhost:8080/"
        },
        "id": "micro-robert",
        "outputId": "dbc54fe0-a52b-4ae6-adb2-ffff46ac6106"
      },
      "outputs": [
        {
          "output_type": "stream",
          "name": "stdout",
          "text": [
            "{1: 10, 2: 20, 3: 30, 4: 40, 5: 50, 6: 60}\n"
          ]
        }
      ],
      "source": [
        "dict_a = {1: 10, 2: 20}\n",
        "dict_b = {3: 30, 4: 40}\n",
        "dict_c = {5: 50, 6: 60}\n",
        "\n",
        "result_dict = {}\n",
        "result_dict.update(dict_a)\n",
        "result_dict.update(dict_b)\n",
        "result_dict.update(dict_c)\n",
        "\n",
        "print(result_dict)"
      ]
    },
    {
      "cell_type": "markdown",
      "id": "instructional-belfast",
      "metadata": {
        "id": "instructional-belfast"
      },
      "source": [
        "4. Напишите функцию которая будет складывать цифры внутри числа"
      ]
    },
    {
      "cell_type": "code",
      "source": [
        "def sum_digits(number):\n",
        "    num_str = str(number)\n",
        "\n",
        "    total = 0\n",
        "    for digit_char in num_str:\n",
        "        if digit_char.isdigit():\n",
        "            total += int(digit_char)\n",
        "\n",
        "    return total\n",
        "\n",
        "result = sum_digits(30001)\n",
        "print(result)"
      ],
      "metadata": {
        "colab": {
          "base_uri": "https://localhost:8080/"
        },
        "id": "jiaEoQBgUcBb",
        "outputId": "fa29b359-4ec6-47e6-e5fa-c0c186ff5e49"
      },
      "id": "jiaEoQBgUcBb",
      "execution_count": 7,
      "outputs": [
        {
          "output_type": "stream",
          "name": "stdout",
          "text": [
            "4\n"
          ]
        }
      ]
    },
    {
      "cell_type": "markdown",
      "id": "strategic-priest",
      "metadata": {
        "id": "strategic-priest"
      },
      "source": [
        "5. Нужно проверить, все ли числа в последовательности уникальны.\n"
      ]
    },
    {
      "cell_type": "code",
      "execution_count": 12,
      "id": "aggregate-tender",
      "metadata": {
        "colab": {
          "base_uri": "https://localhost:8080/"
        },
        "id": "aggregate-tender",
        "outputId": "8f5d3229-e9da-4edf-e90d-042af87293a3"
      },
      "outputs": [
        {
          "output_type": "stream",
          "name": "stdout",
          "text": [
            "True\n",
            "False\n"
          ]
        }
      ],
      "source": [
        "def are_all_unique(numbers):\n",
        "    return len(numbers) == len(set(numbers))\n",
        "\n",
        "numbers_1 = [1, 4, 5]\n",
        "numbers_2 = [1, 4, 5, 4]\n",
        "result_1 = are_all_unique(numbers_1)\n",
        "result_2 = are_all_unique(numbers_2)\n",
        "print(result_1)\n",
        "print(result_2)"
      ]
    },
    {
      "cell_type": "markdown",
      "id": "fluid-yield",
      "metadata": {
        "id": "fluid-yield"
      },
      "source": [
        "6.Создать функцию, которая просто печатает все элементы заданного ей списка:\n",
        "\n",
        "     НОМЕР J --> ЗНАЧЕНИЕ\n",
        "     НОМЕР K --> ЗНАЧЕНИЕ\n",
        "    J, K — порядковые номера в списке"
      ]
    },
    {
      "cell_type": "code",
      "execution_count": 14,
      "id": "attractive-vault",
      "metadata": {
        "colab": {
          "base_uri": "https://localhost:8080/"
        },
        "id": "attractive-vault",
        "outputId": "58fcb189-9551-49b8-a0cc-86b8b6b74a31"
      },
      "outputs": [
        {
          "output_type": "stream",
          "name": "stdout",
          "text": [
            "НОМЕР 1 --> я\n",
            "НОМЕР 2 --> не\n",
            "НОМЕР 3 --> в\n",
            "НОМЕР 4 --> отпуск\n",
            "НОМЕР 5 --> или\n",
            "НОМЕР 6 --> в\n",
            "НОМЕР 7 --> отпуск\n"
          ]
        }
      ],
      "source": [
        "def print_list(my_list):\n",
        "    for index, value in enumerate(my_list, start=1):\n",
        "        print(f\"НОМЕР {index} --> {value}\")\n",
        "\n",
        "print_list([\"я\", \"не\", \"в\", \"отпуск\", \"или\", \"в\", \"отпуск\"])"
      ]
    },
    {
      "cell_type": "markdown",
      "id": "permanent-meter",
      "metadata": {
        "id": "permanent-meter"
      },
      "source": [
        "Подсказка: один из способов это сделать (наиболее \"в лоб\" и в каком-то смысле наименее питонячий) это создать переменную, которая будет пробегать все номера от 0 до длины переданного списка и печатать просто строчку \"этот номер\" и элемент списка под индексом i. В таком варианте для цикла у вас будет использоваться оператор while. Не забудьте что внутри цикла вам надо будет увеличивать вашу переменную на один каждый раз\n",
        "\n"
      ]
    },
    {
      "cell_type": "code",
      "execution_count": null,
      "id": "special-contact",
      "metadata": {
        "id": "special-contact"
      },
      "outputs": [],
      "source": [
        "Попробуйте позапускать функцию со списками разной длины и убедитесь что всё работает.\n",
        "\n"
      ]
    },
    {
      "cell_type": "markdown",
      "id": "incredible-substitute",
      "metadata": {
        "id": "incredible-substitute"
      },
      "source": [
        "Создать функцию, которая печатает каждый элемент словарика\n",
        "\n",
        "        КЛЮЧ <<J>> --> ЗНАЧЕНИЕ\n",
        "        КЛЮЧ <<K>> --> ЗНАЧЕНИЕ\n",
        "    J, K — ключи словарика"
      ]
    },
    {
      "cell_type": "code",
      "execution_count": 18,
      "id": "convertible-eagle",
      "metadata": {
        "colab": {
          "base_uri": "https://localhost:8080/"
        },
        "id": "convertible-eagle",
        "outputId": "03375d26-caed-42ac-9d45-c80e2332e7d6"
      },
      "outputs": [
        {
          "output_type": "stream",
          "name": "stdout",
          "text": [
            "КЛЮЧ key1 --> 2\n",
            "КЛЮЧ key3 --> False\n",
            "КЛЮЧ Приветствие --> Hello\n"
          ]
        }
      ],
      "source": [
        "def print_dict(my_dict):\n",
        "    for key, value in my_dict.items():\n",
        "        print(f\"КЛЮЧ {key} --> {value}\")\n",
        "\n",
        "print_dict({\"key1\": 2, \"key3\": False, \"Приветствие\": \"Hello\"})"
      ]
    },
    {
      "cell_type": "markdown",
      "id": "southeast-running",
      "metadata": {
        "id": "southeast-running"
      },
      "source": [
        "Подсказка: тут уже не получится просто создать переменную от 0 до чего-то и перебирать по ней просто увеличивая её на один, потому что в словарике ключи несортированы и непоследовательны. Это, кстати, означает заодно то что порядок вывода в функции может отличаться от того, в каком вы создавали словарик. Тут вам понадобится либо метод keys либо метод items, и может быть, такие понятия как \"распаковка\". Цикл будет сделан с помощью оператора for. Эту задачку можно решить и без цикла через list comprehension. Про работу со словариками посмотрите конец занятия L1.1\n",
        "\n"
      ]
    },
    {
      "cell_type": "markdown",
      "id": "radical-shadow",
      "metadata": {
        "id": "radical-shadow"
      },
      "source": [
        "Сделать функцию, которая использует две уже написанные функции следующим образом:\n",
        "\n",
        "    если ЗНАЧЕНИЕ это LIST --> вызывается print_list\n",
        "    если ЗНАЧЕНИЕ это DICT --> вызывается print_dict\n",
        "    во всех других случаях просто выводится ЗНАЧЕНИЕ"
      ]
    },
    {
      "cell_type": "code",
      "execution_count": 19,
      "id": "tribal-cornwall",
      "metadata": {
        "colab": {
          "base_uri": "https://localhost:8080/"
        },
        "id": "tribal-cornwall",
        "outputId": "ab9586c9-0e4b-4a84-e6f5-5eb6e3299251"
      },
      "outputs": [
        {
          "output_type": "stream",
          "name": "stdout",
          "text": [
            "КЛЮЧ <<key1>> -->\n",
            "1\n",
            "КЛЮЧ <<key2>> -->\n",
            "НОМЕР 1 --> 1\n",
            "НОМЕР 2 --> 2\n",
            "НОМЕР 3 --> 3\n",
            "НОМЕР 4 --> 4\n",
            "КЛЮЧ <<key3>> -->\n",
            "Hello\n",
            "КЛЮЧ <<key4>> -->\n",
            "КЛЮЧ <<ciao>> --> Mondo\n",
            "КЛЮЧ <<Привет>> --> О дивный мир\n"
          ]
        }
      ],
      "source": [
        "def print_list(my_list):\n",
        "    for index, value in enumerate(my_list, start=1):\n",
        "        print(f\"НОМЕР {index} --> {value}\")\n",
        "\n",
        "def print_dict(my_dict):\n",
        "    for key, value in my_dict.items():\n",
        "        print(f\"КЛЮЧ <<{key}>> --> {value}\")\n",
        "\n",
        "def print_overlord(mydict):\n",
        "    for key, value in mydict.items():\n",
        "        print(f\"КЛЮЧ <<{key}>> -->\")\n",
        "        if isinstance(value, list):\n",
        "            print_list(value)\n",
        "        elif isinstance(value, dict):\n",
        "            print_dict(value)\n",
        "        else:\n",
        "            print(value)\n",
        "\n",
        "print_overlord(dict(\n",
        "    key1=1,\n",
        "    key2=[1, 2, 3, 4],\n",
        "    key3='Hello',\n",
        "    key4={\"ciao\":\"Mondo\", \"Привет\": \"О дивный мир\"}\n",
        "))"
      ]
    },
    {
      "cell_type": "markdown",
      "id": "mathematical-cleaner",
      "metadata": {
        "id": "mathematical-cleaner"
      },
      "source": [
        "Подсказка: тут вам вообще не нужны ключи (но можете их тоже печатать), только значения словаря. А для определения типа значений в словарие вам пригодится оператор isinstance. Итерацию по значениям в словарике надо будет сделать через for, а для того чтобы получить значения вы можете использовать как метод items так и values.\n",
        "\n",
        "Собственно, это основной пример в каком-то смысле идей о том, что если у вас сложная задачка, то можно разбить её на несколько маленьких чтобы разделить логику общего выполнения с непосредственно тем, как реализованы отдельные кусочки того, что вы хотите сделать."
      ]
    },
    {
      "cell_type": "markdown",
      "id": "friendly-cycling",
      "metadata": {
        "id": "friendly-cycling"
      },
      "source": [
        "7. Придумать две темы из IT про которые вам было бы интересно послушать"
      ]
    },
    {
      "cell_type": "markdown",
      "id": "subject-spending",
      "metadata": {
        "id": "subject-spending"
      },
      "source": [
        "### Задачи со звездочкой"
      ]
    },
    {
      "cell_type": "markdown",
      "id": "julian-hacker",
      "metadata": {
        "id": "julian-hacker"
      },
      "source": [
        "1. Сделать функцию, которая на вход получает фразу и печатает все отдельные слова из этой фразы. Операция разбиения строки на составляющие называется токенизацией, это слово нам ещё пригодится в будущем.\n",
        "\n"
      ]
    },
    {
      "cell_type": "markdown",
      "id": "suspended-shaft",
      "metadata": {
        "id": "suspended-shaft"
      },
      "source": [
        "OUTPUT:\n",
        "Word1\n",
        "Word2\n",
        ".\n",
        ".\n",
        ".\n",
        "WordN\n",
        "Number or Words: X"
      ]
    },
    {
      "cell_type": "code",
      "execution_count": 21,
      "id": "another-discount",
      "metadata": {
        "colab": {
          "base_uri": "https://localhost:8080/"
        },
        "id": "another-discount",
        "outputId": "9438d0b8-5e51-4e86-88e8-960a11dc6dad"
      },
      "outputs": [
        {
          "output_type": "stream",
          "name": "stdout",
          "text": [
            "Тут\n",
            "фраза\n",
            "с\n",
            "пробелами\n",
            "и\n",
            "я\n",
            "хочу\n",
            "их\n",
            "распечатать\n",
            "по\n",
            "одному\n",
            "на\n",
            "строку\n",
            "и\n",
            "ещё\n",
            "посчитать\n",
            "слова\n",
            "Количество слов: 17\n"
          ]
        }
      ],
      "source": [
        "def word_count(phrase):\n",
        "    words = phrase.split()\n",
        "\n",
        "    for word in words:\n",
        "        print(word)\n",
        "\n",
        "    print(f\"Количество слов: {len(words)}\")\n",
        "\n",
        "word_count(\"Тут фраза с пробелами и я хочу их распечатать по одному на строку и ещё посчитать слова\")"
      ]
    },
    {
      "cell_type": "markdown",
      "id": "judicial-christianity",
      "metadata": {
        "id": "judicial-christianity"
      },
      "source": [
        "Подсказка: это, по сути, модификация задания про список. Для токенизации строки по пробелу, используйте метод split. Тут тоже можно сделать цикл по while, но тогда надо следить за порядковым номером, а for сделает это за вас. Количество слов — это длина списка полученного токенизацией. Но можно, конечно, пока распечатываете токены считать, а потом вывести счётчик\n",
        "\n",
        "Фразу можно вводить как переменной в виде аргумента функции, а можно получать от пользователя на вход."
      ]
    },
    {
      "cell_type": "markdown",
      "id": "typical-chess",
      "metadata": {
        "id": "typical-chess"
      },
      "source": [
        "2. Модифицировать функцию из предыдущего задания так, чтобы она считала \"вес\" каждого слова, выводя в процентное соотношение во фразе для каждого слова. Проценты печатать с точностью до 2 знаков после запятой.\n",
        "\n",
        "Подсказка: тут придётся два раза пройтись по строке, один раз чтобы посчитать проценты по каждому слову (токену), и другой чтобы уже это всё распечатать. Для вывода двух знаков после запятой посмотрите, например, начало L1.1, там где всякие format symbols, это которые с процентом"
      ]
    },
    {
      "cell_type": "code",
      "execution_count": 24,
      "id": "narrative-bangkok",
      "metadata": {
        "colab": {
          "base_uri": "https://localhost:8080/"
        },
        "id": "narrative-bangkok",
        "outputId": "972b3150-6fe7-49bc-fcaf-09ffded12e91"
      },
      "outputs": [
        {
          "output_type": "stream",
          "name": "stdout",
          "text": [
            "Тут: 5.88%\n",
            "фраза: 5.88%\n",
            "с: 5.88%\n",
            "пробелами: 5.88%\n",
            "и: 11.76%\n",
            "я: 5.88%\n",
            "хочу: 5.88%\n",
            "их: 5.88%\n",
            "распечатать: 5.88%\n",
            "по: 5.88%\n",
            "одному: 5.88%\n",
            "на: 5.88%\n",
            "строку: 5.88%\n",
            "ещё: 5.88%\n",
            "посчитать: 5.88%\n",
            "слова: 5.88%\n",
            "Количество слов: 17\n"
          ]
        }
      ],
      "source": [
        "def word_count(phrase):\n",
        "\n",
        "    words = phrase.split()\n",
        "\n",
        "    word_freq = {}\n",
        "    for word in words:\n",
        "        word_freq[word] = word_freq.get(word, 0) + 1\n",
        "\n",
        "    total_words = len(words)\n",
        "\n",
        "    for word, freq in word_freq.items():\n",
        "        percent = (freq / total_words) * 100\n",
        "        print(f\"{word}: {percent:.2f}%\")\n",
        "\n",
        "    print(f\"Количество слов: {total_words}\")\n",
        "\n",
        "word_count(\"Тут фраза с пробелами и я хочу их распечатать по одному на строку и ещё посчитать слова\")"
      ]
    }
  ],
  "metadata": {
    "kernelspec": {
      "display_name": "Python 3 (ipykernel)",
      "language": "python",
      "name": "python3"
    },
    "language_info": {
      "codemirror_mode": {
        "name": "ipython",
        "version": 3
      },
      "file_extension": ".py",
      "mimetype": "text/x-python",
      "name": "python",
      "nbconvert_exporter": "python",
      "pygments_lexer": "ipython3",
      "version": "3.10.10"
    },
    "colab": {
      "provenance": []
    }
  },
  "nbformat": 4,
  "nbformat_minor": 5
}